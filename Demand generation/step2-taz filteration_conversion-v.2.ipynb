{
 "cells": [
  {
   "cell_type": "code",
   "execution_count": 1,
   "id": "08350725",
   "metadata": {},
   "outputs": [],
   "source": [
    "%matplotlib notebook\n",
    "import geopandas as gpd\n",
    "import pandas as pd\n",
    "import matplotlib.pyplot as plt\n",
    "from tqdm import tqdm\n",
    "import xml.etree.ElementTree as ET\n",
    "from IPython.display import Image\n",
    "import random"
   ]
  },
  {
   "cell_type": "code",
   "execution_count": 6,
   "id": "6b470158",
   "metadata": {},
   "outputs": [],
   "source": [
    "# trip distribution by numbers\n",
    "# merged_data.groupby(by=['COUNTY_NM', 'dest_TAZ'])['demand'].agg('sum')"
   ]
  },
  {
   "cell_type": "code",
   "execution_count": 7,
   "id": "2a4daa5a",
   "metadata": {
    "collapsed": true,
    "jupyter": {
     "outputs_hidden": true
    }
   },
   "outputs": [
    {
     "data": {
      "text/plain": [
       "COUNTY_NM  dest_TAZ \n",
       "King       King         50.854349\n",
       "           Kitsap        0.046566\n",
       "           Pierce        1.924806\n",
       "           Snohomish     2.719326\n",
       "Kitsap     King          0.044790\n",
       "           Kitsap        5.885178\n",
       "           Pierce        0.269283\n",
       "           Snohomish     0.004914\n",
       "Pierce     King          1.920831\n",
       "           Kitsap        0.269929\n",
       "           Pierce       17.268226\n",
       "           Snohomish     0.010494\n",
       "Snohomish  King          2.715734\n",
       "           Kitsap        0.005005\n",
       "           Pierce        0.010817\n",
       "           Snohomish    16.049753\n",
       "Name: demand, dtype: float64"
      ]
     },
     "execution_count": 7,
     "metadata": {},
     "output_type": "execute_result"
    }
   ],
   "source": [
    "# trip distribution by percentages\n",
    "# merged_data.groupby(by=['COUNTY_NM', 'dest_TAZ'])['demand'].agg('sum')/merged_data.demand.sum() *100"
   ]
  },
  {
   "cell_type": "markdown",
   "id": "3f6b4ed7",
   "metadata": {},
   "source": [
    "1- kitsap-kitsap/pierce trips are not relevant to king county, and percent of trips between king/snohomish and kitsap is 0.046566+ 0.044790+0.004914+0.005005 = 0.01 % \n",
    "- therefore we fully eliminate trips to/from kitsap \n",
    "\n",
    "2- snohomish-pierce and pierce-snohomish that pass trough king county are negligible (0.010817+0.010494 = 0.02%)\n",
    "- we eliminate trips between Snohomish and Pierce county\n",
    "\n",
    "3- trips within pierce and snohomish are not relevant to king county\n",
    "- we eliminate trips within Snohomish and Pierce county\n",
    "\n",
    "### therefore, we only keep trips 1- within king county, 2- between king and pierce, and 3- between king and Snohomish\n",
    "\n"
   ]
  },
  {
   "cell_type": "markdown",
   "id": "9d3f7043",
   "metadata": {},
   "source": [
    "## For Pierce and Snohomish, \n",
    "it seems that majority of trips take place either between pierce and south of downtown OR snohomish and north of downtown, so what we do is keeping only the trips between snohomish/pierce and sumo TAZs"
   ]
  },
  {
   "cell_type": "markdown",
   "id": "8bdef893",
   "metadata": {},
   "source": [
    "### final stats before further filterations\n",
    "\n"
   ]
  },
  {
   "cell_type": "code",
   "execution_count": 101,
   "id": "c7dbd040",
   "metadata": {},
   "outputs": [
    {
     "data": {
      "text/plain": [
       "COUNTY_NM  dest_TAZ \n",
       "King       King         5040054\n",
       "           Pierce        190763\n",
       "           Snohomish     269506\n",
       "Pierce     King            7352\n",
       "Snohomish  King           18304\n",
       "Name: demand, dtype: int64"
      ]
     },
     "execution_count": 101,
     "metadata": {},
     "output_type": "execute_result"
    }
   ],
   "source": [
    "# filtered_data.groupby(by=['COUNTY_NM', 'dest_TAZ'])['demand'].agg('sum')"
   ]
  },
  {
   "cell_type": "code",
   "execution_count": 10,
   "id": "2334426a",
   "metadata": {},
   "outputs": [
    {
     "data": {
      "text/plain": [
       "COUNTY_NM  dest_TAZ \n",
       "King       King         84.566906\n",
       "           Pierce        3.200806\n",
       "           Snohomish     4.522033\n",
       "Pierce     King          3.194195\n",
       "Snohomish  King          4.516059\n",
       "Name: demand, dtype: float64"
      ]
     },
     "execution_count": 10,
     "metadata": {},
     "output_type": "execute_result"
    }
   ],
   "source": [
    "# filtered_data.groupby(by=['COUNTY_NM', 'dest_TAZ'])['demand'].agg('sum')/filtered_data.demand.sum() *100"
   ]
  },
  {
   "cell_type": "markdown",
   "id": "5b9a5a7e",
   "metadata": {},
   "source": [
    "### Selecting TAZs and working with them in this notebook:\n",
    "we run the code below in qgis python plugin:\n",
    "\n",
    "<pre>\n",
    "dir = '/Users/stlp/Library/CloudStorage/GoogleDrive-soheil99@uw.edu/My Drive/reasearch codes/SUMO/MatSumo-main/SUMO/demand generation/regions'\n",
    "os.chdir(dir)\n",
    "def get_selected_TAZs(address):\n",
    "    layer = QgsProject.instance().mapLayersByName(\"taz2010\")[0]\n",
    "    selected_features = layer.selectedFeatures()\n",
    "    attribute_list = [feature['TAZ'] for feature in selected_features]\n",
    "    with open(address, 'w') as f:\n",
    "        f.write(str(attribute_list))\n",
    "        f.close()\n",
    "</pre>\n",
    "we select some regions in taz2010.shp and then use the command above like: `get_selected_TAZ('/1.txt')`\n",
    "and read selected regions in qgis here using the function below:"
   ]
  },
  {
   "cell_type": "code",
   "execution_count": 2,
   "id": "c0b54a37",
   "metadata": {},
   "outputs": [],
   "source": [
    "def _read_region(address):\n",
    "    with open(address, 'r') as f:\n",
    "        content = f.read()\n",
    "        data_list = eval(content)\n",
    "    return data_list\n",
    "\n",
    "def read_regions(address):\n",
    "    if type(address)==list:\n",
    "        outputs = []\n",
    "        for adrs in address:\n",
    "            outputs.append(_read_region(adrs))\n",
    "        return outputs\n",
    "    else:\n",
    "        return _read_region(address)\n",
    "            \n",
    "#     with open(address, 'r') as f:\n",
    "#         content = f.read()\n",
    "#         data_list = eval(content)\n",
    "#     return data_list"
   ]
  },
  {
   "cell_type": "markdown",
   "id": "7524fdcf",
   "metadata": {},
   "source": [
    "# Conversion algorithm\n",
    "So far, I was trying to eliminate useless trips. There are some trips that we ARE going to use: trips with sumo_TAZs in one end (without over-3700 TAZs or kitsap TAZs)\n",
    "\n",
    "I think the best way to deal with these trips is by starting with trips involving sumo_TAZs and then gradually add different scenarios in which vehicles will pass through sumo_TAZs.\n"
   ]
  },
  {
   "cell_type": "code",
   "execution_count": 3,
   "id": "b3f953cb",
   "metadata": {},
   "outputs": [],
   "source": [
    "# Load shapefiles\n",
    "taz_data = gpd.read_file('taz2010.shp')\n",
    "\n",
    "# Load CSV file\n",
    "trip_data = pd.read_csv(\"psrc_vehicle_trips.csv\")\n",
    "\n",
    "# load sumo tazs\n",
    "tree = ET.parse('modified_new_Taz_with_pseudo.add.xml')\n",
    "root = tree.getroot()\n",
    "sumo_taz = []\n",
    "for taz in root.findall('taz'):\n",
    "    tazid = taz.get('id')\n",
    "    if tazid != 'taz_13':\n",
    "        sumo_taz.append(int(tazid))"
   ]
  },
  {
   "cell_type": "code",
   "execution_count": 4,
   "id": "0db85394",
   "metadata": {},
   "outputs": [],
   "source": [
    "# we obtain list of TAZs for each of counties so that we can use them during filtering single trips dataframe\n",
    "king = list(taz_data[taz_data['COUNTY_NM']=='King'].TAZ.values)\n",
    "pierce = list(taz_data[taz_data['COUNTY_NM']=='Pierce'].TAZ.values)\n",
    "kitsap = list(taz_data[taz_data['COUNTY_NM']=='Kitsap'].TAZ.values)\n",
    "snohomish = list(taz_data[taz_data['COUNTY_NM']=='Snohomish'].TAZ.values)"
   ]
  },
  {
   "cell_type": "code",
   "execution_count": 5,
   "id": "25157bd6",
   "metadata": {},
   "outputs": [
    {
     "data": {
      "text/plain": [
       "9985425"
      ]
     },
     "execution_count": 5,
     "metadata": {},
     "output_type": "execute_result"
    }
   ],
   "source": [
    "len(trip_data)"
   ]
  },
  {
   "cell_type": "markdown",
   "id": "8358e217",
   "metadata": {},
   "source": [
    "Eliminate over-3700s, Kitsap, and port trips"
   ]
  },
  {
   "cell_type": "code",
   "execution_count": 6,
   "id": "544f088b",
   "metadata": {},
   "outputs": [
    {
     "data": {
      "text/plain": [
       "9250192"
      ]
     },
     "execution_count": 6,
     "metadata": {},
     "output_type": "execute_result"
    }
   ],
   "source": [
    "trip_data = trip_data[~(trip_data.otaz.isin(kitsap)|trip_data.dtaz.isin(kitsap))]\n",
    "trip_data = trip_data[~((trip_data.otaz>3700)|(trip_data.dtaz>3700))]\n",
    "ports = [444, 445, 449, 478]\n",
    "trip_data = trip_data[~(trip_data.otaz.isin(ports)|trip_data.dtaz.isin(ports))]\n",
    "len(trip_data)"
   ]
  },
  {
   "cell_type": "markdown",
   "id": "72986f79",
   "metadata": {
    "jp-MarkdownHeadingCollapsed": true
   },
   "source": [
    "## TAZ conversion for sumo_TAZs included trips"
   ]
  },
  {
   "cell_type": "code",
   "execution_count": 7,
   "id": "5c6746ac",
   "metadata": {},
   "outputs": [],
   "source": [
    "trip_data['original_o'] = trip_data.otaz\n",
    "trip_data['original_d'] = trip_data.dtaz\n",
    "trip_data['original_deptm'] = trip_data.deptm\n",
    "# adding more columns will increase computation time in next steps"
   ]
  },
  {
   "cell_type": "code",
   "execution_count": 8,
   "id": "2f8c0631",
   "metadata": {},
   "outputs": [
    {
     "data": {
      "text/plain": [
       "608908"
      ]
     },
     "execution_count": 8,
     "metadata": {},
     "output_type": "execute_result"
    }
   ],
   "source": [
    "converted_data = trip_data[trip_data.otaz.isin(sumo_taz) | trip_data.dtaz.isin(sumo_taz)]\n",
    "len(converted_data)"
   ]
  },
  {
   "cell_type": "code",
   "execution_count": 9,
   "id": "755403ab",
   "metadata": {},
   "outputs": [
    {
     "name": "stdout",
     "output_type": "stream",
     "text": [
      "         otaz  dtaz  deptm  travtime  original_o  original_d  original_deptm\n",
      "126         1     5    482         5           1           5             482\n",
      "127         1     5    482         6           1           5             482\n",
      "1244        2     1   1107         2           2           1            1107\n",
      "1245        2     1   1107         5           2           1            1107\n",
      "1290        2     2   1018         4           2           2            1018\n",
      "...       ...   ...    ...       ...         ...         ...             ...\n",
      "9331718  3466  3466   1013         3        3466        3466            1013\n",
      "9331724  3466  3466   1040        22        3466        3466            1040\n",
      "9331725  3466  3466   1040         1        3466        3466            1040\n",
      "9331739  3466  3466   1123        52        3466        3466            1123\n",
      "9331740  3466  3466   1123        16        3466        3466            1123\n",
      "\n",
      "[567030 rows x 7 columns]\n"
     ]
    }
   ],
   "source": [
    "duplicate_rows = trip_data[trip_data.duplicated(subset=['otaz', 'dtaz', 'deptm'], keep=False)]\n",
    "print(duplicate_rows)"
   ]
  },
  {
   "cell_type": "markdown",
   "id": "e73df51b",
   "metadata": {
    "jp-MarkdownHeadingCollapsed": true
   },
   "source": [
    "### for Pierce and Snohomish trips\n",
    "Based on map of highways, we can assign pierce to I5-south (5002, 5003) and snohomish to I5-north (5000, 5001).  It is not exact and there could be many many trips passing through bellevue instead of I-5."
   ]
  },
  {
   "cell_type": "code",
   "execution_count": 10,
   "id": "45f75055",
   "metadata": {},
   "outputs": [],
   "source": [
    "def random_split_dataframe(df, percentage):\n",
    "    if percentage < 0 or percentage > 100:\n",
    "        raise ValueError(\"Percentage should be between 0 and 100\")\n",
    "\n",
    "    # Shuffle the DataFrame to randomize the order\n",
    "    df = df.sample(frac=1, random_state=1)\n",
    "\n",
    "    # Calculate the number of rows for the first part (X%)\n",
    "    num_rows = len(df)\n",
    "    split_index = int(num_rows * percentage / 100)\n",
    "\n",
    "    # Split the DataFrame into two parts\n",
    "    part1 = df.iloc[:split_index, :]\n",
    "    part2 = df.iloc[split_index:, :]\n",
    "\n",
    "    return part1, part2"
   ]
  },
  {
   "cell_type": "code",
   "execution_count": 11,
   "id": "f4f0d5fe",
   "metadata": {},
   "outputs": [],
   "source": [
    "# interval = 15\n",
    "def get_intra_TAZ_traveltime(o_list, d_list, interval=15, exact_time = None):\n",
    "    if exact_time is None:\n",
    "        trips = trip_data[trip_data.otaz.isin(o_list) & trip_data.dtaz.isin(d_list)]\n",
    "        average = round(trips.travtime.mean())\n",
    "        time_offsets = list()\n",
    "        for start in range(0,1440, interval):\n",
    "            end = start+interval\n",
    "            interval_trips = trips[trips.deptm.isin(range(start, end))]\n",
    "            average_time = interval_trips.travtime.mean()\n",
    "            if pd.isna(average_time):\n",
    "                time_offsets.append(average)\n",
    "            else:\n",
    "                time_offsets.append(round(average_time))\n",
    "        return time_offsets\n",
    "    else:\n",
    "        trips = trip_data[trip_data.otaz.isin(o_list) & \n",
    "                          trip_data.dtaz.isin(d_list) &\n",
    "                          trip_data.deptm.isin(range(int(exact_time-interval/2), int(exact_time+interval/2)+1))]\n",
    "\n",
    "        average = trips.travtime.mean()\n",
    "        return average"
   ]
  },
  {
   "cell_type": "code",
   "execution_count": 12,
   "id": "9478717d",
   "metadata": {},
   "outputs": [],
   "source": [
    "def get_random_TAZ(taz_list):\n",
    "    if type(taz_list)==list:\n",
    "        return random.choice(taz_list)\n",
    "    else:\n",
    "        return taz_list"
   ]
  },
  {
   "cell_type": "code",
   "execution_count": 13,
   "id": "56d5e7e1",
   "metadata": {},
   "outputs": [],
   "source": [
    "def convert1(invalid_TAZs, near_pseudo_TAZs, pseudo_taz_in, pseudo_taz_out, df=None):\n",
    "    if df is None:\n",
    "            df = converted_data[converted_data.otaz.isin(invalid_TAZs)|converted_data.dtaz.isin(invalid_TAZs)]\n",
    "    invalid_to_near_tt = get_intra_TAZ_traveltime(invalid_TAZs, near_pseudo_TAZs)\n",
    "#     print(f\"it'll take {len(df)} iterations.\")\n",
    "    for index, row in tqdm(df.iterrows()):\n",
    "        interval = int(row.deptm//15)\n",
    "        if row.otaz in invalid_TAZs:\n",
    "            row.otaz = get_random_TAZ(pseudo_taz_in)\n",
    "            row.deptm += invalid_to_near_tt[interval]\n",
    "        elif row.dtaz in invalid_TAZs:\n",
    "            row.dtaz = get_random_TAZ(pseudo_taz_out)\n",
    "        converted_data.loc[index, :] = row "
   ]
  },
  {
   "cell_type": "code",
   "execution_count": 14,
   "id": "1491353f",
   "metadata": {},
   "outputs": [],
   "source": [
    "sumo_s = read_regions('regions/sumo_south.txt')\n",
    "sumo_n = [taz for taz in sumo_taz if taz not in sumo_s]\n",
    "sumo_e = read_regions('regions/sumo_east.txt') \n",
    "sumo_w = [taz for taz in sumo_taz if taz not in sumo_e]\n",
    "near_i90 = read_regions('regions/near_i90.txt')"
   ]
  },
  {
   "cell_type": "code",
   "execution_count": 15,
   "id": "7eb8b881",
   "metadata": {},
   "outputs": [
    {
     "data": {
      "text/html": [
       "<img src=\"regions/i5.png\" width=\"300\" height=\"300\"/>"
      ],
      "text/plain": [
       "<IPython.core.display.Image object>"
      ]
     },
     "execution_count": 15,
     "metadata": {},
     "output_type": "execute_result"
    }
   ],
   "source": [
    "Image(url=\"regions/i5.png\", width=300, height=300)"
   ]
  },
  {
   "cell_type": "code",
   "execution_count": 16,
   "id": "033e1f74",
   "metadata": {},
   "outputs": [],
   "source": [
    "near_i5n=[381, 382, 406, 407, 428, 430]\n",
    "near_i5s=[649, 650, 657, 669, 670] \n",
    "nearSR99n = read_regions('regions/near_SR99N.txt')\n",
    "near6001 = read_regions('regions/near6001.txt')"
   ]
  },
  {
   "cell_type": "code",
   "execution_count": 17,
   "id": "b9ec3774",
   "metadata": {},
   "outputs": [
    {
     "name": "stderr",
     "output_type": "stream",
     "text": [
      "14553it [00:20, 713.92it/s]\n"
     ]
    }
   ],
   "source": [
    "convert1(pierce, near_i5s, 5002, 5003)"
   ]
  },
  {
   "cell_type": "markdown",
   "id": "31982b43",
   "metadata": {},
   "source": [
    "##### new stuff\n",
    "--------"
   ]
  },
  {
   "cell_type": "code",
   "execution_count": 18,
   "id": "d1603870",
   "metadata": {},
   "outputs": [],
   "source": [
    "# convert1(snohomish, near_i5n, 5000, 5001)\n",
    "# it'll take 36268 iterations"
   ]
  },
  {
   "cell_type": "code",
   "execution_count": 18,
   "id": "f4446026",
   "metadata": {},
   "outputs": [],
   "source": [
    "def north_trips_handler(invalid_TAZs):\n",
    "    df = converted_data[converted_data.otaz.isin(invalid_TAZs)|converted_data.dtaz.isin(invalid_TAZs)]\n",
    "    print(f'total trips: {len(df)}')\n",
    "    # if trips go to north1\n",
    "    north1=[426, 427, 428, 429]\n",
    "    df1 = df[df.otaz.isin(north1)|df.dtaz.isin(north1)]\n",
    "    convert1(invalid_TAZs, near_i5n, [5000, 7001], 5001, df=df1)\n",
    "\n",
    "    # if trips go to north2\n",
    "    north21=[430, 432, 434]\n",
    "    df1 = df[df.otaz.isin(north21)|df.dtaz.isin(north21)]\n",
    "    convert1(invalid_TAZs, near_i5n, 7002, 7002, df=df1)\n",
    "\n",
    "    north22 = [431, 433, 435]\n",
    "    df1 = df[df.otaz.isin(north22)|df.dtaz.isin(north22)]\n",
    "    convert1(invalid_TAZs, near_i5n, [5000, 7002], 7002, df=df1)\n",
    "\n",
    "\n",
    "    # if trips go to north3\n",
    "    north3=[436, 437, 438, 439, 440, 441, 442, 443]\n",
    "    df1 = df[df.otaz.isin(north3)|df.dtaz.isin(north3)]\n",
    "    convert1(invalid_TAZs, nearSR99n, [5010, 7003], [5011, 7003], df=df1)\n",
    "\n",
    "    # if trips go to downtown north west\n",
    "    df = converted_data[converted_data.otaz.isin(invalid_TAZs)|converted_data.dtaz.isin(invalid_TAZs)]\n",
    "    df1 = df[df.otaz.isin(sumo_w)|df.dtaz.isin(sumo_w)]\n",
    "    df1 = df1[df1.otaz.isin(sumo_n)|df1.dtaz.isin(sumo_n)]\n",
    "    \n",
    "    df25, df75 = random_split_dataframe(df1, 25)\n",
    "    convert1(invalid_TAZs, nearSR99n, 5010, 5011, df=df25)\n",
    "    convert1(invalid_TAZs, near_i5n, 5000, 5001, df=df75)\n",
    "    \n",
    "\n",
    "    # other trips \n",
    "    convert1(invalid_TAZs, near_i5n, 5000, 5001)"
   ]
  },
  {
   "cell_type": "code",
   "execution_count": 19,
   "id": "9788091c",
   "metadata": {},
   "outputs": [
    {
     "data": {
      "text/html": [
       "<div>\n",
       "<style scoped>\n",
       "    .dataframe tbody tr th:only-of-type {\n",
       "        vertical-align: middle;\n",
       "    }\n",
       "\n",
       "    .dataframe tbody tr th {\n",
       "        vertical-align: top;\n",
       "    }\n",
       "\n",
       "    .dataframe thead th {\n",
       "        text-align: right;\n",
       "    }\n",
       "</style>\n",
       "<table border=\"1\" class=\"dataframe\">\n",
       "  <thead>\n",
       "    <tr style=\"text-align: right;\">\n",
       "      <th></th>\n",
       "      <th>otaz</th>\n",
       "      <th>dtaz</th>\n",
       "      <th>deptm</th>\n",
       "      <th>travtime</th>\n",
       "      <th>original_o</th>\n",
       "      <th>original_d</th>\n",
       "      <th>original_deptm</th>\n",
       "    </tr>\n",
       "  </thead>\n",
       "  <tbody>\n",
       "    <tr>\n",
       "      <th>753020</th>\n",
       "      <td>358</td>\n",
       "      <td>426</td>\n",
       "      <td>563</td>\n",
       "      <td>13</td>\n",
       "      <td>358</td>\n",
       "      <td>426</td>\n",
       "      <td>563</td>\n",
       "    </tr>\n",
       "    <tr>\n",
       "      <th>753021</th>\n",
       "      <td>358</td>\n",
       "      <td>426</td>\n",
       "      <td>577</td>\n",
       "      <td>13</td>\n",
       "      <td>358</td>\n",
       "      <td>426</td>\n",
       "      <td>577</td>\n",
       "    </tr>\n",
       "    <tr>\n",
       "      <th>753022</th>\n",
       "      <td>358</td>\n",
       "      <td>426</td>\n",
       "      <td>940</td>\n",
       "      <td>12</td>\n",
       "      <td>358</td>\n",
       "      <td>426</td>\n",
       "      <td>940</td>\n",
       "    </tr>\n",
       "    <tr>\n",
       "      <th>753023</th>\n",
       "      <td>358</td>\n",
       "      <td>426</td>\n",
       "      <td>1069</td>\n",
       "      <td>13</td>\n",
       "      <td>358</td>\n",
       "      <td>426</td>\n",
       "      <td>1069</td>\n",
       "    </tr>\n",
       "    <tr>\n",
       "      <th>753024</th>\n",
       "      <td>358</td>\n",
       "      <td>427</td>\n",
       "      <td>568</td>\n",
       "      <td>13</td>\n",
       "      <td>358</td>\n",
       "      <td>427</td>\n",
       "      <td>568</td>\n",
       "    </tr>\n",
       "    <tr>\n",
       "      <th>...</th>\n",
       "      <td>...</td>\n",
       "      <td>...</td>\n",
       "      <td>...</td>\n",
       "      <td>...</td>\n",
       "      <td>...</td>\n",
       "      <td>...</td>\n",
       "      <td>...</td>\n",
       "    </tr>\n",
       "    <tr>\n",
       "      <th>1361144</th>\n",
       "      <td>653</td>\n",
       "      <td>358</td>\n",
       "      <td>886</td>\n",
       "      <td>13</td>\n",
       "      <td>653</td>\n",
       "      <td>358</td>\n",
       "      <td>886</td>\n",
       "    </tr>\n",
       "    <tr>\n",
       "      <th>1361145</th>\n",
       "      <td>653</td>\n",
       "      <td>358</td>\n",
       "      <td>1013</td>\n",
       "      <td>16</td>\n",
       "      <td>653</td>\n",
       "      <td>358</td>\n",
       "      <td>1013</td>\n",
       "    </tr>\n",
       "    <tr>\n",
       "      <th>1361146</th>\n",
       "      <td>653</td>\n",
       "      <td>358</td>\n",
       "      <td>1103</td>\n",
       "      <td>14</td>\n",
       "      <td>653</td>\n",
       "      <td>358</td>\n",
       "      <td>1103</td>\n",
       "    </tr>\n",
       "    <tr>\n",
       "      <th>1361147</th>\n",
       "      <td>653</td>\n",
       "      <td>358</td>\n",
       "      <td>1115</td>\n",
       "      <td>14</td>\n",
       "      <td>653</td>\n",
       "      <td>358</td>\n",
       "      <td>1115</td>\n",
       "    </tr>\n",
       "    <tr>\n",
       "      <th>1361148</th>\n",
       "      <td>653</td>\n",
       "      <td>359</td>\n",
       "      <td>943</td>\n",
       "      <td>17</td>\n",
       "      <td>653</td>\n",
       "      <td>359</td>\n",
       "      <td>943</td>\n",
       "    </tr>\n",
       "  </tbody>\n",
       "</table>\n",
       "<p>1668 rows × 7 columns</p>\n",
       "</div>"
      ],
      "text/plain": [
       "         otaz  dtaz  deptm  travtime  original_o  original_d  original_deptm\n",
       "753020    358   426    563        13         358         426             563\n",
       "753021    358   426    577        13         358         426             577\n",
       "753022    358   426    940        12         358         426             940\n",
       "753023    358   426   1069        13         358         426            1069\n",
       "753024    358   427    568        13         358         427             568\n",
       "...       ...   ...    ...       ...         ...         ...             ...\n",
       "1361144   653   358    886        13         653         358             886\n",
       "1361145   653   358   1013        16         653         358            1013\n",
       "1361146   653   358   1103        14         653         358            1103\n",
       "1361147   653   358   1115        14         653         358            1115\n",
       "1361148   653   359    943        17         653         359             943\n",
       "\n",
       "[1668 rows x 7 columns]"
      ]
     },
     "execution_count": 19,
     "metadata": {},
     "output_type": "execute_result"
    }
   ],
   "source": [
    "# invalid_TAZs = [337, 338, 356, 358,359]\n",
    "invalid_TAZs = [358,359]\n",
    "\n",
    "converted_data[converted_data.otaz.isin(invalid_TAZs)|converted_data.dtaz.isin(invalid_TAZs)]"
   ]
  },
  {
   "cell_type": "code",
   "execution_count": 20,
   "id": "d6492b3d",
   "metadata": {},
   "outputs": [
    {
     "name": "stdout",
     "output_type": "stream",
     "text": [
      "total trips: 36268\n"
     ]
    },
    {
     "name": "stderr",
     "output_type": "stream",
     "text": [
      "795it [00:01, 712.72it/s]\n",
      "3634it [00:04, 726.92it/s]\n",
      "2694it [00:03, 760.67it/s]\n",
      "2127it [00:02, 763.64it/s]\n",
      "2969it [00:03, 760.94it/s]\n",
      "8910it [00:11, 767.85it/s]\n",
      "15139it [00:19, 769.51it/s]\n"
     ]
    }
   ],
   "source": [
    "north_trips_handler(snohomish)"
   ]
  },
  {
   "cell_type": "code",
   "execution_count": 21,
   "id": "14dc95c0",
   "metadata": {},
   "outputs": [],
   "source": [
    "def northeast_trips_handler(invalid_TAZs):\n",
    "    df = converted_data[converted_data.otaz.isin(invalid_TAZs)|converted_data.dtaz.isin(invalid_TAZs)]\n",
    "    print(f'total trips: {len(df)}')\n",
    "    # if trips go to north1\n",
    "    north1=[426, 427, 428, 429]\n",
    "    df1 = df[df.otaz.isin(north1)|df.dtaz.isin(north1)]\n",
    "    convert1(invalid_TAZs, near_i5n, [5000, 7001], 5001, df=df1)\n",
    "\n",
    "    # if trips go to north2\n",
    "    north21=[430, 432, 434]\n",
    "    df1 = df[df.otaz.isin(north21)|df.dtaz.isin(north21)]\n",
    "    convert1(invalid_TAZs, near_i5n, 7002, 7002, df=df1)\n",
    "\n",
    "    north22 = [431, 433, 435]\n",
    "    df1 = df[df.otaz.isin(north22)|df.dtaz.isin(north22)]\n",
    "    convert1(invalid_TAZs, near_i5n, [5000, 7002], 7002, df=df1)\n",
    "\n",
    "\n",
    "    # if trips go to north3\n",
    "    north3=[436, 437, 438, 439, 440, 441, 442, 443]\n",
    "    df1 = df[df.otaz.isin(north3)|df.dtaz.isin(north3)]\n",
    "    convert1(invalid_TAZs, nearSR99n, 7003, 7003, df=df1)\n",
    "\n",
    "    # other trips \n",
    "    convert1(invalid_TAZs, near_i5n, 5000, 5001)"
   ]
  },
  {
   "cell_type": "code",
   "execution_count": 22,
   "id": "6eb0730d",
   "metadata": {},
   "outputs": [],
   "source": [
    "def northwest_trips_handler(invalid_TAZs):\n",
    "    df = converted_data[converted_data.otaz.isin(invalid_TAZs)|converted_data.dtaz.isin(invalid_TAZs)]\n",
    "    print(f'total trips: {len(df)}')\n",
    "    # if trips go to north1\n",
    "    north1=[426, 427, 428, 429]\n",
    "    df1 = df[df.otaz.isin(north1)|df.dtaz.isin(north1)]\n",
    "    convert1(invalid_TAZs, near_i5n+nearSR99n, [5010, 7001], [5001, 5011], df=df1)\n",
    "\n",
    "    # if trips go to north21\n",
    "    north21=[430, 432, 434]\n",
    "    df1 = df[df.otaz.isin(north21)|df.dtaz.isin(north21)]\n",
    "    convert1(invalid_TAZs, nearSR99n, 5010, [5011, 7002], df=df1)\n",
    "\n",
    "    # if trips go to north32\n",
    "    north3=[440, 441, 442, 443]\n",
    "    df1 = df[df.otaz.isin(north3)|df.dtaz.isin(north3)]\n",
    "    convert1(invalid_TAZs, nearSR99n+near6001, [5010, 6001], [5011, 6001], df=df1)\n",
    "\n",
    "    # if trips go to downtown east\n",
    "    df = converted_data[converted_data.otaz.isin(invalid_TAZs)|converted_data.dtaz.isin(invalid_TAZs)]\n",
    "    df1 = df[df.otaz.isin(sumo_e)|df.dtaz.isin(sumo_e)]\n",
    "    convert1(invalid_TAZs, nearSR99n, 5010, 5001, df=df1)\n",
    "\n",
    "    # other trips \n",
    "    convert1(invalid_TAZs, nearSR99n, 5010, 5011)"
   ]
  },
  {
   "cell_type": "markdown",
   "id": "4e1778a4",
   "metadata": {
    "jp-MarkdownHeadingCollapsed": true
   },
   "source": [
    "### for trips within king county"
   ]
  },
  {
   "cell_type": "code",
   "execution_count": 23,
   "id": "45ee2580",
   "metadata": {},
   "outputs": [
    {
     "data": {
      "text/html": [
       "<img src=\"regions/version2/north1.png\" width=\"300\" height=\"300\"/>"
      ],
      "text/plain": [
       "<IPython.core.display.Image object>"
      ]
     },
     "execution_count": 23,
     "metadata": {},
     "output_type": "execute_result"
    }
   ],
   "source": [
    "Image(url=\"regions/version2/north1.png\", width=300, height=300)"
   ]
  },
  {
   "cell_type": "code",
   "execution_count": 24,
   "id": "1e627302",
   "metadata": {},
   "outputs": [
    {
     "name": "stdout",
     "output_type": "stream",
     "text": [
      "total trips: 11749\n"
     ]
    },
    {
     "name": "stderr",
     "output_type": "stream",
     "text": [
      "301it [00:00, 609.78it/s]\n",
      "1131it [00:01, 641.38it/s]\n",
      "922it [00:01, 693.95it/s]\n",
      "745it [00:01, 604.52it/s]\n",
      "1019it [00:01, 611.96it/s]\n",
      "3060it [00:04, 761.59it/s]\n",
      "4571it [00:06, 758.80it/s]\n"
     ]
    }
   ],
   "source": [
    "north_trips_handler(read_regions('regions/version2/north1.txt'))"
   ]
  },
  {
   "cell_type": "code",
   "execution_count": 25,
   "id": "2a3a581a",
   "metadata": {
    "scrolled": true
   },
   "outputs": [
    {
     "data": {
      "text/html": [
       "<img src=\"regions/version2/north2.png\" width=\"300\" height=\"300\"/>"
      ],
      "text/plain": [
       "<IPython.core.display.Image object>"
      ]
     },
     "execution_count": 25,
     "metadata": {},
     "output_type": "execute_result"
    }
   ],
   "source": [
    "Image(url=\"regions/version2/north2.png\", width=300, height=300)"
   ]
  },
  {
   "cell_type": "code",
   "execution_count": 26,
   "id": "6fdb0cbf",
   "metadata": {
    "scrolled": true
   },
   "outputs": [
    {
     "name": "stdout",
     "output_type": "stream",
     "text": [
      "total trips: 3878\n"
     ]
    },
    {
     "name": "stderr",
     "output_type": "stream",
     "text": [
      "88it [00:00, 746.26it/s]\n",
      "453it [00:00, 718.26it/s]\n",
      "363it [00:00, 761.54it/s]\n",
      "183it [00:00, 769.77it/s]\n",
      "342it [00:00, 759.64it/s]\n",
      "1028it [00:01, 751.57it/s]\n",
      "1421it [00:01, 767.19it/s]\n"
     ]
    }
   ],
   "source": [
    "north_trips_handler(read_regions('regions/version2/north2.txt'))"
   ]
  },
  {
   "cell_type": "code",
   "execution_count": 27,
   "id": "6b2f3f74",
   "metadata": {
    "scrolled": true
   },
   "outputs": [
    {
     "data": {
      "text/html": [
       "<img src=\"regions/version2/north3.png\" width=\"300\" height=\"300\"/>"
      ],
      "text/plain": [
       "<IPython.core.display.Image object>"
      ]
     },
     "execution_count": 27,
     "metadata": {},
     "output_type": "execute_result"
    }
   ],
   "source": [
    "Image(url=\"regions/version2/north3.png\", width=300, height=300)"
   ]
  },
  {
   "cell_type": "code",
   "execution_count": 28,
   "id": "6399023d",
   "metadata": {
    "scrolled": true
   },
   "outputs": [
    {
     "name": "stdout",
     "output_type": "stream",
     "text": [
      "total trips: 15273\n"
     ]
    },
    {
     "name": "stderr",
     "output_type": "stream",
     "text": [
      "399it [00:00, 726.00it/s]\n",
      "1499it [00:01, 765.23it/s]\n",
      "1269it [00:01, 765.69it/s]\n",
      "913it [00:01, 781.25it/s]\n",
      "1324it [00:01, 771.93it/s]\n",
      "3974it [00:05, 774.15it/s]\n",
      "5895it [00:07, 775.52it/s]\n"
     ]
    }
   ],
   "source": [
    "north_trips_handler(read_regions('regions/version2/north3.txt'))"
   ]
  },
  {
   "cell_type": "code",
   "execution_count": 29,
   "id": "d27068b1",
   "metadata": {
    "scrolled": true
   },
   "outputs": [
    {
     "data": {
      "text/html": [
       "<img src=\"regions/version2/north4.png\" width=\"300\" height=\"300\"/>"
      ],
      "text/plain": [
       "<IPython.core.display.Image object>"
      ]
     },
     "execution_count": 29,
     "metadata": {},
     "output_type": "execute_result"
    }
   ],
   "source": [
    "Image(url=\"regions/version2/north4.png\", width=300, height=300)"
   ]
  },
  {
   "cell_type": "code",
   "execution_count": 30,
   "id": "e5357b7b",
   "metadata": {},
   "outputs": [
    {
     "name": "stdout",
     "output_type": "stream",
     "text": [
      "total trips: 11794\n"
     ]
    },
    {
     "name": "stderr",
     "output_type": "stream",
     "text": [
      "330it [00:00, 757.75it/s]\n",
      "1367it [00:01, 762.17it/s]\n",
      "1097it [00:01, 764.16it/s]\n",
      "634it [00:00, 749.11it/s]\n",
      "1011it [00:01, 756.97it/s]\n",
      "3034it [00:04, 738.76it/s]\n",
      "4321it [00:05, 761.25it/s]\n"
     ]
    }
   ],
   "source": [
    "north_trips_handler(read_regions('regions/version2/north4.txt'))"
   ]
  },
  {
   "cell_type": "code",
   "execution_count": 31,
   "id": "eb222da4",
   "metadata": {
    "scrolled": true
   },
   "outputs": [
    {
     "data": {
      "text/html": [
       "<img src=\"regions/version2/north5.png\" width=\"300\" height=\"300\"/>"
      ],
      "text/plain": [
       "<IPython.core.display.Image object>"
      ]
     },
     "execution_count": 31,
     "metadata": {},
     "output_type": "execute_result"
    }
   ],
   "source": [
    "Image(url=\"regions/version2/north5.png\", width=300, height=300)"
   ]
  },
  {
   "cell_type": "code",
   "execution_count": 32,
   "id": "cacaa2ee",
   "metadata": {},
   "outputs": [
    {
     "name": "stdout",
     "output_type": "stream",
     "text": [
      "total trips: 12334\n"
     ]
    },
    {
     "name": "stderr",
     "output_type": "stream",
     "text": [
      "332it [00:00, 750.98it/s]\n",
      "1515it [00:01, 771.42it/s]\n",
      "1227it [00:01, 777.95it/s]\n",
      "631it [00:00, 769.30it/s]\n",
      "8629it [00:11, 759.02it/s]\n"
     ]
    }
   ],
   "source": [
    "northeast_trips_handler(read_regions('regions/version2/north5.txt'))"
   ]
  },
  {
   "cell_type": "code",
   "execution_count": 33,
   "id": "8856d1f6",
   "metadata": {},
   "outputs": [
    {
     "data": {
      "text/html": [
       "<img src=\"regions/version2/north6.png\" width=\"300\" height=\"300\"/>"
      ],
      "text/plain": [
       "<IPython.core.display.Image object>"
      ]
     },
     "execution_count": 33,
     "metadata": {},
     "output_type": "execute_result"
    }
   ],
   "source": [
    "Image(url=\"regions/version2/north6.png\", width=300, height=300)"
   ]
  },
  {
   "cell_type": "code",
   "execution_count": 34,
   "id": "be3b317f",
   "metadata": {},
   "outputs": [
    {
     "name": "stdout",
     "output_type": "stream",
     "text": [
      "total trips: 21517\n"
     ]
    },
    {
     "name": "stderr",
     "output_type": "stream",
     "text": [
      "1115it [00:01, 721.67it/s]\n",
      "2650it [00:03, 735.43it/s]\n",
      "2097it [00:02, 771.43it/s]\n",
      "1173it [00:01, 763.14it/s]\n",
      "1732it [00:02, 764.72it/s]\n",
      "5199it [00:06, 766.84it/s]\n",
      "7551it [00:09, 766.57it/s]\n"
     ]
    }
   ],
   "source": [
    "north_trips_handler(read_regions('regions/version2/north6.txt'))"
   ]
  },
  {
   "cell_type": "code",
   "execution_count": 35,
   "id": "44915d6e",
   "metadata": {},
   "outputs": [
    {
     "data": {
      "text/html": [
       "<img src=\"regions/version2/north7.png\" width=\"300\" height=\"300\"/>"
      ],
      "text/plain": [
       "<IPython.core.display.Image object>"
      ]
     },
     "execution_count": 35,
     "metadata": {},
     "output_type": "execute_result"
    }
   ],
   "source": [
    "Image(url=\"regions/version2/north7.png\", width=300, height=300)"
   ]
  },
  {
   "cell_type": "code",
   "execution_count": 36,
   "id": "6b8bf351",
   "metadata": {},
   "outputs": [
    {
     "name": "stdout",
     "output_type": "stream",
     "text": [
      "total trips: 19859\n"
     ]
    },
    {
     "name": "stderr",
     "output_type": "stream",
     "text": [
      "490it [00:00, 751.20it/s]\n",
      "2875it [00:03, 764.02it/s]\n",
      "838it [00:01, 748.19it/s]\n",
      "2508it [00:03, 764.45it/s]\n",
      "13148it [00:17, 771.55it/s]\n"
     ]
    }
   ],
   "source": [
    "northwest_trips_handler(read_regions('regions/version2/north7.txt')+[337, 338, 356])"
   ]
  },
  {
   "cell_type": "code",
   "execution_count": 37,
   "id": "a233fc58",
   "metadata": {},
   "outputs": [
    {
     "data": {
      "text/html": [
       "<img src=\"regions/version2/north8.png\" width=\"300\" height=\"300\"/>"
      ],
      "text/plain": [
       "<IPython.core.display.Image object>"
      ]
     },
     "execution_count": 37,
     "metadata": {},
     "output_type": "execute_result"
    }
   ],
   "source": [
    "Image(url=\"regions/version2/north8.png\", width=300, height=300)"
   ]
  },
  {
   "cell_type": "code",
   "execution_count": 38,
   "id": "8ad00eaf",
   "metadata": {},
   "outputs": [
    {
     "name": "stdout",
     "output_type": "stream",
     "text": [
      "total trips: 9358\n"
     ]
    },
    {
     "name": "stderr",
     "output_type": "stream",
     "text": [
      "152it [00:00, 726.99it/s]\n",
      "1074it [00:01, 758.86it/s]\n",
      "449it [00:00, 757.74it/s]\n",
      "1241it [00:01, 692.71it/s]\n",
      "6442it [00:08, 739.40it/s]\n"
     ]
    }
   ],
   "source": [
    "northwest_trips_handler(read_regions('regions/version2/north8.txt'))"
   ]
  },
  {
   "cell_type": "code",
   "execution_count": 39,
   "id": "45b9cf34",
   "metadata": {},
   "outputs": [
    {
     "data": {
      "text/html": [
       "<img src=\"regions/version2/north9.png\" width=\"300\" height=\"300\"/>"
      ],
      "text/plain": [
       "<IPython.core.display.Image object>"
      ]
     },
     "execution_count": 39,
     "metadata": {},
     "output_type": "execute_result"
    }
   ],
   "source": [
    "Image(url=\"regions/version2/north9.png\", width=300, height=300)"
   ]
  },
  {
   "cell_type": "code",
   "execution_count": 40,
   "id": "120049fd",
   "metadata": {},
   "outputs": [
    {
     "name": "stdout",
     "output_type": "stream",
     "text": [
      "total trips: 12236\n"
     ]
    },
    {
     "name": "stderr",
     "output_type": "stream",
     "text": [
      "867it [00:01, 734.95it/s]\n",
      "787it [00:01, 756.13it/s]\n",
      "2116it [00:02, 764.09it/s]\n",
      "8466it [00:11, 766.29it/s]\n"
     ]
    }
   ],
   "source": [
    "invalid_TAZs = read_regions('regions/version2/north9.txt')\n",
    "df = converted_data[converted_data.otaz.isin(invalid_TAZs)|converted_data.dtaz.isin(invalid_TAZs)]\n",
    "print(f'total trips: {len(df)}')\n",
    "\n",
    "# if trips go to north32\n",
    "north32=[440, 441, 442, 443]\n",
    "df1 = df[df.otaz.isin(north32)|df.dtaz.isin(north32)]\n",
    "convert1(invalid_TAZs, near6001, 6001, 6001, df=df1)\n",
    "\n",
    "# if trips go to downtown south east\n",
    "df1 = df[df.otaz.isin(sumo_s)|df.dtaz.isin(sumo_s)]\n",
    "df1 = df1[df1.otaz.isin(sumo_e)|df1.dtaz.isin(sumo_e)]\n",
    "convert1(invalid_TAZs, near_i5n, 5000, 5001, df=df1)\n",
    "\n",
    "# other trips \n",
    "df = converted_data[converted_data.otaz.isin(invalid_TAZs)|converted_data.dtaz.isin(invalid_TAZs)]\n",
    "df20, df80 = random_split_dataframe(df, 20)\n",
    "convert1(invalid_TAZs, nearSR99n, 5010, 5011, df20)\n",
    "convert1(invalid_TAZs, near6001, 6001,  6001, df80)"
   ]
  },
  {
   "cell_type": "markdown",
   "id": "9a7bee51",
   "metadata": {},
   "source": [
    "##### Old stuff\n",
    "---------"
   ]
  },
  {
   "cell_type": "code",
   "execution_count": 41,
   "id": "23129549",
   "metadata": {},
   "outputs": [
    {
     "data": {
      "text/html": [
       "<img src=\"regions/north2.png\" width=\"300\" height=\"300\"/>"
      ],
      "text/plain": [
       "<IPython.core.display.Image object>"
      ]
     },
     "execution_count": 41,
     "metadata": {},
     "output_type": "execute_result"
    }
   ],
   "source": [
    "Image(url=\"regions/north2.png\", width=300, height=300)"
   ]
  },
  {
   "cell_type": "code",
   "execution_count": 42,
   "id": "6a0c81c7",
   "metadata": {},
   "outputs": [
    {
     "name": "stderr",
     "output_type": "stream",
     "text": [
      "17971it [00:23, 758.48it/s]\n"
     ]
    }
   ],
   "source": [
    "north2 = read_regions('regions/north2.txt')+[358,359]\n",
    "boundary = read_regions('regions/north2_boundary.txt')\n",
    "# convert1(north2, boundary, boundary, boundary)\n",
    "convert1(north2, boundary, 7002, 7002)"
   ]
  },
  {
   "cell_type": "code",
   "execution_count": 43,
   "id": "c8385547",
   "metadata": {},
   "outputs": [
    {
     "data": {
      "text/html": [
       "<img src=\"regions/SR99N.png\" width=\"300\" height=\"300\"/>"
      ],
      "text/plain": [
       "<IPython.core.display.Image object>"
      ]
     },
     "execution_count": 43,
     "metadata": {},
     "output_type": "execute_result"
    }
   ],
   "source": [
    "Image(url=\"regions/SR99N.png\", width=300, height=300)"
   ]
  },
  {
   "cell_type": "code",
   "execution_count": 44,
   "id": "c23f00ff",
   "metadata": {},
   "outputs": [],
   "source": [
    "SR99n = read_regions('regions/SR99N.txt')\n",
    "nearSR99n = read_regions('regions/near_SR99N.txt')"
   ]
  },
  {
   "cell_type": "code",
   "execution_count": 45,
   "id": "5ca0f1f6",
   "metadata": {
    "scrolled": true
   },
   "outputs": [
    {
     "name": "stderr",
     "output_type": "stream",
     "text": [
      "0it [00:00, ?it/s]\n"
     ]
    }
   ],
   "source": [
    "convert1(SR99n, nearSR99n, 5010, 5011)"
   ]
  },
  {
   "cell_type": "markdown",
   "id": "bee1ef63",
   "metadata": {},
   "source": [
    " --------"
   ]
  },
  {
   "cell_type": "code",
   "execution_count": 46,
   "id": "41036679",
   "metadata": {},
   "outputs": [
    {
     "data": {
      "text/html": [
       "<img src=\"regions/i5n1.png\" width=\"300\" height=\"300\"/>"
      ],
      "text/plain": [
       "<IPython.core.display.Image object>"
      ]
     },
     "execution_count": 46,
     "metadata": {},
     "output_type": "execute_result"
    }
   ],
   "source": [
    "Image(url=\"regions/i5n1.png\", width=300, height=300)"
   ]
  },
  {
   "cell_type": "code",
   "execution_count": 47,
   "id": "7ca3ad58",
   "metadata": {},
   "outputs": [],
   "source": [
    "i5n1 = read_regions('regions/i5n1.txt')"
   ]
  },
  {
   "cell_type": "code",
   "execution_count": 48,
   "id": "9f7d5674",
   "metadata": {
    "scrolled": true
   },
   "outputs": [
    {
     "name": "stderr",
     "output_type": "stream",
     "text": [
      "0it [00:00, ?it/s]\n"
     ]
    }
   ],
   "source": [
    "convert1(i5n1, near_i5n, 5000, 5001)"
   ]
  },
  {
   "cell_type": "markdown",
   "id": "4ce19595",
   "metadata": {},
   "source": [
    "___"
   ]
  },
  {
   "cell_type": "code",
   "execution_count": 49,
   "id": "fb8a5aa7",
   "metadata": {},
   "outputs": [
    {
     "data": {
      "text/html": [
       "<img src=\"regions/i5n2.png\" width=\"300\" height=\"300\"/>"
      ],
      "text/plain": [
       "<IPython.core.display.Image object>"
      ]
     },
     "execution_count": 49,
     "metadata": {},
     "output_type": "execute_result"
    }
   ],
   "source": [
    "Image(url=\"regions/i5n2.png\", width=300, height=300)"
   ]
  },
  {
   "cell_type": "code",
   "execution_count": 50,
   "id": "1d0ab87d",
   "metadata": {},
   "outputs": [
    {
     "name": "stderr",
     "output_type": "stream",
     "text": [
      "0it [00:00, ?it/s]\n"
     ]
    }
   ],
   "source": [
    "i5n2 = read_regions('regions/i5n2.txt')\n",
    "convert1(i5n2, near_i5n, 5000, 5001)"
   ]
  },
  {
   "cell_type": "markdown",
   "id": "7596bbd4",
   "metadata": {},
   "source": [
    "--------"
   ]
  },
  {
   "cell_type": "code",
   "execution_count": 51,
   "id": "45ffbbf8",
   "metadata": {},
   "outputs": [
    {
     "data": {
      "text/html": [
       "<img src=\"regions/west_king1.png\" width=\"600\" height=\"300\"/>"
      ],
      "text/plain": [
       "<IPython.core.display.Image object>"
      ]
     },
     "execution_count": 51,
     "metadata": {},
     "output_type": "execute_result"
    }
   ],
   "source": [
    "Image(url=\"regions/west_king1.png\", width=600, height=300)"
   ]
  },
  {
   "cell_type": "code",
   "execution_count": 52,
   "id": "59ef50b9",
   "metadata": {},
   "outputs": [],
   "source": [
    "west_king1 = read_regions('regions/west_king1.txt')\n",
    "df = converted_data[converted_data.otaz.isin(west_king1)|converted_data.dtaz.isin(west_king1)]"
   ]
  },
  {
   "cell_type": "code",
   "execution_count": 53,
   "id": "b5fa761c",
   "metadata": {},
   "outputs": [
    {
     "name": "stderr",
     "output_type": "stream",
     "text": [
      "7327it [00:09, 744.02it/s]\n"
     ]
    }
   ],
   "source": [
    "# if trips go to upper downtown:\n",
    "df1 = df[df.otaz.isin(sumo_n)|df.dtaz.isin(sumo_n)]\n",
    "convert1(west_king1, near_i5n, 5000, 5001, df=df1)"
   ]
  },
  {
   "cell_type": "code",
   "execution_count": 54,
   "id": "2dee9988",
   "metadata": {
    "scrolled": true
   },
   "outputs": [
    {
     "name": "stderr",
     "output_type": "stream",
     "text": [
      "3881it [00:05, 748.46it/s]\n"
     ]
    }
   ],
   "source": [
    "# if trips go to lower downtown:\n",
    "df2 = df[df.otaz.isin(sumo_s)|df.dtaz.isin(sumo_s)]\n",
    "convert1(west_king1, near_i90, 5004, 5005, df=df2)"
   ]
  },
  {
   "cell_type": "markdown",
   "id": "efd354af",
   "metadata": {},
   "source": [
    "---------"
   ]
  },
  {
   "cell_type": "code",
   "execution_count": 55,
   "id": "bc56d2de",
   "metadata": {
    "scrolled": true
   },
   "outputs": [
    {
     "data": {
      "text/html": [
       "<img src=\"regions/west_king2.png\" width=\"600\" height=\"300\"/>"
      ],
      "text/plain": [
       "<IPython.core.display.Image object>"
      ]
     },
     "execution_count": 55,
     "metadata": {},
     "output_type": "execute_result"
    }
   ],
   "source": [
    "Image(url=\"regions/west_king2.png\", width=600, height=300)"
   ]
  },
  {
   "cell_type": "code",
   "execution_count": 56,
   "id": "94128c04",
   "metadata": {},
   "outputs": [],
   "source": [
    "west_king2 = read_regions('regions/west_king2.txt')\n",
    "df = converted_data[converted_data.otaz.isin(west_king2)|converted_data.dtaz.isin(west_king2)]"
   ]
  },
  {
   "cell_type": "code",
   "execution_count": 57,
   "id": "bdd71cd2",
   "metadata": {},
   "outputs": [
    {
     "name": "stderr",
     "output_type": "stream",
     "text": [
      "11223it [00:14, 767.20it/s]\n"
     ]
    }
   ],
   "source": [
    "# if trips go to upper downtown:\n",
    "df1 = df[df.otaz.isin(sumo_n)|df.dtaz.isin(sumo_n)]\n",
    "convert1(west_king2, near_i5n, 5000, 5001, df=df1)"
   ]
  },
  {
   "cell_type": "code",
   "execution_count": 58,
   "id": "e58d18ce",
   "metadata": {
    "scrolled": true
   },
   "outputs": [
    {
     "name": "stderr",
     "output_type": "stream",
     "text": [
      "6167it [00:08, 765.85it/s]\n"
     ]
    }
   ],
   "source": [
    "# if trips go to lower downtown:\n",
    "df2 = df[df.otaz.isin(sumo_s)|df.dtaz.isin(sumo_s)]\n",
    "convert1(west_king2, near_i90, 5004, 5005, df=df2)"
   ]
  },
  {
   "cell_type": "markdown",
   "id": "c2a149b6",
   "metadata": {},
   "source": [
    "-----"
   ]
  },
  {
   "cell_type": "code",
   "execution_count": 59,
   "id": "84fa7b85",
   "metadata": {},
   "outputs": [
    {
     "data": {
      "text/html": [
       "<img src=\"regions/west_king3.png\" width=\"500\" height=\"300\"/>"
      ],
      "text/plain": [
       "<IPython.core.display.Image object>"
      ]
     },
     "execution_count": 59,
     "metadata": {},
     "output_type": "execute_result"
    }
   ],
   "source": [
    "Image(url=\"regions/west_king3.png\", width=500, height=300)"
   ]
  },
  {
   "cell_type": "code",
   "execution_count": 60,
   "id": "fc807814",
   "metadata": {
    "scrolled": true
   },
   "outputs": [
    {
     "name": "stderr",
     "output_type": "stream",
     "text": [
      "33163it [00:43, 760.69it/s]\n"
     ]
    }
   ],
   "source": [
    "west_king3 = read_regions('regions/west_king3.txt')\n",
    "convert1(west_king3, near_i90, 5004, 5005)"
   ]
  },
  {
   "cell_type": "markdown",
   "id": "e0e2cb89",
   "metadata": {},
   "source": [
    "-----"
   ]
  },
  {
   "cell_type": "code",
   "execution_count": 61,
   "id": "b94bb8ef",
   "metadata": {
    "scrolled": true
   },
   "outputs": [
    {
     "data": {
      "text/html": [
       "<img src=\"regions/west_king4.png\" width=\"600\" height=\"300\"/>"
      ],
      "text/plain": [
       "<IPython.core.display.Image object>"
      ]
     },
     "execution_count": 61,
     "metadata": {},
     "output_type": "execute_result"
    }
   ],
   "source": [
    "Image(url=\"regions/west_king4.png\", width=600, height=300)"
   ]
  },
  {
   "cell_type": "code",
   "execution_count": 62,
   "id": "7073c99e",
   "metadata": {},
   "outputs": [
    {
     "name": "stderr",
     "output_type": "stream",
     "text": [
      "11397it [00:15, 759.10it/s]\n"
     ]
    }
   ],
   "source": [
    "west_king4 = read_regions('regions/west_king4.txt')\n",
    "convert1(west_king4, near_i90, 5004, 5005)"
   ]
  },
  {
   "cell_type": "markdown",
   "id": "e08da3a3",
   "metadata": {},
   "source": [
    "-----"
   ]
  },
  {
   "cell_type": "code",
   "execution_count": 63,
   "id": "393234ce",
   "metadata": {
    "scrolled": true
   },
   "outputs": [
    {
     "data": {
      "text/html": [
       "<img src=\"regions/west_king5.png\" width=\"600\" height=\"300\"/>"
      ],
      "text/plain": [
       "<IPython.core.display.Image object>"
      ]
     },
     "execution_count": 63,
     "metadata": {},
     "output_type": "execute_result"
    }
   ],
   "source": [
    "Image(url=\"regions/west_king5.png\", width=600, height=300)"
   ]
  },
  {
   "cell_type": "code",
   "execution_count": 64,
   "id": "fb794c07",
   "metadata": {},
   "outputs": [
    {
     "name": "stderr",
     "output_type": "stream",
     "text": [
      "4920it [00:06, 758.93it/s]\n"
     ]
    }
   ],
   "source": [
    "west_king5 = read_regions('regions/west_king5.txt')\n",
    "convert1(west_king5, near_i5s, 5002, 5003)"
   ]
  },
  {
   "cell_type": "markdown",
   "id": "b6610a96",
   "metadata": {},
   "source": [
    "-----"
   ]
  },
  {
   "cell_type": "code",
   "execution_count": 65,
   "id": "a69788cd",
   "metadata": {},
   "outputs": [
    {
     "data": {
      "text/html": [
       "<img src=\"regions/west_king6.png\" width=\"300\" height=\"300\"/>"
      ],
      "text/plain": [
       "<IPython.core.display.Image object>"
      ]
     },
     "execution_count": 65,
     "metadata": {},
     "output_type": "execute_result"
    }
   ],
   "source": [
    "Image(url=\"regions/west_king6.png\", width=300, height=300)"
   ]
  },
  {
   "cell_type": "code",
   "execution_count": 66,
   "id": "845f6a9b",
   "metadata": {},
   "outputs": [
    {
     "name": "stderr",
     "output_type": "stream",
     "text": [
      "17509it [00:23, 757.47it/s]\n"
     ]
    }
   ],
   "source": [
    "west_king6 = read_regions('regions/west_king6.txt')\n",
    "convert1(west_king6, near_i5s, 5002, 5003)"
   ]
  },
  {
   "cell_type": "markdown",
   "id": "469b72d1",
   "metadata": {},
   "source": [
    "--------"
   ]
  },
  {
   "cell_type": "code",
   "execution_count": 67,
   "id": "d4b241a5",
   "metadata": {},
   "outputs": [
    {
     "data": {
      "text/html": [
       "<img src=\"regions/vashon.png\" width=\"300\" height=\"300\"/>"
      ],
      "text/plain": [
       "<IPython.core.display.Image object>"
      ]
     },
     "execution_count": 67,
     "metadata": {},
     "output_type": "execute_result"
    }
   ],
   "source": [
    "Image(url=\"regions/vashon.png\", width=300, height=300)"
   ]
  },
  {
   "cell_type": "code",
   "execution_count": 68,
   "id": "0bf0e6e9",
   "metadata": {},
   "outputs": [
    {
     "name": "stderr",
     "output_type": "stream",
     "text": [
      "1206it [00:01, 744.54it/s]\n"
     ]
    }
   ],
   "source": [
    "vashon = read_regions('regions/vashon.txt')\n",
    "nearsr99s = read_regions('regions/near_SR99S.txt')\n",
    "convert1(vashon, nearsr99s, 5008, 5009)"
   ]
  },
  {
   "cell_type": "markdown",
   "id": "45b2c5d2",
   "metadata": {},
   "source": [
    "------"
   ]
  },
  {
   "cell_type": "code",
   "execution_count": 69,
   "id": "1f1803ea",
   "metadata": {},
   "outputs": [
    {
     "data": {
      "text/html": [
       "<img src=\"regions/southwest1.png\" width=\"300\" height=\"300\"/>"
      ],
      "text/plain": [
       "<IPython.core.display.Image object>"
      ]
     },
     "execution_count": 69,
     "metadata": {},
     "output_type": "execute_result"
    }
   ],
   "source": [
    "Image(url=\"regions/southwest1.png\", width=300, height=300)"
   ]
  },
  {
   "cell_type": "code",
   "execution_count": 70,
   "id": "fc5f5bba",
   "metadata": {},
   "outputs": [],
   "source": [
    "sw1 = read_regions('regions/southwest1.txt')\n",
    "df = converted_data[converted_data.otaz.isin(sw1)|converted_data.dtaz.isin(sw1)]"
   ]
  },
  {
   "cell_type": "code",
   "execution_count": 71,
   "id": "61ec8fdf",
   "metadata": {},
   "outputs": [
    {
     "name": "stderr",
     "output_type": "stream",
     "text": [
      "19529it [00:25, 763.83it/s]\n"
     ]
    }
   ],
   "source": [
    "# if trips go to west downtown:\n",
    "df1 = df[df.otaz.isin(sumo_w)|df.dtaz.isin(sumo_w)]\n",
    "convert1(sw1, nearsr99s, 5008, 5009, df=df1)"
   ]
  },
  {
   "cell_type": "code",
   "execution_count": 72,
   "id": "35767a8d",
   "metadata": {},
   "outputs": [
    {
     "name": "stderr",
     "output_type": "stream",
     "text": [
      "4512it [00:05, 764.57it/s]\n"
     ]
    }
   ],
   "source": [
    "# if trips go to east downtown:\n",
    "df2 = df[df.otaz.isin(sumo_e)|df.dtaz.isin(sumo_e)]\n",
    "convert1(sw1, near_i5s, 5002, 5003, df=df2)"
   ]
  },
  {
   "cell_type": "code",
   "execution_count": 73,
   "id": "0a4635ec",
   "metadata": {},
   "outputs": [
    {
     "data": {
      "text/html": [
       "<img src=\"regions/southwest2.png\" width=\"300\" height=\"300\"/>"
      ],
      "text/plain": [
       "<IPython.core.display.Image object>"
      ]
     },
     "execution_count": 73,
     "metadata": {},
     "output_type": "execute_result"
    }
   ],
   "source": [
    "Image(url=\"regions/southwest2.png\", width=300, height=300)\n"
   ]
  },
  {
   "cell_type": "code",
   "execution_count": 74,
   "id": "e4f8c161",
   "metadata": {},
   "outputs": [],
   "source": [
    "sw2 = read_regions('regions/southwest2.txt')\n",
    "df = converted_data[converted_data.otaz.isin(sw2)|converted_data.dtaz.isin(sw2)]"
   ]
  },
  {
   "cell_type": "code",
   "execution_count": 75,
   "id": "6640c087",
   "metadata": {},
   "outputs": [
    {
     "name": "stderr",
     "output_type": "stream",
     "text": [
      "30346it [00:39, 762.66it/s]\n"
     ]
    }
   ],
   "source": [
    "# if trips go to west downtown:\n",
    "df1 = df[df.otaz.isin(sumo_w)|df.dtaz.isin(sumo_w)]\n",
    "convert1(sw2, nearsr99s, 5008, 5009, df=df1)"
   ]
  },
  {
   "cell_type": "code",
   "execution_count": 76,
   "id": "e3270c8f",
   "metadata": {},
   "outputs": [
    {
     "name": "stderr",
     "output_type": "stream",
     "text": [
      "6100it [00:08, 753.21it/s]\n"
     ]
    }
   ],
   "source": [
    "# if trips go to east downtown:\n",
    "df2 = df[df.otaz.isin(sumo_e)|df.dtaz.isin(sumo_e)]\n",
    "convert1(sw2, near_i5s, 5002, 5003, df=df2)"
   ]
  },
  {
   "cell_type": "markdown",
   "id": "0f2df42c",
   "metadata": {},
   "source": [
    "----"
   ]
  },
  {
   "cell_type": "code",
   "execution_count": 77,
   "id": "1ca89fc6",
   "metadata": {},
   "outputs": [
    {
     "data": {
      "text/html": [
       "<img src=\"regions/i5s11.png\" width=\"300\" height=\"1000\"/>"
      ],
      "text/plain": [
       "<IPython.core.display.Image object>"
      ]
     },
     "execution_count": 77,
     "metadata": {},
     "output_type": "execute_result"
    }
   ],
   "source": [
    "Image(url=\"regions/i5s11.png\", width=300, height=1000)"
   ]
  },
  {
   "cell_type": "code",
   "execution_count": 78,
   "id": "ebd5aeef",
   "metadata": {},
   "outputs": [
    {
     "name": "stderr",
     "output_type": "stream",
     "text": [
      "26281it [00:34, 764.28it/s]\n"
     ]
    }
   ],
   "source": [
    "i5s1 = read_regions('regions/i5s1.txt')\n",
    "convert1(i5s1, near_i5s, 5002, 5003)"
   ]
  },
  {
   "cell_type": "code",
   "execution_count": 79,
   "id": "36ec923f",
   "metadata": {},
   "outputs": [
    {
     "data": {
      "text/html": [
       "<img src=\"regions/i5s2.png\" width=\"300\" height=\"300\"/>"
      ],
      "text/plain": [
       "<IPython.core.display.Image object>"
      ]
     },
     "execution_count": 79,
     "metadata": {},
     "output_type": "execute_result"
    }
   ],
   "source": [
    "Image(url=\"regions/i5s2.png\", width=300, height=300)"
   ]
  },
  {
   "cell_type": "code",
   "execution_count": 80,
   "id": "0c90a997",
   "metadata": {
    "scrolled": true
   },
   "outputs": [
    {
     "name": "stderr",
     "output_type": "stream",
     "text": [
      "14231it [00:19, 717.92it/s]\n"
     ]
    }
   ],
   "source": [
    "i5s2 = read_regions('regions/i5s2.txt')\n",
    "convert1(i5s2, near_i5s, 5002, 5003)"
   ]
  },
  {
   "cell_type": "markdown",
   "id": "689d5118",
   "metadata": {},
   "source": [
    "-----"
   ]
  },
  {
   "cell_type": "code",
   "execution_count": 81,
   "id": "b55f27c7",
   "metadata": {},
   "outputs": [
    {
     "data": {
      "text/html": [
       "<img src=\"regions/southeast.png\" width=\"400\" height=\"300\"/>"
      ],
      "text/plain": [
       "<IPython.core.display.Image object>"
      ]
     },
     "execution_count": 81,
     "metadata": {},
     "output_type": "execute_result"
    }
   ],
   "source": [
    "Image(url=\"regions/southeast.png\", width=400, height=300)"
   ]
  },
  {
   "cell_type": "code",
   "execution_count": 82,
   "id": "265664c4",
   "metadata": {},
   "outputs": [],
   "source": [
    "se = read_regions('regions/southeast.txt')"
   ]
  },
  {
   "cell_type": "code",
   "execution_count": 83,
   "id": "bb3f697d",
   "metadata": {},
   "outputs": [
    {
     "name": "stderr",
     "output_type": "stream",
     "text": [
      "4056it [00:05, 719.91it/s]\n"
     ]
    }
   ],
   "source": [
    "# if trips go to east downtown:\n",
    "df = converted_data[converted_data.otaz.isin(se)|converted_data.dtaz.isin(se)]\n",
    "df = df[df.otaz.isin(sumo_e)|df.dtaz.isin(sumo_e)]\n",
    "convert1(se, [636], 636, 636, df=df)"
   ]
  },
  {
   "cell_type": "code",
   "execution_count": 84,
   "id": "e10d4ed8",
   "metadata": {},
   "outputs": [
    {
     "name": "stderr",
     "output_type": "stream",
     "text": [
      "5070it [00:06, 737.73it/s]\n"
     ]
    }
   ],
   "source": [
    "# if trips go to south downtown:\n",
    "df = converted_data[converted_data.otaz.isin(se)|converted_data.dtaz.isin(se)]\n",
    "df = df[df.otaz.isin(sumo_s)|df.dtaz.isin(sumo_s)]\n",
    "convert1(se, [650], 650, 650, df=df)"
   ]
  },
  {
   "cell_type": "code",
   "execution_count": 85,
   "id": "449c9866",
   "metadata": {},
   "outputs": [
    {
     "name": "stderr",
     "output_type": "stream",
     "text": [
      "6196it [00:08, 761.48it/s]\n"
     ]
    }
   ],
   "source": [
    "# if trips go to north downtown:\n",
    "df = converted_data[converted_data.otaz.isin(se)|converted_data.dtaz.isin(se)]\n",
    "df = df[df.otaz.isin(sumo_n)|df.dtaz.isin(sumo_n)]\n",
    "convert1(se, near_i5s, 5002, 5003, df=df)"
   ]
  },
  {
   "cell_type": "markdown",
   "id": "94a46e25",
   "metadata": {},
   "source": [
    "----"
   ]
  },
  {
   "cell_type": "code",
   "execution_count": 86,
   "id": "d7734822",
   "metadata": {},
   "outputs": [
    {
     "data": {
      "text/html": [
       "<img src=\"regions/east1.png\" width=\"400\" height=\"300\"/>"
      ],
      "text/plain": [
       "<IPython.core.display.Image object>"
      ]
     },
     "execution_count": 86,
     "metadata": {},
     "output_type": "execute_result"
    }
   ],
   "source": [
    "Image(url=\"regions/east1.png\", width=400, height=300)"
   ]
  },
  {
   "cell_type": "code",
   "execution_count": 87,
   "id": "96c28785",
   "metadata": {},
   "outputs": [
    {
     "name": "stderr",
     "output_type": "stream",
     "text": [
      "33580it [00:43, 763.49it/s]\n"
     ]
    }
   ],
   "source": [
    "east1 = read_regions('regions/east1.txt')\n",
    "boundary = read_regions('regions/east1_boundary.txt')\n",
    "# convert1(east1, boundary, boundary, boundary)\n",
    "convert1(east1, boundary, 7004, 7004)"
   ]
  },
  {
   "cell_type": "markdown",
   "id": "acd4cacd",
   "metadata": {},
   "source": [
    "----"
   ]
  },
  {
   "cell_type": "code",
   "execution_count": 88,
   "id": "51ca190e",
   "metadata": {},
   "outputs": [
    {
     "data": {
      "text/html": [
       "<img src=\"regions/east2.png\" width=\"400\" height=\"300\"/>"
      ],
      "text/plain": [
       "<IPython.core.display.Image object>"
      ]
     },
     "execution_count": 88,
     "metadata": {},
     "output_type": "execute_result"
    }
   ],
   "source": [
    "Image(url=\"regions/east2.png\", width=400, height=300)"
   ]
  },
  {
   "cell_type": "code",
   "execution_count": 89,
   "id": "69ac7441",
   "metadata": {},
   "outputs": [
    {
     "name": "stderr",
     "output_type": "stream",
     "text": [
      "18070it [00:23, 768.58it/s]\n"
     ]
    }
   ],
   "source": [
    "east2 = read_regions('regions/east2.txt')\n",
    "boundary = read_regions('regions/east2_boundary.txt')\n",
    "# convert1(east2, boundary, boundary, boundary)\n",
    "convert1(east2, boundary, 7005, 7005)"
   ]
  },
  {
   "cell_type": "markdown",
   "id": "7a6a0988",
   "metadata": {},
   "source": [
    "----"
   ]
  },
  {
   "cell_type": "code",
   "execution_count": 90,
   "id": "f5026d8f",
   "metadata": {},
   "outputs": [
    {
     "data": {
      "text/html": [
       "<img src=\"regions/north1.png\" width=\"400\" height=\"300\"/>"
      ],
      "text/plain": [
       "<IPython.core.display.Image object>"
      ]
     },
     "execution_count": 90,
     "metadata": {},
     "output_type": "execute_result"
    }
   ],
   "source": [
    "Image(url=\"regions/north1.png\", width=400, height=300)"
   ]
  },
  {
   "cell_type": "code",
   "execution_count": 91,
   "id": "eb916b55",
   "metadata": {},
   "outputs": [
    {
     "name": "stderr",
     "output_type": "stream",
     "text": [
      "8357it [00:10, 764.78it/s]\n"
     ]
    }
   ],
   "source": [
    "north1 = read_regions('regions/north1.txt')\n",
    "boundary = read_regions('regions/north1_boundary.txt')\n",
    "# convert1(north1, boundary, boundary, boundary)\n",
    "convert1(north1, boundary, 7001, 7001)"
   ]
  },
  {
   "cell_type": "markdown",
   "id": "1d8f9ffe",
   "metadata": {},
   "source": [
    "----"
   ]
  },
  {
   "cell_type": "markdown",
   "id": "99b1f2bf",
   "metadata": {},
   "source": [
    "----"
   ]
  },
  {
   "cell_type": "code",
   "execution_count": 92,
   "id": "0c292d3e",
   "metadata": {
    "scrolled": true
   },
   "outputs": [
    {
     "data": {
      "text/html": [
       "<img src=\"regions/north_west.png\" width=\"300\" height=\"300\"/>"
      ],
      "text/plain": [
       "<IPython.core.display.Image object>"
      ]
     },
     "execution_count": 92,
     "metadata": {},
     "output_type": "execute_result"
    }
   ],
   "source": [
    "Image(url=\"regions/north_west.png\", width=300, height=300)"
   ]
  },
  {
   "cell_type": "code",
   "execution_count": 128,
   "id": "c33e7322",
   "metadata": {},
   "outputs": [
    {
     "name": "stderr",
     "output_type": "stream",
     "text": [
      "0it [00:00, ?it/s]\n",
      "0it [00:00, ?it/s]\n"
     ]
    }
   ],
   "source": [
    "NW = read_regions('regions/north_west.txt')\n",
    "boundary = read_regions('regions/north3_boundary.txt')\n",
    "df = converted_data[converted_data.otaz.isin(NW)|converted_data.dtaz.isin(NW)]\n",
    "\n",
    "df1 = df[df.otaz.isin(sumo_n)|df.dtaz.isin(sumo_n)]\n",
    "# convert1(NW, boundary, boundary, boundary, df=df1)\n",
    "convert1(NW, boundary, 7003, 7003, df=df1)\n",
    "\n",
    "df2 = df[df.otaz.isin(sumo_s)|df.dtaz.isin(sumo_s)]\n",
    "convert1(NW, nearSR99n, 5010, 5011, df=df2)"
   ]
  },
  {
   "cell_type": "code",
   "execution_count": 95,
   "id": "40b3111f-9868-4d99-adb9-04335833bb99",
   "metadata": {},
   "outputs": [
    {
     "name": "stderr",
     "output_type": "stream",
     "text": [
      "0it [00:00, ?it/s]\n"
     ]
    }
   ],
   "source": [
    "convert1(NW, nearSR99n, 5010, 5011)"
   ]
  },
  {
   "cell_type": "code",
   "execution_count": 96,
   "id": "812e1249-9cfb-4635-89ad-8b7667ad311f",
   "metadata": {},
   "outputs": [
    {
     "data": {
      "text/html": [
       "<div>\n",
       "<style scoped>\n",
       "    .dataframe tbody tr th:only-of-type {\n",
       "        vertical-align: middle;\n",
       "    }\n",
       "\n",
       "    .dataframe tbody tr th {\n",
       "        vertical-align: top;\n",
       "    }\n",
       "\n",
       "    .dataframe thead th {\n",
       "        text-align: right;\n",
       "    }\n",
       "</style>\n",
       "<table border=\"1\" class=\"dataframe\">\n",
       "  <thead>\n",
       "    <tr style=\"text-align: right;\">\n",
       "      <th></th>\n",
       "      <th>otaz</th>\n",
       "      <th>dtaz</th>\n",
       "      <th>deptm</th>\n",
       "      <th>travtime</th>\n",
       "      <th>original_o</th>\n",
       "      <th>original_d</th>\n",
       "      <th>original_deptm</th>\n",
       "    </tr>\n",
       "  </thead>\n",
       "  <tbody>\n",
       "  </tbody>\n",
       "</table>\n",
       "</div>"
      ],
      "text/plain": [
       "Empty DataFrame\n",
       "Columns: [otaz, dtaz, deptm, travtime, original_o, original_d, original_deptm]\n",
       "Index: []"
      ]
     },
     "execution_count": 96,
     "metadata": {},
     "output_type": "execute_result"
    }
   ],
   "source": [
    "converted_data[converted_data.otaz.isin(NW)|converted_data.dtaz.isin(NW)]\n"
   ]
  },
  {
   "cell_type": "code",
   "execution_count": 129,
   "id": "1bf9ad85-f9da-42d8-8c34-88b915c2cab8",
   "metadata": {},
   "outputs": [
    {
     "data": {
      "text/html": [
       "<div>\n",
       "<style scoped>\n",
       "    .dataframe tbody tr th:only-of-type {\n",
       "        vertical-align: middle;\n",
       "    }\n",
       "\n",
       "    .dataframe tbody tr th {\n",
       "        vertical-align: top;\n",
       "    }\n",
       "\n",
       "    .dataframe thead th {\n",
       "        text-align: right;\n",
       "    }\n",
       "</style>\n",
       "<table border=\"1\" class=\"dataframe\">\n",
       "  <thead>\n",
       "    <tr style=\"text-align: right;\">\n",
       "      <th></th>\n",
       "      <th>otaz</th>\n",
       "      <th>dtaz</th>\n",
       "      <th>deptm</th>\n",
       "      <th>travtime</th>\n",
       "      <th>original_o</th>\n",
       "      <th>original_d</th>\n",
       "      <th>original_deptm</th>\n",
       "    </tr>\n",
       "  </thead>\n",
       "  <tbody>\n",
       "  </tbody>\n",
       "</table>\n",
       "</div>"
      ],
      "text/plain": [
       "Empty DataFrame\n",
       "Columns: [otaz, dtaz, deptm, travtime, original_o, original_d, original_deptm]\n",
       "Index: []"
      ]
     },
     "execution_count": 129,
     "metadata": {},
     "output_type": "execute_result"
    }
   ],
   "source": [
    "converted_data[converted_data.otaz.isin(NW)|converted_data.dtaz.isin(NW)]\n"
   ]
  },
  {
   "cell_type": "markdown",
   "id": "cf79e1fc",
   "metadata": {},
   "source": [
    "-------"
   ]
  },
  {
   "cell_type": "code",
   "execution_count": 99,
   "id": "2ef5c541",
   "metadata": {},
   "outputs": [
    {
     "data": {
      "text/html": [
       "<img src=\"regions/6001.png\" width=\"300\" height=\"300\"/>"
      ],
      "text/plain": [
       "<IPython.core.display.Image object>"
      ]
     },
     "execution_count": 99,
     "metadata": {},
     "output_type": "execute_result"
    }
   ],
   "source": [
    "Image(url=\"regions/6001.png\", width=300, height=300)"
   ]
  },
  {
   "cell_type": "code",
   "execution_count": 100,
   "id": "69a683ea",
   "metadata": {},
   "outputs": [],
   "source": [
    "to6001 = read_regions('regions/6001.txt')\n",
    "near6001 = read_regions('regions/near6001.txt')"
   ]
  },
  {
   "cell_type": "code",
   "execution_count": 101,
   "id": "dfc4d141",
   "metadata": {},
   "outputs": [
    {
     "name": "stderr",
     "output_type": "stream",
     "text": [
      "0it [00:00, ?it/s]\n",
      "15862it [00:21, 724.07it/s]\n"
     ]
    }
   ],
   "source": [
    "# df = converted_data[converted_data.otaz.isin(to6001)|converted_data.dtaz.isin(to6001)]\n",
    "\n",
    "# df1 = df[df.otaz.isin(sumo_n)|df.dtaz.isin(sumo_n)]\n",
    "# convert1(to6001, near6001, 6001, 6001, df=df1)\n",
    "\n",
    "# df2 = df[df.otaz.isin(sumo_s)|df.dtaz.isin(sumo_s)]\n",
    "# convert1(to6001, nearSR99n, 5010, 5011, df=df2)\n",
    "\n",
    "industrial=read_regions('regions/version2/industrial.txt')\n",
    "df = converted_data[converted_data.otaz.isin(to6001)|converted_data.dtaz.isin(to6001)]\n",
    "df1 = df[df.otaz.isin(industrial)|df.dtaz.isin(industrial)]\n",
    "convert1(to6001, nearSR99n, 5010, 5011, df=df2)\n",
    "\n",
    "convert1(to6001, near6001, 6001, 6001)"
   ]
  },
  {
   "cell_type": "markdown",
   "id": "87926d1d",
   "metadata": {},
   "source": [
    "----"
   ]
  },
  {
   "cell_type": "code",
   "execution_count": 102,
   "id": "0306fc7c",
   "metadata": {
    "scrolled": true
   },
   "outputs": [
    {
     "data": {
      "text/html": [
       "<img src=\"regions/south.png\" width=\"300\" height=\"300\"/>"
      ],
      "text/plain": [
       "<IPython.core.display.Image object>"
      ]
     },
     "execution_count": 102,
     "metadata": {},
     "output_type": "execute_result"
    }
   ],
   "source": [
    "Image(url=\"regions/south.png\", width=300, height=300)"
   ]
  },
  {
   "cell_type": "code",
   "execution_count": 103,
   "id": "110e6498",
   "metadata": {},
   "outputs": [
    {
     "name": "stderr",
     "output_type": "stream",
     "text": [
      "11355it [00:15, 734.22it/s]\n"
     ]
    }
   ],
   "source": [
    "south = read_regions('regions/south.txt')\n",
    "boundary = read_regions('regions/south_boundary.txt')\n",
    "# convert1(south, boundary, boundary, boundary)\n",
    "convert1(south, boundary, 7000, 7000)"
   ]
  },
  {
   "cell_type": "markdown",
   "id": "d0eb8062",
   "metadata": {},
   "source": [
    "-------"
   ]
  },
  {
   "cell_type": "markdown",
   "id": "879a9577",
   "metadata": {
    "jp-MarkdownHeadingCollapsed": true
   },
   "source": [
    "## TAZ conversion for trips passing through sumo_TAZs\n",
    "\n",
    "For this stage, we assume some scenarios, find related trips in out main trip dataframe, process them, and then add them to our existing trips"
   ]
  },
  {
   "cell_type": "code",
   "execution_count": 104,
   "id": "47358dc3",
   "metadata": {},
   "outputs": [],
   "source": [
    "def get_trips_in_between(src_df, taz_list1, taz_list2):\n",
    "# make sure taz_list1 and taz_list2 have no TAZ within sumo_TAZs. \n",
    "# In that case, some of the trips that were already processed in converted_data will be included\n",
    "    df = src_df[(src_df.otaz.isin(taz_list1) & src_df.dtaz.isin(taz_list2)) | \n",
    "                (src_df.otaz.isin(taz_list2) & src_df.dtaz.isin(taz_list1))]\n",
    "    return df"
   ]
  },
  {
   "cell_type": "code",
   "execution_count": 105,
   "id": "4db83739",
   "metadata": {},
   "outputs": [],
   "source": [
    "def convert2(df, zone1, new_z1, near_new_z1, zone2, new_z2, near_new_z2):\n",
    "    zone1offsets = get_intra_TAZ_traveltime(zone1, near_new_z1)\n",
    "    zone2offsets = get_intra_TAZ_traveltime(zone2, near_new_z2)\n",
    "    new_z1_in, new_z1_out = new_z1[0], new_z1[1]\n",
    "    new_z2_in, new_z2_out = new_z2[0], new_z2[1]\n",
    "    \n",
    "    print(f\"it'll take {len(df)} iterations.\")\n",
    "    for index, row in tqdm(df.iterrows()):\n",
    "        interval = int(row.deptm//15)\n",
    "        \n",
    "        if row.otaz in zone1 and row.dtaz in zone2:\n",
    "            row.otaz = get_random_TAZ(new_z1_in)\n",
    "            row.dtaz = get_random_TAZ(new_z2_out)\n",
    "            row.deptm += zone1offsets[interval]\n",
    "            \n",
    "        elif row.otaz in zone2 and row.dtaz in zone1:\n",
    "            row.otaz = get_random_TAZ(new_z2_in)\n",
    "            row.dtaz = get_random_TAZ(new_z1_out)\n",
    "            row.deptm += zone2offsets[interval]\n",
    "#         converted_data.loc[index, :] = row \n",
    "        df.loc[index, :] = row"
   ]
  },
  {
   "cell_type": "markdown",
   "id": "18a22791",
   "metadata": {},
   "source": [
    "-----"
   ]
  },
  {
   "cell_type": "code",
   "execution_count": 106,
   "id": "ef287cb4",
   "metadata": {},
   "outputs": [
    {
     "data": {
      "text/html": [
       "<img src=\"regions/scenarios.png\" width=\"900\" height=\"300\"/>"
      ],
      "text/plain": [
       "<IPython.core.display.Image object>"
      ]
     },
     "execution_count": 106,
     "metadata": {},
     "output_type": "execute_result"
    }
   ],
   "source": [
    "Image(url=\"regions/scenarios.png\", width=900, height=300)"
   ]
  },
  {
   "cell_type": "code",
   "execution_count": 107,
   "id": "6aae3df0",
   "metadata": {},
   "outputs": [
    {
     "name": "stdout",
     "output_type": "stream",
     "text": [
      "it'll take 1406 iterations.\n"
     ]
    },
    {
     "name": "stderr",
     "output_type": "stream",
     "text": [
      "1406it [00:00, 7048.82it/s]\n"
     ]
    }
   ],
   "source": [
    "#scenario 1:\n",
    "\n",
    "# out_of_sumo_data = get_trips_in_between(trip_data, zone1, zone2) \n",
    "out_of_sumo_data = get_trips_in_between(trip_data, i5n2, i5s1) \n",
    "# convert2(out_of_sumo_data, zone1, new_z1, near_new_z1, zone2, new_z2, near_new_z2)\n",
    "convert2(out_of_sumo_data, i5n2, [5000, 5001], near_i5n, i5s1, [5002, 5003], near_i5s)"
   ]
  },
  {
   "cell_type": "code",
   "execution_count": 108,
   "id": "a8b181c1",
   "metadata": {},
   "outputs": [],
   "source": [
    "def make_pseudo_trips(zone1, new_z1, near_new_z1, zone2, new_z2, near_new_z2):\n",
    "        df = get_trips_in_between(trip_data, zone1, zone2) \n",
    "        convert2(df, zone1, new_z1, near_new_z1, zone2, new_z2, near_new_z2)\n",
    "        return df"
   ]
  },
  {
   "cell_type": "code",
   "execution_count": 109,
   "id": "b21973d9",
   "metadata": {},
   "outputs": [
    {
     "name": "stdout",
     "output_type": "stream",
     "text": [
      "it'll take 2462 iterations.\n"
     ]
    },
    {
     "name": "stderr",
     "output_type": "stream",
     "text": [
      "2462it [00:00, 6678.09it/s]\n"
     ]
    }
   ],
   "source": [
    "# scenario 2\n",
    "# convert2(out_of_sumo_data, zone1, new_z1, near_new_z1, zone2, new_z2, near_new_z2)\n",
    "df = make_pseudo_trips(i5n2, [5000, 5001], near_i5n, sw2, [5002, 5003], near_i5s)\n",
    "out_of_sumo_data = pd.concat([out_of_sumo_data, df])\n"
   ]
  },
  {
   "cell_type": "code",
   "execution_count": 110,
   "id": "98d2a276",
   "metadata": {},
   "outputs": [
    {
     "name": "stdout",
     "output_type": "stream",
     "text": [
      "it'll take 1301 iterations.\n"
     ]
    },
    {
     "name": "stderr",
     "output_type": "stream",
     "text": [
      "1301it [00:00, 6053.08it/s]\n"
     ]
    }
   ],
   "source": [
    "# scenario 3\n",
    "east2_b = read_regions('regions/east2_boundary.txt')\n",
    "\n",
    "# convert2(out_of_sumo_data, zone1, new_z1, near_new_z1, zone2, new_z2, near_new_z2)\n",
    "# df = make_pseudo_trips(i5n2, [5000, 5001], near_i5n, east2, [east2_b, east2_b], east2_b)\n",
    "df = make_pseudo_trips(i5n2, [5000, 5001], near_i5n, east2, [7005, 7005], east2_b)\n",
    "out_of_sumo_data = pd.concat([out_of_sumo_data, df])"
   ]
  },
  {
   "cell_type": "code",
   "execution_count": 111,
   "id": "b214bde3",
   "metadata": {},
   "outputs": [
    {
     "name": "stdout",
     "output_type": "stream",
     "text": [
      "it'll take 2657 iterations.\n"
     ]
    },
    {
     "name": "stderr",
     "output_type": "stream",
     "text": [
      "2657it [00:00, 6773.72it/s]\n"
     ]
    }
   ],
   "source": [
    "# scenario 4\n",
    "east1_b = read_regions('regions/east1_boundary.txt')\n",
    "# convert2(out_of_sumo_data, zone1, new_z1, near_new_z1, zone2, new_z2, near_new_z2)\n",
    "# df = make_pseudo_trips(i5n2, [5000, 5001], near_i5n, east1, [east1_b, east1_b], east1_b)\n",
    "df = make_pseudo_trips(i5n2, [5000, 5001], near_i5n, east1, [7004, 7004], east1_b)\n",
    "out_of_sumo_data = pd.concat([out_of_sumo_data, df])"
   ]
  },
  {
   "cell_type": "code",
   "execution_count": 112,
   "id": "5c9df524",
   "metadata": {},
   "outputs": [
    {
     "name": "stdout",
     "output_type": "stream",
     "text": [
      "it'll take 2196 iterations.\n"
     ]
    },
    {
     "name": "stderr",
     "output_type": "stream",
     "text": [
      "2196it [00:00, 6656.79it/s]\n"
     ]
    }
   ],
   "source": [
    "# scenario 5\n",
    "# convert2(out_of_sumo_data, zone1, new_z1, near_new_z1, zone2, new_z2, near_new_z2)\n",
    "# df = make_pseudo_trips(i5s2, [5002, 5003], near_i5s, east1, [east1_b, east1_b], east1_b)\n",
    "df = make_pseudo_trips(i5s2, [5002, 5003], near_i5s, east1, [7004, 7004], east1_b)\n",
    "out_of_sumo_data = pd.concat([out_of_sumo_data, df])"
   ]
  },
  {
   "cell_type": "code",
   "execution_count": 113,
   "id": "ba174550",
   "metadata": {},
   "outputs": [
    {
     "name": "stdout",
     "output_type": "stream",
     "text": [
      "it'll take 1588 iterations.\n"
     ]
    },
    {
     "name": "stderr",
     "output_type": "stream",
     "text": [
      "1588it [00:00, 6493.03it/s]\n"
     ]
    }
   ],
   "source": [
    "# scenario 6\n",
    "north3_b = read_regions('regions/north3_boundary.txt')\n",
    "# convert2(out_of_sumo_data, zone1, new_z1, near_new_z1, zone2, new_z2, near_new_z2)\n",
    "# df = make_pseudo_trips(NW, [north3_b, north3_b], north3_b, east1, [east1_b, east1_b], east1_b)\n",
    "df = make_pseudo_trips(NW, [7003, 7003], north3_b, east1, [7004, 7004], east1_b)\n",
    "out_of_sumo_data = pd.concat([out_of_sumo_data, df])"
   ]
  },
  {
   "cell_type": "code",
   "execution_count": 114,
   "id": "c6ffe132",
   "metadata": {},
   "outputs": [
    {
     "name": "stdout",
     "output_type": "stream",
     "text": [
      "it'll take 944 iterations.\n"
     ]
    },
    {
     "name": "stderr",
     "output_type": "stream",
     "text": [
      "944it [00:00, 5837.49it/s]\n"
     ]
    }
   ],
   "source": [
    "# scenario 7\n",
    "north2_b = read_regions('regions/north2_boundary.txt')\n",
    "# convert2(out_of_sumo_data, zone1, new_z1, near_new_z1, zone2, new_z2, near_new_z2)\n",
    "# df = make_pseudo_trips(north2, [north2_b, north2_b], north2_b, east2, [east2_b, east2_b], east2_b)\n",
    "df = make_pseudo_trips(north2, [7002, 7002], north2_b, east2, [7005, 7005], east2_b)\n",
    "out_of_sumo_data = pd.concat([out_of_sumo_data, df])"
   ]
  },
  {
   "cell_type": "code",
   "execution_count": 115,
   "id": "2a5d9766",
   "metadata": {},
   "outputs": [
    {
     "name": "stdout",
     "output_type": "stream",
     "text": [
      "it'll take 851 iterations.\n"
     ]
    },
    {
     "name": "stderr",
     "output_type": "stream",
     "text": [
      "851it [00:00, 5785.42it/s]\n"
     ]
    }
   ],
   "source": [
    "# scenario 8\n",
    "# convert2(out_of_sumo_data, zone1, new_z1, near_new_z1, zone2, new_z2, near_new_z2)\n",
    "# df = make_pseudo_trips(NW, [north3_b, north3_b], north3_b, east2, [east2_b, east2_b], east2_b)\n",
    "df = make_pseudo_trips(NW, [7003, 7003], north3_b, east2, [7005, 7005], east2_b)\n",
    "out_of_sumo_data = pd.concat([out_of_sumo_data, df])"
   ]
  },
  {
   "cell_type": "code",
   "execution_count": 116,
   "id": "a6a89276",
   "metadata": {},
   "outputs": [
    {
     "name": "stdout",
     "output_type": "stream",
     "text": [
      "it'll take 1846 iterations.\n"
     ]
    },
    {
     "name": "stderr",
     "output_type": "stream",
     "text": [
      "1846it [00:00, 6378.37it/s]\n"
     ]
    }
   ],
   "source": [
    "# scenario 9\n",
    "# convert2(out_of_sumo_data, zone1, new_z1, near_new_z1, zone2, new_z2, near_new_z2)\n",
    "# df = make_pseudo_trips(i5s2, [5002, 5003], near_i5s, east2, [east2_b, east2_b], east2_b)\n",
    "df = make_pseudo_trips(i5s2, [5002, 5003], near_i5s, east2, [7005, 7005], east2_b)\n",
    "out_of_sumo_data = pd.concat([out_of_sumo_data, df])"
   ]
  },
  {
   "cell_type": "code",
   "execution_count": 117,
   "id": "b5c6dcc7",
   "metadata": {},
   "outputs": [
    {
     "name": "stdout",
     "output_type": "stream",
     "text": [
      "it'll take 1172 iterations.\n"
     ]
    },
    {
     "name": "stderr",
     "output_type": "stream",
     "text": [
      "1172it [00:00, 6671.97it/s]\n"
     ]
    }
   ],
   "source": [
    "# scenario 10\n",
    "south_b = read_regions('regions/south_boundary.txt')\n",
    "# convert2(out_of_sumo_data, zone1, new_z1, near_new_z1, zone2, new_z2, near_new_z2)\n",
    "# df = make_pseudo_trips(NW, [north3_b, north3_b], north3_b, south, [south_b, south_b], south_b)\n",
    "df = make_pseudo_trips(NW, [7003, 7003], north3_b, south, [7000, 7000], south_b)\n",
    "out_of_sumo_data = pd.concat([out_of_sumo_data, df])"
   ]
  },
  {
   "cell_type": "code",
   "execution_count": 118,
   "id": "ee6abac1",
   "metadata": {},
   "outputs": [
    {
     "name": "stdout",
     "output_type": "stream",
     "text": [
      "it'll take 624 iterations.\n"
     ]
    },
    {
     "name": "stderr",
     "output_type": "stream",
     "text": [
      "624it [00:00, 5792.90it/s]\n"
     ]
    }
   ],
   "source": [
    "# scenario 11\n",
    "# convert2(out_of_sumo_data, zone1, new_z1, near_new_z1, zone2, new_z2, near_new_z2)\n",
    "df = make_pseudo_trips(NW, [436, 436], north3_b, se, [[636, 650], [636, 650]], [636, 647, 648, 649, 650 ])\n",
    "out_of_sumo_data = pd.concat([out_of_sumo_data, df])"
   ]
  },
  {
   "cell_type": "code",
   "execution_count": 119,
   "id": "21e31bc4",
   "metadata": {},
   "outputs": [
    {
     "name": "stdout",
     "output_type": "stream",
     "text": [
      "it'll take 2238 iterations.\n"
     ]
    },
    {
     "name": "stderr",
     "output_type": "stream",
     "text": [
      "2238it [00:00, 6756.43it/s]\n"
     ]
    }
   ],
   "source": [
    "# scenario 12\n",
    "# convert2(out_of_sumo_data, zone1, new_z1, near_new_z1, zone2, new_z2, near_new_z2)\n",
    "# df = make_pseudo_trips(NW, [north3_b, north3_b], north3_b, sw1, [5008, 5009], nearsr99s)\n",
    "df = make_pseudo_trips(NW, [7003, 7003], north3_b, sw1, [5008, 5009], nearsr99s)\n",
    "out_of_sumo_data = pd.concat([out_of_sumo_data, df])"
   ]
  },
  {
   "cell_type": "code",
   "execution_count": 120,
   "id": "14860053",
   "metadata": {},
   "outputs": [
    {
     "name": "stdout",
     "output_type": "stream",
     "text": [
      "it'll take 9355 iterations.\n"
     ]
    },
    {
     "name": "stderr",
     "output_type": "stream",
     "text": [
      "9355it [00:01, 5696.04it/s]\n"
     ]
    }
   ],
   "source": [
    "# scenario 13\n",
    "# convert2(out_of_sumo_data, zone1, new_z1, near_new_z1, zone2, new_z2, near_new_z2)\n",
    "df = make_pseudo_trips((SR99n+to6001), [5010, 5011], nearSR99n,\n",
    "                       sw1, [5008, 5009], nearsr99s)\n",
    "out_of_sumo_data = pd.concat([out_of_sumo_data, df])"
   ]
  },
  {
   "cell_type": "code",
   "execution_count": 121,
   "id": "43673faa",
   "metadata": {},
   "outputs": [
    {
     "name": "stdout",
     "output_type": "stream",
     "text": [
      "it'll take 7321 iterations.\n"
     ]
    },
    {
     "name": "stderr",
     "output_type": "stream",
     "text": [
      "7321it [00:01, 5973.34it/s]\n"
     ]
    }
   ],
   "source": [
    "# scenario 14\n",
    "# convert2(out_of_sumo_data, zone1, new_z1, near_new_z1, zone2, new_z2, near_new_z2)\n",
    "df = make_pseudo_trips(i5n1, [5000, 5001], near_i5n,\n",
    "                       i5s1, [5002, 5003], near_i5s)\n",
    "out_of_sumo_data = pd.concat([out_of_sumo_data, df])"
   ]
  },
  {
   "cell_type": "code",
   "execution_count": 122,
   "id": "1580094d",
   "metadata": {},
   "outputs": [
    {
     "name": "stdout",
     "output_type": "stream",
     "text": [
      "it'll take 4856 iterations.\n"
     ]
    },
    {
     "name": "stderr",
     "output_type": "stream",
     "text": [
      "4856it [00:00, 6365.12it/s]\n"
     ]
    }
   ],
   "source": [
    "# scenario 15\n",
    "# convert2(out_of_sumo_data, zone1, new_z1, near_new_z1, zone2, new_z2, near_new_z2)\n",
    "# df = make_pseudo_trips(i5n1, [5000, 5001], near_i5n, south, [south_b, south_b], south_b)\n",
    "df = make_pseudo_trips(i5n1, [5000, 5001], near_i5n, \n",
    "                       south, [7000, 7000], south_b)\n",
    "out_of_sumo_data = pd.concat([out_of_sumo_data, df])"
   ]
  },
  {
   "cell_type": "code",
   "execution_count": 123,
   "id": "99492a6e",
   "metadata": {},
   "outputs": [
    {
     "name": "stdout",
     "output_type": "stream",
     "text": [
      "it'll take 14977 iterations.\n"
     ]
    },
    {
     "name": "stderr",
     "output_type": "stream",
     "text": [
      "14977it [00:02, 5856.74it/s]\n"
     ]
    }
   ],
   "source": [
    "# scenario 18\n",
    "# convert2(out_of_sumo_data, zone1, new_z1, near_new_z1, zone2, new_z2, near_new_z2)\n",
    "df = make_pseudo_trips(sw2, [5008, 5009], nearsr99s,\n",
    "                       (SR99n+to6001), [5010, 5011], nearSR99n)\n",
    "out_of_sumo_data = pd.concat([out_of_sumo_data, df])"
   ]
  },
  {
   "cell_type": "code",
   "execution_count": 124,
   "id": "35d3ea35",
   "metadata": {},
   "outputs": [
    {
     "name": "stdout",
     "output_type": "stream",
     "text": [
      "it'll take 7006 iterations.\n"
     ]
    },
    {
     "name": "stderr",
     "output_type": "stream",
     "text": [
      "7006it [00:01, 6018.20it/s]\n"
     ]
    }
   ],
   "source": [
    "# scenario 19\n",
    "# convert2(out_of_sumo_data, zone1, new_z1, near_new_z1, zone2, new_z2, near_new_z2)\n",
    "# df = make_pseudo_trips(south, [south_b, south_b], south_b,\n",
    "#                        (SR99n+to6001), [5010, 5011], nearSR99n)\n",
    "df = make_pseudo_trips(south, [7000, 7000], south_b,\n",
    "                       (SR99n+to6001), [5010, 5011], nearSR99n)\n",
    "out_of_sumo_data = pd.concat([out_of_sumo_data, df])"
   ]
  },
  {
   "cell_type": "code",
   "execution_count": 125,
   "id": "da7ba6d1",
   "metadata": {},
   "outputs": [
    {
     "name": "stdout",
     "output_type": "stream",
     "text": [
      "it'll take 388 iterations.\n"
     ]
    },
    {
     "name": "stderr",
     "output_type": "stream",
     "text": [
      "388it [00:00, 5919.53it/s]\n"
     ]
    }
   ],
   "source": [
    "# scenario 20\n",
    "north1_b = read_regions('regions/north1_boundary.txt')\n",
    "# convert2(out_of_sumo_data, zone1, new_z1, near_new_z1, zone2, new_z2, near_new_z2)\n",
    "# df = make_pseudo_trips(south, [south_b, south_b], south_b,\n",
    "#                        north1, [5000, 5001], near_i5n)\n",
    "df = make_pseudo_trips(south, [7000, 7000], south_b,\n",
    "                       north1, [5000, 5001], near_i5n)\n",
    "out_of_sumo_data = pd.concat([out_of_sumo_data, df])"
   ]
  },
  {
   "cell_type": "code",
   "execution_count": 126,
   "id": "08ecea6d",
   "metadata": {},
   "outputs": [
    {
     "data": {
      "text/html": [
       "<div>\n",
       "<style scoped>\n",
       "    .dataframe tbody tr th:only-of-type {\n",
       "        vertical-align: middle;\n",
       "    }\n",
       "\n",
       "    .dataframe tbody tr th {\n",
       "        vertical-align: top;\n",
       "    }\n",
       "\n",
       "    .dataframe thead th {\n",
       "        text-align: right;\n",
       "    }\n",
       "</style>\n",
       "<table border=\"1\" class=\"dataframe\">\n",
       "  <thead>\n",
       "    <tr style=\"text-align: right;\">\n",
       "      <th></th>\n",
       "      <th>otaz</th>\n",
       "      <th>dtaz</th>\n",
       "      <th>deptm</th>\n",
       "      <th>travtime</th>\n",
       "      <th>original_o</th>\n",
       "      <th>original_d</th>\n",
       "      <th>original_deptm</th>\n",
       "    </tr>\n",
       "  </thead>\n",
       "  <tbody>\n",
       "    <tr>\n",
       "      <th>24739</th>\n",
       "      <td>5000</td>\n",
       "      <td>5003</td>\n",
       "      <td>490</td>\n",
       "      <td>28</td>\n",
       "      <td>8</td>\n",
       "      <td>708</td>\n",
       "      <td>464</td>\n",
       "    </tr>\n",
       "    <tr>\n",
       "      <th>24740</th>\n",
       "      <td>5000</td>\n",
       "      <td>5003</td>\n",
       "      <td>506</td>\n",
       "      <td>30</td>\n",
       "      <td>8</td>\n",
       "      <td>709</td>\n",
       "      <td>478</td>\n",
       "    </tr>\n",
       "    <tr>\n",
       "      <th>24741</th>\n",
       "      <td>5000</td>\n",
       "      <td>5003</td>\n",
       "      <td>529</td>\n",
       "      <td>30</td>\n",
       "      <td>8</td>\n",
       "      <td>709</td>\n",
       "      <td>503</td>\n",
       "    </tr>\n",
       "    <tr>\n",
       "      <th>24742</th>\n",
       "      <td>5000</td>\n",
       "      <td>5003</td>\n",
       "      <td>887</td>\n",
       "      <td>24</td>\n",
       "      <td>8</td>\n",
       "      <td>711</td>\n",
       "      <td>869</td>\n",
       "    </tr>\n",
       "    <tr>\n",
       "      <th>24745</th>\n",
       "      <td>5000</td>\n",
       "      <td>5003</td>\n",
       "      <td>1001</td>\n",
       "      <td>36</td>\n",
       "      <td>8</td>\n",
       "      <td>718</td>\n",
       "      <td>977</td>\n",
       "    </tr>\n",
       "    <tr>\n",
       "      <th>...</th>\n",
       "      <td>...</td>\n",
       "      <td>...</td>\n",
       "      <td>...</td>\n",
       "      <td>...</td>\n",
       "      <td>...</td>\n",
       "      <td>...</td>\n",
       "      <td>...</td>\n",
       "    </tr>\n",
       "    <tr>\n",
       "      <th>1539539</th>\n",
       "      <td>7000</td>\n",
       "      <td>5001</td>\n",
       "      <td>626</td>\n",
       "      <td>18</td>\n",
       "      <td>726</td>\n",
       "      <td>408</td>\n",
       "      <td>618</td>\n",
       "    </tr>\n",
       "    <tr>\n",
       "      <th>1540589</th>\n",
       "      <td>7000</td>\n",
       "      <td>5001</td>\n",
       "      <td>1118</td>\n",
       "      <td>22</td>\n",
       "      <td>727</td>\n",
       "      <td>365</td>\n",
       "      <td>1109</td>\n",
       "    </tr>\n",
       "    <tr>\n",
       "      <th>1540590</th>\n",
       "      <td>7000</td>\n",
       "      <td>5001</td>\n",
       "      <td>910</td>\n",
       "      <td>22</td>\n",
       "      <td>727</td>\n",
       "      <td>367</td>\n",
       "      <td>902</td>\n",
       "    </tr>\n",
       "    <tr>\n",
       "      <th>1541385</th>\n",
       "      <td>7000</td>\n",
       "      <td>5001</td>\n",
       "      <td>991</td>\n",
       "      <td>24</td>\n",
       "      <td>728</td>\n",
       "      <td>365</td>\n",
       "      <td>983</td>\n",
       "    </tr>\n",
       "    <tr>\n",
       "      <th>1541386</th>\n",
       "      <td>7000</td>\n",
       "      <td>5001</td>\n",
       "      <td>759</td>\n",
       "      <td>20</td>\n",
       "      <td>728</td>\n",
       "      <td>367</td>\n",
       "      <td>750</td>\n",
       "    </tr>\n",
       "  </tbody>\n",
       "</table>\n",
       "<p>63188 rows × 7 columns</p>\n",
       "</div>"
      ],
      "text/plain": [
       "         otaz  dtaz  deptm  travtime  original_o  original_d  original_deptm\n",
       "24739    5000  5003    490        28           8         708             464\n",
       "24740    5000  5003    506        30           8         709             478\n",
       "24741    5000  5003    529        30           8         709             503\n",
       "24742    5000  5003    887        24           8         711             869\n",
       "24745    5000  5003   1001        36           8         718             977\n",
       "...       ...   ...    ...       ...         ...         ...             ...\n",
       "1539539  7000  5001    626        18         726         408             618\n",
       "1540589  7000  5001   1118        22         727         365            1109\n",
       "1540590  7000  5001    910        22         727         367             902\n",
       "1541385  7000  5001    991        24         728         365             983\n",
       "1541386  7000  5001    759        20         728         367             750\n",
       "\n",
       "[63188 rows x 7 columns]"
      ]
     },
     "execution_count": 126,
     "metadata": {},
     "output_type": "execute_result"
    }
   ],
   "source": [
    "out_of_sumo_data"
   ]
  },
  {
   "cell_type": "code",
   "execution_count": 130,
   "id": "6e17db8d",
   "metadata": {},
   "outputs": [
    {
     "data": {
      "text/plain": [
       "608908"
      ]
     },
     "execution_count": 130,
     "metadata": {},
     "output_type": "execute_result"
    }
   ],
   "source": [
    "len(converted_data)"
   ]
  },
  {
   "cell_type": "code",
   "execution_count": 131,
   "id": "3e885e47",
   "metadata": {},
   "outputs": [],
   "source": [
    "df = pd.concat([converted_data, out_of_sumo_data])"
   ]
  },
  {
   "cell_type": "code",
   "execution_count": 132,
   "id": "b3d67e66",
   "metadata": {},
   "outputs": [
    {
     "data": {
      "text/plain": [
       "672096"
      ]
     },
     "execution_count": 132,
     "metadata": {},
     "output_type": "execute_result"
    }
   ],
   "source": [
    "len(df)"
   ]
  },
  {
   "cell_type": "code",
   "execution_count": 135,
   "id": "a1dc93b3",
   "metadata": {},
   "outputs": [
    {
     "data": {
      "text/html": [
       "<div>\n",
       "<style scoped>\n",
       "    .dataframe tbody tr th:only-of-type {\n",
       "        vertical-align: middle;\n",
       "    }\n",
       "\n",
       "    .dataframe tbody tr th {\n",
       "        vertical-align: top;\n",
       "    }\n",
       "\n",
       "    .dataframe thead th {\n",
       "        text-align: right;\n",
       "    }\n",
       "</style>\n",
       "<table border=\"1\" class=\"dataframe\">\n",
       "  <thead>\n",
       "    <tr style=\"text-align: right;\">\n",
       "      <th></th>\n",
       "      <th>otaz</th>\n",
       "      <th>dtaz</th>\n",
       "      <th>deptm</th>\n",
       "      <th>travtime</th>\n",
       "      <th>original_o</th>\n",
       "      <th>original_d</th>\n",
       "      <th>original_deptm</th>\n",
       "    </tr>\n",
       "  </thead>\n",
       "  <tbody>\n",
       "  </tbody>\n",
       "</table>\n",
       "</div>"
      ],
      "text/plain": [
       "Empty DataFrame\n",
       "Columns: [otaz, dtaz, deptm, travtime, original_o, original_d, original_deptm]\n",
       "Index: []"
      ]
     },
     "execution_count": 135,
     "metadata": {},
     "output_type": "execute_result"
    }
   ],
   "source": [
    "df[df.otaz == 402]"
   ]
  },
  {
   "cell_type": "markdown",
   "id": "14601081",
   "metadata": {},
   "source": [
    "# making CSV file"
   ]
  },
  {
   "cell_type": "code",
   "execution_count": 136,
   "id": "27fd3b2e",
   "metadata": {},
   "outputs": [],
   "source": [
    "df.to_csv('psrc_vehicle_trips_converted_taz.csv', index=False)"
   ]
  },
  {
   "cell_type": "code",
   "execution_count": null,
   "id": "b39c4c72",
   "metadata": {},
   "outputs": [],
   "source": []
  }
 ],
 "metadata": {
  "kernelspec": {
   "display_name": "Python 3 (ipykernel)",
   "language": "python",
   "name": "python3"
  },
  "language_info": {
   "codemirror_mode": {
    "name": "ipython",
    "version": 3
   },
   "file_extension": ".py",
   "mimetype": "text/x-python",
   "name": "python",
   "nbconvert_exporter": "python",
   "pygments_lexer": "ipython3",
   "version": "3.11.5"
  }
 },
 "nbformat": 4,
 "nbformat_minor": 5
}
