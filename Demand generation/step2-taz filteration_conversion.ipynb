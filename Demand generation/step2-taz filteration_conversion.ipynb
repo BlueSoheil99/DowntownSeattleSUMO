{
 "cells": [
  {
   "cell_type": "code",
   "execution_count": 111,
   "id": "08350725",
   "metadata": {},
   "outputs": [],
   "source": [
    "%matplotlib notebook\n",
    "import geopandas as gpd\n",
    "import pandas as pd\n",
    "import matplotlib.pyplot as plt\n",
    "from tqdm import tqdm\n",
    "import contextily as cx\n",
    "import xml.etree.ElementTree as ET\n",
    "from shapely import wkt\n",
    "from IPython.display import Image\n",
    "import random\n"
   ]
  },
  {
   "cell_type": "code",
   "execution_count": 6,
   "id": "6b470158",
   "metadata": {
    "collapsed": true
   },
   "outputs": [
    {
     "data": {
      "text/plain": [
       "COUNTY_NM  dest_TAZ \n",
       "King       King         5040054\n",
       "           Kitsap          4615\n",
       "           Pierce        190763\n",
       "           Snohomish     269506\n",
       "Kitsap     King            4439\n",
       "           Kitsap        583266\n",
       "           Pierce         26688\n",
       "           Snohomish        487\n",
       "Pierce     King          190369\n",
       "           Kitsap         26752\n",
       "           Pierce       1711413\n",
       "           Snohomish       1040\n",
       "Snohomish  King          269150\n",
       "           Kitsap           496\n",
       "           Pierce          1072\n",
       "           Snohomish    1590653\n",
       "Name: demand, dtype: int64"
      ]
     },
     "execution_count": 6,
     "metadata": {},
     "output_type": "execute_result"
    }
   ],
   "source": [
    "# trip distribution by numbers\n",
    "# merged_data.groupby(by=['COUNTY_NM', 'dest_TAZ'])['demand'].agg('sum')"
   ]
  },
  {
   "cell_type": "code",
   "execution_count": 7,
   "id": "2a4daa5a",
   "metadata": {
    "collapsed": true
   },
   "outputs": [
    {
     "data": {
      "text/plain": [
       "COUNTY_NM  dest_TAZ \n",
       "King       King         50.854349\n",
       "           Kitsap        0.046566\n",
       "           Pierce        1.924806\n",
       "           Snohomish     2.719326\n",
       "Kitsap     King          0.044790\n",
       "           Kitsap        5.885178\n",
       "           Pierce        0.269283\n",
       "           Snohomish     0.004914\n",
       "Pierce     King          1.920831\n",
       "           Kitsap        0.269929\n",
       "           Pierce       17.268226\n",
       "           Snohomish     0.010494\n",
       "Snohomish  King          2.715734\n",
       "           Kitsap        0.005005\n",
       "           Pierce        0.010817\n",
       "           Snohomish    16.049753\n",
       "Name: demand, dtype: float64"
      ]
     },
     "execution_count": 7,
     "metadata": {},
     "output_type": "execute_result"
    }
   ],
   "source": [
    "# trip distribution by percentages\n",
    "# merged_data.groupby(by=['COUNTY_NM', 'dest_TAZ'])['demand'].agg('sum')/merged_data.demand.sum() *100"
   ]
  },
  {
   "cell_type": "markdown",
   "id": "3f6b4ed7",
   "metadata": {},
   "source": [
    "1- kitsap-kitsap/pierce trips are not relevant to king county, and percent of trips between king/snohomish and kitsap is 0.046566+ 0.044790+0.004914+0.005005 = 0.01 % \n",
    "- therefore we fully eliminate trips to/from kitsap \n",
    "\n",
    "2- snohomish-pierce and pierce-snohomish that pass trough king county are negligible (0.010817+0.010494 = 0.02%)\n",
    "- we eliminate trips between Snohomish and Pierce county\n",
    "\n",
    "3- trips within pierce and snohomish are not relevant to king county\n",
    "- we eliminate trips within Snohomish and Pierce county\n",
    "\n",
    "### therefore, we only keep trips 1- within king county, 2- between king and pierce, and 3- between king and Snohomish\n",
    "\n"
   ]
  },
  {
   "cell_type": "markdown",
   "id": "9d3f7043",
   "metadata": {},
   "source": [
    "## For Pierce and Snohomish, \n",
    "it seems that majority of trips take place either between pierce and south of downtown OR snohomish and north of downtown, so what we do is keeping only the trips between snohomish/pierce and sumo TAZs"
   ]
  },
  {
   "cell_type": "markdown",
   "id": "8bdef893",
   "metadata": {},
   "source": [
    "### final stats before further filterations\n",
    "\n"
   ]
  },
  {
   "cell_type": "code",
   "execution_count": 101,
   "id": "c7dbd040",
   "metadata": {},
   "outputs": [
    {
     "data": {
      "text/plain": [
       "COUNTY_NM  dest_TAZ \n",
       "King       King         5040054\n",
       "           Pierce        190763\n",
       "           Snohomish     269506\n",
       "Pierce     King            7352\n",
       "Snohomish  King           18304\n",
       "Name: demand, dtype: int64"
      ]
     },
     "execution_count": 101,
     "metadata": {},
     "output_type": "execute_result"
    }
   ],
   "source": [
    "# filtered_data.groupby(by=['COUNTY_NM', 'dest_TAZ'])['demand'].agg('sum')"
   ]
  },
  {
   "cell_type": "code",
   "execution_count": 10,
   "id": "2334426a",
   "metadata": {},
   "outputs": [
    {
     "data": {
      "text/plain": [
       "COUNTY_NM  dest_TAZ \n",
       "King       King         84.566906\n",
       "           Pierce        3.200806\n",
       "           Snohomish     4.522033\n",
       "Pierce     King          3.194195\n",
       "Snohomish  King          4.516059\n",
       "Name: demand, dtype: float64"
      ]
     },
     "execution_count": 10,
     "metadata": {},
     "output_type": "execute_result"
    }
   ],
   "source": [
    "# filtered_data.groupby(by=['COUNTY_NM', 'dest_TAZ'])['demand'].agg('sum')/filtered_data.demand.sum() *100"
   ]
  },
  {
   "cell_type": "markdown",
   "id": "5b9a5a7e",
   "metadata": {},
   "source": [
    "### Selecting TAZs and working with them in this notebook:\n",
    "we run the code below in qgis python plugin:\n",
    "\n",
    "<pre>\n",
    "dir = '/Users/stlp/Library/CloudStorage/GoogleDrive-soheil99@uw.edu/My Drive/reasearch codes/SUMO/MatSumo-main/SUMO/demand generation/regions'\n",
    "os.chdir(dir)\n",
    "def get_selected_TAZs(address):\n",
    "    layer = QgsProject.instance().mapLayersByName(\"taz2010\")[0]\n",
    "    selected_features = layer.selectedFeatures()\n",
    "    attribute_list = [feature['TAZ'] for feature in selected_features]\n",
    "    with open(address, 'w') as f:\n",
    "        f.write(str(attribute_list))\n",
    "        f.close()\n",
    "</pre>\n",
    "we select some regions in taz2010.shp and then use the command above like: `get_selected_TAZ('/1.txt')`\n",
    "and read selected regions in qgis here using the function below:"
   ]
  },
  {
   "cell_type": "code",
   "execution_count": 112,
   "id": "c0b54a37",
   "metadata": {},
   "outputs": [],
   "source": [
    "def _read_region(address):\n",
    "    with open(address, 'r') as f:\n",
    "        content = f.read()\n",
    "        data_list = eval(content)\n",
    "    return data_list\n",
    "\n",
    "def read_regions(address):\n",
    "    if type(address)==list:\n",
    "        outputs = []\n",
    "        for adrs in address:\n",
    "            outputs.append(_read_region(adrs))\n",
    "        return outputs\n",
    "    else:\n",
    "        return _read_region(address)\n",
    "            \n",
    "#     with open(address, 'r') as f:\n",
    "#         content = f.read()\n",
    "#         data_list = eval(content)\n",
    "#     return data_list"
   ]
  },
  {
   "cell_type": "markdown",
   "id": "7524fdcf",
   "metadata": {},
   "source": [
    "# Conversion algorithm\n",
    "So far, I was trying to eliminate useless trips. There are some trips that we ARE going to use: trips with sumo_TAZs in one end (without over-3700 TAZs or kitsap TAZs)\n",
    "\n",
    "I think the best way to deal with these trips is by starting with trips involving sumo_TAZs and then gradually add different scenarios in which vehicles will pass through sumo_TAZs.\n"
   ]
  },
  {
   "cell_type": "code",
   "execution_count": 113,
   "id": "b3f953cb",
   "metadata": {},
   "outputs": [],
   "source": [
    "# Load shapefiles\n",
    "taz_data = gpd.read_file('taz2010.shp')\n",
    "\n",
    "# Load CSV file\n",
    "trip_data = pd.read_csv(\"psrc_vehicle_trips.csv\")\n",
    "\n",
    "# load sumo tazs\n",
    "tree = ET.parse('Taz_with_pseudo_link.add.xml')\n",
    "root = tree.getroot()\n",
    "sumo_taz = []\n",
    "for taz in root.findall('taz'):\n",
    "    tazid = taz.get('id')\n",
    "    if tazid != 'taz_13':\n",
    "        sumo_taz.append(int(tazid))"
   ]
  },
  {
   "cell_type": "code",
   "execution_count": 114,
   "id": "0db85394",
   "metadata": {},
   "outputs": [],
   "source": [
    "# we obtain list of TAZs for each of counties so that we can use them during filtering single trips dataframe\n",
    "king = list(taz_data[taz_data['COUNTY_NM']=='King'].TAZ.values)\n",
    "pierce = list(taz_data[taz_data['COUNTY_NM']=='Pierce'].TAZ.values)\n",
    "kitsap = list(taz_data[taz_data['COUNTY_NM']=='Kitsap'].TAZ.values)\n",
    "snohomish = list(taz_data[taz_data['COUNTY_NM']=='Snohomish'].TAZ.values)"
   ]
  },
  {
   "cell_type": "code",
   "execution_count": 115,
   "id": "25157bd6",
   "metadata": {},
   "outputs": [
    {
     "data": {
      "text/plain": [
       "9985425"
      ]
     },
     "execution_count": 115,
     "metadata": {},
     "output_type": "execute_result"
    }
   ],
   "source": [
    "len(trip_data)"
   ]
  },
  {
   "cell_type": "markdown",
   "id": "8358e217",
   "metadata": {},
   "source": [
    "Eliminate over-3700s, Kitsap, and port trips"
   ]
  },
  {
   "cell_type": "code",
   "execution_count": 116,
   "id": "544f088b",
   "metadata": {},
   "outputs": [
    {
     "data": {
      "text/plain": [
       "9250192"
      ]
     },
     "execution_count": 116,
     "metadata": {},
     "output_type": "execute_result"
    }
   ],
   "source": [
    "trip_data = trip_data[~(trip_data.otaz.isin(kitsap)|trip_data.dtaz.isin(kitsap))]\n",
    "trip_data = trip_data[~((trip_data.otaz>3700)|(trip_data.dtaz>3700))]\n",
    "ports = [444, 445, 449, 478]\n",
    "trip_data = trip_data[~(trip_data.otaz.isin(ports)|trip_data.dtaz.isin(ports))]\n",
    "len(trip_data)"
   ]
  },
  {
   "cell_type": "markdown",
   "id": "72986f79",
   "metadata": {},
   "source": [
    "## TAZ conversion for sumo_TAZs included trips"
   ]
  },
  {
   "cell_type": "code",
   "execution_count": 117,
   "id": "5c6746ac",
   "metadata": {},
   "outputs": [],
   "source": [
    "trip_data['original_o'] = trip_data.otaz\n",
    "trip_data['original_d'] = trip_data.dtaz\n",
    "trip_data['original_deptm'] = trip_data.deptm\n",
    "# adding more columns will increase computation time in next steps"
   ]
  },
  {
   "cell_type": "code",
   "execution_count": 214,
   "id": "2f8c0631",
   "metadata": {},
   "outputs": [
    {
     "data": {
      "text/plain": [
       "608908"
      ]
     },
     "execution_count": 214,
     "metadata": {},
     "output_type": "execute_result"
    }
   ],
   "source": [
    "converted_data = trip_data[trip_data.otaz.isin(sumo_taz) | trip_data.dtaz.isin(sumo_taz)]\n",
    "len(converted_data)"
   ]
  },
  {
   "cell_type": "code",
   "execution_count": 215,
   "id": "755403ab",
   "metadata": {},
   "outputs": [
    {
     "name": "stdout",
     "output_type": "stream",
     "text": [
      "         otaz  dtaz  deptm  travtime  original_o  original_d  original_deptm\n",
      "126         1     5    482         5           1           5             482\n",
      "127         1     5    482         6           1           5             482\n",
      "1244        2     1   1107         2           2           1            1107\n",
      "1245        2     1   1107         5           2           1            1107\n",
      "1290        2     2   1018         4           2           2            1018\n",
      "...       ...   ...    ...       ...         ...         ...             ...\n",
      "9331718  3466  3466   1013         3        3466        3466            1013\n",
      "9331724  3466  3466   1040        22        3466        3466            1040\n",
      "9331725  3466  3466   1040         1        3466        3466            1040\n",
      "9331739  3466  3466   1123        52        3466        3466            1123\n",
      "9331740  3466  3466   1123        16        3466        3466            1123\n",
      "\n",
      "[567030 rows x 7 columns]\n"
     ]
    }
   ],
   "source": [
    "duplicate_rows = trip_data[trip_data.duplicated(subset=['otaz', 'dtaz', 'deptm'], keep=False)]\n",
    "print(duplicate_rows)"
   ]
  },
  {
   "cell_type": "markdown",
   "id": "e73df51b",
   "metadata": {},
   "source": [
    "### for Pierce and Snohomish trips\n",
    "Based on map of highways, we can assign pierce to I5-south (5002, 5003) and snohomish to I5-north (5000, 5001).  It is not exact and there could be many many trips passing through bellevue instead of I-5."
   ]
  },
  {
   "cell_type": "code",
   "execution_count": 216,
   "id": "f4f0d5fe",
   "metadata": {},
   "outputs": [],
   "source": [
    "# interval = 15\n",
    "def get_intra_TAZ_traveltime(o_list, d_list, interval=15, exact_time = None):\n",
    "    if exact_time is None:\n",
    "        trips = trip_data[trip_data.otaz.isin(o_list) & trip_data.dtaz.isin(d_list)]\n",
    "        average = round(trips.travtime.mean())\n",
    "        time_offsets = list()\n",
    "        for start in range(0,1440, interval):\n",
    "            end = start+interval\n",
    "            interval_trips = trips[trips.deptm.isin(range(start, end))]\n",
    "            average_time = interval_trips.travtime.mean()\n",
    "            if pd.isna(average_time):\n",
    "                time_offsets.append(average)\n",
    "            else:\n",
    "                time_offsets.append(round(average_time))\n",
    "        return time_offsets\n",
    "    else:\n",
    "        trips = trip_data[trip_data.otaz.isin(o_list) & \n",
    "                          trip_data.dtaz.isin(d_list) &\n",
    "                          trip_data.deptm.isin(range(int(exact_time-interval/2), int(exact_time+interval/2)+1))]\n",
    "\n",
    "        average = trips.travtime.mean()\n",
    "        return average"
   ]
  },
  {
   "cell_type": "code",
   "execution_count": 217,
   "id": "9478717d",
   "metadata": {},
   "outputs": [],
   "source": [
    "def get_random_TAZ(taz_list):\n",
    "    if type(taz_list)==list:\n",
    "        return random.choice(taz_list)\n",
    "    else:\n",
    "        return taz_list"
   ]
  },
  {
   "cell_type": "code",
   "execution_count": 218,
   "id": "56d5e7e1",
   "metadata": {},
   "outputs": [],
   "source": [
    "def convert1(invalid_TAZs, near_pseudo_TAZs, pseudo_taz_in, pseudo_taz_out, df=None):\n",
    "    if df is None:\n",
    "            df = converted_data[converted_data.otaz.isin(invalid_TAZs)|converted_data.dtaz.isin(invalid_TAZs)]\n",
    "    invalid_to_near_tt = get_intra_TAZ_traveltime(invalid_TAZs, near_pseudo_TAZs)\n",
    "    print(f\"it'll take {len(df)} iterations.\")\n",
    "    for index, row in tqdm(df.iterrows()):\n",
    "        interval = int(row.deptm//15)\n",
    "        if row.otaz in invalid_TAZs:\n",
    "            row.otaz = get_random_TAZ(pseudo_taz_in)\n",
    "            row.deptm += invalid_to_near_tt[interval]\n",
    "        elif row.dtaz in invalid_TAZs:\n",
    "            row.dtaz = get_random_TAZ(pseudo_taz_out)\n",
    "        converted_data.loc[index, :] = row "
   ]
  },
  {
   "cell_type": "code",
   "execution_count": 219,
   "id": "1491353f",
   "metadata": {},
   "outputs": [],
   "source": [
    "sumo_s = read_regions('regions/sumo_south.txt')\n",
    "sumo_n = [taz for taz in sumo_taz if taz not in sumo_s]\n",
    "sumo_e = read_regions('regions/sumo_east.txt') \n",
    "sumo_w = [taz for taz in sumo_taz if taz not in sumo_e]\n",
    "near_i90 = read_regions('regions/near_i90.txt')"
   ]
  },
  {
   "cell_type": "code",
   "execution_count": 220,
   "id": "7eb8b881",
   "metadata": {},
   "outputs": [
    {
     "data": {
      "text/html": [
       "<img src=\"regions/i5.png\" width=\"300\" height=\"300\"/>"
      ],
      "text/plain": [
       "<IPython.core.display.Image object>"
      ]
     },
     "execution_count": 220,
     "metadata": {},
     "output_type": "execute_result"
    }
   ],
   "source": [
    "Image(url=\"regions/i5.png\", width=300, height=300)"
   ]
  },
  {
   "cell_type": "code",
   "execution_count": 221,
   "id": "033e1f74",
   "metadata": {},
   "outputs": [],
   "source": [
    "near_i5n=[381, 382, 406, 407, 428, 430]\n",
    "near_i5s=[649, 650, 657, 669, 670]    "
   ]
  },
  {
   "cell_type": "code",
   "execution_count": 222,
   "id": "d1603870",
   "metadata": {},
   "outputs": [
    {
     "name": "stdout",
     "output_type": "stream",
     "text": [
      "it'll take 36268 iterations.\n"
     ]
    },
    {
     "name": "stderr",
     "output_type": "stream",
     "text": [
      "36268it [00:52, 690.20it/s]\n"
     ]
    }
   ],
   "source": [
    "convert1(snohomish, near_i5n, 5000, 5001)"
   ]
  },
  {
   "cell_type": "code",
   "execution_count": 223,
   "id": "b9ec3774",
   "metadata": {},
   "outputs": [
    {
     "name": "stdout",
     "output_type": "stream",
     "text": [
      "it'll take 14553 iterations.\n"
     ]
    },
    {
     "name": "stderr",
     "output_type": "stream",
     "text": [
      "14553it [00:27, 535.40it/s]\n"
     ]
    }
   ],
   "source": [
    "convert1(pierce, near_i5s, 5002, 5003)"
   ]
  },
  {
   "cell_type": "markdown",
   "id": "4e1778a4",
   "metadata": {},
   "source": [
    "### for trips within king county"
   ]
  },
  {
   "cell_type": "code",
   "execution_count": 224,
   "id": "45ee2580",
   "metadata": {},
   "outputs": [
    {
     "data": {
      "text/html": [
       "<img src=\"regions/SR99N.png\" width=\"300\" height=\"300\"/>"
      ],
      "text/plain": [
       "<IPython.core.display.Image object>"
      ]
     },
     "execution_count": 224,
     "metadata": {},
     "output_type": "execute_result"
    }
   ],
   "source": [
    "Image(url=\"regions/SR99N.png\", width=300, height=300)"
   ]
  },
  {
   "cell_type": "code",
   "execution_count": 225,
   "id": "c23f00ff",
   "metadata": {},
   "outputs": [],
   "source": [
    "SR99n = read_regions('regions/SR99N.txt')\n",
    "nearSR99n = read_regions('regions/near_SR99N.txt')"
   ]
  },
  {
   "cell_type": "code",
   "execution_count": 226,
   "id": "5ca0f1f6",
   "metadata": {
    "scrolled": true
   },
   "outputs": [
    {
     "name": "stdout",
     "output_type": "stream",
     "text": [
      "it'll take 41114 iterations.\n"
     ]
    },
    {
     "name": "stderr",
     "output_type": "stream",
     "text": [
      "41114it [00:58, 703.59it/s]\n"
     ]
    }
   ],
   "source": [
    "convert1(SR99n, nearSR99n, 5010, 5011)"
   ]
  },
  {
   "cell_type": "markdown",
   "id": "bee1ef63",
   "metadata": {},
   "source": [
    " --------"
   ]
  },
  {
   "cell_type": "code",
   "execution_count": 227,
   "id": "41036679",
   "metadata": {},
   "outputs": [
    {
     "data": {
      "text/html": [
       "<img src=\"regions/i5n1.png\" width=\"300\" height=\"300\"/>"
      ],
      "text/plain": [
       "<IPython.core.display.Image object>"
      ]
     },
     "execution_count": 227,
     "metadata": {},
     "output_type": "execute_result"
    }
   ],
   "source": [
    "Image(url=\"regions/i5n1.png\", width=300, height=300)"
   ]
  },
  {
   "cell_type": "code",
   "execution_count": 228,
   "id": "7ca3ad58",
   "metadata": {},
   "outputs": [],
   "source": [
    "i5n1 = read_regions('regions/i5n1.txt')"
   ]
  },
  {
   "cell_type": "code",
   "execution_count": 229,
   "id": "9f7d5674",
   "metadata": {
    "scrolled": true
   },
   "outputs": [
    {
     "name": "stdout",
     "output_type": "stream",
     "text": [
      "it'll take 45523 iterations.\n"
     ]
    },
    {
     "name": "stderr",
     "output_type": "stream",
     "text": [
      "45523it [01:09, 659.00it/s]\n"
     ]
    }
   ],
   "source": [
    "convert1(i5n1, near_i5n, 5000, 5001)"
   ]
  },
  {
   "cell_type": "markdown",
   "id": "4ce19595",
   "metadata": {},
   "source": [
    "___"
   ]
  },
  {
   "cell_type": "code",
   "execution_count": 230,
   "id": "fb8a5aa7",
   "metadata": {},
   "outputs": [
    {
     "data": {
      "text/html": [
       "<img src=\"regions/i5n2.png\" width=\"300\" height=\"300\"/>"
      ],
      "text/plain": [
       "<IPython.core.display.Image object>"
      ]
     },
     "execution_count": 230,
     "metadata": {},
     "output_type": "execute_result"
    }
   ],
   "source": [
    "Image(url=\"regions/i5n2.png\", width=300, height=300)"
   ]
  },
  {
   "cell_type": "code",
   "execution_count": 231,
   "id": "1d0ab87d",
   "metadata": {},
   "outputs": [
    {
     "name": "stdout",
     "output_type": "stream",
     "text": [
      "it'll take 15673 iterations.\n"
     ]
    },
    {
     "name": "stderr",
     "output_type": "stream",
     "text": [
      "15673it [00:24, 633.39it/s]\n"
     ]
    }
   ],
   "source": [
    "i5n2 = read_regions('regions/i5n2.txt')\n",
    "convert1(i5n2, near_i5n, 5000, 5001)"
   ]
  },
  {
   "cell_type": "markdown",
   "id": "7596bbd4",
   "metadata": {},
   "source": [
    "--------"
   ]
  },
  {
   "cell_type": "code",
   "execution_count": 232,
   "id": "45ffbbf8",
   "metadata": {},
   "outputs": [
    {
     "data": {
      "text/html": [
       "<img src=\"regions/west_king1.png\" width=\"600\" height=\"300\"/>"
      ],
      "text/plain": [
       "<IPython.core.display.Image object>"
      ]
     },
     "execution_count": 232,
     "metadata": {},
     "output_type": "execute_result"
    }
   ],
   "source": [
    "Image(url=\"regions/west_king1.png\", width=600, height=300)"
   ]
  },
  {
   "cell_type": "code",
   "execution_count": 233,
   "id": "59ef50b9",
   "metadata": {},
   "outputs": [],
   "source": [
    "west_king1 = read_regions('regions/west_king1.txt')\n",
    "df = converted_data[converted_data.otaz.isin(west_king1)|converted_data.dtaz.isin(west_king1)]"
   ]
  },
  {
   "cell_type": "code",
   "execution_count": 234,
   "id": "b5fa761c",
   "metadata": {},
   "outputs": [
    {
     "name": "stdout",
     "output_type": "stream",
     "text": [
      "it'll take 8381 iterations.\n"
     ]
    },
    {
     "name": "stderr",
     "output_type": "stream",
     "text": [
      "8381it [00:12, 683.52it/s]\n"
     ]
    }
   ],
   "source": [
    "# if trips go to upper downtown:\n",
    "df1 = df[df.otaz.isin(sumo_n)|df.dtaz.isin(sumo_n)]\n",
    "convert1(west_king1, near_i5n, 5000, 5001, df=df1)"
   ]
  },
  {
   "cell_type": "code",
   "execution_count": 235,
   "id": "2dee9988",
   "metadata": {
    "scrolled": true
   },
   "outputs": [
    {
     "name": "stdout",
     "output_type": "stream",
     "text": [
      "it'll take 4286 iterations.\n"
     ]
    },
    {
     "name": "stderr",
     "output_type": "stream",
     "text": [
      "4286it [00:05, 730.33it/s]\n"
     ]
    }
   ],
   "source": [
    "# if trips go to lower downtown:\n",
    "df2 = df[df.otaz.isin(sumo_s)|df.dtaz.isin(sumo_s)]\n",
    "convert1(west_king1, near_i90, 5004, 5005, df=df2)"
   ]
  },
  {
   "cell_type": "markdown",
   "id": "efd354af",
   "metadata": {},
   "source": [
    "---------"
   ]
  },
  {
   "cell_type": "code",
   "execution_count": 236,
   "id": "bc56d2de",
   "metadata": {
    "scrolled": true
   },
   "outputs": [
    {
     "data": {
      "text/html": [
       "<img src=\"regions/west_king2.png\" width=\"600\" height=\"300\"/>"
      ],
      "text/plain": [
       "<IPython.core.display.Image object>"
      ]
     },
     "execution_count": 236,
     "metadata": {},
     "output_type": "execute_result"
    }
   ],
   "source": [
    "Image(url=\"regions/west_king2.png\", width=600, height=300)"
   ]
  },
  {
   "cell_type": "code",
   "execution_count": 237,
   "id": "94128c04",
   "metadata": {},
   "outputs": [],
   "source": [
    "west_king2 = read_regions('regions/west_king2.txt')\n",
    "df = converted_data[converted_data.otaz.isin(west_king2)|converted_data.dtaz.isin(west_king2)]"
   ]
  },
  {
   "cell_type": "code",
   "execution_count": 238,
   "id": "bdd71cd2",
   "metadata": {},
   "outputs": [
    {
     "name": "stdout",
     "output_type": "stream",
     "text": [
      "it'll take 11223 iterations.\n"
     ]
    },
    {
     "name": "stderr",
     "output_type": "stream",
     "text": [
      "11223it [00:21, 526.04it/s]\n"
     ]
    }
   ],
   "source": [
    "# if trips go to upper downtown:\n",
    "df1 = df[df.otaz.isin(sumo_n)|df.dtaz.isin(sumo_n)]\n",
    "convert1(west_king2, near_i5n, 5000, 5001, df=df1)"
   ]
  },
  {
   "cell_type": "code",
   "execution_count": 239,
   "id": "e58d18ce",
   "metadata": {
    "scrolled": true
   },
   "outputs": [
    {
     "name": "stdout",
     "output_type": "stream",
     "text": [
      "it'll take 6167 iterations.\n"
     ]
    },
    {
     "name": "stderr",
     "output_type": "stream",
     "text": [
      "6167it [00:09, 648.46it/s]\n"
     ]
    }
   ],
   "source": [
    "# if trips go to lower downtown:\n",
    "df2 = df[df.otaz.isin(sumo_s)|df.dtaz.isin(sumo_s)]\n",
    "convert1(west_king2, near_i90, 5004, 5005, df=df2)"
   ]
  },
  {
   "cell_type": "markdown",
   "id": "c2a149b6",
   "metadata": {},
   "source": [
    "-----"
   ]
  },
  {
   "cell_type": "code",
   "execution_count": 240,
   "id": "84fa7b85",
   "metadata": {
    "scrolled": false
   },
   "outputs": [
    {
     "data": {
      "text/html": [
       "<img src=\"regions/west_king3.png\" width=\"500\" height=\"300\"/>"
      ],
      "text/plain": [
       "<IPython.core.display.Image object>"
      ]
     },
     "execution_count": 240,
     "metadata": {},
     "output_type": "execute_result"
    }
   ],
   "source": [
    "Image(url=\"regions/west_king3.png\", width=500, height=300)"
   ]
  },
  {
   "cell_type": "code",
   "execution_count": 241,
   "id": "fc807814",
   "metadata": {
    "scrolled": true
   },
   "outputs": [
    {
     "name": "stdout",
     "output_type": "stream",
     "text": [
      "it'll take 33163 iterations.\n"
     ]
    },
    {
     "name": "stderr",
     "output_type": "stream",
     "text": [
      "33163it [00:55, 601.44it/s]\n"
     ]
    }
   ],
   "source": [
    "west_king3 = read_regions('regions/west_king3.txt')\n",
    "convert1(west_king3, near_i90, 5004, 5005)"
   ]
  },
  {
   "cell_type": "markdown",
   "id": "e0e2cb89",
   "metadata": {},
   "source": [
    "-----"
   ]
  },
  {
   "cell_type": "code",
   "execution_count": 242,
   "id": "b94bb8ef",
   "metadata": {
    "scrolled": true
   },
   "outputs": [
    {
     "data": {
      "text/html": [
       "<img src=\"regions/west_king4.png\" width=\"600\" height=\"300\"/>"
      ],
      "text/plain": [
       "<IPython.core.display.Image object>"
      ]
     },
     "execution_count": 242,
     "metadata": {},
     "output_type": "execute_result"
    }
   ],
   "source": [
    "Image(url=\"regions/west_king4.png\", width=600, height=300)"
   ]
  },
  {
   "cell_type": "code",
   "execution_count": 243,
   "id": "7073c99e",
   "metadata": {
    "scrolled": false
   },
   "outputs": [
    {
     "name": "stdout",
     "output_type": "stream",
     "text": [
      "it'll take 11397 iterations.\n"
     ]
    },
    {
     "name": "stderr",
     "output_type": "stream",
     "text": [
      "11397it [00:29, 392.87it/s]\n"
     ]
    }
   ],
   "source": [
    "west_king4 = read_regions('regions/west_king4.txt')\n",
    "convert1(west_king4, near_i90, 5004, 5005)"
   ]
  },
  {
   "cell_type": "markdown",
   "id": "e08da3a3",
   "metadata": {},
   "source": [
    "-----"
   ]
  },
  {
   "cell_type": "code",
   "execution_count": 244,
   "id": "393234ce",
   "metadata": {
    "scrolled": true
   },
   "outputs": [
    {
     "data": {
      "text/html": [
       "<img src=\"regions/west_king5.png\" width=\"600\" height=\"300\"/>"
      ],
      "text/plain": [
       "<IPython.core.display.Image object>"
      ]
     },
     "execution_count": 244,
     "metadata": {},
     "output_type": "execute_result"
    }
   ],
   "source": [
    "Image(url=\"regions/west_king5.png\", width=600, height=300)"
   ]
  },
  {
   "cell_type": "code",
   "execution_count": 245,
   "id": "fb794c07",
   "metadata": {
    "scrolled": false
   },
   "outputs": [
    {
     "name": "stdout",
     "output_type": "stream",
     "text": [
      "it'll take 4920 iterations.\n"
     ]
    },
    {
     "name": "stderr",
     "output_type": "stream",
     "text": [
      "4920it [00:12, 399.94it/s]\n"
     ]
    }
   ],
   "source": [
    "west_king5 = read_regions('regions/west_king5.txt')\n",
    "convert1(west_king5, near_i5s, 5002, 5003)"
   ]
  },
  {
   "cell_type": "markdown",
   "id": "b6610a96",
   "metadata": {},
   "source": [
    "-----"
   ]
  },
  {
   "cell_type": "code",
   "execution_count": 246,
   "id": "a69788cd",
   "metadata": {},
   "outputs": [
    {
     "data": {
      "text/html": [
       "<img src=\"regions/west_king6.png\" width=\"300\" height=\"300\"/>"
      ],
      "text/plain": [
       "<IPython.core.display.Image object>"
      ]
     },
     "execution_count": 246,
     "metadata": {},
     "output_type": "execute_result"
    }
   ],
   "source": [
    "Image(url=\"regions/west_king6.png\", width=300, height=300)"
   ]
  },
  {
   "cell_type": "code",
   "execution_count": 247,
   "id": "845f6a9b",
   "metadata": {},
   "outputs": [
    {
     "name": "stdout",
     "output_type": "stream",
     "text": [
      "it'll take 17509 iterations.\n"
     ]
    },
    {
     "name": "stderr",
     "output_type": "stream",
     "text": [
      "17509it [00:31, 556.43it/s]\n"
     ]
    }
   ],
   "source": [
    "west_king6 = read_regions('regions/west_king6.txt')\n",
    "convert1(west_king6, near_i5s, 5002, 5003)"
   ]
  },
  {
   "cell_type": "markdown",
   "id": "469b72d1",
   "metadata": {},
   "source": [
    "--------"
   ]
  },
  {
   "cell_type": "code",
   "execution_count": 248,
   "id": "d4b241a5",
   "metadata": {},
   "outputs": [
    {
     "data": {
      "text/html": [
       "<img src=\"regions/vashon.png\" width=\"300\" height=\"300\"/>"
      ],
      "text/plain": [
       "<IPython.core.display.Image object>"
      ]
     },
     "execution_count": 248,
     "metadata": {},
     "output_type": "execute_result"
    }
   ],
   "source": [
    "Image(url=\"regions/vashon.png\", width=300, height=300)"
   ]
  },
  {
   "cell_type": "code",
   "execution_count": 249,
   "id": "0bf0e6e9",
   "metadata": {},
   "outputs": [
    {
     "name": "stdout",
     "output_type": "stream",
     "text": [
      "it'll take 1206 iterations.\n"
     ]
    },
    {
     "name": "stderr",
     "output_type": "stream",
     "text": [
      "1206it [00:01, 692.35it/s]\n"
     ]
    }
   ],
   "source": [
    "vashon = read_regions('regions/vashon.txt')\n",
    "nearsr99s = read_regions('regions/near_SR99S.txt')\n",
    "convert1(vashon, nearsr99s, 5008, 5009)"
   ]
  },
  {
   "cell_type": "markdown",
   "id": "45b2c5d2",
   "metadata": {},
   "source": [
    "------"
   ]
  },
  {
   "cell_type": "code",
   "execution_count": 250,
   "id": "1f1803ea",
   "metadata": {},
   "outputs": [
    {
     "data": {
      "text/html": [
       "<img src=\"regions/southwest1.png\" width=\"300\" height=\"300\"/>"
      ],
      "text/plain": [
       "<IPython.core.display.Image object>"
      ]
     },
     "execution_count": 250,
     "metadata": {},
     "output_type": "execute_result"
    }
   ],
   "source": [
    "Image(url=\"regions/southwest1.png\", width=300, height=300)"
   ]
  },
  {
   "cell_type": "code",
   "execution_count": 251,
   "id": "fc5f5bba",
   "metadata": {},
   "outputs": [],
   "source": [
    "sw1 = read_regions('regions/southwest1.txt')\n",
    "df = converted_data[converted_data.otaz.isin(sw1)|converted_data.dtaz.isin(sw1)]"
   ]
  },
  {
   "cell_type": "code",
   "execution_count": 252,
   "id": "61ec8fdf",
   "metadata": {},
   "outputs": [
    {
     "name": "stdout",
     "output_type": "stream",
     "text": [
      "it'll take 19529 iterations.\n"
     ]
    },
    {
     "name": "stderr",
     "output_type": "stream",
     "text": [
      "19529it [00:27, 704.01it/s]\n"
     ]
    }
   ],
   "source": [
    "# if trips go to west downtown:\n",
    "df1 = df[df.otaz.isin(sumo_w)|df.dtaz.isin(sumo_w)]\n",
    "convert1(sw1, nearsr99s, 5008, 5009, df=df1)"
   ]
  },
  {
   "cell_type": "code",
   "execution_count": 253,
   "id": "35767a8d",
   "metadata": {},
   "outputs": [
    {
     "name": "stdout",
     "output_type": "stream",
     "text": [
      "it'll take 4512 iterations.\n"
     ]
    },
    {
     "name": "stderr",
     "output_type": "stream",
     "text": [
      "4512it [00:06, 685.53it/s]\n"
     ]
    }
   ],
   "source": [
    "# if trips go to east downtown:\n",
    "df2 = df[df.otaz.isin(sumo_e)|df.dtaz.isin(sumo_e)]\n",
    "convert1(sw1, near_i5s, 5002, 5003, df=df2)"
   ]
  },
  {
   "cell_type": "code",
   "execution_count": 254,
   "id": "0a4635ec",
   "metadata": {
    "scrolled": false
   },
   "outputs": [
    {
     "data": {
      "text/html": [
       "<img src=\"regions/southwest2.png\" width=\"300\" height=\"300\"/>"
      ],
      "text/plain": [
       "<IPython.core.display.Image object>"
      ]
     },
     "execution_count": 254,
     "metadata": {},
     "output_type": "execute_result"
    }
   ],
   "source": [
    "Image(url=\"regions/southwest2.png\", width=300, height=300)\n"
   ]
  },
  {
   "cell_type": "code",
   "execution_count": 255,
   "id": "e4f8c161",
   "metadata": {},
   "outputs": [],
   "source": [
    "sw2 = read_regions('regions/southwest2.txt')\n",
    "df = converted_data[converted_data.otaz.isin(sw2)|converted_data.dtaz.isin(sw2)]"
   ]
  },
  {
   "cell_type": "code",
   "execution_count": 256,
   "id": "6640c087",
   "metadata": {},
   "outputs": [
    {
     "name": "stdout",
     "output_type": "stream",
     "text": [
      "it'll take 30346 iterations.\n"
     ]
    },
    {
     "name": "stderr",
     "output_type": "stream",
     "text": [
      "30346it [00:43, 697.14it/s]\n"
     ]
    }
   ],
   "source": [
    "# if trips go to west downtown:\n",
    "df1 = df[df.otaz.isin(sumo_w)|df.dtaz.isin(sumo_w)]\n",
    "convert1(sw2, nearsr99s, 5008, 5009, df=df1)"
   ]
  },
  {
   "cell_type": "code",
   "execution_count": 257,
   "id": "e3270c8f",
   "metadata": {},
   "outputs": [
    {
     "name": "stdout",
     "output_type": "stream",
     "text": [
      "it'll take 6100 iterations.\n"
     ]
    },
    {
     "name": "stderr",
     "output_type": "stream",
     "text": [
      "6100it [00:08, 683.41it/s]\n"
     ]
    }
   ],
   "source": [
    "# if trips go to east downtown:\n",
    "df2 = df[df.otaz.isin(sumo_e)|df.dtaz.isin(sumo_e)]\n",
    "convert1(sw2, near_i5s, 5002, 5003, df=df2)"
   ]
  },
  {
   "cell_type": "markdown",
   "id": "0f2df42c",
   "metadata": {},
   "source": [
    "----"
   ]
  },
  {
   "cell_type": "code",
   "execution_count": 258,
   "id": "1ca89fc6",
   "metadata": {},
   "outputs": [
    {
     "data": {
      "text/html": [
       "<img src=\"regions/i5s11.png\" width=\"300\" height=\"1000\"/>"
      ],
      "text/plain": [
       "<IPython.core.display.Image object>"
      ]
     },
     "execution_count": 258,
     "metadata": {},
     "output_type": "execute_result"
    }
   ],
   "source": [
    "Image(url=\"regions/i5s11.png\", width=300, height=1000)"
   ]
  },
  {
   "cell_type": "code",
   "execution_count": 259,
   "id": "ebd5aeef",
   "metadata": {},
   "outputs": [
    {
     "name": "stdout",
     "output_type": "stream",
     "text": [
      "it'll take 26281 iterations.\n"
     ]
    },
    {
     "name": "stderr",
     "output_type": "stream",
     "text": [
      "26281it [00:38, 679.35it/s]\n"
     ]
    }
   ],
   "source": [
    "i5s1 = read_regions('regions/i5s1.txt')\n",
    "convert1(i5s1, near_i5s, 5002, 5003)"
   ]
  },
  {
   "cell_type": "code",
   "execution_count": 260,
   "id": "36ec923f",
   "metadata": {},
   "outputs": [
    {
     "data": {
      "text/html": [
       "<img src=\"regions/i5s2.png\" width=\"300\" height=\"300\"/>"
      ],
      "text/plain": [
       "<IPython.core.display.Image object>"
      ]
     },
     "execution_count": 260,
     "metadata": {},
     "output_type": "execute_result"
    }
   ],
   "source": [
    "Image(url=\"regions/i5s2.png\", width=300, height=300)"
   ]
  },
  {
   "cell_type": "code",
   "execution_count": 261,
   "id": "0c90a997",
   "metadata": {
    "scrolled": true
   },
   "outputs": [
    {
     "name": "stdout",
     "output_type": "stream",
     "text": [
      "it'll take 14231 iterations.\n"
     ]
    },
    {
     "name": "stderr",
     "output_type": "stream",
     "text": [
      "14231it [00:25, 549.04it/s]\n"
     ]
    }
   ],
   "source": [
    "i5s2 = read_regions('regions/i5s2.txt')\n",
    "convert1(i5s2, near_i5s, 5002, 5003)"
   ]
  },
  {
   "cell_type": "markdown",
   "id": "689d5118",
   "metadata": {},
   "source": [
    "-----"
   ]
  },
  {
   "cell_type": "code",
   "execution_count": 262,
   "id": "b55f27c7",
   "metadata": {},
   "outputs": [
    {
     "data": {
      "text/html": [
       "<img src=\"regions/southeast.png\" width=\"400\" height=\"300\"/>"
      ],
      "text/plain": [
       "<IPython.core.display.Image object>"
      ]
     },
     "execution_count": 262,
     "metadata": {},
     "output_type": "execute_result"
    }
   ],
   "source": [
    "Image(url=\"regions/southeast.png\", width=400, height=300)"
   ]
  },
  {
   "cell_type": "code",
   "execution_count": 263,
   "id": "265664c4",
   "metadata": {},
   "outputs": [],
   "source": [
    "se = read_regions('regions/southeast.txt')"
   ]
  },
  {
   "cell_type": "code",
   "execution_count": 264,
   "id": "bb3f697d",
   "metadata": {},
   "outputs": [
    {
     "name": "stdout",
     "output_type": "stream",
     "text": [
      "it'll take 4056 iterations.\n"
     ]
    },
    {
     "name": "stderr",
     "output_type": "stream",
     "text": [
      "4056it [00:06, 586.58it/s]\n"
     ]
    }
   ],
   "source": [
    "# if trips go to east downtown:\n",
    "df = converted_data[converted_data.otaz.isin(se)|converted_data.dtaz.isin(se)]\n",
    "df = df[df.otaz.isin(sumo_e)|df.dtaz.isin(sumo_e)]\n",
    "convert1(se, [636], 636, 636, df=df)"
   ]
  },
  {
   "cell_type": "code",
   "execution_count": 265,
   "id": "e10d4ed8",
   "metadata": {},
   "outputs": [
    {
     "name": "stdout",
     "output_type": "stream",
     "text": [
      "it'll take 5070 iterations.\n"
     ]
    },
    {
     "name": "stderr",
     "output_type": "stream",
     "text": [
      "5070it [00:06, 725.45it/s]\n"
     ]
    }
   ],
   "source": [
    "# if trips go to south downtown:\n",
    "df = converted_data[converted_data.otaz.isin(se)|converted_data.dtaz.isin(se)]\n",
    "df = df[df.otaz.isin(sumo_s)|df.dtaz.isin(sumo_s)]\n",
    "convert1(se, [650], 650, 650, df=df)"
   ]
  },
  {
   "cell_type": "code",
   "execution_count": 266,
   "id": "449c9866",
   "metadata": {
    "scrolled": false
   },
   "outputs": [
    {
     "name": "stdout",
     "output_type": "stream",
     "text": [
      "it'll take 6196 iterations.\n"
     ]
    },
    {
     "name": "stderr",
     "output_type": "stream",
     "text": [
      "6196it [00:08, 763.41it/s]\n"
     ]
    }
   ],
   "source": [
    "# if trips go to north downtown:\n",
    "df = converted_data[converted_data.otaz.isin(se)|converted_data.dtaz.isin(se)]\n",
    "df = df[df.otaz.isin(sumo_n)|df.dtaz.isin(sumo_n)]\n",
    "convert1(se, near_i5s, 5002, 5003, df=df)"
   ]
  },
  {
   "cell_type": "markdown",
   "id": "94a46e25",
   "metadata": {},
   "source": [
    "----"
   ]
  },
  {
   "cell_type": "code",
   "execution_count": 267,
   "id": "d7734822",
   "metadata": {},
   "outputs": [
    {
     "data": {
      "text/html": [
       "<img src=\"regions/east1.png\" width=\"400\" height=\"300\"/>"
      ],
      "text/plain": [
       "<IPython.core.display.Image object>"
      ]
     },
     "execution_count": 267,
     "metadata": {},
     "output_type": "execute_result"
    }
   ],
   "source": [
    "Image(url=\"regions/east1.png\", width=400, height=300)"
   ]
  },
  {
   "cell_type": "code",
   "execution_count": 268,
   "id": "96c28785",
   "metadata": {},
   "outputs": [
    {
     "name": "stdout",
     "output_type": "stream",
     "text": [
      "it'll take 33580 iterations.\n"
     ]
    },
    {
     "name": "stderr",
     "output_type": "stream",
     "text": [
      "33580it [00:48, 690.29it/s]\n"
     ]
    }
   ],
   "source": [
    "east1 = read_regions('regions/east1.txt')\n",
    "boundary = read_regions('regions/east1_boundary.txt')\n",
    "# convert1(east1, boundary, boundary, boundary)\n",
    "convert1(east1, boundary, 7004, 7004)"
   ]
  },
  {
   "cell_type": "markdown",
   "id": "acd4cacd",
   "metadata": {},
   "source": [
    "----"
   ]
  },
  {
   "cell_type": "code",
   "execution_count": 269,
   "id": "51ca190e",
   "metadata": {},
   "outputs": [
    {
     "data": {
      "text/html": [
       "<img src=\"regions/east2.png\" width=\"400\" height=\"300\"/>"
      ],
      "text/plain": [
       "<IPython.core.display.Image object>"
      ]
     },
     "execution_count": 269,
     "metadata": {},
     "output_type": "execute_result"
    }
   ],
   "source": [
    "Image(url=\"regions/east2.png\", width=400, height=300)"
   ]
  },
  {
   "cell_type": "code",
   "execution_count": 270,
   "id": "69ac7441",
   "metadata": {},
   "outputs": [
    {
     "name": "stdout",
     "output_type": "stream",
     "text": [
      "it'll take 18070 iterations.\n"
     ]
    },
    {
     "name": "stderr",
     "output_type": "stream",
     "text": [
      "18070it [00:27, 667.90it/s]\n"
     ]
    }
   ],
   "source": [
    "east2 = read_regions('regions/east2.txt')\n",
    "boundary = read_regions('regions/east2_boundary.txt')\n",
    "# convert1(east2, boundary, boundary, boundary)\n",
    "convert1(east2, boundary, 7005, 7005)"
   ]
  },
  {
   "cell_type": "markdown",
   "id": "7a6a0988",
   "metadata": {},
   "source": [
    "----"
   ]
  },
  {
   "cell_type": "code",
   "execution_count": 271,
   "id": "f5026d8f",
   "metadata": {},
   "outputs": [
    {
     "data": {
      "text/html": [
       "<img src=\"regions/north1.png\" width=\"400\" height=\"300\"/>"
      ],
      "text/plain": [
       "<IPython.core.display.Image object>"
      ]
     },
     "execution_count": 271,
     "metadata": {},
     "output_type": "execute_result"
    }
   ],
   "source": [
    "Image(url=\"regions/north1.png\", width=400, height=300)"
   ]
  },
  {
   "cell_type": "code",
   "execution_count": 272,
   "id": "eb916b55",
   "metadata": {},
   "outputs": [
    {
     "name": "stdout",
     "output_type": "stream",
     "text": [
      "it'll take 8357 iterations.\n"
     ]
    },
    {
     "name": "stderr",
     "output_type": "stream",
     "text": [
      "8357it [00:14, 596.53it/s]\n"
     ]
    }
   ],
   "source": [
    "north1 = read_regions('regions/north1.txt')\n",
    "boundary = read_regions('regions/north1_boundary.txt')\n",
    "# convert1(north1, boundary, boundary, boundary)\n",
    "convert1(north1, boundary, 7001, 7001)"
   ]
  },
  {
   "cell_type": "markdown",
   "id": "1d8f9ffe",
   "metadata": {},
   "source": [
    "----"
   ]
  },
  {
   "cell_type": "code",
   "execution_count": 273,
   "id": "23129549",
   "metadata": {},
   "outputs": [
    {
     "data": {
      "text/html": [
       "<img src=\"regions/north2.png\" width=\"300\" height=\"300\"/>"
      ],
      "text/plain": [
       "<IPython.core.display.Image object>"
      ]
     },
     "execution_count": 273,
     "metadata": {},
     "output_type": "execute_result"
    }
   ],
   "source": [
    "Image(url=\"regions/north2.png\", width=300, height=300)"
   ]
  },
  {
   "cell_type": "code",
   "execution_count": 274,
   "id": "6a0c81c7",
   "metadata": {},
   "outputs": [
    {
     "name": "stdout",
     "output_type": "stream",
     "text": [
      "it'll take 16303 iterations.\n"
     ]
    },
    {
     "name": "stderr",
     "output_type": "stream",
     "text": [
      "16303it [00:24, 669.31it/s]\n"
     ]
    }
   ],
   "source": [
    "north2 = read_regions('regions/north2.txt')\n",
    "boundary = read_regions('regions/north2_boundary.txt')\n",
    "# convert1(north2, boundary, boundary, boundary)\n",
    "convert1(north2, boundary, 7002, 7002)"
   ]
  },
  {
   "cell_type": "markdown",
   "id": "99b1f2bf",
   "metadata": {},
   "source": [
    "----"
   ]
  },
  {
   "cell_type": "code",
   "execution_count": 275,
   "id": "0c292d3e",
   "metadata": {},
   "outputs": [
    {
     "data": {
      "text/html": [
       "<img src=\"regions/north_west.png\" width=\"300\" height=\"300\"/>"
      ],
      "text/plain": [
       "<IPython.core.display.Image object>"
      ]
     },
     "execution_count": 275,
     "metadata": {},
     "output_type": "execute_result"
    }
   ],
   "source": [
    "Image(url=\"regions/north_west.png\", width=300, height=300)"
   ]
  },
  {
   "cell_type": "code",
   "execution_count": 276,
   "id": "c33e7322",
   "metadata": {},
   "outputs": [
    {
     "name": "stdout",
     "output_type": "stream",
     "text": [
      "it'll take 21580 iterations.\n"
     ]
    },
    {
     "name": "stderr",
     "output_type": "stream",
     "text": [
      "21580it [00:39, 546.11it/s]\n"
     ]
    },
    {
     "name": "stdout",
     "output_type": "stream",
     "text": [
      "it'll take 3582 iterations.\n"
     ]
    },
    {
     "name": "stderr",
     "output_type": "stream",
     "text": [
      "3582it [00:06, 585.66it/s]\n"
     ]
    }
   ],
   "source": [
    "NW = read_regions('regions/north_west.txt')\n",
    "boundary = read_regions('regions/north3_boundary.txt')\n",
    "df = converted_data[converted_data.otaz.isin(NW)|converted_data.dtaz.isin(NW)]\n",
    "\n",
    "df1 = df[df.otaz.isin(sumo_n)|df.dtaz.isin(sumo_n)]\n",
    "# convert1(NW, boundary, boundary, boundary, df=df1)\n",
    "convert1(NW, boundary, 7003, 7003, df=df1)\n",
    "\n",
    "df2 = df[df.otaz.isin(sumo_s)|df.dtaz.isin(sumo_s)]\n",
    "convert1(NW, nearSR99n, 5010, 5011, df=df2)"
   ]
  },
  {
   "cell_type": "markdown",
   "id": "cf79e1fc",
   "metadata": {},
   "source": [
    "-------"
   ]
  },
  {
   "cell_type": "code",
   "execution_count": 277,
   "id": "2ef5c541",
   "metadata": {},
   "outputs": [
    {
     "data": {
      "text/html": [
       "<img src=\"regions/6001.png\" width=\"300\" height=\"300\"/>"
      ],
      "text/plain": [
       "<IPython.core.display.Image object>"
      ]
     },
     "execution_count": 277,
     "metadata": {},
     "output_type": "execute_result"
    }
   ],
   "source": [
    "Image(url=\"regions/6001.png\", width=300, height=300)"
   ]
  },
  {
   "cell_type": "code",
   "execution_count": 278,
   "id": "69a683ea",
   "metadata": {},
   "outputs": [],
   "source": [
    "to6001 = read_regions('regions/6001.txt')\n",
    "near6001 = read_regions('regions/near6001.txt')"
   ]
  },
  {
   "cell_type": "code",
   "execution_count": 279,
   "id": "dfc4d141",
   "metadata": {},
   "outputs": [
    {
     "name": "stdout",
     "output_type": "stream",
     "text": [
      "it'll take 24296 iterations.\n"
     ]
    },
    {
     "name": "stderr",
     "output_type": "stream",
     "text": [
      "24296it [00:56, 427.17it/s]\n"
     ]
    },
    {
     "name": "stdout",
     "output_type": "stream",
     "text": [
      "it'll take 7463 iterations.\n"
     ]
    },
    {
     "name": "stderr",
     "output_type": "stream",
     "text": [
      "7463it [00:13, 535.56it/s]\n"
     ]
    }
   ],
   "source": [
    "df = converted_data[converted_data.otaz.isin(to6001)|converted_data.dtaz.isin(to6001)]\n",
    "\n",
    "df1 = df[df.otaz.isin(sumo_n)|df.dtaz.isin(sumo_n)]\n",
    "convert1(to6001, near6001, 6001, 6001, df=df1)\n",
    "\n",
    "df2 = df[df.otaz.isin(sumo_s)|df.dtaz.isin(sumo_s)]\n",
    "convert1(to6001, nearSR99n, 5010, 5011, df=df2)\n"
   ]
  },
  {
   "cell_type": "markdown",
   "id": "87926d1d",
   "metadata": {},
   "source": [
    "----"
   ]
  },
  {
   "cell_type": "code",
   "execution_count": 280,
   "id": "0306fc7c",
   "metadata": {
    "scrolled": true
   },
   "outputs": [
    {
     "data": {
      "text/html": [
       "<img src=\"regions/south.png\" width=\"300\" height=\"300\"/>"
      ],
      "text/plain": [
       "<IPython.core.display.Image object>"
      ]
     },
     "execution_count": 280,
     "metadata": {},
     "output_type": "execute_result"
    }
   ],
   "source": [
    "Image(url=\"regions/south.png\", width=300, height=300)"
   ]
  },
  {
   "cell_type": "code",
   "execution_count": 281,
   "id": "110e6498",
   "metadata": {},
   "outputs": [
    {
     "name": "stdout",
     "output_type": "stream",
     "text": [
      "it'll take 11355 iterations.\n"
     ]
    },
    {
     "name": "stderr",
     "output_type": "stream",
     "text": [
      "11355it [00:16, 704.25it/s]\n"
     ]
    }
   ],
   "source": [
    "south = read_regions('regions/south.txt')\n",
    "boundary = read_regions('regions/south_boundary.txt')\n",
    "# convert1(south, boundary, boundary, boundary)\n",
    "convert1(south, boundary, 7000, 7000)"
   ]
  },
  {
   "cell_type": "markdown",
   "id": "d0eb8062",
   "metadata": {},
   "source": [
    "-------"
   ]
  },
  {
   "cell_type": "markdown",
   "id": "879a9577",
   "metadata": {},
   "source": [
    "# TAZ conversion for trips passing through sumo_TAZs\n",
    "\n",
    "For this stage, we assume some scenarios, find related trips in out main trip dataframe, process them, and then add them to our existing trips"
   ]
  },
  {
   "cell_type": "code",
   "execution_count": 282,
   "id": "47358dc3",
   "metadata": {},
   "outputs": [],
   "source": [
    "def get_trips_in_between(src_df, taz_list1, taz_list2):\n",
    "# make sure taz_list1 and taz_list2 have no TAZ within sumo_TAZs. \n",
    "# In that case, some of the trips that were already processed in converted_data will be included\n",
    "    df = src_df[(src_df.otaz.isin(taz_list1) & src_df.dtaz.isin(taz_list2)) | \n",
    "                (src_df.otaz.isin(taz_list2) & src_df.dtaz.isin(taz_list1))]\n",
    "    return df"
   ]
  },
  {
   "cell_type": "code",
   "execution_count": 283,
   "id": "4db83739",
   "metadata": {},
   "outputs": [],
   "source": [
    "def convert2(df, zone1, new_z1, near_new_z1, zone2, new_z2, near_new_z2):\n",
    "    zone1offsets = get_intra_TAZ_traveltime(zone1, near_new_z1)\n",
    "    zone2offsets = get_intra_TAZ_traveltime(zone2, near_new_z2)\n",
    "    new_z1_in, new_z1_out = new_z1[0], new_z1[1]\n",
    "    new_z2_in, new_z2_out = new_z2[0], new_z2[1]\n",
    "    \n",
    "    print(f\"it'll take {len(df)} iterations.\")\n",
    "    for index, row in tqdm(df.iterrows()):\n",
    "        interval = int(row.deptm//15)\n",
    "        \n",
    "        if row.otaz in zone1 and row.dtaz in zone2:\n",
    "            row.otaz = get_random_TAZ(new_z1_in)\n",
    "            row.dtaz = get_random_TAZ(new_z2_out)\n",
    "            row.deptm += zone1offsets[interval]\n",
    "            \n",
    "        elif row.otaz in zone2 and row.dtaz in zone1:\n",
    "            row.otaz = get_random_TAZ(new_z2_in)\n",
    "            row.dtaz = get_random_TAZ(new_z1_out)\n",
    "            row.deptm += zone2offsets[interval]\n",
    "#         converted_data.loc[index, :] = row \n",
    "        df.loc[index, :] = row"
   ]
  },
  {
   "cell_type": "markdown",
   "id": "18a22791",
   "metadata": {},
   "source": [
    "-----"
   ]
  },
  {
   "cell_type": "code",
   "execution_count": 284,
   "id": "ef287cb4",
   "metadata": {},
   "outputs": [
    {
     "data": {
      "text/html": [
       "<img src=\"regions/scenarios.png\" width=\"900\" height=\"300\"/>"
      ],
      "text/plain": [
       "<IPython.core.display.Image object>"
      ]
     },
     "execution_count": 284,
     "metadata": {},
     "output_type": "execute_result"
    }
   ],
   "source": [
    "Image(url=\"regions/scenarios.png\", width=900, height=300)"
   ]
  },
  {
   "cell_type": "code",
   "execution_count": 285,
   "id": "6aae3df0",
   "metadata": {},
   "outputs": [
    {
     "name": "stdout",
     "output_type": "stream",
     "text": [
      "it'll take 1406 iterations.\n"
     ]
    },
    {
     "name": "stderr",
     "output_type": "stream",
     "text": [
      "1406it [00:00, 4197.13it/s]\n"
     ]
    }
   ],
   "source": [
    "#scenario 1:\n",
    "\n",
    "# out_of_sumo_data = get_trips_in_between(trip_data, zone1, zone2) \n",
    "out_of_sumo_data = get_trips_in_between(trip_data, i5n2, i5s1) \n",
    "# convert2(out_of_sumo_data, zone1, new_z1, near_new_z1, zone2, new_z2, near_new_z2)\n",
    "convert2(out_of_sumo_data, i5n2, [5000, 5001], near_i5n, i5s1, [5002, 5003], near_i5s)"
   ]
  },
  {
   "cell_type": "code",
   "execution_count": 286,
   "id": "a8b181c1",
   "metadata": {},
   "outputs": [],
   "source": [
    "def make_pseudo_trips(zone1, new_z1, near_new_z1, zone2, new_z2, near_new_z2):\n",
    "        df = get_trips_in_between(trip_data, zone1, zone2) \n",
    "        convert2(df, zone1, new_z1, near_new_z1, zone2, new_z2, near_new_z2)\n",
    "        return df"
   ]
  },
  {
   "cell_type": "code",
   "execution_count": 287,
   "id": "b21973d9",
   "metadata": {},
   "outputs": [
    {
     "name": "stdout",
     "output_type": "stream",
     "text": [
      "it'll take 2462 iterations.\n"
     ]
    },
    {
     "name": "stderr",
     "output_type": "stream",
     "text": [
      "2462it [00:00, 4096.17it/s]\n"
     ]
    }
   ],
   "source": [
    "# scenario 2\n",
    "# convert2(out_of_sumo_data, zone1, new_z1, near_new_z1, zone2, new_z2, near_new_z2)\n",
    "df = make_pseudo_trips(i5n2, [5000, 5001], near_i5n, sw2, [5002, 5003], near_i5s)\n",
    "out_of_sumo_data = pd.concat([out_of_sumo_data, df])\n"
   ]
  },
  {
   "cell_type": "code",
   "execution_count": 288,
   "id": "98d2a276",
   "metadata": {},
   "outputs": [
    {
     "name": "stdout",
     "output_type": "stream",
     "text": [
      "it'll take 1301 iterations.\n"
     ]
    },
    {
     "name": "stderr",
     "output_type": "stream",
     "text": [
      "1301it [00:00, 4297.94it/s]\n"
     ]
    }
   ],
   "source": [
    "# scenario 3\n",
    "east2_b = read_regions('regions/east2_boundary.txt')\n",
    "\n",
    "# convert2(out_of_sumo_data, zone1, new_z1, near_new_z1, zone2, new_z2, near_new_z2)\n",
    "# df = make_pseudo_trips(i5n2, [5000, 5001], near_i5n, east2, [east2_b, east2_b], east2_b)\n",
    "df = make_pseudo_trips(i5n2, [5000, 5001], near_i5n, east2, [7005, 7005], east2_b)\n",
    "out_of_sumo_data = pd.concat([out_of_sumo_data, df])"
   ]
  },
  {
   "cell_type": "code",
   "execution_count": 289,
   "id": "b214bde3",
   "metadata": {},
   "outputs": [
    {
     "name": "stdout",
     "output_type": "stream",
     "text": [
      "it'll take 2657 iterations.\n"
     ]
    },
    {
     "name": "stderr",
     "output_type": "stream",
     "text": [
      "2657it [00:00, 4183.19it/s]\n"
     ]
    }
   ],
   "source": [
    "# scenario 4\n",
    "east1_b = read_regions('regions/east1_boundary.txt')\n",
    "# convert2(out_of_sumo_data, zone1, new_z1, near_new_z1, zone2, new_z2, near_new_z2)\n",
    "# df = make_pseudo_trips(i5n2, [5000, 5001], near_i5n, east1, [east1_b, east1_b], east1_b)\n",
    "df = make_pseudo_trips(i5n2, [5000, 5001], near_i5n, east1, [7004, 7004], east1_b)\n",
    "out_of_sumo_data = pd.concat([out_of_sumo_data, df])"
   ]
  },
  {
   "cell_type": "code",
   "execution_count": 290,
   "id": "5c9df524",
   "metadata": {},
   "outputs": [
    {
     "name": "stdout",
     "output_type": "stream",
     "text": [
      "it'll take 2196 iterations.\n"
     ]
    },
    {
     "name": "stderr",
     "output_type": "stream",
     "text": [
      "2196it [00:00, 4115.63it/s]\n"
     ]
    }
   ],
   "source": [
    "# scenario 5\n",
    "# convert2(out_of_sumo_data, zone1, new_z1, near_new_z1, zone2, new_z2, near_new_z2)\n",
    "# df = make_pseudo_trips(i5s2, [5002, 5003], near_i5s, east1, [east1_b, east1_b], east1_b)\n",
    "df = make_pseudo_trips(i5s2, [5002, 5003], near_i5s, east1, [7004, 7004], east1_b)\n",
    "out_of_sumo_data = pd.concat([out_of_sumo_data, df])"
   ]
  },
  {
   "cell_type": "code",
   "execution_count": 291,
   "id": "ba174550",
   "metadata": {},
   "outputs": [
    {
     "name": "stdout",
     "output_type": "stream",
     "text": [
      "it'll take 1588 iterations.\n"
     ]
    },
    {
     "name": "stderr",
     "output_type": "stream",
     "text": [
      "1588it [00:00, 4342.95it/s]\n"
     ]
    }
   ],
   "source": [
    "# scenario 6\n",
    "north3_b = read_regions('regions/north3_boundary.txt')\n",
    "# convert2(out_of_sumo_data, zone1, new_z1, near_new_z1, zone2, new_z2, near_new_z2)\n",
    "# df = make_pseudo_trips(NW, [north3_b, north3_b], north3_b, east1, [east1_b, east1_b], east1_b)\n",
    "df = make_pseudo_trips(NW, [7003, 7003], north3_b, east1, [7004, 7004], east1_b)\n",
    "out_of_sumo_data = pd.concat([out_of_sumo_data, df])"
   ]
  },
  {
   "cell_type": "code",
   "execution_count": 292,
   "id": "c6ffe132",
   "metadata": {},
   "outputs": [
    {
     "name": "stdout",
     "output_type": "stream",
     "text": [
      "it'll take 870 iterations.\n"
     ]
    },
    {
     "name": "stderr",
     "output_type": "stream",
     "text": [
      "870it [00:00, 4866.48it/s]\n"
     ]
    }
   ],
   "source": [
    "# scenario 7\n",
    "north2_b = read_regions('regions/north2_boundary.txt')\n",
    "# convert2(out_of_sumo_data, zone1, new_z1, near_new_z1, zone2, new_z2, near_new_z2)\n",
    "# df = make_pseudo_trips(north2, [north2_b, north2_b], north2_b, east2, [east2_b, east2_b], east2_b)\n",
    "df = make_pseudo_trips(north2, [7002, 7002], north2_b, east2, [7005, 7005], east2_b)\n",
    "out_of_sumo_data = pd.concat([out_of_sumo_data, df])"
   ]
  },
  {
   "cell_type": "code",
   "execution_count": 293,
   "id": "2a5d9766",
   "metadata": {},
   "outputs": [
    {
     "name": "stdout",
     "output_type": "stream",
     "text": [
      "it'll take 851 iterations.\n"
     ]
    },
    {
     "name": "stderr",
     "output_type": "stream",
     "text": [
      "851it [00:00, 4188.80it/s]\n"
     ]
    }
   ],
   "source": [
    "# scenario 8\n",
    "# convert2(out_of_sumo_data, zone1, new_z1, near_new_z1, zone2, new_z2, near_new_z2)\n",
    "# df = make_pseudo_trips(NW, [north3_b, north3_b], north3_b, east2, [east2_b, east2_b], east2_b)\n",
    "df = make_pseudo_trips(NW, [7003, 7003], north3_b, east2, [7005, 7005], east2_b)\n",
    "out_of_sumo_data = pd.concat([out_of_sumo_data, df])"
   ]
  },
  {
   "cell_type": "code",
   "execution_count": 294,
   "id": "a6a89276",
   "metadata": {},
   "outputs": [
    {
     "name": "stdout",
     "output_type": "stream",
     "text": [
      "it'll take 1846 iterations.\n"
     ]
    },
    {
     "name": "stderr",
     "output_type": "stream",
     "text": [
      "1846it [00:00, 4291.40it/s]\n"
     ]
    }
   ],
   "source": [
    "# scenario 9\n",
    "# convert2(out_of_sumo_data, zone1, new_z1, near_new_z1, zone2, new_z2, near_new_z2)\n",
    "# df = make_pseudo_trips(i5s2, [5002, 5003], near_i5s, east2, [east2_b, east2_b], east2_b)\n",
    "df = make_pseudo_trips(i5s2, [5002, 5003], near_i5s, east2, [7005, 7005], east2_b)\n",
    "out_of_sumo_data = pd.concat([out_of_sumo_data, df])"
   ]
  },
  {
   "cell_type": "code",
   "execution_count": 295,
   "id": "b5c6dcc7",
   "metadata": {},
   "outputs": [
    {
     "name": "stdout",
     "output_type": "stream",
     "text": [
      "it'll take 1172 iterations.\n"
     ]
    },
    {
     "name": "stderr",
     "output_type": "stream",
     "text": [
      "1172it [00:00, 4218.30it/s]\n"
     ]
    }
   ],
   "source": [
    "# scenario 10\n",
    "south_b = read_regions('regions/south_boundary.txt')\n",
    "# convert2(out_of_sumo_data, zone1, new_z1, near_new_z1, zone2, new_z2, near_new_z2)\n",
    "# df = make_pseudo_trips(NW, [north3_b, north3_b], north3_b, south, [south_b, south_b], south_b)\n",
    "df = make_pseudo_trips(NW, [7003, 7003], north3_b, south, [7000, 7000], south_b)\n",
    "out_of_sumo_data = pd.concat([out_of_sumo_data, df])"
   ]
  },
  {
   "cell_type": "code",
   "execution_count": 296,
   "id": "ee6abac1",
   "metadata": {},
   "outputs": [
    {
     "name": "stdout",
     "output_type": "stream",
     "text": [
      "it'll take 624 iterations.\n"
     ]
    },
    {
     "name": "stderr",
     "output_type": "stream",
     "text": [
      "624it [00:00, 4448.09it/s]\n"
     ]
    }
   ],
   "source": [
    "# scenario 11\n",
    "# convert2(out_of_sumo_data, zone1, new_z1, near_new_z1, zone2, new_z2, near_new_z2)\n",
    "df = make_pseudo_trips(NW, [436, 436], north3_b, se, [[636, 650], [636, 650]], [636, 647, 648, 649, 650 ])\n",
    "out_of_sumo_data = pd.concat([out_of_sumo_data, df])"
   ]
  },
  {
   "cell_type": "code",
   "execution_count": 297,
   "id": "21e31bc4",
   "metadata": {},
   "outputs": [
    {
     "name": "stdout",
     "output_type": "stream",
     "text": [
      "it'll take 2238 iterations.\n"
     ]
    },
    {
     "name": "stderr",
     "output_type": "stream",
     "text": [
      "2238it [00:00, 4449.74it/s]\n"
     ]
    }
   ],
   "source": [
    "# scenario 12\n",
    "# convert2(out_of_sumo_data, zone1, new_z1, near_new_z1, zone2, new_z2, near_new_z2)\n",
    "# df = make_pseudo_trips(NW, [north3_b, north3_b], north3_b, sw1, [5008, 5009], nearsr99s)\n",
    "df = make_pseudo_trips(NW, [7003, 7003], north3_b, sw1, [5008, 5009], nearsr99s)\n",
    "out_of_sumo_data = pd.concat([out_of_sumo_data, df])"
   ]
  },
  {
   "cell_type": "code",
   "execution_count": 298,
   "id": "14860053",
   "metadata": {},
   "outputs": [
    {
     "name": "stdout",
     "output_type": "stream",
     "text": [
      "it'll take 9355 iterations.\n"
     ]
    },
    {
     "name": "stderr",
     "output_type": "stream",
     "text": [
      "9355it [00:02, 3574.04it/s]\n"
     ]
    }
   ],
   "source": [
    "# scenario 13\n",
    "# convert2(out_of_sumo_data, zone1, new_z1, near_new_z1, zone2, new_z2, near_new_z2)\n",
    "df = make_pseudo_trips((SR99n+to6001), [5010, 5011], nearSR99n,\n",
    "                       sw1, [5008, 5009], nearsr99s)\n",
    "out_of_sumo_data = pd.concat([out_of_sumo_data, df])"
   ]
  },
  {
   "cell_type": "code",
   "execution_count": 299,
   "id": "43673faa",
   "metadata": {},
   "outputs": [
    {
     "name": "stdout",
     "output_type": "stream",
     "text": [
      "it'll take 7321 iterations.\n"
     ]
    },
    {
     "name": "stderr",
     "output_type": "stream",
     "text": [
      "7321it [00:01, 3826.75it/s]\n"
     ]
    }
   ],
   "source": [
    "# scenario 14\n",
    "# convert2(out_of_sumo_data, zone1, new_z1, near_new_z1, zone2, new_z2, near_new_z2)\n",
    "df = make_pseudo_trips(i5n1, [5000, 5001], near_i5n,\n",
    "                       i5s1, [5002, 5003], near_i5s)\n",
    "out_of_sumo_data = pd.concat([out_of_sumo_data, df])"
   ]
  },
  {
   "cell_type": "code",
   "execution_count": 300,
   "id": "1580094d",
   "metadata": {},
   "outputs": [
    {
     "name": "stdout",
     "output_type": "stream",
     "text": [
      "it'll take 4856 iterations.\n"
     ]
    },
    {
     "name": "stderr",
     "output_type": "stream",
     "text": [
      "4856it [00:01, 3591.17it/s]\n"
     ]
    }
   ],
   "source": [
    "# scenario 15\n",
    "# convert2(out_of_sumo_data, zone1, new_z1, near_new_z1, zone2, new_z2, near_new_z2)\n",
    "# df = make_pseudo_trips(i5n1, [5000, 5001], near_i5n, south, [south_b, south_b], south_b)\n",
    "df = make_pseudo_trips(i5n1, [5000, 5001], near_i5n, \n",
    "                       south, [7000, 7000], south_b)\n",
    "out_of_sumo_data = pd.concat([out_of_sumo_data, df])"
   ]
  },
  {
   "cell_type": "code",
   "execution_count": 301,
   "id": "99492a6e",
   "metadata": {},
   "outputs": [
    {
     "name": "stdout",
     "output_type": "stream",
     "text": [
      "it'll take 14977 iterations.\n"
     ]
    },
    {
     "name": "stderr",
     "output_type": "stream",
     "text": [
      "14977it [00:04, 3247.68it/s]\n"
     ]
    }
   ],
   "source": [
    "# scenario 18\n",
    "# convert2(out_of_sumo_data, zone1, new_z1, near_new_z1, zone2, new_z2, near_new_z2)\n",
    "df = make_pseudo_trips(sw2, [5008, 5009], nearsr99s,\n",
    "                       (SR99n+to6001), [5010, 5011], nearSR99n)\n",
    "out_of_sumo_data = pd.concat([out_of_sumo_data, df])"
   ]
  },
  {
   "cell_type": "code",
   "execution_count": 302,
   "id": "35d3ea35",
   "metadata": {},
   "outputs": [
    {
     "name": "stdout",
     "output_type": "stream",
     "text": [
      "it'll take 7006 iterations.\n"
     ]
    },
    {
     "name": "stderr",
     "output_type": "stream",
     "text": [
      "7006it [00:02, 3277.63it/s]\n"
     ]
    }
   ],
   "source": [
    "# scenario 19\n",
    "# convert2(out_of_sumo_data, zone1, new_z1, near_new_z1, zone2, new_z2, near_new_z2)\n",
    "# df = make_pseudo_trips(south, [south_b, south_b], south_b,\n",
    "#                        (SR99n+to6001), [5010, 5011], nearSR99n)\n",
    "df = make_pseudo_trips(south, [7000, 7000], south_b,\n",
    "                       (SR99n+to6001), [5010, 5011], nearSR99n)\n",
    "out_of_sumo_data = pd.concat([out_of_sumo_data, df])"
   ]
  },
  {
   "cell_type": "code",
   "execution_count": 303,
   "id": "da7ba6d1",
   "metadata": {},
   "outputs": [
    {
     "name": "stdout",
     "output_type": "stream",
     "text": [
      "it'll take 388 iterations.\n"
     ]
    },
    {
     "name": "stderr",
     "output_type": "stream",
     "text": [
      "388it [00:00, 3798.85it/s]\n"
     ]
    }
   ],
   "source": [
    "# scenario 20\n",
    "north1_b = read_regions('regions/north1_boundary.txt')\n",
    "# convert2(out_of_sumo_data, zone1, new_z1, near_new_z1, zone2, new_z2, near_new_z2)\n",
    "# df = make_pseudo_trips(south, [south_b, south_b], south_b,\n",
    "#                        north1, [5000, 5001], near_i5n)\n",
    "df = make_pseudo_trips(south, [7000, 7000], south_b,\n",
    "                       north1, [5000, 5001], near_i5n)\n",
    "out_of_sumo_data = pd.concat([out_of_sumo_data, df])"
   ]
  },
  {
   "cell_type": "code",
   "execution_count": 304,
   "id": "08ecea6d",
   "metadata": {},
   "outputs": [
    {
     "data": {
      "text/html": [
       "<div>\n",
       "<style scoped>\n",
       "    .dataframe tbody tr th:only-of-type {\n",
       "        vertical-align: middle;\n",
       "    }\n",
       "\n",
       "    .dataframe tbody tr th {\n",
       "        vertical-align: top;\n",
       "    }\n",
       "\n",
       "    .dataframe thead th {\n",
       "        text-align: right;\n",
       "    }\n",
       "</style>\n",
       "<table border=\"1\" class=\"dataframe\">\n",
       "  <thead>\n",
       "    <tr style=\"text-align: right;\">\n",
       "      <th></th>\n",
       "      <th>otaz</th>\n",
       "      <th>dtaz</th>\n",
       "      <th>deptm</th>\n",
       "      <th>travtime</th>\n",
       "      <th>original_o</th>\n",
       "      <th>original_d</th>\n",
       "      <th>original_deptm</th>\n",
       "    </tr>\n",
       "  </thead>\n",
       "  <tbody>\n",
       "    <tr>\n",
       "      <th>24739</th>\n",
       "      <td>5000</td>\n",
       "      <td>5003</td>\n",
       "      <td>490</td>\n",
       "      <td>28</td>\n",
       "      <td>8</td>\n",
       "      <td>708</td>\n",
       "      <td>464</td>\n",
       "    </tr>\n",
       "    <tr>\n",
       "      <th>24740</th>\n",
       "      <td>5000</td>\n",
       "      <td>5003</td>\n",
       "      <td>506</td>\n",
       "      <td>30</td>\n",
       "      <td>8</td>\n",
       "      <td>709</td>\n",
       "      <td>478</td>\n",
       "    </tr>\n",
       "    <tr>\n",
       "      <th>24741</th>\n",
       "      <td>5000</td>\n",
       "      <td>5003</td>\n",
       "      <td>529</td>\n",
       "      <td>30</td>\n",
       "      <td>8</td>\n",
       "      <td>709</td>\n",
       "      <td>503</td>\n",
       "    </tr>\n",
       "    <tr>\n",
       "      <th>24742</th>\n",
       "      <td>5000</td>\n",
       "      <td>5003</td>\n",
       "      <td>887</td>\n",
       "      <td>24</td>\n",
       "      <td>8</td>\n",
       "      <td>711</td>\n",
       "      <td>869</td>\n",
       "    </tr>\n",
       "    <tr>\n",
       "      <th>24745</th>\n",
       "      <td>5000</td>\n",
       "      <td>5003</td>\n",
       "      <td>1001</td>\n",
       "      <td>36</td>\n",
       "      <td>8</td>\n",
       "      <td>718</td>\n",
       "      <td>977</td>\n",
       "    </tr>\n",
       "    <tr>\n",
       "      <th>...</th>\n",
       "      <td>...</td>\n",
       "      <td>...</td>\n",
       "      <td>...</td>\n",
       "      <td>...</td>\n",
       "      <td>...</td>\n",
       "      <td>...</td>\n",
       "      <td>...</td>\n",
       "    </tr>\n",
       "    <tr>\n",
       "      <th>1539539</th>\n",
       "      <td>7000</td>\n",
       "      <td>5001</td>\n",
       "      <td>626</td>\n",
       "      <td>18</td>\n",
       "      <td>726</td>\n",
       "      <td>408</td>\n",
       "      <td>618</td>\n",
       "    </tr>\n",
       "    <tr>\n",
       "      <th>1540589</th>\n",
       "      <td>7000</td>\n",
       "      <td>5001</td>\n",
       "      <td>1118</td>\n",
       "      <td>22</td>\n",
       "      <td>727</td>\n",
       "      <td>365</td>\n",
       "      <td>1109</td>\n",
       "    </tr>\n",
       "    <tr>\n",
       "      <th>1540590</th>\n",
       "      <td>7000</td>\n",
       "      <td>5001</td>\n",
       "      <td>910</td>\n",
       "      <td>22</td>\n",
       "      <td>727</td>\n",
       "      <td>367</td>\n",
       "      <td>902</td>\n",
       "    </tr>\n",
       "    <tr>\n",
       "      <th>1541385</th>\n",
       "      <td>7000</td>\n",
       "      <td>5001</td>\n",
       "      <td>991</td>\n",
       "      <td>24</td>\n",
       "      <td>728</td>\n",
       "      <td>365</td>\n",
       "      <td>983</td>\n",
       "    </tr>\n",
       "    <tr>\n",
       "      <th>1541386</th>\n",
       "      <td>7000</td>\n",
       "      <td>5001</td>\n",
       "      <td>759</td>\n",
       "      <td>20</td>\n",
       "      <td>728</td>\n",
       "      <td>367</td>\n",
       "      <td>750</td>\n",
       "    </tr>\n",
       "  </tbody>\n",
       "</table>\n",
       "<p>63114 rows × 7 columns</p>\n",
       "</div>"
      ],
      "text/plain": [
       "         otaz  dtaz  deptm  travtime  original_o  original_d  original_deptm\n",
       "24739    5000  5003    490        28           8         708             464\n",
       "24740    5000  5003    506        30           8         709             478\n",
       "24741    5000  5003    529        30           8         709             503\n",
       "24742    5000  5003    887        24           8         711             869\n",
       "24745    5000  5003   1001        36           8         718             977\n",
       "...       ...   ...    ...       ...         ...         ...             ...\n",
       "1539539  7000  5001    626        18         726         408             618\n",
       "1540589  7000  5001   1118        22         727         365            1109\n",
       "1540590  7000  5001    910        22         727         367             902\n",
       "1541385  7000  5001    991        24         728         365             983\n",
       "1541386  7000  5001    759        20         728         367             750\n",
       "\n",
       "[63114 rows x 7 columns]"
      ]
     },
     "execution_count": 304,
     "metadata": {},
     "output_type": "execute_result"
    }
   ],
   "source": [
    "out_of_sumo_data"
   ]
  },
  {
   "cell_type": "code",
   "execution_count": 305,
   "id": "6e17db8d",
   "metadata": {},
   "outputs": [
    {
     "data": {
      "text/plain": [
       "608908"
      ]
     },
     "execution_count": 305,
     "metadata": {},
     "output_type": "execute_result"
    }
   ],
   "source": [
    "len(converted_data)"
   ]
  },
  {
   "cell_type": "code",
   "execution_count": 306,
   "id": "3e885e47",
   "metadata": {},
   "outputs": [],
   "source": [
    "converted_data = pd.concat([converted_data, out_of_sumo_data])"
   ]
  },
  {
   "cell_type": "code",
   "execution_count": 307,
   "id": "b3d67e66",
   "metadata": {},
   "outputs": [
    {
     "data": {
      "text/plain": [
       "672022"
      ]
     },
     "execution_count": 307,
     "metadata": {},
     "output_type": "execute_result"
    }
   ],
   "source": [
    "len(converted_data)"
   ]
  },
  {
   "cell_type": "markdown",
   "id": "14601081",
   "metadata": {},
   "source": [
    "# making CSV file"
   ]
  },
  {
   "cell_type": "code",
   "execution_count": null,
   "id": "2f4cdda6",
   "metadata": {},
   "outputs": [],
   "source": [
    "sort?"
   ]
  },
  {
   "cell_type": "code",
   "execution_count": 308,
   "id": "27fd3b2e",
   "metadata": {},
   "outputs": [],
   "source": [
    "converted_data.to_csv('new_psrc_vehicle_trips_converted_taz.csv', index=False)"
   ]
  },
  {
   "cell_type": "code",
   "execution_count": null,
   "id": "b39c4c72",
   "metadata": {},
   "outputs": [],
   "source": []
  },
  {
   "cell_type": "code",
   "execution_count": 309,
   "id": "47095408",
   "metadata": {},
   "outputs": [],
   "source": [
    "df = pd.read_csv('new_psrc_vehicle_trips_converted_taz.csv')"
   ]
  },
  {
   "cell_type": "code",
   "execution_count": 310,
   "id": "bd4f1c96",
   "metadata": {},
   "outputs": [
    {
     "data": {
      "text/html": [
       "<div>\n",
       "<style scoped>\n",
       "    .dataframe tbody tr th:only-of-type {\n",
       "        vertical-align: middle;\n",
       "    }\n",
       "\n",
       "    .dataframe tbody tr th {\n",
       "        vertical-align: top;\n",
       "    }\n",
       "\n",
       "    .dataframe thead th {\n",
       "        text-align: right;\n",
       "    }\n",
       "</style>\n",
       "<table border=\"1\" class=\"dataframe\">\n",
       "  <thead>\n",
       "    <tr style=\"text-align: right;\">\n",
       "      <th></th>\n",
       "      <th>otaz</th>\n",
       "      <th>dtaz</th>\n",
       "      <th>deptm</th>\n",
       "      <th>travtime</th>\n",
       "      <th>original_o</th>\n",
       "      <th>original_d</th>\n",
       "      <th>original_deptm</th>\n",
       "    </tr>\n",
       "  </thead>\n",
       "  <tbody>\n",
       "    <tr>\n",
       "      <th>0</th>\n",
       "      <td>5010</td>\n",
       "      <td>428</td>\n",
       "      <td>517</td>\n",
       "      <td>27</td>\n",
       "      <td>1</td>\n",
       "      <td>428</td>\n",
       "      <td>498</td>\n",
       "    </tr>\n",
       "    <tr>\n",
       "      <th>1</th>\n",
       "      <td>5010</td>\n",
       "      <td>432</td>\n",
       "      <td>321</td>\n",
       "      <td>20</td>\n",
       "      <td>1</td>\n",
       "      <td>432</td>\n",
       "      <td>304</td>\n",
       "    </tr>\n",
       "    <tr>\n",
       "      <th>2</th>\n",
       "      <td>5010</td>\n",
       "      <td>432</td>\n",
       "      <td>375</td>\n",
       "      <td>24</td>\n",
       "      <td>1</td>\n",
       "      <td>432</td>\n",
       "      <td>360</td>\n",
       "    </tr>\n",
       "    <tr>\n",
       "      <th>3</th>\n",
       "      <td>5010</td>\n",
       "      <td>432</td>\n",
       "      <td>520</td>\n",
       "      <td>26</td>\n",
       "      <td>1</td>\n",
       "      <td>432</td>\n",
       "      <td>501</td>\n",
       "    </tr>\n",
       "    <tr>\n",
       "      <th>4</th>\n",
       "      <td>5010</td>\n",
       "      <td>432</td>\n",
       "      <td>527</td>\n",
       "      <td>26</td>\n",
       "      <td>1</td>\n",
       "      <td>432</td>\n",
       "      <td>510</td>\n",
       "    </tr>\n",
       "    <tr>\n",
       "      <th>...</th>\n",
       "      <td>...</td>\n",
       "      <td>...</td>\n",
       "      <td>...</td>\n",
       "      <td>...</td>\n",
       "      <td>...</td>\n",
       "      <td>...</td>\n",
       "      <td>...</td>\n",
       "    </tr>\n",
       "    <tr>\n",
       "      <th>672017</th>\n",
       "      <td>7000</td>\n",
       "      <td>5001</td>\n",
       "      <td>626</td>\n",
       "      <td>18</td>\n",
       "      <td>726</td>\n",
       "      <td>408</td>\n",
       "      <td>618</td>\n",
       "    </tr>\n",
       "    <tr>\n",
       "      <th>672018</th>\n",
       "      <td>7000</td>\n",
       "      <td>5001</td>\n",
       "      <td>1118</td>\n",
       "      <td>22</td>\n",
       "      <td>727</td>\n",
       "      <td>365</td>\n",
       "      <td>1109</td>\n",
       "    </tr>\n",
       "    <tr>\n",
       "      <th>672019</th>\n",
       "      <td>7000</td>\n",
       "      <td>5001</td>\n",
       "      <td>910</td>\n",
       "      <td>22</td>\n",
       "      <td>727</td>\n",
       "      <td>367</td>\n",
       "      <td>902</td>\n",
       "    </tr>\n",
       "    <tr>\n",
       "      <th>672020</th>\n",
       "      <td>7000</td>\n",
       "      <td>5001</td>\n",
       "      <td>991</td>\n",
       "      <td>24</td>\n",
       "      <td>728</td>\n",
       "      <td>365</td>\n",
       "      <td>983</td>\n",
       "    </tr>\n",
       "    <tr>\n",
       "      <th>672021</th>\n",
       "      <td>7000</td>\n",
       "      <td>5001</td>\n",
       "      <td>759</td>\n",
       "      <td>20</td>\n",
       "      <td>728</td>\n",
       "      <td>367</td>\n",
       "      <td>750</td>\n",
       "    </tr>\n",
       "  </tbody>\n",
       "</table>\n",
       "<p>672022 rows × 7 columns</p>\n",
       "</div>"
      ],
      "text/plain": [
       "        otaz  dtaz  deptm  travtime  original_o  original_d  original_deptm\n",
       "0       5010   428    517        27           1         428             498\n",
       "1       5010   432    321        20           1         432             304\n",
       "2       5010   432    375        24           1         432             360\n",
       "3       5010   432    520        26           1         432             501\n",
       "4       5010   432    527        26           1         432             510\n",
       "...      ...   ...    ...       ...         ...         ...             ...\n",
       "672017  7000  5001    626        18         726         408             618\n",
       "672018  7000  5001   1118        22         727         365            1109\n",
       "672019  7000  5001    910        22         727         367             902\n",
       "672020  7000  5001    991        24         728         365             983\n",
       "672021  7000  5001    759        20         728         367             750\n",
       "\n",
       "[672022 rows x 7 columns]"
      ]
     },
     "execution_count": 310,
     "metadata": {},
     "output_type": "execute_result"
    }
   ],
   "source": [
    "df\n"
   ]
  },
  {
   "cell_type": "code",
   "execution_count": null,
   "id": "4e2e8bb7",
   "metadata": {},
   "outputs": [],
   "source": []
  }
 ],
 "metadata": {
  "kernelspec": {
   "display_name": "sumo_env",
   "language": "python",
   "name": "sumo_env"
  },
  "language_info": {
   "codemirror_mode": {
    "name": "ipython",
    "version": 3
   },
   "file_extension": ".py",
   "mimetype": "text/x-python",
   "name": "python",
   "nbconvert_exporter": "python",
   "pygments_lexer": "ipython3",
   "version": "3.9.18"
  }
 },
 "nbformat": 4,
 "nbformat_minor": 5
}
