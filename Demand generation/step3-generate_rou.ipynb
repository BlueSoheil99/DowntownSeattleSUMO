{
 "cells": [
  {
   "cell_type": "markdown",
   "id": "2bf75423",
   "metadata": {},
   "source": [
    "# Generating route files to use in SUMO from PSRC TAZ-adjusted data\n",
    "- https://sumo.dlr.de/docs/od2trips.html\n",
    "\n",
    "- https://sumo.dlr.de/docs/Demand/Importing_O/D_Matrices.html#splitting_large_matrices"
   ]
  },
  {
   "cell_type": "code",
   "execution_count": 1,
   "id": "3e7c77cf",
   "metadata": {
    "ExecuteTime": {
     "end_time": "2024-06-23T04:24:17.810006600Z",
     "start_time": "2024-06-23T04:24:16.971481Z"
    }
   },
   "outputs": [],
   "source": [
    "import pandas as pd\n",
    "import numpy as np\n",
    "import xml.etree.ElementTree as ET\n",
    "import xml.dom.minidom as minidom\n",
    "import os\n",
    "import matplotlib.pyplot as plt\n",
    "import random\n",
    "from tqdm import tqdm"
   ]
  },
  {
   "cell_type": "markdown",
   "id": "6f7fa360",
   "metadata": {},
   "source": [
    "## Configuration of our output"
   ]
  },
  {
   "cell_type": "code",
   "execution_count": 57,
   "id": "2b7cb52b",
   "metadata": {
    "ExecuteTime": {
     "end_time": "2024-06-23T04:48:57.583587100Z",
     "start_time": "2024-06-23T04:48:57.534559900Z"
    }
   },
   "outputs": [],
   "source": [
    "start_time = 5*60 # >=0\n",
    "end_time = 10*60  # <=1440\n",
    "demand_scale_factor = 1\n",
    "time_interval = 15  # minute\n",
    "\n",
    "input_file = 'psrc_vehicle_trips_converted_taz_calibrated_v2.csv'\n",
    "\n",
    "# make sure TAZ file is the latest used in the simulation\n",
    "taz_add_file = 'correct_Alaskan_modified_new_Taz_with_pseudo.add.xml'\n",
    "# taz_add_file = 'forMFD_Taz_with_pseudo.add.xml'\n",
    "# taz_add_file = os.path.join(os.path.dirname(os.getcwd()), 'Simulation', 'clean corrected inputs', taz_add_file)\n",
    "\n",
    "\n",
    "root_folder = 'demand_outputs'\n",
    "od_folder = f'output_path_{start_time}_{end_time}'\n",
    "output_name = f'{input_file[:-4]}.rou.xml'\n",
    "    \n",
    "od_directory = os.path.join(root_folder, od_folder)\n",
    "output1_directory = os.path.join(root_folder, 'alaskanway_od2trips_'+output_name)\n",
    "output2_directory = os.path.join(root_folder, 'exact_'+output_name)\n",
    "output3_directory = os.path.join(root_folder, 'TAZ_'+output_name)"
   ]
  },
  {
   "cell_type": "markdown",
   "id": "b18306e7",
   "metadata": {},
   "source": [
    "## read TAZ-adjusted trip file"
   ]
  },
  {
   "cell_type": "code",
   "execution_count": 4,
   "id": "6770faf6",
   "metadata": {
    "ExecuteTime": {
     "end_time": "2024-06-23T04:24:45.578319200Z",
     "start_time": "2024-06-23T04:24:44.989670Z"
    }
   },
   "outputs": [
    {
     "name": "stderr",
     "output_type": "stream",
     "text": [
      "C:\\Users\\Soheil99\\AppData\\Local\\Temp\\ipykernel_7820\\3633499028.py:1: DtypeWarning: Columns (6) have mixed types. Specify dtype option on import or set low_memory=False.\n",
      "  data = pd.read_csv(input_file)\n"
     ]
    },
    {
     "name": "stdout",
     "output_type": "stream",
     "text": [
      "len(data): 721697\n",
      "len(data) after removing duplicates: 720363\n",
      "len(data) after between 300 and 600: 209284\n"
     ]
    },
    {
     "data": {
      "text/plain": "        otaz  dtaz  deptm  travtime  original_o  original_d  \\\n0        426   426    329         6         426         426   \n1        426   426    368         4         426         426   \n2        426   426    453         1         426         426   \n3        426   426    454         9         426         426   \n4        426   426    479         4         426         426   \n...      ...   ...    ...       ...         ...         ...   \n209279  7005  7003    589        18         642         402   \n209280  7005  7003    593        18         642         402   \n209281  7005  7003    597        16         599         402   \n209282  7005  7003    597        17         638         398   \n209283  7005  7003    598        17         638         398   \n\n                original_deptm  \n0                          329  \n1                          368  \n2                          453  \n3                          454  \n4                          479  \n...                        ...  \n209279   582 7.595237342667255  \n209280  582 11.200215393557032  \n209281  580 17.084070221312587  \n209282                     590  \n209283  597 1.8150562081600794  \n\n[209284 rows x 7 columns]",
      "text/html": "<div>\n<style scoped>\n    .dataframe tbody tr th:only-of-type {\n        vertical-align: middle;\n    }\n\n    .dataframe tbody tr th {\n        vertical-align: top;\n    }\n\n    .dataframe thead th {\n        text-align: right;\n    }\n</style>\n<table border=\"1\" class=\"dataframe\">\n  <thead>\n    <tr style=\"text-align: right;\">\n      <th></th>\n      <th>otaz</th>\n      <th>dtaz</th>\n      <th>deptm</th>\n      <th>travtime</th>\n      <th>original_o</th>\n      <th>original_d</th>\n      <th>original_deptm</th>\n    </tr>\n  </thead>\n  <tbody>\n    <tr>\n      <th>0</th>\n      <td>426</td>\n      <td>426</td>\n      <td>329</td>\n      <td>6</td>\n      <td>426</td>\n      <td>426</td>\n      <td>329</td>\n    </tr>\n    <tr>\n      <th>1</th>\n      <td>426</td>\n      <td>426</td>\n      <td>368</td>\n      <td>4</td>\n      <td>426</td>\n      <td>426</td>\n      <td>368</td>\n    </tr>\n    <tr>\n      <th>2</th>\n      <td>426</td>\n      <td>426</td>\n      <td>453</td>\n      <td>1</td>\n      <td>426</td>\n      <td>426</td>\n      <td>453</td>\n    </tr>\n    <tr>\n      <th>3</th>\n      <td>426</td>\n      <td>426</td>\n      <td>454</td>\n      <td>9</td>\n      <td>426</td>\n      <td>426</td>\n      <td>454</td>\n    </tr>\n    <tr>\n      <th>4</th>\n      <td>426</td>\n      <td>426</td>\n      <td>479</td>\n      <td>4</td>\n      <td>426</td>\n      <td>426</td>\n      <td>479</td>\n    </tr>\n    <tr>\n      <th>...</th>\n      <td>...</td>\n      <td>...</td>\n      <td>...</td>\n      <td>...</td>\n      <td>...</td>\n      <td>...</td>\n      <td>...</td>\n    </tr>\n    <tr>\n      <th>209279</th>\n      <td>7005</td>\n      <td>7003</td>\n      <td>589</td>\n      <td>18</td>\n      <td>642</td>\n      <td>402</td>\n      <td>582 7.595237342667255</td>\n    </tr>\n    <tr>\n      <th>209280</th>\n      <td>7005</td>\n      <td>7003</td>\n      <td>593</td>\n      <td>18</td>\n      <td>642</td>\n      <td>402</td>\n      <td>582 11.200215393557032</td>\n    </tr>\n    <tr>\n      <th>209281</th>\n      <td>7005</td>\n      <td>7003</td>\n      <td>597</td>\n      <td>16</td>\n      <td>599</td>\n      <td>402</td>\n      <td>580 17.084070221312587</td>\n    </tr>\n    <tr>\n      <th>209282</th>\n      <td>7005</td>\n      <td>7003</td>\n      <td>597</td>\n      <td>17</td>\n      <td>638</td>\n      <td>398</td>\n      <td>590</td>\n    </tr>\n    <tr>\n      <th>209283</th>\n      <td>7005</td>\n      <td>7003</td>\n      <td>598</td>\n      <td>17</td>\n      <td>638</td>\n      <td>398</td>\n      <td>597 1.8150562081600794</td>\n    </tr>\n  </tbody>\n</table>\n<p>209284 rows × 7 columns</p>\n</div>"
     },
     "execution_count": 4,
     "metadata": {},
     "output_type": "execute_result"
    }
   ],
   "source": [
    "data = pd.read_csv(input_file)\n",
    "print(f'len(data): {len(data)}')\n",
    "data = data.drop_duplicates()  # it drops around 1200 trips\n",
    "print(f'len(data) after removing duplicates: {len(data)}')\n",
    "data.loc[data.deptm >= 1440, 'deptm'] = data.deptm - 1440\n",
    "\n",
    "data = data[(end_time > data.deptm) & (data.deptm >= start_time)]\n",
    "print(f'len(data) after between {start_time} and {end_time}: {len(data)}')\n",
    "\n",
    "\n",
    "data = data.sort_values(by=['otaz', 'dtaz', 'deptm', 'travtime'])\n",
    "data.reset_index(drop=True, inplace=True)\n",
    "data"
   ]
  },
  {
   "cell_type": "code",
   "execution_count": 5,
   "id": "ba941633",
   "metadata": {
    "ExecuteTime": {
     "end_time": "2024-06-23T04:24:48.610745Z",
     "start_time": "2024-06-23T04:24:48.591599500Z"
    }
   },
   "outputs": [
    {
     "data": {
      "text/plain": "Empty DataFrame\nColumns: [otaz, dtaz, deptm, travtime, original_o, original_d, original_deptm]\nIndex: []",
      "text/html": "<div>\n<style scoped>\n    .dataframe tbody tr th:only-of-type {\n        vertical-align: middle;\n    }\n\n    .dataframe tbody tr th {\n        vertical-align: top;\n    }\n\n    .dataframe thead th {\n        text-align: right;\n    }\n</style>\n<table border=\"1\" class=\"dataframe\">\n  <thead>\n    <tr style=\"text-align: right;\">\n      <th></th>\n      <th>otaz</th>\n      <th>dtaz</th>\n      <th>deptm</th>\n      <th>travtime</th>\n      <th>original_o</th>\n      <th>original_d</th>\n      <th>original_deptm</th>\n    </tr>\n  </thead>\n  <tbody>\n  </tbody>\n</table>\n</div>"
     },
     "execution_count": 5,
     "metadata": {},
     "output_type": "execute_result"
    }
   ],
   "source": [
    "data[data.otaz==400]"
   ]
  },
  {
   "cell_type": "markdown",
   "id": "86697dcd",
   "metadata": {
    "jp-MarkdownHeadingCollapsed": true
   },
   "source": [
    "## aggregate trips into time-segmented ODs"
   ]
  },
  {
   "cell_type": "code",
   "execution_count": 6,
   "id": "276e9264",
   "metadata": {
    "ExecuteTime": {
     "end_time": "2024-06-23T04:24:49.755444300Z",
     "start_time": "2024-06-23T04:24:49.633547700Z"
    }
   },
   "outputs": [
    {
     "data": {
      "text/plain": "   otaz  dtaz  deptm  travtime  original_o  original_d original_deptm interval\n0   426   426    329         6         426         426            329  315_330\n1   426   426    368         4         426         426            368  360_375\n2   426   426    453         1         426         426            453  450_465\n3   426   426    454         9         426         426            454  450_465\n4   426   426    479         4         426         426            479  465_480",
      "text/html": "<div>\n<style scoped>\n    .dataframe tbody tr th:only-of-type {\n        vertical-align: middle;\n    }\n\n    .dataframe tbody tr th {\n        vertical-align: top;\n    }\n\n    .dataframe thead th {\n        text-align: right;\n    }\n</style>\n<table border=\"1\" class=\"dataframe\">\n  <thead>\n    <tr style=\"text-align: right;\">\n      <th></th>\n      <th>otaz</th>\n      <th>dtaz</th>\n      <th>deptm</th>\n      <th>travtime</th>\n      <th>original_o</th>\n      <th>original_d</th>\n      <th>original_deptm</th>\n      <th>interval</th>\n    </tr>\n  </thead>\n  <tbody>\n    <tr>\n      <th>0</th>\n      <td>426</td>\n      <td>426</td>\n      <td>329</td>\n      <td>6</td>\n      <td>426</td>\n      <td>426</td>\n      <td>329</td>\n      <td>315_330</td>\n    </tr>\n    <tr>\n      <th>1</th>\n      <td>426</td>\n      <td>426</td>\n      <td>368</td>\n      <td>4</td>\n      <td>426</td>\n      <td>426</td>\n      <td>368</td>\n      <td>360_375</td>\n    </tr>\n    <tr>\n      <th>2</th>\n      <td>426</td>\n      <td>426</td>\n      <td>453</td>\n      <td>1</td>\n      <td>426</td>\n      <td>426</td>\n      <td>453</td>\n      <td>450_465</td>\n    </tr>\n    <tr>\n      <th>3</th>\n      <td>426</td>\n      <td>426</td>\n      <td>454</td>\n      <td>9</td>\n      <td>426</td>\n      <td>426</td>\n      <td>454</td>\n      <td>450_465</td>\n    </tr>\n    <tr>\n      <th>4</th>\n      <td>426</td>\n      <td>426</td>\n      <td>479</td>\n      <td>4</td>\n      <td>426</td>\n      <td>426</td>\n      <td>479</td>\n      <td>465_480</td>\n    </tr>\n  </tbody>\n</table>\n</div>"
     },
     "execution_count": 6,
     "metadata": {},
     "output_type": "execute_result"
    }
   ],
   "source": [
    "quotients = data.deptm//time_interval\n",
    "starts = quotients*time_interval\n",
    "intervals = starts.astype(str)+\"_\"+(starts+time_interval).astype(str)\n",
    "data['interval']= intervals\n",
    "data.head()"
   ]
  },
  {
   "cell_type": "markdown",
   "id": "5126dd6c",
   "metadata": {
    "jp-MarkdownHeadingCollapsed": true
   },
   "source": [
    "# method1:\n",
    "## generating rou.xml files for each time segment based on od2trips and origin and destination link"
   ]
  },
  {
   "cell_type": "markdown",
   "id": "3560212b",
   "metadata": {},
   "source": [
    "##### Put a route file in a folder for each 15 minutes or each minute (15 minutes makes more sense)"
   ]
  },
  {
   "cell_type": "code",
   "execution_count": 7,
   "id": "463907a4",
   "metadata": {
    "ExecuteTime": {
     "end_time": "2024-06-23T04:25:03.954438900Z",
     "start_time": "2024-06-23T04:25:03.939701900Z"
    }
   },
   "outputs": [],
   "source": [
    "def extract_od(df):\n",
    "    od_simple = {'O':[], 'D':[], 'demand':[]}\n",
    "    \n",
    "    tazs = np.sort(np.unique(df.otaz.values))\n",
    "    for o in tazs:\n",
    "        o_df = df[df['otaz']== o]       \n",
    "        destinations = np.unique(o_df.dtaz.values)\n",
    "        for d in destinations:\n",
    "            od_df = o_df[o_df['dtaz'] == d]\n",
    "            times = od_df.deptm.values             \n",
    "            od_simple['O'].append(o)\n",
    "            od_simple['D'].append(d)\n",
    "            od_simple['demand'].append(len(times))\n",
    "\n",
    "    od = pd.DataFrame(od_simple)\n",
    "    return od"
   ]
  },
  {
   "cell_type": "code",
   "execution_count": 8,
   "id": "40bd6e68",
   "metadata": {
    "ExecuteTime": {
     "end_time": "2024-06-23T04:25:04.883924100Z",
     "start_time": "2024-06-23T04:25:04.867208500Z"
    }
   },
   "outputs": [],
   "source": [
    "def reformat_time(time:str):\n",
    "    h = time//60\n",
    "    m = time%60\n",
    "    string = f'{h}.{m:02d}'\n",
    "    return string"
   ]
  },
  {
   "cell_type": "code",
   "execution_count": 9,
   "id": "f3369611",
   "metadata": {
    "ExecuteTime": {
     "end_time": "2024-06-23T04:25:05.312851500Z",
     "start_time": "2024-06-23T04:25:05.301786700Z"
    }
   },
   "outputs": [],
   "source": [
    "def generate_od2trip_od_input(df, path, interval):\n",
    "    OD_data = extract_od(df)\n",
    "    interval = interval.split('_')\n",
    "    start_time = reformat_time(int(interval[0]))\n",
    "    end_time = reformat_time(int(interval[1]))\n",
    "    \n",
    "    row, colume = np.shape(OD_data)\n",
    "    with open(path,\"w\") as OD:\n",
    "        OD.write(\"$OR;\\n\")\n",
    "        OD.write(\"*From time, TO time\\n\")\n",
    "        OD.write(f'{start_time} {end_time}\\n')\n",
    "        OD.write(\"*Factor\\n\")\n",
    "        OD.write(f\"{demand_scale_factor}\\n\")\n",
    "        OD.write(f'*Total demand: {sum(OD_data.demand)}\\n')\n",
    "        OD.write(\"*Origin\\tDestination\\tDemand:\\n\")\n",
    "        for i in range(len(OD_data)):\n",
    "            OD.write(f\"{OD_data.iloc[i,0]} {OD_data.iloc[i,1]} {OD_data.iloc[i,2]}\\n\")\n",
    "        OD.close()\n",
    "    return OD_data"
   ]
  },
  {
   "cell_type": "code",
   "execution_count": 10,
   "id": "a06c670d",
   "metadata": {
    "ExecuteTime": {
     "end_time": "2024-06-23T04:25:06.101501100Z",
     "start_time": "2024-06-23T04:25:06.083510Z"
    }
   },
   "outputs": [],
   "source": [
    "try: \n",
    "    os.mkdir(od_directory) \n",
    "except OSError as error: \n",
    "    print(error)\n",
    "# os.chdir(od_directory)"
   ]
  },
  {
   "cell_type": "code",
   "execution_count": 11,
   "id": "b1b890c4",
   "metadata": {
    "ExecuteTime": {
     "end_time": "2024-06-23T04:25:17.738865300Z",
     "start_time": "2024-06-23T04:25:07.718215500Z"
    }
   },
   "outputs": [
    {
     "name": "stdout",
     "output_type": "stream",
     "text": [
      "Generate the od_300_315.txt file\n",
      "Generate the od_315_330.txt file\n",
      "Generate the od_330_345.txt file\n",
      "Generate the od_345_360.txt file\n",
      "Generate the od_360_375.txt file\n",
      "Generate the od_375_390.txt file\n",
      "Generate the od_390_405.txt file\n",
      "Generate the od_405_420.txt file\n",
      "Generate the od_420_435.txt file\n",
      "Generate the od_435_450.txt file\n",
      "Generate the od_450_465.txt file\n",
      "Generate the od_465_480.txt file\n",
      "Generate the od_480_495.txt file\n",
      "Generate the od_495_510.txt file\n",
      "Generate the od_510_525.txt file\n",
      "Generate the od_525_540.txt file\n",
      "Generate the od_540_555.txt file\n",
      "Generate the od_555_570.txt file\n",
      "Generate the od_570_585.txt file\n",
      "Generate the od_585_600.txt file\n"
     ]
    }
   ],
   "source": [
    "intervals = sorted(set(intervals), key=lambda a:int(a.split('_')[0]))\n",
    "demands = list()\n",
    "\n",
    "od_list = ''  # it should look like: 'file1.txt, file2.txt, file3.txt' with no brackets\n",
    "for interval in intervals:\n",
    "    df = data[data.interval == interval]\n",
    "\n",
    "    od_path = os.path.join(od_directory, f'od_{interval}.txt')    \n",
    "    print(f'Generate the od_{interval}.txt file')\n",
    "    od_df = generate_od2trip_od_input(df, od_path, interval)\n",
    "    demands.append(sum(od_df.demand))\n",
    "    od_list += (od_path+',')\n",
    "    \n",
    "od_list = od_list[:-1]"
   ]
  },
  {
   "cell_type": "code",
   "execution_count": 12,
   "id": "077c1b7b",
   "metadata": {
    "scrolled": true,
    "ExecuteTime": {
     "end_time": "2024-06-23T04:25:17.945488700Z",
     "start_time": "2024-06-23T04:25:17.740865400Z"
    }
   },
   "outputs": [
    {
     "data": {
      "text/plain": "<Figure size 2000x500 with 1 Axes>",
      "image/png": "[encoded data removed]"
     },
     "metadata": {},
     "output_type": "display_data"
    }
   ],
   "source": [
    "### demand histogram\n",
    "fig = plt.figure(figsize = (20, 5))\n",
    "\n",
    "plt.bar(intervals, demands, color ='maroon', width = 0.75)\n",
    "# plt.bar(intervals, [demand/len(data) for demand in demands], color ='maroon', width = 0.75)\n",
    "plt.xticks(rotation='vertical')\n",
    "plt.xlabel(\"time interval\")\n",
    "plt.ylabel(\"Trips\")\n",
    "plt.title(f\"demand distribution over {time_interval}min intervals\")\n",
    "plt.show()"
   ]
  },
  {
   "cell_type": "code",
   "execution_count": 58,
   "id": "fb3ad296",
   "metadata": {
    "ExecuteTime": {
     "end_time": "2024-06-23T04:49:04.460628300Z",
     "start_time": "2024-06-23T04:49:02.109762700Z"
    }
   },
   "outputs": [
    {
     "data": {
      "text/plain": "0"
     },
     "execution_count": 58,
     "metadata": {},
     "output_type": "execute_result"
    }
   ],
   "source": [
    "\n",
    "query = f'od2trips -n {taz_add_file} -d {od_list} -o {output1_directory} --vtype passenger --different-source-sink true --departlane free --departspeed max'\n",
    "os.system(query)\n",
    "    "
   ]
  },
  {
   "cell_type": "markdown",
   "id": "69b7e26e",
   "metadata": {},
   "source": [
    "#### Add vtype manually to the output later"
   ]
  },
  {
   "cell_type": "markdown",
   "id": "e16b970a",
   "metadata": {
    "jp-MarkdownHeadingCollapsed": true
   },
   "source": [
    "# Method 2\n",
    "## generating rou.xml files manually based on origin and destination TAZ"
   ]
  },
  {
   "cell_type": "code",
   "execution_count": 53,
   "id": "fb088526",
   "metadata": {},
   "outputs": [],
   "source": [
    "data3 = data.sort_values(by=['deptm','otaz', 'dtaz', 'travtime'])\n",
    "data3.reset_index(drop=True, inplace=True)"
   ]
  },
  {
   "cell_type": "code",
   "execution_count": 54,
   "id": "3054fab5",
   "metadata": {},
   "outputs": [],
   "source": [
    "def generate_random_deptm(deptm):\n",
    "    lower_bound = max(start_time*60, (deptm - 5)*60)\n",
    "    upper_bound = min(end_time*60, (deptm + 5)*60+1)\n",
    "    return np.random.randint(lower_bound, upper_bound)\n",
    "\n",
    "# Apply the custom function to create the 'new_deptm' column\n",
    "data3['new_deptm'] = data3['deptm'].apply(generate_random_deptm)"
   ]
  },
  {
   "cell_type": "code",
   "execution_count": 55,
   "id": "73ff27a7",
   "metadata": {},
   "outputs": [],
   "source": [
    "# # reducing data\n",
    "# for each OD pair:\n",
    "# Finding data indices  and their deptm\n",
    "# reduce data for selected pair and keeping the same distribution"
   ]
  },
  {
   "cell_type": "code",
   "execution_count": 56,
   "id": "6c16fdd9",
   "metadata": {},
   "outputs": [],
   "source": [
    "# only keeping trips with O AND D out of downtown"
   ]
  },
  {
   "cell_type": "code",
   "execution_count": 31,
   "id": "a511bcc1",
   "metadata": {},
   "outputs": [],
   "source": [
    "# removing trips with O AND D out of downtown - Having trips as Yiran had"
   ]
  },
  {
   "cell_type": "code",
   "execution_count": 32,
   "id": "5d84ad85",
   "metadata": {},
   "outputs": [],
   "source": [
    "data3 = data3.sort_values(by=['new_deptm','otaz', 'dtaz', 'travtime'])\n",
    "data3.reset_index(drop=True, inplace=True)"
   ]
  },
  {
   "cell_type": "code",
   "execution_count": 33,
   "id": "f37fcff2",
   "metadata": {},
   "outputs": [],
   "source": [
    "def make_vtype(element):\n",
    "    element.set('id', 'passenger')\n",
    "    element.set('vClass', \"passenger\")\n",
    "    element.set('accel',\"3.2\")\n",
    "    element.set('color', 'yellow')\n",
    "    element.set('decel', '3.5')\n",
    "    element.set('length', '4')\n",
    "    element.set('maxSpeed', '200')\n",
    "    \n",
    "    # # LANE CHANGING\n",
    "#     element.set('lcStrategic', '2000')\n",
    "#     element.set('lcSpeedGain', '5')\n",
    "#     element.set('lcCooperative',\"1\")\n",
    "#     element.set('lcSpeedGainLookahead',\"5\")\n",
    "    element.set('lcStrategic', '3')\n",
    "    element.set('lcSpeedGain', '10')\n",
    "    element.set('lcCooperative',\"1\")\n",
    "    element.set('lcSpeedGainLookahead',\"3\")\n",
    "    \n",
    "    # # CAR FOLLOWING MODELS\n",
    "    element.set('minGap', \"1.5\")\n",
    "    element.set('cc1', \"0.9\")\n",
    "    element.set(\"cc2\", \"4\")\n",
    "    element.set('cc3', \"-8\")\n",
    "    element.set(\"cc4\", \"-0.1\")\n",
    "    element.set('cc5',\"0.1\")\n",
    "    element.set('cc6', \"11.44\")\n",
    "    element.set('cc7', \"0.25\")\n",
    "    element.set('cc8', \"3.5\")\n",
    "    element.set('cc9', \"1.5\")"
   ]
  },
  {
   "cell_type": "code",
   "execution_count": 64,
   "id": "ec100f19",
   "metadata": {},
   "outputs": [
    {
     "name": "stderr",
     "output_type": "stream",
     "text": [
      "166595it [00:03, 48166.19it/s]\n"
     ]
    },
    {
     "name": "stdout",
     "output_type": "stream",
     "text": [
      "DONE: demand_outputs/mix_2modified_new_psrc_vehicle_trips_converted_taz_300_600.rou.xml\n"
     ]
    }
   ],
   "source": [
    "# Create the root element\n",
    "routes = ET.Element('routes')\n",
    "\n",
    "# Create passenger vehicle type\n",
    "new_type = ET.SubElement(routes, 'vType')\n",
    "make_vtype(new_type)\n",
    "\n",
    "# Create trip elements\n",
    "for index, row in tqdm(data3.iterrows()):\n",
    "    o = str(row['otaz'])\n",
    "    oo = str(row['original_o'])\n",
    "    d = str(row['dtaz'])\n",
    "    od = str(row['original_d'])\n",
    "    dt = str(row['deptm'])\n",
    "    odt = str(row['original_deptm'])\n",
    "    tt = str(row['travtime'])\n",
    "    departure = str(row['new_deptm'])+'.0'\n",
    "    name = f'{index}:{o}to{d}@{dt}:{oo}to{od}@{odt}:{tt}m'\n",
    "    \n",
    "    # Create a new <trip> element\n",
    "    new_trip = ET.SubElement(routes, 'trip')\n",
    "    new_trip.set('id', name)\n",
    "    new_trip.set('depart', departure)\n",
    "    new_trip.set('fromTaz', o)\n",
    "    new_trip.set('toTaz', d)\n",
    "    \n",
    "    new_trip.set('type', 'passenger')\n",
    "    new_trip.set('departLane', 'free')\n",
    "    new_trip.set('departSpeed', 'max')\n",
    "    \n",
    "# Write the XML to a new file\n",
    "tree = ET.ElementTree(routes) # Create an ElementTree object with the root element\n",
    "\n",
    "# Use minidom to pretty-print the XML with spacing\n",
    "xml_string = ET.tostring(routes, encoding='utf-8')\n",
    "dom = minidom.parseString(xml_string)\n",
    "pretty_xml = dom.toprettyxml(indent='  ')\n",
    "with open(output3_directory, 'w', encoding='utf-8') as xml_file:\n",
    "    xml_file.write(pretty_xml)\n",
    "\n",
    "    \n",
    "print(f'DONE: {output3_directory}')   "
   ]
  },
  {
   "cell_type": "code",
   "execution_count": 57,
   "id": "4313f134-bc0b-4cc6-be82-b9fa81d1ada0",
   "metadata": {},
   "outputs": [
    {
     "data": {
      "text/html": [
       "<div>\n",
       "<style scoped>\n",
       "    .dataframe tbody tr th:only-of-type {\n",
       "        vertical-align: middle;\n",
       "    }\n",
       "\n",
       "    .dataframe tbody tr th {\n",
       "        vertical-align: top;\n",
       "    }\n",
       "\n",
       "    .dataframe thead th {\n",
       "        text-align: right;\n",
       "    }\n",
       "</style>\n",
       "<table border=\"1\" class=\"dataframe\">\n",
       "  <thead>\n",
       "    <tr style=\"text-align: right;\">\n",
       "      <th></th>\n",
       "      <th>otaz</th>\n",
       "      <th>dtaz</th>\n",
       "      <th>deptm</th>\n",
       "      <th>travtime</th>\n",
       "      <th>original_o</th>\n",
       "      <th>original_d</th>\n",
       "      <th>original_deptm</th>\n",
       "      <th>interval</th>\n",
       "      <th>new_deptm</th>\n",
       "    </tr>\n",
       "  </thead>\n",
       "  <tbody>\n",
       "    <tr>\n",
       "      <th>92</th>\n",
       "      <td>398</td>\n",
       "      <td>541</td>\n",
       "      <td>301</td>\n",
       "      <td>15</td>\n",
       "      <td>398</td>\n",
       "      <td>541</td>\n",
       "      <td>301</td>\n",
       "      <td>300_315</td>\n",
       "      <td>18183</td>\n",
       "    </tr>\n",
       "    <tr>\n",
       "      <th>563</th>\n",
       "      <td>355</td>\n",
       "      <td>579</td>\n",
       "      <td>307</td>\n",
       "      <td>14</td>\n",
       "      <td>355</td>\n",
       "      <td>579</td>\n",
       "      <td>307</td>\n",
       "      <td>300_315</td>\n",
       "      <td>18310</td>\n",
       "    </tr>\n",
       "    <tr>\n",
       "      <th>564</th>\n",
       "      <td>385</td>\n",
       "      <td>628</td>\n",
       "      <td>307</td>\n",
       "      <td>15</td>\n",
       "      <td>385</td>\n",
       "      <td>628</td>\n",
       "      <td>307</td>\n",
       "      <td>300_315</td>\n",
       "      <td>18144</td>\n",
       "    </tr>\n",
       "    <tr>\n",
       "      <th>655</th>\n",
       "      <td>357</td>\n",
       "      <td>582</td>\n",
       "      <td>308</td>\n",
       "      <td>14</td>\n",
       "      <td>357</td>\n",
       "      <td>582</td>\n",
       "      <td>308</td>\n",
       "      <td>300_315</td>\n",
       "      <td>18681</td>\n",
       "    </tr>\n",
       "    <tr>\n",
       "      <th>1022</th>\n",
       "      <td>352</td>\n",
       "      <td>531</td>\n",
       "      <td>312</td>\n",
       "      <td>18</td>\n",
       "      <td>352</td>\n",
       "      <td>531</td>\n",
       "      <td>312</td>\n",
       "      <td>300_315</td>\n",
       "      <td>18708</td>\n",
       "    </tr>\n",
       "    <tr>\n",
       "      <th>...</th>\n",
       "      <td>...</td>\n",
       "      <td>...</td>\n",
       "      <td>...</td>\n",
       "      <td>...</td>\n",
       "      <td>...</td>\n",
       "      <td>...</td>\n",
       "      <td>...</td>\n",
       "      <td>...</td>\n",
       "      <td>...</td>\n",
       "    </tr>\n",
       "    <tr>\n",
       "      <th>164722</th>\n",
       "      <td>386</td>\n",
       "      <td>605</td>\n",
       "      <td>597</td>\n",
       "      <td>17</td>\n",
       "      <td>386</td>\n",
       "      <td>605</td>\n",
       "      <td>597</td>\n",
       "      <td>585_600</td>\n",
       "      <td>35551</td>\n",
       "    </tr>\n",
       "    <tr>\n",
       "      <th>164723</th>\n",
       "      <td>388</td>\n",
       "      <td>631</td>\n",
       "      <td>597</td>\n",
       "      <td>18</td>\n",
       "      <td>388</td>\n",
       "      <td>631</td>\n",
       "      <td>597</td>\n",
       "      <td>585_600</td>\n",
       "      <td>35788</td>\n",
       "    </tr>\n",
       "    <tr>\n",
       "      <th>165337</th>\n",
       "      <td>355</td>\n",
       "      <td>650</td>\n",
       "      <td>598</td>\n",
       "      <td>16</td>\n",
       "      <td>355</td>\n",
       "      <td>650</td>\n",
       "      <td>598</td>\n",
       "      <td>585_600</td>\n",
       "      <td>35755</td>\n",
       "    </tr>\n",
       "    <tr>\n",
       "      <th>165338</th>\n",
       "      <td>387</td>\n",
       "      <td>577</td>\n",
       "      <td>598</td>\n",
       "      <td>16</td>\n",
       "      <td>387</td>\n",
       "      <td>577</td>\n",
       "      <td>598</td>\n",
       "      <td>585_600</td>\n",
       "      <td>35963</td>\n",
       "    </tr>\n",
       "    <tr>\n",
       "      <th>165934</th>\n",
       "      <td>398</td>\n",
       "      <td>579</td>\n",
       "      <td>599</td>\n",
       "      <td>13</td>\n",
       "      <td>398</td>\n",
       "      <td>579</td>\n",
       "      <td>599</td>\n",
       "      <td>585_600</td>\n",
       "      <td>35987</td>\n",
       "    </tr>\n",
       "  </tbody>\n",
       "</table>\n",
       "<p>758 rows × 9 columns</p>\n",
       "</div>"
      ],
      "text/plain": [
       "        otaz  dtaz  deptm  travtime  original_o  original_d  original_deptm  \\\n",
       "92       398   541    301        15         398         541             301   \n",
       "563      355   579    307        14         355         579             307   \n",
       "564      385   628    307        15         385         628             307   \n",
       "655      357   582    308        14         357         582             308   \n",
       "1022     352   531    312        18         352         531             312   \n",
       "...      ...   ...    ...       ...         ...         ...             ...   \n",
       "164722   386   605    597        17         386         605             597   \n",
       "164723   388   631    597        18         388         631             597   \n",
       "165337   355   650    598        16         355         650             598   \n",
       "165338   387   577    598        16         387         577             598   \n",
       "165934   398   579    599        13         398         579             599   \n",
       "\n",
       "       interval  new_deptm  \n",
       "92      300_315      18183  \n",
       "563     300_315      18310  \n",
       "564     300_315      18144  \n",
       "655     300_315      18681  \n",
       "1022    300_315      18708  \n",
       "...         ...        ...  \n",
       "164722  585_600      35551  \n",
       "164723  585_600      35788  \n",
       "165337  585_600      35755  \n",
       "165338  585_600      35963  \n",
       "165934  585_600      35987  \n",
       "\n",
       "[758 rows x 9 columns]"
      ]
     },
     "execution_count": 57,
     "metadata": {},
     "output_type": "execute_result"
    }
   ],
   "source": [
    "data3[data3.otaz<400]"
   ]
  },
  {
   "cell_type": "code",
   "execution_count": 66,
   "id": "675e48e7",
   "metadata": {},
   "outputs": [
    {
     "data": {
      "text/html": [
       "<div>\n",
       "<style scoped>\n",
       "    .dataframe tbody tr th:only-of-type {\n",
       "        vertical-align: middle;\n",
       "    }\n",
       "\n",
       "    .dataframe tbody tr th {\n",
       "        vertical-align: top;\n",
       "    }\n",
       "\n",
       "    .dataframe thead th {\n",
       "        text-align: right;\n",
       "    }\n",
       "</style>\n",
       "<table border=\"1\" class=\"dataframe\">\n",
       "  <thead>\n",
       "    <tr style=\"text-align: right;\">\n",
       "      <th></th>\n",
       "      <th>otaz</th>\n",
       "      <th>dtaz</th>\n",
       "      <th>deptm</th>\n",
       "      <th>travtime</th>\n",
       "      <th>original_o</th>\n",
       "      <th>original_d</th>\n",
       "      <th>original_deptm</th>\n",
       "    </tr>\n",
       "  </thead>\n",
       "  <tbody>\n",
       "    <tr>\n",
       "      <th>52009</th>\n",
       "      <td>339</td>\n",
       "      <td>527</td>\n",
       "      <td>486</td>\n",
       "      <td>21</td>\n",
       "      <td>339</td>\n",
       "      <td>527</td>\n",
       "      <td>486</td>\n",
       "    </tr>\n",
       "    <tr>\n",
       "      <th>52010</th>\n",
       "      <td>339</td>\n",
       "      <td>537</td>\n",
       "      <td>445</td>\n",
       "      <td>22</td>\n",
       "      <td>339</td>\n",
       "      <td>537</td>\n",
       "      <td>445</td>\n",
       "    </tr>\n",
       "    <tr>\n",
       "      <th>52011</th>\n",
       "      <td>339</td>\n",
       "      <td>539</td>\n",
       "      <td>400</td>\n",
       "      <td>17</td>\n",
       "      <td>339</td>\n",
       "      <td>539</td>\n",
       "      <td>400</td>\n",
       "    </tr>\n",
       "    <tr>\n",
       "      <th>52012</th>\n",
       "      <td>339</td>\n",
       "      <td>541</td>\n",
       "      <td>533</td>\n",
       "      <td>21</td>\n",
       "      <td>339</td>\n",
       "      <td>541</td>\n",
       "      <td>533</td>\n",
       "    </tr>\n",
       "    <tr>\n",
       "      <th>52013</th>\n",
       "      <td>339</td>\n",
       "      <td>541</td>\n",
       "      <td>658</td>\n",
       "      <td>20</td>\n",
       "      <td>339</td>\n",
       "      <td>541</td>\n",
       "      <td>658</td>\n",
       "    </tr>\n",
       "    <tr>\n",
       "      <th>...</th>\n",
       "      <td>...</td>\n",
       "      <td>...</td>\n",
       "      <td>...</td>\n",
       "      <td>...</td>\n",
       "      <td>...</td>\n",
       "      <td>...</td>\n",
       "      <td>...</td>\n",
       "    </tr>\n",
       "    <tr>\n",
       "      <th>76157</th>\n",
       "      <td>399</td>\n",
       "      <td>650</td>\n",
       "      <td>896</td>\n",
       "      <td>16</td>\n",
       "      <td>399</td>\n",
       "      <td>650</td>\n",
       "      <td>896</td>\n",
       "    </tr>\n",
       "    <tr>\n",
       "      <th>76158</th>\n",
       "      <td>399</td>\n",
       "      <td>652</td>\n",
       "      <td>471</td>\n",
       "      <td>16</td>\n",
       "      <td>399</td>\n",
       "      <td>652</td>\n",
       "      <td>471</td>\n",
       "    </tr>\n",
       "    <tr>\n",
       "      <th>76159</th>\n",
       "      <td>399</td>\n",
       "      <td>653</td>\n",
       "      <td>486</td>\n",
       "      <td>15</td>\n",
       "      <td>399</td>\n",
       "      <td>653</td>\n",
       "      <td>486</td>\n",
       "    </tr>\n",
       "    <tr>\n",
       "      <th>76160</th>\n",
       "      <td>399</td>\n",
       "      <td>653</td>\n",
       "      <td>559</td>\n",
       "      <td>14</td>\n",
       "      <td>399</td>\n",
       "      <td>653</td>\n",
       "      <td>559</td>\n",
       "    </tr>\n",
       "    <tr>\n",
       "      <th>76161</th>\n",
       "      <td>399</td>\n",
       "      <td>653</td>\n",
       "      <td>580</td>\n",
       "      <td>14</td>\n",
       "      <td>399</td>\n",
       "      <td>653</td>\n",
       "      <td>580</td>\n",
       "    </tr>\n",
       "  </tbody>\n",
       "</table>\n",
       "<p>1485 rows × 7 columns</p>\n",
       "</div>"
      ],
      "text/plain": [
       "       otaz  dtaz  deptm  travtime  original_o  original_d  original_deptm\n",
       "52009   339   527    486        21         339         527             486\n",
       "52010   339   537    445        22         339         537             445\n",
       "52011   339   539    400        17         339         539             400\n",
       "52012   339   541    533        21         339         541             533\n",
       "52013   339   541    658        20         339         541             658\n",
       "...     ...   ...    ...       ...         ...         ...             ...\n",
       "76157   399   650    896        16         399         650             896\n",
       "76158   399   652    471        16         399         652             471\n",
       "76159   399   653    486        15         399         653             486\n",
       "76160   399   653    559        14         399         653             559\n",
       "76161   399   653    580        14         399         653             580\n",
       "\n",
       "[1485 rows x 7 columns]"
      ]
     },
     "execution_count": 66,
     "metadata": {},
     "output_type": "execute_result"
    }
   ],
   "source": [
    "data3 = pd.read_csv(input_file)\n",
    "data3[(data3.otaz<400)]"
   ]
  },
  {
   "cell_type": "code",
   "execution_count": null,
   "id": "1d0a906e",
   "metadata": {},
   "outputs": [],
   "source": []
  }
 ],
 "metadata": {
  "kernelspec": {
   "display_name": "Python 3 (ipykernel)",
   "language": "python",
   "name": "python3"
  },
  "language_info": {
   "codemirror_mode": {
    "name": "ipython",
    "version": 3
   },
   "file_extension": ".py",
   "mimetype": "text/x-python",
   "name": "python",
   "nbconvert_exporter": "python",
   "pygments_lexer": "ipython3",
   "version": "3.11.5"
  }
 },
 "nbformat": 4,
 "nbformat_minor": 5
}
