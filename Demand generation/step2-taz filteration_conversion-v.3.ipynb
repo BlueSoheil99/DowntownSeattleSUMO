{
 "cells": [
  {
   "cell_type": "code",
   "execution_count": 1,
   "id": "08350725",
   "metadata": {},
   "outputs": [],
   "source": [
    "%matplotlib notebook\n",
    "import geopandas as gpd\n",
    "import pandas as pd\n",
    "import matplotlib.pyplot as plt\n",
    "from tqdm import tqdm\n",
    "import xml.etree.ElementTree as ET\n",
    "from IPython.display import Image\n",
    "import random"
   ]
  },
  {
   "cell_type": "code",
   "execution_count": 6,
   "id": "6b470158",
   "metadata": {},
   "outputs": [],
   "source": [
    "# trip distribution by numbers\n",
    "# merged_data.groupby(by=['COUNTY_NM', 'dest_TAZ'])['demand'].agg('sum')"
   ]
  },
  {
   "cell_type": "code",
   "execution_count": 7,
   "id": "2a4daa5a",
   "metadata": {
    "collapsed": true,
    "jupyter": {
     "outputs_hidden": true
    }
   },
   "outputs": [
    {
     "data": {
      "text/plain": [
       "COUNTY_NM  dest_TAZ \n",
       "King       King         50.854349\n",
       "           Kitsap        0.046566\n",
       "           Pierce        1.924806\n",
       "           Snohomish     2.719326\n",
       "Kitsap     King          0.044790\n",
       "           Kitsap        5.885178\n",
       "           Pierce        0.269283\n",
       "           Snohomish     0.004914\n",
       "Pierce     King          1.920831\n",
       "           Kitsap        0.269929\n",
       "           Pierce       17.268226\n",
       "           Snohomish     0.010494\n",
       "Snohomish  King          2.715734\n",
       "           Kitsap        0.005005\n",
       "           Pierce        0.010817\n",
       "           Snohomish    16.049753\n",
       "Name: demand, dtype: float64"
      ]
     },
     "execution_count": 7,
     "metadata": {},
     "output_type": "execute_result"
    }
   ],
   "source": [
    "# trip distribution by percentages\n",
    "# merged_data.groupby(by=['COUNTY_NM', 'dest_TAZ'])['demand'].agg('sum')/merged_data.demand.sum() *100"
   ]
  },
  {
   "cell_type": "markdown",
   "id": "3f6b4ed7",
   "metadata": {},
   "source": [
    "1- kitsap-kitsap/pierce trips are not relevant to king county, and percent of trips between king/snohomish and kitsap is 0.046566+ 0.044790+0.004914+0.005005 = 0.01 % \n",
    "- therefore we fully eliminate trips to/from kitsap \n",
    "\n",
    "2- snohomish-pierce and pierce-snohomish that pass trough king county are negligible (0.010817+0.010494 = 0.02%)\n",
    "- we eliminate trips between Snohomish and Pierce county\n",
    "\n",
    "3- trips within pierce and snohomish are not relevant to king county\n",
    "- we eliminate trips within Snohomish and Pierce county\n",
    "\n",
    "### therefore, we only keep trips 1- within king county, 2- between king and pierce, and 3- between king and Snohomish\n",
    "\n"
   ]
  },
  {
   "cell_type": "markdown",
   "id": "9d3f7043",
   "metadata": {},
   "source": [
    "## For Pierce and Snohomish, \n",
    "it seems that majority of trips take place either between pierce and south of downtown OR snohomish and north of downtown, so what we do is keeping only the trips between snohomish/pierce and sumo TAZs"
   ]
  },
  {
   "cell_type": "markdown",
   "id": "8bdef893",
   "metadata": {
    "jp-MarkdownHeadingCollapsed": true
   },
   "source": [
    "### final stats before further filterations\n",
    "\n"
   ]
  },
  {
   "cell_type": "code",
   "execution_count": 101,
   "id": "c7dbd040",
   "metadata": {},
   "outputs": [
    {
     "data": {
      "text/plain": [
       "COUNTY_NM  dest_TAZ \n",
       "King       King         5040054\n",
       "           Pierce        190763\n",
       "           Snohomish     269506\n",
       "Pierce     King            7352\n",
       "Snohomish  King           18304\n",
       "Name: demand, dtype: int64"
      ]
     },
     "execution_count": 101,
     "metadata": {},
     "output_type": "execute_result"
    }
   ],
   "source": [
    "# filtered_data.groupby(by=['COUNTY_NM', 'dest_TAZ'])['demand'].agg('sum')"
   ]
  },
  {
   "cell_type": "code",
   "execution_count": 10,
   "id": "2334426a",
   "metadata": {},
   "outputs": [
    {
     "data": {
      "text/plain": [
       "COUNTY_NM  dest_TAZ \n",
       "King       King         84.566906\n",
       "           Pierce        3.200806\n",
       "           Snohomish     4.522033\n",
       "Pierce     King          3.194195\n",
       "Snohomish  King          4.516059\n",
       "Name: demand, dtype: float64"
      ]
     },
     "execution_count": 10,
     "metadata": {},
     "output_type": "execute_result"
    }
   ],
   "source": [
    "# filtered_data.groupby(by=['COUNTY_NM', 'dest_TAZ'])['demand'].agg('sum')/filtered_data.demand.sum() *100"
   ]
  },
  {
   "cell_type": "markdown",
   "id": "5b9a5a7e",
   "metadata": {
    "jp-MarkdownHeadingCollapsed": true
   },
   "source": [
    "### Selecting TAZs and working with them in this notebook:\n",
    "we run the code below in qgis python plugin:\n",
    "\n",
    "<pre>\n",
    "dir = '/Users/stlp/Library/CloudStorage/GoogleDrive-soheil99@uw.edu/My Drive/reasearch codes/SUMO/MatSumo-main/SUMO/demand generation/regions'\n",
    "os.chdir(dir)\n",
    "def get_selected_TAZs(address):\n",
    "    layer = QgsProject.instance().mapLayersByName(\"taz2010\")[0]\n",
    "    selected_features = layer.selectedFeatures()\n",
    "    attribute_list = [feature['TAZ'] for feature in selected_features]\n",
    "    with open(address, 'w') as f:\n",
    "        f.write(str(attribute_list))\n",
    "        f.close()\n",
    "</pre>\n",
    "we select some regions in taz2010.shp and then use the command above like: `get_selected_TAZ('/1.txt')`\n",
    "and read selected regions in qgis here using the function below:"
   ]
  },
  {
   "cell_type": "code",
   "execution_count": 2,
   "id": "c0b54a37",
   "metadata": {},
   "outputs": [],
   "source": [
    "def _read_region(address):\n",
    "    with open(address, 'r') as f:\n",
    "        content = f.read()\n",
    "        data_list = eval(content)\n",
    "    return data_list\n",
    "\n",
    "def read_regions(address):\n",
    "    if type(address)==list:\n",
    "        outputs = []\n",
    "        for adrs in address:\n",
    "            outputs.append(_read_region(adrs))\n",
    "        return outputs\n",
    "    else:\n",
    "        return _read_region(address)\n",
    "            \n",
    "#     with open(address, 'r') as f:\n",
    "#         content = f.read()\n",
    "#         data_list = eval(content)\n",
    "#     return data_list"
   ]
  },
  {
   "cell_type": "markdown",
   "id": "7524fdcf",
   "metadata": {},
   "source": [
    "# Conversion algorithm\n",
    "So far, I was trying to eliminate useless trips. There are some trips that we ARE going to use: trips with sumo_TAZs in one end (without over-3700 TAZs or kitsap TAZs)\n",
    "\n",
    "I think the best way to deal with these trips is by starting with trips involving sumo_TAZs and then gradually add different scenarios in which vehicles will pass through sumo_TAZs.\n"
   ]
  },
  {
   "cell_type": "code",
   "execution_count": 3,
   "id": "b3f953cb",
   "metadata": {},
   "outputs": [],
   "source": [
    "# Load shapefiles\n",
    "taz_data = gpd.read_file('modified shp file/taz2010.shp')\n",
    "\n",
    "# Load CSV file\n",
    "trip_data = pd.read_csv(\"psrc_vehicle_trips.csv\")\n",
    "\n",
    "# load sumo tazs\n",
    "tree = ET.parse('correct_Alaskan_modified_new_Taz_with_pseudo.add.xml')\n",
    "root = tree.getroot()\n",
    "sumo_taz = []\n",
    "for taz in root.findall('taz'):\n",
    "    tazid = taz.get('id')\n",
    "    if tazid != 'taz_13':\n",
    "        sumo_taz.append(int(tazid))"
   ]
  },
  {
   "cell_type": "code",
   "execution_count": 4,
   "id": "0db85394",
   "metadata": {},
   "outputs": [],
   "source": [
    "# we obtain list of TAZs for each of counties so that we can use them during filtering single trips dataframe\n",
    "king = list(taz_data[taz_data['COUNTY_NM']=='King'].TAZ.values)\n",
    "pierce = list(taz_data[taz_data['COUNTY_NM']=='Pierce'].TAZ.values)\n",
    "kitsap = list(taz_data[taz_data['COUNTY_NM']=='Kitsap'].TAZ.values)\n",
    "snohomish = list(taz_data[taz_data['COUNTY_NM']=='Snohomish'].TAZ.values)"
   ]
  },
  {
   "cell_type": "code",
   "execution_count": 5,
   "id": "25157bd6",
   "metadata": {},
   "outputs": [
    {
     "data": {
      "text/plain": [
       "9985425"
      ]
     },
     "execution_count": 5,
     "metadata": {},
     "output_type": "execute_result"
    }
   ],
   "source": [
    "len(trip_data)"
   ]
  },
  {
   "cell_type": "markdown",
   "id": "8358e217",
   "metadata": {},
   "source": [
    "Eliminate over-3700s, Kitsap, and port trips"
   ]
  },
  {
   "cell_type": "code",
   "execution_count": 6,
   "id": "544f088b",
   "metadata": {},
   "outputs": [
    {
     "data": {
      "text/plain": [
       "9250192"
      ]
     },
     "execution_count": 6,
     "metadata": {},
     "output_type": "execute_result"
    }
   ],
   "source": [
    "trip_data = trip_data[~(trip_data.otaz.isin(kitsap)|trip_data.dtaz.isin(kitsap))]\n",
    "trip_data = trip_data[~((trip_data.otaz>3700)|(trip_data.dtaz>3700))]\n",
    "ports = [444, 445, 449, 478]\n",
    "trip_data = trip_data[~(trip_data.otaz.isin(ports)|trip_data.dtaz.isin(ports))]\n",
    "len(trip_data)"
   ]
  },
  {
   "cell_type": "markdown",
   "id": "72986f79",
   "metadata": {},
   "source": [
    "## TAZ conversion for sumo_TAZs included trips"
   ]
  },
  {
   "cell_type": "code",
   "execution_count": 7,
   "id": "5c6746ac",
   "metadata": {},
   "outputs": [],
   "source": [
    "trip_data['original_o'] = trip_data.otaz\n",
    "trip_data['original_d'] = trip_data.dtaz\n",
    "trip_data['original_deptm'] = trip_data.deptm\n",
    "# adding more columns will increase computation time in next steps"
   ]
  },
  {
   "cell_type": "code",
   "execution_count": 8,
   "id": "2f8c0631",
   "metadata": {},
   "outputs": [
    {
     "data": {
      "text/plain": [
       "608908"
      ]
     },
     "execution_count": 8,
     "metadata": {},
     "output_type": "execute_result"
    }
   ],
   "source": [
    "converted_data = trip_data[trip_data.otaz.isin(sumo_taz) | trip_data.dtaz.isin(sumo_taz)]\n",
    "len(converted_data)"
   ]
  },
  {
   "cell_type": "code",
   "execution_count": 9,
   "id": "755403ab",
   "metadata": {},
   "outputs": [
    {
     "name": "stdout",
     "output_type": "stream",
     "text": [
      "         otaz  dtaz  deptm  travtime  original_o  original_d  original_deptm\n",
      "126         1     5    482         5           1           5             482\n",
      "127         1     5    482         6           1           5             482\n",
      "1244        2     1   1107         2           2           1            1107\n",
      "1245        2     1   1107         5           2           1            1107\n",
      "1290        2     2   1018         4           2           2            1018\n",
      "...       ...   ...    ...       ...         ...         ...             ...\n",
      "9331718  3466  3466   1013         3        3466        3466            1013\n",
      "9331724  3466  3466   1040        22        3466        3466            1040\n",
      "9331725  3466  3466   1040         1        3466        3466            1040\n",
      "9331739  3466  3466   1123        52        3466        3466            1123\n",
      "9331740  3466  3466   1123        16        3466        3466            1123\n",
      "\n",
      "[567030 rows x 7 columns]\n"
     ]
    }
   ],
   "source": [
    "duplicate_rows = trip_data[trip_data.duplicated(subset=['otaz', 'dtaz', 'deptm'], keep=False)]\n",
    "print(duplicate_rows)"
   ]
  },
  {
   "cell_type": "markdown",
   "id": "e73df51b",
   "metadata": {},
   "source": [
    "### for Pierce and Snohomish trips\n",
    "Based on map of highways, we can assign pierce to I5-south (5002, 5003) and snohomish to I5-north (5000, 5001).  It is not exact and there could be many many trips passing through bellevue instead of I-5."
   ]
  },
  {
   "cell_type": "code",
   "execution_count": 10,
   "id": "45f75055",
   "metadata": {},
   "outputs": [],
   "source": [
    "def random_split_dataframe(df, percentage):\n",
    "    if percentage < 0 or percentage > 100:\n",
    "        raise ValueError(\"Percentage should be between 0 and 100\")\n",
    "\n",
    "    # Shuffle the DataFrame to randomize the order\n",
    "    df = df.sample(frac=1, random_state=1)\n",
    "\n",
    "    # Calculate the number of rows for the first part (X%)\n",
    "    num_rows = len(df)\n",
    "    split_index = int(num_rows * percentage / 100)\n",
    "\n",
    "    # Split the DataFrame into two parts\n",
    "    part1 = df.iloc[:split_index, :]\n",
    "    part2 = df.iloc[split_index:, :]\n",
    "\n",
    "    return part1, part2"
   ]
  },
  {
   "cell_type": "code",
   "execution_count": 11,
   "id": "f4f0d5fe",
   "metadata": {},
   "outputs": [],
   "source": [
    "# interval = 15\n",
    "def get_intra_TAZ_traveltime(o_list, d_list, interval=15, exact_time = None):\n",
    "    if exact_time is None:\n",
    "        trips = trip_data[trip_data.otaz.isin(o_list) & trip_data.dtaz.isin(d_list)]\n",
    "        average = round(trips.travtime.mean())\n",
    "        time_offsets = list()\n",
    "        for start in range(0,1440, interval):\n",
    "            end = start+interval\n",
    "            interval_trips = trips[trips.deptm.isin(range(start, end))]\n",
    "            average_time = interval_trips.travtime.mean()\n",
    "            if pd.isna(average_time):\n",
    "                time_offsets.append(average)\n",
    "            else:\n",
    "                time_offsets.append(round(average_time))\n",
    "        return time_offsets\n",
    "    else:\n",
    "        trips = trip_data[trip_data.otaz.isin(o_list) & \n",
    "                          trip_data.dtaz.isin(d_list) &\n",
    "                          trip_data.deptm.isin(range(int(exact_time-interval/2), int(exact_time+interval/2)+1))]\n",
    "\n",
    "        average = trips.travtime.mean()\n",
    "        return average"
   ]
  },
  {
   "cell_type": "code",
   "execution_count": 12,
   "id": "9478717d",
   "metadata": {},
   "outputs": [],
   "source": [
    "def get_random_TAZ(taz_list):\n",
    "    if type(taz_list)==list:\n",
    "        return random.choice(taz_list)\n",
    "    else:\n",
    "        return taz_list"
   ]
  },
  {
   "cell_type": "code",
   "execution_count": 13,
   "id": "56d5e7e1",
   "metadata": {},
   "outputs": [],
   "source": [
    "def convert1(invalid_TAZs, near_pseudo_TAZs, pseudo_taz_in, pseudo_taz_out, df=None):\n",
    "    if df is None:\n",
    "            df = converted_data[converted_data.otaz.isin(invalid_TAZs)|converted_data.dtaz.isin(invalid_TAZs)]\n",
    "    invalid_to_near_tt = get_intra_TAZ_traveltime(invalid_TAZs, near_pseudo_TAZs)\n",
    "#     print(f\"it'll take {len(df)} iterations.\")\n",
    "    for index, row in tqdm(df.iterrows()):\n",
    "        interval = int(row.deptm//15)\n",
    "        if row.otaz in invalid_TAZs:\n",
    "            row.otaz = get_random_TAZ(pseudo_taz_in)\n",
    "            row.deptm += invalid_to_near_tt[interval]\n",
    "        elif row.dtaz in invalid_TAZs:\n",
    "            row.dtaz = get_random_TAZ(pseudo_taz_out)\n",
    "        converted_data.loc[index, :] = row "
   ]
  },
  {
   "cell_type": "code",
   "execution_count": 14,
   "id": "1491353f",
   "metadata": {},
   "outputs": [],
   "source": [
    "sumo_s = read_regions('regions/sumo_south.txt')\n",
    "sumo_n = [taz for taz in sumo_taz if taz not in sumo_s]\n",
    "sumo_e = read_regions('regions/sumo_east.txt') \n",
    "sumo_w = [taz for taz in sumo_taz if taz not in sumo_e]\n",
    "near_i90 = read_regions('regions/near_i90.txt')"
   ]
  },
  {
   "cell_type": "code",
   "execution_count": 15,
   "id": "7eb8b881",
   "metadata": {},
   "outputs": [
    {
     "data": {
      "text/html": [
       "<img src=\"regions/i5.png\" width=\"300\" height=\"300\"/>"
      ],
      "text/plain": [
       "<IPython.core.display.Image object>"
      ]
     },
     "execution_count": 15,
     "metadata": {},
     "output_type": "execute_result"
    }
   ],
   "source": [
    "Image(url=\"regions/i5.png\", width=300, height=300)"
   ]
  },
  {
   "cell_type": "code",
   "execution_count": 16,
   "id": "033e1f74",
   "metadata": {},
   "outputs": [],
   "source": [
    "near_i5n=[381, 382, 406, 407, 428, 430]\n",
    "near_i5s=[649, 650, 657, 669, 670] \n",
    "nearSR99n = read_regions('regions/near_SR99N.txt')\n",
    "near6001 = read_regions('regions/near6001.txt')\n",
    "\n",
    "#v.3\n",
    "southboundary = read_regions('regions/south_boundary.txt')\n",
    "north1boundary = read_regions('regions/north1_boundary.txt')\n",
    "north2boundary = read_regions('regions/north2_boundary.txt')\n",
    "north3boundary = read_regions('regions/north3_boundary.txt')\n",
    "east1boundary = read_regions('regions/east1_boundary.txt')\n",
    "east2boundary = read_regions('regions/east2_boundary.txt')\n",
    "industrial=read_regions('regions/version2/industrial.txt')\n"
   ]
  },
  {
   "cell_type": "code",
   "execution_count": 17,
   "id": "b9ec3774",
   "metadata": {},
   "outputs": [
    {
     "name": "stderr",
     "output_type": "stream",
     "text": [
      "14553it [01:50, 131.62it/s]\n"
     ]
    }
   ],
   "source": [
    "convert1(pierce, near_i5s, 5002, 5003)"
   ]
  },
  {
   "cell_type": "code",
   "execution_count": 18,
   "id": "d1603870",
   "metadata": {},
   "outputs": [],
   "source": [
    "# convert1(snohomish, near_i5n, 5000, 5001)\n",
    "# it'll take 36268 iterations"
   ]
  },
  {
   "cell_type": "markdown",
   "id": "31982b43",
   "metadata": {},
   "source": [
    "## newer stuff\n",
    "--------"
   ]
  },
  {
   "cell_type": "code",
   "execution_count": 19,
   "id": "f4446026",
   "metadata": {},
   "outputs": [],
   "source": [
    "def north_trips_handler(invalid_TAZs):\n",
    "    df = converted_data[converted_data.otaz.isin(invalid_TAZs)|converted_data.dtaz.isin(invalid_TAZs)]\n",
    "    print(f'total trips: {len(df)}')\n",
    "    # if trips go to north1\n",
    "#     north1=[426, 427, 428, 429]\n",
    "    north1 = [426, 427, 428, 429, 549, 551, 553] #v.3\n",
    "    df1 = df[df.otaz.isin(north1)|df.dtaz.isin(north1)]\n",
    "    convert1(invalid_TAZs, near_i5n, [5000, 7001], [5001, 7001], df=df1)\n",
    "#     convert1(invalid_TAZs, near_i5n, [5000, 7001], 5001,  df=df1) #v.3\n",
    "\n",
    "    # if trips go to north2\n",
    "    north21=[430, 432, 434]\n",
    "    df1 = df[df.otaz.isin(north21)|df.dtaz.isin(north21)]\n",
    "    convert1(invalid_TAZs, near_i5n, 7002, 7002, df=df1)\n",
    "\n",
    "    north22 = [431, 433, 435]\n",
    "    df1 = df[df.otaz.isin(north22)|df.dtaz.isin(north22)]\n",
    "    convert1(invalid_TAZs, near_i5n, [5000, 7002], 7002, df=df1)\n",
    "\n",
    "\n",
    "    # if trips go to north3\n",
    "    north3=[436, 437, 438, 439, 440, 441, 442, 443]\n",
    "    df1 = df[df.otaz.isin(north3)|df.dtaz.isin(north3)]\n",
    "    convert1(invalid_TAZs, nearSR99n, [5010, 7003], [5011, 7003], df=df1)\n",
    "\n",
    "    # if trips go to downtown north west\n",
    "    df = converted_data[converted_data.otaz.isin(invalid_TAZs)|converted_data.dtaz.isin(invalid_TAZs)]\n",
    "    df1 = df[df.otaz.isin(sumo_w)|df.dtaz.isin(sumo_w)]\n",
    "    df1 = df1[df1.otaz.isin(sumo_n)|df1.dtaz.isin(sumo_n)]\n",
    "    \n",
    "    df25, df75 = random_split_dataframe(df1, 25)\n",
    "    convert1(invalid_TAZs, nearSR99n, 5010, 5011, df=df25)\n",
    "    convert1(invalid_TAZs, near_i5n, 5000, 5001, df=df75)\n",
    "    \n",
    "\n",
    "    # other trips \n",
    "    convert1(invalid_TAZs, near_i5n, 5000, 5001)"
   ]
  },
  {
   "cell_type": "code",
   "execution_count": 20,
   "id": "d6492b3d",
   "metadata": {},
   "outputs": [
    {
     "name": "stdout",
     "output_type": "stream",
     "text": [
      "total trips: 36268\n"
     ]
    },
    {
     "name": "stderr",
     "output_type": "stream",
     "text": [
      "1135it [00:08, 133.72it/s]\n",
      "3634it [00:27, 134.36it/s]\n",
      "2694it [00:19, 135.63it/s]\n",
      "2127it [00:15, 134.93it/s]\n",
      "2969it [00:22, 129.83it/s]\n",
      "8910it [01:35, 93.76it/s] \n",
      "14799it [02:00, 122.55it/s]\n"
     ]
    }
   ],
   "source": [
    "north_trips_handler(snohomish)"
   ]
  },
  {
   "cell_type": "code",
   "execution_count": 21,
   "id": "14dc95c0",
   "metadata": {},
   "outputs": [],
   "source": [
    "def northeast_trips_handler(invalid_TAZs):\n",
    "    df = converted_data[converted_data.otaz.isin(invalid_TAZs)|converted_data.dtaz.isin(invalid_TAZs)]\n",
    "    print(f'total trips: {len(df)}')\n",
    "    # if trips go to north1\n",
    "#     north1=[426, 427, 428, 429]\n",
    "    north1 = [426, 427, 428, 429, 549, 551, 553] #v.3\n",
    "    df1 = df[df.otaz.isin(north1)|df.dtaz.isin(north1)]\n",
    "    convert1(invalid_TAZs, near_i5n, [5000, 7001], 5001, df=df1)\n",
    "\n",
    "    # if trips go to north2\n",
    "    north21=[430, 432, 434]\n",
    "    df1 = df[df.otaz.isin(north21)|df.dtaz.isin(north21)]\n",
    "    convert1(invalid_TAZs, near_i5n, 7002, 7002, df=df1)\n",
    "\n",
    "    north22 = [431, 433, 435]\n",
    "    df1 = df[df.otaz.isin(north22)|df.dtaz.isin(north22)]\n",
    "    convert1(invalid_TAZs, near_i5n, [5000, 7002], 7002, df=df1)\n",
    "\n",
    "\n",
    "    # if trips go to north3\n",
    "    north3=[436, 437, 438, 439, 440, 441, 442, 443]\n",
    "    df1 = df[df.otaz.isin(north3)|df.dtaz.isin(north3)]\n",
    "    convert1(invalid_TAZs, nearSR99n, 7003, 7003, df=df1)\n",
    "\n",
    "    # other trips \n",
    "    convert1(invalid_TAZs, near_i5n, 5000, 5001)"
   ]
  },
  {
   "cell_type": "code",
   "execution_count": 22,
   "id": "6eb0730d",
   "metadata": {},
   "outputs": [],
   "source": [
    "def northwest_trips_handler(invalid_TAZs):\n",
    "    df = converted_data[converted_data.otaz.isin(invalid_TAZs)|converted_data.dtaz.isin(invalid_TAZs)]\n",
    "    print(f'total trips: {len(df)}')\n",
    "    # if trips go to north1\n",
    "#     north1=[426, 427, 428, 429]\n",
    "    north1 = [426, 427, 428, 429, 549, 551, 553] #v.3\n",
    "    df1 = df[df.otaz.isin(north1)|df.dtaz.isin(north1)]\n",
    "    convert1(invalid_TAZs, near_i5n+nearSR99n, [5010, 7001], [5001, 7001], df=df1)\n",
    "\n",
    "    # if trips go to north21\n",
    "    north21=[430, 432, 434]\n",
    "    df1 = df[df.otaz.isin(north21)|df.dtaz.isin(north21)]\n",
    "#     convert1(invalid_TAZs, nearSR99n, 5010, [5011, 7002], df=df1)\n",
    "    convert1(invalid_TAZs, nearSR99n, [5010, 7002], 7002, df=df1) #v.3\n",
    "    \n",
    "    # v.3 - if trips go to north22\n",
    "    north22=[431, 433, 435]\n",
    "    df1 = df[df.otaz.isin(north22)|df.dtaz.isin(north22)]\n",
    "    convert1(invalid_TAZs, nearSR99n, [5010, 7002], 5011, df=df1)\n",
    "\n",
    "    # if trips go to north32\n",
    "    north3=[440, 441, 442, 443,446, 447, 448, 450, 451, 452, 453, 457, 458, 459, 460, 467, 468, 469]\n",
    "    df1 = df[df.otaz.isin(north3)|df.dtaz.isin(north3)]\n",
    "#     convert1(invalid_TAZs, nearSR99n+near6001, [5010, 6001], [5011, 6001], df=df1)\n",
    "    #v.3\n",
    "    df30, df70 = random_split_dataframe(df1, 30)\n",
    "    convert1(invalid_TAZs, nearSR99n, 5010, 5011, df30)\n",
    "    convert1(invalid_TAZs, near6001, 6001, 6001, df70)\n",
    "\n",
    "\n",
    "    # if trips go to downtown east\n",
    "    df = converted_data[converted_data.otaz.isin(invalid_TAZs)|converted_data.dtaz.isin(invalid_TAZs)]\n",
    "    df1 = df[df.otaz.isin(sumo_e)|df.dtaz.isin(sumo_e)]\n",
    "    df20, df80 = random_split_dataframe(df1, 20)\n",
    "    convert1(invalid_TAZs, near_i5n, 5000, 5001, df=df80)\n",
    "    convert1(invalid_TAZs, nearSR99n, 5010, 5011, df=df20)\n",
    "\n",
    "    # other trips \n",
    "#     convert1(invalid_TAZs, nearSR99n, 5010, 5011)\n",
    "    df = converted_data[converted_data.otaz.isin(invalid_TAZs)|converted_data.dtaz.isin(invalid_TAZs)]\n",
    "    df = df[df.otaz.isin(sumo_n)|df.dtaz.isin(sumo_n)] #v.3 northwest trips\n",
    "    df20, df80 = random_split_dataframe(df, 20)\n",
    "    convert1(invalid_TAZs, nearSR99n, 5010, 5011, df80)\n",
    "    convert1(invalid_TAZs, near6001, 6001, 6001, df20)\n",
    "    \n",
    "    df = converted_data[converted_data.otaz.isin(invalid_TAZs)|converted_data.dtaz.isin(invalid_TAZs)]\n",
    "    df20, df80 = random_split_dataframe(df, 20)\n",
    "    convert1(invalid_TAZs, near_i5n, 5000, 5001, df=df20)\n",
    "    convert1(invalid_TAZs, nearSR99n, 5010, 5011, df=df80)\n",
    "    \n",
    "    # could add one for industrial zone"
   ]
  },
  {
   "cell_type": "markdown",
   "id": "4e1778a4",
   "metadata": {},
   "source": [
    "### for trips within king county"
   ]
  },
  {
   "cell_type": "code",
   "execution_count": 23,
   "id": "45ee2580",
   "metadata": {},
   "outputs": [
    {
     "data": {
      "text/html": [
       "<img src=\"regions/version2/north1.png\" width=\"300\" height=\"300\"/>"
      ],
      "text/plain": [
       "<IPython.core.display.Image object>"
      ]
     },
     "execution_count": 23,
     "metadata": {},
     "output_type": "execute_result"
    }
   ],
   "source": [
    "Image(url=\"regions/version2/north1.png\", width=300, height=300)"
   ]
  },
  {
   "cell_type": "code",
   "execution_count": 24,
   "id": "1e627302",
   "metadata": {},
   "outputs": [
    {
     "name": "stdout",
     "output_type": "stream",
     "text": [
      "total trips: 11749\n"
     ]
    },
    {
     "name": "stderr",
     "output_type": "stream",
     "text": [
      "424it [00:04, 95.74it/s] \n",
      "1131it [00:10, 105.59it/s]\n",
      "922it [00:09, 96.93it/s] \n",
      "745it [00:06, 118.36it/s]\n",
      "1019it [00:07, 130.04it/s]\n",
      "3060it [00:23, 131.91it/s]\n",
      "4448it [00:33, 131.42it/s]\n"
     ]
    }
   ],
   "source": [
    "north_trips_handler(read_regions('regions/version2/north1.txt'))"
   ]
  },
  {
   "cell_type": "code",
   "execution_count": 25,
   "id": "2a3a581a",
   "metadata": {
    "scrolled": true
   },
   "outputs": [
    {
     "data": {
      "text/html": [
       "<img src=\"regions/version2/north2.png\" width=\"300\" height=\"300\"/>"
      ],
      "text/plain": [
       "<IPython.core.display.Image object>"
      ]
     },
     "execution_count": 25,
     "metadata": {},
     "output_type": "execute_result"
    }
   ],
   "source": [
    "Image(url=\"regions/version2/north2.png\", width=300, height=300)"
   ]
  },
  {
   "cell_type": "code",
   "execution_count": 26,
   "id": "6fdb0cbf",
   "metadata": {
    "scrolled": true
   },
   "outputs": [
    {
     "name": "stdout",
     "output_type": "stream",
     "text": [
      "total trips: 3878\n"
     ]
    },
    {
     "name": "stderr",
     "output_type": "stream",
     "text": [
      "123it [00:01, 101.35it/s]\n",
      "453it [00:03, 117.59it/s]\n",
      "363it [00:02, 136.57it/s]\n",
      "183it [00:01, 137.04it/s]\n",
      "342it [00:02, 137.04it/s]\n",
      "1028it [00:07, 134.11it/s]\n",
      "1386it [00:13, 106.27it/s]\n"
     ]
    }
   ],
   "source": [
    "north_trips_handler(read_regions('regions/version2/north2.txt'))"
   ]
  },
  {
   "cell_type": "code",
   "execution_count": 27,
   "id": "6b2f3f74",
   "metadata": {
    "scrolled": true
   },
   "outputs": [
    {
     "data": {
      "text/html": [
       "<img src=\"regions/version2/north3.png\" width=\"300\" height=\"300\"/>"
      ],
      "text/plain": [
       "<IPython.core.display.Image object>"
      ]
     },
     "execution_count": 27,
     "metadata": {},
     "output_type": "execute_result"
    }
   ],
   "source": [
    "Image(url=\"regions/version2/north3.png\", width=300, height=300)"
   ]
  },
  {
   "cell_type": "code",
   "execution_count": 28,
   "id": "6399023d",
   "metadata": {
    "scrolled": true
   },
   "outputs": [
    {
     "name": "stdout",
     "output_type": "stream",
     "text": [
      "total trips: 15273\n"
     ]
    },
    {
     "name": "stderr",
     "output_type": "stream",
     "text": [
      "537it [00:05, 97.54it/s] \n",
      "1499it [00:11, 127.71it/s]\n",
      "1269it [00:09, 136.14it/s]\n",
      "913it [00:07, 117.73it/s]\n",
      "1324it [00:16, 82.07it/s] \n",
      "3974it [00:43, 92.40it/s] \n",
      "5757it [00:55, 103.45it/s]\n"
     ]
    }
   ],
   "source": [
    "north_trips_handler(read_regions('regions/version2/north3.txt'))"
   ]
  },
  {
   "cell_type": "code",
   "execution_count": 29,
   "id": "d27068b1",
   "metadata": {
    "scrolled": true
   },
   "outputs": [
    {
     "data": {
      "text/html": [
       "<img src=\"regions/version2/north4.png\" width=\"300\" height=\"300\"/>"
      ],
      "text/plain": [
       "<IPython.core.display.Image object>"
      ]
     },
     "execution_count": 29,
     "metadata": {},
     "output_type": "execute_result"
    }
   ],
   "source": [
    "Image(url=\"regions/version2/north4.png\", width=300, height=300)"
   ]
  },
  {
   "cell_type": "code",
   "execution_count": 30,
   "id": "e5357b7b",
   "metadata": {},
   "outputs": [
    {
     "name": "stdout",
     "output_type": "stream",
     "text": [
      "total trips: 11794\n"
     ]
    },
    {
     "name": "stderr",
     "output_type": "stream",
     "text": [
      "461it [00:05, 92.08it/s]\n",
      "1367it [00:14, 91.20it/s]\n",
      "1097it [00:12, 85.03it/s] \n",
      "634it [00:05, 121.74it/s]\n",
      "1011it [00:08, 123.37it/s]\n",
      "3034it [00:25, 121.03it/s]\n",
      "4190it [00:34, 122.87it/s]\n"
     ]
    }
   ],
   "source": [
    "north_trips_handler(read_regions('regions/version2/north4.txt'))"
   ]
  },
  {
   "cell_type": "code",
   "execution_count": 31,
   "id": "eb222da4",
   "metadata": {
    "scrolled": true
   },
   "outputs": [
    {
     "data": {
      "text/html": [
       "<img src=\"regions/version2/north5.png\" width=\"300\" height=\"300\"/>"
      ],
      "text/plain": [
       "<IPython.core.display.Image object>"
      ]
     },
     "execution_count": 31,
     "metadata": {},
     "output_type": "execute_result"
    }
   ],
   "source": [
    "Image(url=\"regions/version2/north5.png\", width=300, height=300)"
   ]
  },
  {
   "cell_type": "code",
   "execution_count": 32,
   "id": "cacaa2ee",
   "metadata": {},
   "outputs": [
    {
     "name": "stdout",
     "output_type": "stream",
     "text": [
      "total trips: 12334\n"
     ]
    },
    {
     "name": "stderr",
     "output_type": "stream",
     "text": [
      "460it [00:04, 111.96it/s]\n",
      "1515it [00:12, 118.48it/s]\n",
      "1227it [00:09, 126.32it/s]\n",
      "631it [00:05, 124.58it/s]\n",
      "8501it [01:10, 120.62it/s]\n"
     ]
    }
   ],
   "source": [
    "northeast_trips_handler(read_regions('regions/version2/north5.txt'))"
   ]
  },
  {
   "cell_type": "code",
   "execution_count": 33,
   "id": "8856d1f6",
   "metadata": {},
   "outputs": [
    {
     "data": {
      "text/html": [
       "<img src=\"regions/version2/north6.png\" width=\"300\" height=\"300\"/>"
      ],
      "text/plain": [
       "<IPython.core.display.Image object>"
      ]
     },
     "execution_count": 33,
     "metadata": {},
     "output_type": "execute_result"
    }
   ],
   "source": [
    "Image(url=\"regions/version2/north6.png\", width=300, height=300)"
   ]
  },
  {
   "cell_type": "code",
   "execution_count": 34,
   "id": "be3b317f",
   "metadata": {},
   "outputs": [
    {
     "name": "stdout",
     "output_type": "stream",
     "text": [
      "total trips: 21517\n"
     ]
    },
    {
     "name": "stderr",
     "output_type": "stream",
     "text": [
      "1425it [00:11, 124.42it/s]\n",
      "2650it [00:21, 123.90it/s]\n",
      "2097it [00:17, 118.28it/s]\n",
      "1173it [00:09, 126.63it/s]\n",
      "1732it [00:13, 129.05it/s]\n",
      "5199it [00:49, 106.06it/s]\n",
      "7241it [00:58, 123.35it/s]\n"
     ]
    }
   ],
   "source": [
    "north_trips_handler(read_regions('regions/version2/north6.txt'))"
   ]
  },
  {
   "cell_type": "code",
   "execution_count": 35,
   "id": "44915d6e",
   "metadata": {},
   "outputs": [
    {
     "data": {
      "text/html": [
       "<img src=\"regions/version2/north7.png\" width=\"300\" height=\"300\"/>"
      ],
      "text/plain": [
       "<IPython.core.display.Image object>"
      ]
     },
     "execution_count": 35,
     "metadata": {},
     "output_type": "execute_result"
    }
   ],
   "source": [
    "Image(url=\"regions/version2/north7.png\", width=300, height=300)"
   ]
  },
  {
   "cell_type": "code",
   "execution_count": 36,
   "id": "6b8bf351",
   "metadata": {},
   "outputs": [
    {
     "name": "stdout",
     "output_type": "stream",
     "text": [
      "total trips: 19859\n"
     ]
    },
    {
     "name": "stderr",
     "output_type": "stream",
     "text": [
      "650it [00:05, 125.32it/s]\n",
      "2875it [00:24, 116.37it/s]\n",
      "2215it [00:17, 127.60it/s]\n",
      "551it [00:04, 122.56it/s]\n",
      "1288it [00:10, 121.40it/s]\n",
      "1879it [00:15, 123.83it/s]\n",
      "469it [00:03, 122.02it/s]\n",
      "5341it [00:45, 118.50it/s]\n",
      "1335it [00:11, 120.03it/s]\n",
      "651it [00:06, 96.69it/s]\n",
      "2605it [00:29, 88.06it/s]\n"
     ]
    }
   ],
   "source": [
    "northwest_trips_handler(read_regions('regions/version2/north7.txt')+[337, 338, 356])"
   ]
  },
  {
   "cell_type": "code",
   "execution_count": 37,
   "id": "a233fc58",
   "metadata": {},
   "outputs": [
    {
     "data": {
      "text/html": [
       "<img src=\"regions/version2/north8.png\" width=\"300\" height=\"300\"/>"
      ],
      "text/plain": [
       "<IPython.core.display.Image object>"
      ]
     },
     "execution_count": 37,
     "metadata": {},
     "output_type": "execute_result"
    }
   ],
   "source": [
    "Image(url=\"regions/version2/north8.png\", width=300, height=300)"
   ]
  },
  {
   "cell_type": "code",
   "execution_count": 38,
   "id": "8ad00eaf",
   "metadata": {},
   "outputs": [
    {
     "name": "stdout",
     "output_type": "stream",
     "text": [
      "total trips: 9358\n"
     ]
    },
    {
     "name": "stderr",
     "output_type": "stream",
     "text": [
      "208it [00:02, 82.65it/s]\n",
      "1074it [00:11, 90.27it/s]\n",
      "890it [00:09, 91.21it/s]\n",
      "295it [00:03, 91.65it/s]\n",
      "690it [00:07, 88.09it/s]\n",
      "948it [00:10, 86.41it/s]\n",
      "237it [00:02, 89.17it/s]\n",
      "2450it [00:32, 74.95it/s]\n",
      "612it [00:06, 100.90it/s]\n",
      "390it [00:03, 101.17it/s]\n",
      "1564it [00:16, 94.12it/s] \n"
     ]
    }
   ],
   "source": [
    "northwest_trips_handler(read_regions('regions/version2/north8.txt'))"
   ]
  },
  {
   "cell_type": "code",
   "execution_count": 39,
   "id": "45b9cf34",
   "metadata": {},
   "outputs": [
    {
     "data": {
      "text/html": [
       "<img src=\"regions/version2/north9.png\" width=\"300\" height=\"300\"/>"
      ],
      "text/plain": [
       "<IPython.core.display.Image object>"
      ]
     },
     "execution_count": 39,
     "metadata": {},
     "output_type": "execute_result"
    }
   ],
   "source": [
    "Image(url=\"regions/version2/north9.png\", width=300, height=300)"
   ]
  },
  {
   "cell_type": "code",
   "execution_count": 40,
   "id": "120049fd",
   "metadata": {},
   "outputs": [
    {
     "name": "stdout",
     "output_type": "stream",
     "text": [
      "total trips: 12236\n"
     ]
    },
    {
     "name": "stderr",
     "output_type": "stream",
     "text": [
      "960it [00:09, 104.85it/s]\n",
      "240it [00:02, 103.48it/s]\n",
      "787it [00:07, 108.74it/s]\n",
      "2049it [00:21, 97.35it/s] \n",
      "8200it [01:22, 99.03it/s] \n"
     ]
    }
   ],
   "source": [
    "invalid_TAZs = read_regions('regions/version2/north9.txt')\n",
    "df = converted_data[converted_data.otaz.isin(invalid_TAZs)|converted_data.dtaz.isin(invalid_TAZs)]\n",
    "print(f'total trips: {len(df)}')\n",
    "\n",
    "# if trips go to north3\n",
    "north32=[436, 437, 438, 439, 440, 441, 442, 443]\n",
    "df1 = df[df.otaz.isin(north32)|df.dtaz.isin(north32)]\n",
    "df20, df80 = random_split_dataframe(df1, 20)\n",
    "convert1(invalid_TAZs, near6001, 6001, 6001, df=df80)\n",
    "convert1(invalid_TAZs, north3boundary, 7003, 7003, df=df20)\n",
    "\n",
    "# if trips go to downtown south east\n",
    "df1 = df[df.otaz.isin(sumo_s)|df.dtaz.isin(sumo_s)]\n",
    "df1 = df1[df1.otaz.isin(sumo_e)|df1.dtaz.isin(sumo_e)]\n",
    "convert1(invalid_TAZs, near_i5n, 5000, 5001, df=df1)\n",
    "\n",
    "# other trips \n",
    "df = converted_data[converted_data.otaz.isin(invalid_TAZs)|converted_data.dtaz.isin(invalid_TAZs)]\n",
    "df20, df80 = random_split_dataframe(df, 20)\n",
    "convert1(invalid_TAZs, nearSR99n, 5010, 5011, df20)\n",
    "convert1(invalid_TAZs, near6001, 6001,  6001, df80)"
   ]
  },
  {
   "cell_type": "markdown",
   "id": "709273d8",
   "metadata": {},
   "source": [
    "### V.3 new super TAZs"
   ]
  },
  {
   "cell_type": "code",
   "execution_count": 41,
   "id": "5f0d8f75",
   "metadata": {},
   "outputs": [],
   "source": [
    "def uppereast_trips_handler(invalid_TAZs):\n",
    "    \n",
    "    df = converted_data[converted_data.otaz.isin(invalid_TAZs)|converted_data.dtaz.isin(invalid_TAZs)]\n",
    "    df= df[df.otaz.isin(sumo_e)|df.dtaz.isin(sumo_e)]\n",
    "    # for sumo-northeast\n",
    "    north1 = [426, 427, 428, 429, 547, 549, 551, 553] \n",
    "    df1 = df[df.otaz.isin(north1)|df.dtaz.isin(north1)]\n",
    "    convert1(invalid_TAZs, near_i5n, [5000, 7001], [5001, 7001], df=df1)\n",
    "    # for sumo-southeast\n",
    "    df2 = df[df.otaz.isin(sumo_s)|df.dtaz.isin(sumo_s)]\n",
    "    df20, df80 = random_split_dataframe(df2, 20)\n",
    "    convert1(invalid_TAZs, near_i90, 5004, 5005, df=df80)\n",
    "    convert1(invalid_TAZs, east2boundary, 7005, 7005, df=df20)\n",
    "    # for rest of east\n",
    "    df20, df80 = random_split_dataframe(df, 20)\n",
    "    convert1(invalid_TAZs, near_i5n, 5000, 5001, df=df80)\n",
    "    convert1(invalid_TAZs, east1boundary, 7004, 7004, df=df20)\n",
    "    \n",
    "    \n",
    "    df = converted_data[converted_data.otaz.isin(invalid_TAZs)|converted_data.dtaz.isin(invalid_TAZs)]\n",
    "    df1 = df[df.otaz.isin(sumo_n)|df.dtaz.isin(sumo_n)]\n",
    "    # for sumo-northwest\n",
    "    convert1(invalid_TAZs, near_i5n, 5000, 5001, df=df1)\n",
    "    \n",
    "    # for sumo southwest\n",
    "    df2 = df[df.otaz.isin(sumo_s)|df.dtaz.isin(sumo_s)]\n",
    "    convert1(invalid_TAZs, near_i90, 5004, 5005, df=df2)"
   ]
  },
  {
   "cell_type": "code",
   "execution_count": 42,
   "id": "d9fbd98d",
   "metadata": {},
   "outputs": [],
   "source": [
    "def east_trips_handler(invalid_TAZs):\n",
    "    \n",
    "    df = converted_data[converted_data.otaz.isin(invalid_TAZs)|converted_data.dtaz.isin(invalid_TAZs)]\n",
    "    df = df[df.otaz.isin(sumo_e)|df.dtaz.isin(sumo_e)]\n",
    "    df = df[df.otaz.isin(sumo_s)|df.dtaz.isin(sumo_s)]\n",
    "    df30, df70 = random_split_dataframe(df, 30)\n",
    "    convert1(invalid_TAZs, east2boundary, 7005, 7005, df=df30)\n",
    "    \n",
    "    convert1(invalid_TAZs, near_i90, 5004, 5005)"
   ]
  },
  {
   "cell_type": "code",
   "execution_count": 43,
   "id": "4f897f08",
   "metadata": {},
   "outputs": [],
   "source": [
    "def southeast_trips_handler(invalid_TAZs):\n",
    "    df = converted_data[converted_data.otaz.isin(invalid_TAZs)|converted_data.dtaz.isin(invalid_TAZs)]\n",
    "    df = df[df.otaz.isin(sumo_e)|df.dtaz.isin(sumo_e)]\n",
    "    df = df[df.otaz.isin(sumo_s)|df.dtaz.isin(sumo_s)]\n",
    "    # assume: 40% of trips that use i90 will use 7005\n",
    "    df1, df2 = random_split_dataframe(df, 50)\n",
    "    df40, df60 = random_split_dataframe(df1, 40) \n",
    "    convert1(invalid_TAZs, east2boundary, 7005, 7005, df=df40)\n",
    "\n",
    "    \n",
    "    df = converted_data[converted_data.otaz.isin(invalid_TAZs)|converted_data.dtaz.isin(invalid_TAZs)]\n",
    "    df = df[df.otaz.isin(industrial)|df.dtaz.isin(industrial)]\n",
    "    # assume: 40% of trips that use i5 will use 7000\n",
    "    df1, df2 = random_split_dataframe(df, 50)\n",
    "    df40, df60 = random_split_dataframe(df1, 40) \n",
    "    convert1(invalid_TAZs, southboundary, 7000,  7000, df=df40)\n",
    "    \n",
    "    df = converted_data[converted_data.otaz.isin(invalid_TAZs)|converted_data.dtaz.isin(invalid_TAZs)]\n",
    "    df1, df2 = random_split_dataframe(df, 50)\n",
    "    convert1(invalid_TAZs, near_i5s, 5002, 5003, df=df1)\n",
    "    convert1(invalid_TAZs, near_i90, 5004, 5005, df=df2)"
   ]
  },
  {
   "cell_type": "code",
   "execution_count": 44,
   "id": "e3befca2",
   "metadata": {},
   "outputs": [
    {
     "data": {
      "text/html": [
       "<img src=\"regions/version3/farEast1.png\" width=\"500\" height=\"300\"/>"
      ],
      "text/plain": [
       "<IPython.core.display.Image object>"
      ]
     },
     "execution_count": 44,
     "metadata": {},
     "output_type": "execute_result"
    }
   ],
   "source": [
    "Image(url=\"regions/version3/farEast1.png\", width=500, height=300)"
   ]
  },
  {
   "cell_type": "code",
   "execution_count": 45,
   "id": "d3689f1e",
   "metadata": {},
   "outputs": [
    {
     "name": "stderr",
     "output_type": "stream",
     "text": [
      "12it [00:00, 87.57it/s]\n",
      "59it [00:00, 77.91it/s]\n",
      "14it [00:00, 51.08it/s]\n",
      "94it [00:01, 82.80it/s]\n",
      "23it [00:00, 87.46it/s]\n",
      "324it [00:03, 100.94it/s]\n",
      "148it [00:01, 118.37it/s]\n"
     ]
    }
   ],
   "source": [
    "uppereast_trips_handler(read_regions('regions/version3/farEast1.txt'))"
   ]
  },
  {
   "cell_type": "code",
   "execution_count": 46,
   "id": "dc1d151d",
   "metadata": {},
   "outputs": [
    {
     "data": {
      "text/html": [
       "<img src=\"regions/version3/farEast2.png\" width=\"400\" height=\"300\"/>"
      ],
      "text/plain": [
       "<IPython.core.display.Image object>"
      ]
     },
     "execution_count": 46,
     "metadata": {},
     "output_type": "execute_result"
    }
   ],
   "source": [
    "Image(url=\"regions/version3/farEast2.png\", width=400, height=300)"
   ]
  },
  {
   "cell_type": "code",
   "execution_count": 47,
   "id": "12815102",
   "metadata": {},
   "outputs": [
    {
     "name": "stderr",
     "output_type": "stream",
     "text": [
      "131it [00:01, 92.65it/s]\n",
      "3702it [00:30, 119.75it/s]\n"
     ]
    }
   ],
   "source": [
    "east_trips_handler(read_regions('regions/version3/farEast2.txt'))"
   ]
  },
  {
   "cell_type": "code",
   "execution_count": 48,
   "id": "ccfb6ff2",
   "metadata": {},
   "outputs": [
    {
     "data": {
      "text/html": [
       "<img src=\"regions/version3/east6.png\" width=\"500\" height=\"300\"/>"
      ],
      "text/plain": [
       "<IPython.core.display.Image object>"
      ]
     },
     "execution_count": 48,
     "metadata": {},
     "output_type": "execute_result"
    }
   ],
   "source": [
    "Image(url=\"regions/version3/east6.png\", width=500, height=300)"
   ]
  },
  {
   "cell_type": "code",
   "execution_count": 49,
   "id": "4dd7ef97",
   "metadata": {},
   "outputs": [
    {
     "name": "stderr",
     "output_type": "stream",
     "text": [
      "168it [00:01, 112.82it/s]\n",
      "356it [00:02, 125.52it/s]\n",
      "88it [00:00, 116.13it/s]\n",
      "848it [00:07, 115.07it/s]\n",
      "212it [00:01, 122.13it/s]\n",
      "3034it [00:24, 125.48it/s]\n",
      "1260it [00:09, 128.20it/s]\n"
     ]
    }
   ],
   "source": [
    "uppereast_trips_handler(read_regions('regions/version3/east6.txt'))"
   ]
  },
  {
   "cell_type": "code",
   "execution_count": 50,
   "id": "a74aac2d",
   "metadata": {},
   "outputs": [
    {
     "data": {
      "text/html": [
       "<img src=\"regions/version3/kirkland.png\" width=\"400\" height=\"300\"/>"
      ],
      "text/plain": [
       "<IPython.core.display.Image object>"
      ]
     },
     "execution_count": 50,
     "metadata": {},
     "output_type": "execute_result"
    }
   ],
   "source": [
    "Image(url=\"regions/version3/kirkland.png\", width=400, height=300)"
   ]
  },
  {
   "cell_type": "code",
   "execution_count": 51,
   "id": "c2818c84",
   "metadata": {},
   "outputs": [
    {
     "name": "stderr",
     "output_type": "stream",
     "text": [
      "193it [00:01, 122.90it/s]\n",
      "486it [00:03, 126.31it/s]\n",
      "121it [00:00, 126.13it/s]\n",
      "1039it [00:08, 126.84it/s]\n",
      "259it [00:02, 127.34it/s]\n",
      "3041it [00:25, 120.96it/s]\n",
      "1576it [00:12, 127.18it/s]\n"
     ]
    }
   ],
   "source": [
    "uppereast_trips_handler(read_regions('regions/version3/kirkland.txt'))"
   ]
  },
  {
   "cell_type": "code",
   "execution_count": 52,
   "id": "878e71dc",
   "metadata": {},
   "outputs": [
    {
     "data": {
      "text/html": [
       "<img src=\"regions/version3/redmond.png\" width=\"500\" height=\"300\"/>"
      ],
      "text/plain": [
       "<IPython.core.display.Image object>"
      ]
     },
     "execution_count": 52,
     "metadata": {},
     "output_type": "execute_result"
    }
   ],
   "source": [
    "Image(url=\"regions/version3/redmond.png\", width=500, height=300)"
   ]
  },
  {
   "cell_type": "code",
   "execution_count": 53,
   "id": "077c0cb2",
   "metadata": {},
   "outputs": [
    {
     "name": "stderr",
     "output_type": "stream",
     "text": [
      "127it [00:01, 122.82it/s]\n",
      "292it [00:02, 128.52it/s]\n",
      "73it [00:00, 127.68it/s]\n",
      "604it [00:04, 127.16it/s]\n",
      "151it [00:01, 126.60it/s]\n",
      "1802it [00:14, 128.51it/s]\n",
      "904it [00:07, 127.61it/s]\n"
     ]
    }
   ],
   "source": [
    "uppereast_trips_handler(read_regions('regions/version3/redmond.txt'))"
   ]
  },
  {
   "cell_type": "code",
   "execution_count": 54,
   "id": "1f2a2432",
   "metadata": {},
   "outputs": [
    {
     "data": {
      "text/html": [
       "<img src=\"regions/version3/sammamish.png\" width=\"500\" height=\"300\"/>"
      ],
      "text/plain": [
       "<IPython.core.display.Image object>"
      ]
     },
     "execution_count": 54,
     "metadata": {},
     "output_type": "execute_result"
    }
   ],
   "source": [
    "Image(url=\"regions/version3/sammamish.png\", width=500, height=300)"
   ]
  },
  {
   "cell_type": "code",
   "execution_count": 55,
   "id": "d964448f",
   "metadata": {},
   "outputs": [
    {
     "name": "stderr",
     "output_type": "stream",
     "text": [
      "265it [00:02, 124.39it/s]\n",
      "7932it [01:02, 126.54it/s]\n"
     ]
    }
   ],
   "source": [
    "east_trips_handler(read_regions('regions/version3/sammamish.txt'))"
   ]
  },
  {
   "cell_type": "code",
   "execution_count": 56,
   "id": "4d810293",
   "metadata": {},
   "outputs": [
    {
     "data": {
      "text/html": [
       "<img src=\"regions/version3/bel1.png\" width=\"400\" height=\"300\"/>"
      ],
      "text/plain": [
       "<IPython.core.display.Image object>"
      ]
     },
     "execution_count": 56,
     "metadata": {},
     "output_type": "execute_result"
    }
   ],
   "source": [
    "Image(url=\"regions/version3/bel1.png\", width=400, height=300)"
   ]
  },
  {
   "cell_type": "code",
   "execution_count": 57,
   "id": "4855a7c2",
   "metadata": {},
   "outputs": [
    {
     "name": "stderr",
     "output_type": "stream",
     "text": [
      "735it [00:06, 118.68it/s]\n",
      "936it [00:07, 126.48it/s]\n",
      "233it [00:01, 125.76it/s]\n",
      "2373it [00:18, 127.00it/s]\n",
      "593it [00:04, 128.77it/s]\n",
      "5574it [00:51, 108.90it/s]\n",
      "2732it [00:27, 97.90it/s] \n"
     ]
    }
   ],
   "source": [
    "uppereast_trips_handler(read_regions('regions/version3/bel1.txt'))"
   ]
  },
  {
   "cell_type": "code",
   "execution_count": 58,
   "id": "a2991cee",
   "metadata": {},
   "outputs": [
    {
     "data": {
      "text/html": [
       "<img src=\"regions/version3/bel2.png\" width=\"400\" height=\"300\"/>"
      ],
      "text/plain": [
       "<IPython.core.display.Image object>"
      ]
     },
     "execution_count": 58,
     "metadata": {},
     "output_type": "execute_result"
    }
   ],
   "source": [
    "Image(url=\"regions/version3/bel2.png\", width=400, height=300)"
   ]
  },
  {
   "cell_type": "code",
   "execution_count": 59,
   "id": "1c6117a7",
   "metadata": {},
   "outputs": [
    {
     "name": "stderr",
     "output_type": "stream",
     "text": [
      "604it [00:06, 95.21it/s] \n",
      "16321it [02:10, 124.78it/s]\n"
     ]
    }
   ],
   "source": [
    "east_trips_handler(read_regions('regions/version3/bel2.txt'))"
   ]
  },
  {
   "cell_type": "code",
   "execution_count": 60,
   "id": "f47bc27c",
   "metadata": {},
   "outputs": [
    {
     "data": {
      "text/html": [
       "<img src=\"regions/version3/east5.png\" width=\"400\" height=\"300\"/>"
      ],
      "text/plain": [
       "<IPython.core.display.Image object>"
      ]
     },
     "execution_count": 60,
     "metadata": {},
     "output_type": "execute_result"
    }
   ],
   "source": [
    "Image(url=\"regions/version3/east5.png\", width=400, height=300)"
   ]
  },
  {
   "cell_type": "code",
   "execution_count": 61,
   "id": "b155381a",
   "metadata": {},
   "outputs": [
    {
     "name": "stderr",
     "output_type": "stream",
     "text": [
      "399it [00:04, 97.23it/s] \n",
      "12115it [01:51, 108.31it/s]\n"
     ]
    }
   ],
   "source": [
    "east_trips_handler(read_regions('regions/version3/east5.txt'))"
   ]
  },
  {
   "cell_type": "code",
   "execution_count": 62,
   "id": "71a1f0e3",
   "metadata": {},
   "outputs": [
    {
     "data": {
      "text/html": [
       "<img src=\"regions/version3/east41.png\" width=\"400\" height=\"300\"/>"
      ],
      "text/plain": [
       "<IPython.core.display.Image object>"
      ]
     },
     "execution_count": 62,
     "metadata": {},
     "output_type": "execute_result"
    }
   ],
   "source": [
    "Image(url=\"regions/version3/east41.png\", width=400, height=300)"
   ]
  },
  {
   "cell_type": "code",
   "execution_count": 63,
   "id": "e5da09c2",
   "metadata": {},
   "outputs": [
    {
     "name": "stderr",
     "output_type": "stream",
     "text": [
      "154it [00:01, 95.28it/s]\n",
      "4541it [00:36, 125.46it/s]\n"
     ]
    }
   ],
   "source": [
    "east_trips_handler(read_regions('regions/version3/east41.txt'))"
   ]
  },
  {
   "cell_type": "code",
   "execution_count": 64,
   "id": "caf85f10",
   "metadata": {},
   "outputs": [
    {
     "data": {
      "text/html": [
       "<img src=\"regions/version3/east3.png\" width=\"300\" height=\"300\"/>"
      ],
      "text/plain": [
       "<IPython.core.display.Image object>"
      ]
     },
     "execution_count": 64,
     "metadata": {},
     "output_type": "execute_result"
    }
   ],
   "source": [
    "Image(url=\"regions/version3/east3.png\", width=300, height=300)"
   ]
  },
  {
   "cell_type": "code",
   "execution_count": 65,
   "id": "61a54e85",
   "metadata": {},
   "outputs": [
    {
     "name": "stderr",
     "output_type": "stream",
     "text": [
      "145it [00:01, 98.76it/s] \n",
      "178it [00:01, 96.88it/s]\n",
      "3648it [00:28, 126.60it/s]\n",
      "3649it [00:28, 127.31it/s]\n"
     ]
    }
   ],
   "source": [
    "southeast_trips_handler(read_regions('regions/version3/east3.txt'))"
   ]
  },
  {
   "cell_type": "code",
   "execution_count": 66,
   "id": "dfcaa974",
   "metadata": {},
   "outputs": [
    {
     "data": {
      "text/html": [
       "<img src=\"regions/version3/east2.png\" width=\"400\" height=\"300\"/>"
      ],
      "text/plain": [
       "<IPython.core.display.Image object>"
      ]
     },
     "execution_count": 66,
     "metadata": {},
     "output_type": "execute_result"
    }
   ],
   "source": [
    "Image(url=\"regions/version3/east2.png\", width=400, height=300)"
   ]
  },
  {
   "cell_type": "code",
   "execution_count": 67,
   "id": "673857f5",
   "metadata": {},
   "outputs": [
    {
     "name": "stderr",
     "output_type": "stream",
     "text": [
      "99it [00:01, 95.32it/s]\n",
      "96it [00:00, 96.53it/s]\n",
      "3618it [00:29, 122.13it/s]\n",
      "3619it [00:28, 128.57it/s]\n"
     ]
    }
   ],
   "source": [
    "southeast_trips_handler(read_regions('regions/version3/east2.txt'))"
   ]
  },
  {
   "cell_type": "code",
   "execution_count": 68,
   "id": "0dd834ff",
   "metadata": {},
   "outputs": [
    {
     "data": {
      "text/html": [
       "<img src=\"regions/version3/east1.png\" width=\"400\" height=\"300\"/>"
      ],
      "text/plain": [
       "<IPython.core.display.Image object>"
      ]
     },
     "execution_count": 68,
     "metadata": {},
     "output_type": "execute_result"
    }
   ],
   "source": [
    "Image(url=\"regions/version3/east1.png\", width=400, height=300)"
   ]
  },
  {
   "cell_type": "code",
   "execution_count": 69,
   "id": "5ce6baea",
   "metadata": {},
   "outputs": [
    {
     "name": "stderr",
     "output_type": "stream",
     "text": [
      "38it [00:00, 108.39it/s]\n",
      "42it [00:00, 127.72it/s]\n",
      "874it [00:06, 130.79it/s]\n",
      "874it [00:06, 127.33it/s]\n"
     ]
    }
   ],
   "source": [
    "southeast_trips_handler(read_regions('regions/version3/east1.txt'))"
   ]
  },
  {
   "cell_type": "markdown",
   "id": "9a7bee51",
   "metadata": {},
   "source": [
    "### Old super segments\n",
    "---------"
   ]
  },
  {
   "cell_type": "code",
   "execution_count": 70,
   "id": "23129549",
   "metadata": {},
   "outputs": [
    {
     "data": {
      "text/html": [
       "<img src=\"regions/north2.png\" width=\"300\" height=\"300\"/>"
      ],
      "text/plain": [
       "<IPython.core.display.Image object>"
      ]
     },
     "execution_count": 70,
     "metadata": {},
     "output_type": "execute_result"
    }
   ],
   "source": [
    "Image(url=\"regions/north2.png\", width=300, height=300)"
   ]
  },
  {
   "cell_type": "code",
   "execution_count": 71,
   "id": "6a0c81c7",
   "metadata": {},
   "outputs": [
    {
     "name": "stderr",
     "output_type": "stream",
     "text": [
      "620it [00:04, 125.31it/s]\n",
      "621it [00:04, 126.30it/s]\n",
      "571it [00:04, 126.00it/s]\n",
      "572it [00:04, 124.96it/s]\n",
      "15587it [02:12, 117.23it/s]\n"
     ]
    }
   ],
   "source": [
    "north2 = read_regions('regions/north2.txt')+[358,359]\n",
    "north2boundary = read_regions('regions/north2_boundary.txt')\n",
    "# convert1(north2, north2boundary, 7002, 7002)\n",
    "\n",
    "#v.3\n",
    "north1 = [426, 427, 428, 429, 549, 551, 553]\n",
    "north3=[436, 437, 438, 439, 440, 441, 442, 443]\n",
    "north1boundary = read_regions('regions/north1_boundary.txt')\n",
    "north3boundary = read_regions('regions/north3_boundary.txt')\n",
    "\n",
    "df = converted_data[converted_data.otaz.isin(north2)|converted_data.dtaz.isin(north2)]\n",
    "\n",
    "\n",
    "df1 = df[df.otaz.isin(north1)|df.dtaz.isin(north1)]\n",
    "df1_1, df1_2 = random_split_dataframe(df1, 50)\n",
    "convert1(north2, north2boundary, 7002, 7002, df1_1)\n",
    "convert1(north2, north1boundary, 7001, 7001, df1_2)\n",
    "\n",
    "df3 = df[df.otaz.isin(north3)|df.dtaz.isin(north3)]\n",
    "df3_1, df3_2 = random_split_dataframe(df3, 50)\n",
    "convert1(north2, north2boundary, 7002, 7002, df3_1)\n",
    "convert1(north2, north3boundary, 7003, 7003, df3_2)\n",
    "\n",
    "\n",
    "convert1(north2, north2boundary, 7002, 7002)"
   ]
  },
  {
   "cell_type": "code",
   "execution_count": 72,
   "id": "c8385547",
   "metadata": {},
   "outputs": [
    {
     "data": {
      "text/html": [
       "<img src=\"regions/SR99N.png\" width=\"300\" height=\"300\"/>"
      ],
      "text/plain": [
       "<IPython.core.display.Image object>"
      ]
     },
     "execution_count": 72,
     "metadata": {},
     "output_type": "execute_result"
    }
   ],
   "source": [
    "Image(url=\"regions/SR99N.png\", width=300, height=300)"
   ]
  },
  {
   "cell_type": "code",
   "execution_count": 73,
   "id": "c23f00ff",
   "metadata": {},
   "outputs": [],
   "source": [
    "SR99n = read_regions('regions/SR99N.txt')\n",
    "nearSR99n = read_regions('regions/near_SR99N.txt')"
   ]
  },
  {
   "cell_type": "code",
   "execution_count": 74,
   "id": "5ca0f1f6",
   "metadata": {
    "scrolled": true
   },
   "outputs": [
    {
     "name": "stderr",
     "output_type": "stream",
     "text": [
      "0it [00:00, ?it/s]\n"
     ]
    }
   ],
   "source": [
    "convert1(SR99n, nearSR99n, 5010, 5011)"
   ]
  },
  {
   "cell_type": "markdown",
   "id": "bee1ef63",
   "metadata": {},
   "source": [
    " --------"
   ]
  },
  {
   "cell_type": "code",
   "execution_count": 75,
   "id": "41036679",
   "metadata": {},
   "outputs": [
    {
     "data": {
      "text/html": [
       "<img src=\"regions/i5n1.png\" width=\"300\" height=\"300\"/>"
      ],
      "text/plain": [
       "<IPython.core.display.Image object>"
      ]
     },
     "execution_count": 75,
     "metadata": {},
     "output_type": "execute_result"
    }
   ],
   "source": [
    "Image(url=\"regions/i5n1.png\", width=300, height=300)"
   ]
  },
  {
   "cell_type": "code",
   "execution_count": 76,
   "id": "7ca3ad58",
   "metadata": {},
   "outputs": [],
   "source": [
    "i5n1 = read_regions('regions/i5n1.txt')"
   ]
  },
  {
   "cell_type": "code",
   "execution_count": 77,
   "id": "9f7d5674",
   "metadata": {
    "scrolled": true
   },
   "outputs": [
    {
     "name": "stderr",
     "output_type": "stream",
     "text": [
      "0it [00:00, ?it/s]\n"
     ]
    }
   ],
   "source": [
    "convert1(i5n1, near_i5n, 5000, 5001)"
   ]
  },
  {
   "cell_type": "markdown",
   "id": "4ce19595",
   "metadata": {},
   "source": [
    "___"
   ]
  },
  {
   "cell_type": "code",
   "execution_count": 78,
   "id": "fb8a5aa7",
   "metadata": {},
   "outputs": [
    {
     "data": {
      "text/html": [
       "<img src=\"regions/i5n2.png\" width=\"300\" height=\"300\"/>"
      ],
      "text/plain": [
       "<IPython.core.display.Image object>"
      ]
     },
     "execution_count": 78,
     "metadata": {},
     "output_type": "execute_result"
    }
   ],
   "source": [
    "Image(url=\"regions/i5n2.png\", width=300, height=300)"
   ]
  },
  {
   "cell_type": "code",
   "execution_count": 79,
   "id": "1d0ab87d",
   "metadata": {},
   "outputs": [
    {
     "name": "stderr",
     "output_type": "stream",
     "text": [
      "0it [00:00, ?it/s]\n"
     ]
    }
   ],
   "source": [
    "i5n2 = read_regions('regions/i5n2.txt')\n",
    "convert1(i5n2, near_i5n, 5000, 5001)"
   ]
  },
  {
   "cell_type": "markdown",
   "id": "7596bbd4",
   "metadata": {},
   "source": [
    "--------"
   ]
  },
  {
   "cell_type": "code",
   "execution_count": 80,
   "id": "45ffbbf8",
   "metadata": {},
   "outputs": [
    {
     "data": {
      "text/html": [
       "<img src=\"regions/west_king1.png\" width=\"600\" height=\"300\"/>"
      ],
      "text/plain": [
       "<IPython.core.display.Image object>"
      ]
     },
     "execution_count": 80,
     "metadata": {},
     "output_type": "execute_result"
    }
   ],
   "source": [
    "Image(url=\"regions/west_king1.png\", width=600, height=300)"
   ]
  },
  {
   "cell_type": "code",
   "execution_count": 81,
   "id": "59ef50b9",
   "metadata": {},
   "outputs": [],
   "source": [
    "west_king1 = read_regions('regions/west_king1.txt')\n",
    "df = converted_data[converted_data.otaz.isin(west_king1)|converted_data.dtaz.isin(west_king1)]"
   ]
  },
  {
   "cell_type": "code",
   "execution_count": 82,
   "id": "b5fa761c",
   "metadata": {},
   "outputs": [
    {
     "name": "stderr",
     "output_type": "stream",
     "text": [
      "51it [00:00, 96.53it/s] \n"
     ]
    }
   ],
   "source": [
    "# if trips go to upper downtown:\n",
    "df1 = df[df.otaz.isin(sumo_n)|df.dtaz.isin(sumo_n)]\n",
    "convert1(west_king1, near_i5n, 5000, 5001, df=df1)"
   ]
  },
  {
   "cell_type": "code",
   "execution_count": 83,
   "id": "2dee9988",
   "metadata": {
    "scrolled": true
   },
   "outputs": [
    {
     "name": "stderr",
     "output_type": "stream",
     "text": [
      "25it [00:00, 93.59it/s]\n"
     ]
    }
   ],
   "source": [
    "# if trips go to lower downtown:\n",
    "df2 = df[df.otaz.isin(sumo_s)|df.dtaz.isin(sumo_s)]\n",
    "convert1(west_king1, near_i90, 5004, 5005, df=df2)"
   ]
  },
  {
   "cell_type": "markdown",
   "id": "efd354af",
   "metadata": {},
   "source": [
    "---------"
   ]
  },
  {
   "cell_type": "code",
   "execution_count": 84,
   "id": "bc56d2de",
   "metadata": {
    "scrolled": true
   },
   "outputs": [
    {
     "data": {
      "text/html": [
       "<img src=\"regions/west_king2.png\" width=\"600\" height=\"300\"/>"
      ],
      "text/plain": [
       "<IPython.core.display.Image object>"
      ]
     },
     "execution_count": 84,
     "metadata": {},
     "output_type": "execute_result"
    }
   ],
   "source": [
    "Image(url=\"regions/west_king2.png\", width=600, height=300)"
   ]
  },
  {
   "cell_type": "code",
   "execution_count": 85,
   "id": "94128c04",
   "metadata": {},
   "outputs": [],
   "source": [
    "west_king2 = read_regions('regions/west_king2.txt')\n",
    "df = converted_data[converted_data.otaz.isin(west_king2)|converted_data.dtaz.isin(west_king2)]"
   ]
  },
  {
   "cell_type": "code",
   "execution_count": 86,
   "id": "bdd71cd2",
   "metadata": {},
   "outputs": [
    {
     "name": "stderr",
     "output_type": "stream",
     "text": [
      "0it [00:00, ?it/s]\n"
     ]
    }
   ],
   "source": [
    "# if trips go to upper downtown:\n",
    "df1 = df[df.otaz.isin(sumo_n)|df.dtaz.isin(sumo_n)]\n",
    "convert1(west_king2, near_i5n, 5000, 5001, df=df1)"
   ]
  },
  {
   "cell_type": "code",
   "execution_count": 87,
   "id": "e58d18ce",
   "metadata": {
    "scrolled": true
   },
   "outputs": [
    {
     "name": "stderr",
     "output_type": "stream",
     "text": [
      "0it [00:00, ?it/s]\n"
     ]
    }
   ],
   "source": [
    "# if trips go to lower downtown:\n",
    "df2 = df[df.otaz.isin(sumo_s)|df.dtaz.isin(sumo_s)]\n",
    "convert1(west_king2, near_i90, 5004, 5005, df=df2)"
   ]
  },
  {
   "cell_type": "markdown",
   "id": "c2a149b6",
   "metadata": {},
   "source": [
    "-----"
   ]
  },
  {
   "cell_type": "code",
   "execution_count": 88,
   "id": "84fa7b85",
   "metadata": {},
   "outputs": [
    {
     "data": {
      "text/html": [
       "<img src=\"regions/west_king3.png\" width=\"500\" height=\"300\"/>"
      ],
      "text/plain": [
       "<IPython.core.display.Image object>"
      ]
     },
     "execution_count": 88,
     "metadata": {},
     "output_type": "execute_result"
    }
   ],
   "source": [
    "Image(url=\"regions/west_king3.png\", width=500, height=300)"
   ]
  },
  {
   "cell_type": "code",
   "execution_count": 89,
   "id": "fc807814",
   "metadata": {
    "scrolled": true
   },
   "outputs": [
    {
     "name": "stderr",
     "output_type": "stream",
     "text": [
      "93it [00:00, 97.22it/s]\n"
     ]
    }
   ],
   "source": [
    "west_king3 = read_regions('regions/west_king3.txt')\n",
    "convert1(west_king3, near_i90, 5004, 5005)"
   ]
  },
  {
   "cell_type": "markdown",
   "id": "e0e2cb89",
   "metadata": {},
   "source": [
    "-----"
   ]
  },
  {
   "cell_type": "code",
   "execution_count": 90,
   "id": "b94bb8ef",
   "metadata": {
    "scrolled": true
   },
   "outputs": [
    {
     "data": {
      "text/html": [
       "<img src=\"regions/west_king4.png\" width=\"600\" height=\"300\"/>"
      ],
      "text/plain": [
       "<IPython.core.display.Image object>"
      ]
     },
     "execution_count": 90,
     "metadata": {},
     "output_type": "execute_result"
    }
   ],
   "source": [
    "Image(url=\"regions/west_king4.png\", width=600, height=300)"
   ]
  },
  {
   "cell_type": "code",
   "execution_count": 91,
   "id": "7073c99e",
   "metadata": {},
   "outputs": [
    {
     "name": "stderr",
     "output_type": "stream",
     "text": [
      "0it [00:00, ?it/s]\n"
     ]
    }
   ],
   "source": [
    "west_king4 = read_regions('regions/west_king4.txt')\n",
    "convert1(west_king4, near_i90, 5004, 5005)"
   ]
  },
  {
   "cell_type": "markdown",
   "id": "e08da3a3",
   "metadata": {},
   "source": [
    "-----"
   ]
  },
  {
   "cell_type": "code",
   "execution_count": 92,
   "id": "393234ce",
   "metadata": {
    "scrolled": true
   },
   "outputs": [
    {
     "data": {
      "text/html": [
       "<img src=\"regions/west_king5.png\" width=\"600\" height=\"300\"/>"
      ],
      "text/plain": [
       "<IPython.core.display.Image object>"
      ]
     },
     "execution_count": 92,
     "metadata": {},
     "output_type": "execute_result"
    }
   ],
   "source": [
    "Image(url=\"regions/west_king5.png\", width=600, height=300)"
   ]
  },
  {
   "cell_type": "code",
   "execution_count": 93,
   "id": "fb794c07",
   "metadata": {},
   "outputs": [
    {
     "name": "stderr",
     "output_type": "stream",
     "text": [
      "4920it [00:46, 106.22it/s]\n"
     ]
    }
   ],
   "source": [
    "west_king5 = read_regions('regions/west_king5.txt')\n",
    "convert1(west_king5, near_i5s, 5002, 5003)"
   ]
  },
  {
   "cell_type": "markdown",
   "id": "b6610a96",
   "metadata": {},
   "source": [
    "-----"
   ]
  },
  {
   "cell_type": "code",
   "execution_count": 94,
   "id": "a69788cd",
   "metadata": {},
   "outputs": [
    {
     "data": {
      "text/html": [
       "<img src=\"regions/west_king6.png\" width=\"300\" height=\"300\"/>"
      ],
      "text/plain": [
       "<IPython.core.display.Image object>"
      ]
     },
     "execution_count": 94,
     "metadata": {},
     "output_type": "execute_result"
    }
   ],
   "source": [
    "Image(url=\"regions/west_king6.png\", width=300, height=300)"
   ]
  },
  {
   "cell_type": "code",
   "execution_count": 95,
   "id": "845f6a9b",
   "metadata": {},
   "outputs": [
    {
     "name": "stderr",
     "output_type": "stream",
     "text": [
      "863it [00:08, 104.94it/s]\n"
     ]
    }
   ],
   "source": [
    "west_king6 = read_regions('regions/west_king6.txt')\n",
    "convert1(west_king6, near_i5s, 5002, 5003)"
   ]
  },
  {
   "cell_type": "markdown",
   "id": "469b72d1",
   "metadata": {},
   "source": [
    "--------"
   ]
  },
  {
   "cell_type": "code",
   "execution_count": 96,
   "id": "d4b241a5",
   "metadata": {},
   "outputs": [
    {
     "data": {
      "text/html": [
       "<img src=\"regions/vashon.png\" width=\"300\" height=\"300\"/>"
      ],
      "text/plain": [
       "<IPython.core.display.Image object>"
      ]
     },
     "execution_count": 96,
     "metadata": {},
     "output_type": "execute_result"
    }
   ],
   "source": [
    "Image(url=\"regions/vashon.png\", width=300, height=300)"
   ]
  },
  {
   "cell_type": "code",
   "execution_count": 97,
   "id": "0bf0e6e9",
   "metadata": {},
   "outputs": [
    {
     "name": "stderr",
     "output_type": "stream",
     "text": [
      "1206it [00:10, 115.51it/s]\n"
     ]
    }
   ],
   "source": [
    "vashon = read_regions('regions/vashon.txt')\n",
    "nearsr99s = read_regions('regions/near_SR99S.txt')\n",
    "convert1(vashon, nearsr99s, 5008, 5009)"
   ]
  },
  {
   "cell_type": "markdown",
   "id": "45b2c5d2",
   "metadata": {},
   "source": [
    "------"
   ]
  },
  {
   "cell_type": "code",
   "execution_count": 98,
   "id": "1f1803ea",
   "metadata": {},
   "outputs": [
    {
     "data": {
      "text/html": [
       "<img src=\"regions/southwest1.png\" width=\"300\" height=\"300\"/>"
      ],
      "text/plain": [
       "<IPython.core.display.Image object>"
      ]
     },
     "execution_count": 98,
     "metadata": {},
     "output_type": "execute_result"
    }
   ],
   "source": [
    "Image(url=\"regions/southwest1.png\", width=300, height=300)"
   ]
  },
  {
   "cell_type": "code",
   "execution_count": 99,
   "id": "fc5f5bba",
   "metadata": {},
   "outputs": [],
   "source": [
    "sw1 = read_regions('regions/southwest1.txt')\n",
    "df = converted_data[converted_data.otaz.isin(sw1)|converted_data.dtaz.isin(sw1)]"
   ]
  },
  {
   "cell_type": "code",
   "execution_count": 100,
   "id": "61ec8fdf",
   "metadata": {},
   "outputs": [
    {
     "name": "stderr",
     "output_type": "stream",
     "text": [
      "3303it [00:25, 127.83it/s]\n",
      "19529it [02:27, 132.24it/s]\n"
     ]
    }
   ],
   "source": [
    "# if trips go to west downtown:\n",
    "df1 = df[df.otaz.isin(sumo_w)|df.dtaz.isin(sumo_w)]\n",
    "# convert1(sw1, nearsr99s, 5008, 5009, df=df1)\n",
    "\n",
    "# v.3\n",
    "df12 = df1[df1.otaz.isin(industrial)|df1.dtaz.isin(industrial)]\n",
    "convert1(sw1, nearsr99s, [5008, 7000], [5009, 7000], df=df12)\n",
    "\n",
    "convert1(sw1, nearsr99s, 5008, 5009, df=df1)"
   ]
  },
  {
   "cell_type": "code",
   "execution_count": 101,
   "id": "35767a8d",
   "metadata": {},
   "outputs": [
    {
     "name": "stderr",
     "output_type": "stream",
     "text": [
      "4512it [00:35, 126.36it/s]\n"
     ]
    }
   ],
   "source": [
    "# if trips go to east downtown:\n",
    "df2 = df[df.otaz.isin(sumo_e)|df.dtaz.isin(sumo_e)]\n",
    "convert1(sw1, near_i5s, 5002, 5003, df=df2)"
   ]
  },
  {
   "cell_type": "code",
   "execution_count": 102,
   "id": "0a4635ec",
   "metadata": {},
   "outputs": [
    {
     "data": {
      "text/html": [
       "<img src=\"regions/southwest2.png\" width=\"300\" height=\"300\"/>"
      ],
      "text/plain": [
       "<IPython.core.display.Image object>"
      ]
     },
     "execution_count": 102,
     "metadata": {},
     "output_type": "execute_result"
    }
   ],
   "source": [
    "Image(url=\"regions/southwest2.png\", width=300, height=300)\n"
   ]
  },
  {
   "cell_type": "code",
   "execution_count": 103,
   "id": "e4f8c161",
   "metadata": {},
   "outputs": [],
   "source": [
    "sw2 = read_regions('regions/southwest2.txt')\n",
    "df = converted_data[converted_data.otaz.isin(sw2)|converted_data.dtaz.isin(sw2)]"
   ]
  },
  {
   "cell_type": "code",
   "execution_count": 104,
   "id": "6640c087",
   "metadata": {},
   "outputs": [
    {
     "name": "stderr",
     "output_type": "stream",
     "text": [
      "5939it [00:46, 128.17it/s]\n",
      "30346it [03:51, 131.36it/s]\n"
     ]
    }
   ],
   "source": [
    "# if trips go to west downtown:\n",
    "df1 = df[df.otaz.isin(sumo_w)|df.dtaz.isin(sumo_w)]\n",
    "# convert1(sw2, nearsr99s, 5008, 5009, df=df1)\n",
    "\n",
    "# v.3\n",
    "df12 = df1[df1.otaz.isin(industrial)|df1.dtaz.isin(industrial)]\n",
    "convert1(sw2, nearsr99s, [5008, 7000], [5009, 7000], df=df12)\n",
    "\n",
    "convert1(sw2, nearsr99s, 5008, 5009, df=df1)"
   ]
  },
  {
   "cell_type": "code",
   "execution_count": 105,
   "id": "e3270c8f",
   "metadata": {},
   "outputs": [
    {
     "name": "stderr",
     "output_type": "stream",
     "text": [
      "6100it [00:47, 128.75it/s]\n"
     ]
    }
   ],
   "source": [
    "# if trips go to east downtown:\n",
    "df2 = df[df.otaz.isin(sumo_e)|df.dtaz.isin(sumo_e)]\n",
    "convert1(sw2, near_i5s, 5002, 5003, df=df2)"
   ]
  },
  {
   "cell_type": "markdown",
   "id": "0f2df42c",
   "metadata": {},
   "source": [
    "----"
   ]
  },
  {
   "cell_type": "code",
   "execution_count": 106,
   "id": "755527d9",
   "metadata": {},
   "outputs": [
    {
     "data": {
      "text/html": [
       "<img src=\"regions/version3/east42.png\" width=\"400\" height=\"300\"/>"
      ],
      "text/plain": [
       "<IPython.core.display.Image object>"
      ]
     },
     "execution_count": 106,
     "metadata": {},
     "output_type": "execute_result"
    }
   ],
   "source": [
    "Image(url=\"regions/version3/east42.png\", width=400, height=300)"
   ]
  },
  {
   "cell_type": "code",
   "execution_count": 107,
   "id": "414f8c27",
   "metadata": {},
   "outputs": [
    {
     "name": "stderr",
     "output_type": "stream",
     "text": [
      "1521it [00:12, 122.49it/s]\n",
      "2700it [00:21, 126.92it/s]\n",
      "2671it [00:20, 127.70it/s]\n",
      "667it [00:05, 127.87it/s]\n"
     ]
    }
   ],
   "source": [
    "reg = read_regions('regions/version3/east42.txt')\n",
    "\n",
    "# v.3\n",
    "df = converted_data[converted_data.otaz.isin(reg)|converted_data.dtaz.isin(reg)]\n",
    "df1 = df[df.otaz.isin(sumo_e)|df.dtaz.isin(sumo_e)]\n",
    "convert1(reg, near_i5s, 5002, 5003, df=df1)\n",
    "\n",
    "df1 = df[df.otaz.isin(sumo_s)|df.dtaz.isin(sumo_s)]\n",
    "convert1(reg, near_i5s, [5002, 7000], [5003, 7000], df=df1)\n",
    "\n",
    "df = converted_data[converted_data.otaz.isin(reg)|converted_data.dtaz.isin(reg)]\n",
    "df20, df80 = random_split_dataframe(df, 20)\n",
    "convert1(reg, near_i5s, 5002, 5003, df=df80)\n",
    "convert1(reg, nearsr99s, 5008, 5009, df=df20)"
   ]
  },
  {
   "cell_type": "code",
   "execution_count": 108,
   "id": "1ca89fc6",
   "metadata": {},
   "outputs": [
    {
     "data": {
      "text/html": [
       "<img src=\"regions/i5s11.png\" width=\"300\" height=\"1000\"/>"
      ],
      "text/plain": [
       "<IPython.core.display.Image object>"
      ]
     },
     "execution_count": 108,
     "metadata": {},
     "output_type": "execute_result"
    }
   ],
   "source": [
    "Image(url=\"regions/i5s11.png\", width=300, height=1000)"
   ]
  },
  {
   "cell_type": "code",
   "execution_count": 109,
   "id": "ebd5aeef",
   "metadata": {},
   "outputs": [
    {
     "name": "stderr",
     "output_type": "stream",
     "text": [
      "4229it [00:34, 122.41it/s]\n",
      "7743it [01:04, 120.70it/s]\n",
      "7631it [01:19, 96.03it/s] \n",
      "1907it [00:19, 96.92it/s] \n"
     ]
    }
   ],
   "source": [
    "i5s1 = read_regions('regions/i5s1.txt')\n",
    "\n",
    "reg = read_regions('regions/i5s1.txt')\n",
    "# convert1(i5s1, near_i5s, 5002, 5003)\n",
    "\n",
    "# v.3\n",
    "df = converted_data[converted_data.otaz.isin(reg)|converted_data.dtaz.isin(reg)]\n",
    "df1 = df[df.otaz.isin(sumo_e)|df.dtaz.isin(sumo_e)]\n",
    "convert1(reg, near_i5s, 5002, 5003, df=df1)\n",
    "\n",
    "# df1 = df[df.otaz.isin(industrial)|df.dtaz.isin(industrial)]\n",
    "df1 = df[df.otaz.isin(sumo_s)|df.dtaz.isin(sumo_s)]\n",
    "convert1(reg, near_i5s, [5002, 7000], [5003, 7000], df=df1)\n",
    "\n",
    "df = converted_data[converted_data.otaz.isin(reg)|converted_data.dtaz.isin(reg)]\n",
    "df20, df80 = random_split_dataframe(df, 20)\n",
    "convert1(reg, near_i5s, 5002, 5003, df=df80)\n",
    "convert1(reg, nearsr99s, 5008, 5009, df=df20)\n"
   ]
  },
  {
   "cell_type": "code",
   "execution_count": 110,
   "id": "36ec923f",
   "metadata": {},
   "outputs": [
    {
     "data": {
      "text/html": [
       "<img src=\"regions/i5s2.png\" width=\"300\" height=\"300\"/>"
      ],
      "text/plain": [
       "<IPython.core.display.Image object>"
      ]
     },
     "execution_count": 110,
     "metadata": {},
     "output_type": "execute_result"
    }
   ],
   "source": [
    "Image(url=\"regions/i5s2.png\", width=300, height=300)"
   ]
  },
  {
   "cell_type": "code",
   "execution_count": 111,
   "id": "0c90a997",
   "metadata": {
    "scrolled": true
   },
   "outputs": [
    {
     "name": "stderr",
     "output_type": "stream",
     "text": [
      "462it [00:04, 97.22it/s] \n",
      "13769it [01:50, 125.05it/s]\n"
     ]
    }
   ],
   "source": [
    "i5s2 = read_regions('regions/i5s2.txt')\n",
    "# convert1(i5s2, near_i5s, 5002, 5003)\n",
    "\n",
    "# v.3\n",
    "df = converted_data[converted_data.otaz.isin(i5s2)|converted_data.dtaz.isin(i5s2)]\n",
    "# df = df[df.otaz.isin(sumo_w)|df.dtaz.isin(sumo_w)]\n",
    "# df = df[df.otaz.isin(industrial+sumo_n)|df.dtaz.isin(industrial+sumo_n)]\n",
    "df = df[df.otaz.isin(industrial)|df.dtaz.isin(industrial)]\n",
    "df30, df70 = random_split_dataframe(df, 30)\n",
    "convert1(i5s2, near_i5s, 7000, 7000, df=df30)\n",
    "\n",
    "\n",
    "convert1(i5s2, near_i5s, 5002, 5003)\n"
   ]
  },
  {
   "cell_type": "markdown",
   "id": "689d5118",
   "metadata": {},
   "source": [
    "-----"
   ]
  },
  {
   "cell_type": "code",
   "execution_count": 112,
   "id": "b55f27c7",
   "metadata": {},
   "outputs": [
    {
     "data": {
      "text/html": [
       "<img src=\"regions/southeast.png\" width=\"400\" height=\"300\"/>"
      ],
      "text/plain": [
       "<IPython.core.display.Image object>"
      ]
     },
     "execution_count": 112,
     "metadata": {},
     "output_type": "execute_result"
    }
   ],
   "source": [
    "Image(url=\"regions/southeast.png\", width=400, height=300)"
   ]
  },
  {
   "cell_type": "code",
   "execution_count": 113,
   "id": "265664c4",
   "metadata": {},
   "outputs": [],
   "source": [
    "se = read_regions('regions/southeast.txt')"
   ]
  },
  {
   "cell_type": "code",
   "execution_count": 114,
   "id": "bb3f697d",
   "metadata": {},
   "outputs": [
    {
     "name": "stderr",
     "output_type": "stream",
     "text": [
      "4056it [00:32, 123.43it/s]\n"
     ]
    }
   ],
   "source": [
    "# if trips go to east downtown:\n",
    "df = converted_data[converted_data.otaz.isin(se)|converted_data.dtaz.isin(se)]\n",
    "df = df[df.otaz.isin(sumo_e)|df.dtaz.isin(sumo_e)]\n",
    "# convert1(se, [636], 636, 636, df=df)\n",
    "\n",
    "#v.3\n",
    "east2boundary = read_regions('regions/east2_boundary.txt')\n",
    "convert1(se, east2boundary, 7005, 7005, df=df)"
   ]
  },
  {
   "cell_type": "code",
   "execution_count": 115,
   "id": "e10d4ed8",
   "metadata": {},
   "outputs": [
    {
     "name": "stderr",
     "output_type": "stream",
     "text": [
      "2535it [00:20, 124.66it/s]\n",
      "2535it [00:20, 124.58it/s]\n"
     ]
    }
   ],
   "source": [
    "# if trips go to south downtown:\n",
    "df = converted_data[converted_data.otaz.isin(se)|converted_data.dtaz.isin(se)]\n",
    "df = df[df.otaz.isin(sumo_s)|df.dtaz.isin(sumo_s)]\n",
    "# convert1(se, [650], 650, 650, df=df)\n",
    "\n",
    "#v.3\n",
    "southboundary = read_regions('regions/south_boundary.txt')\n",
    "df1, df2 = random_split_dataframe(df, 50)\n",
    "convert1(se, east2boundary, 7005, 7005, df1)\n",
    "convert1(se, southboundary, 7000,  7000, df2)"
   ]
  },
  {
   "cell_type": "code",
   "execution_count": 116,
   "id": "449c9866",
   "metadata": {},
   "outputs": [
    {
     "name": "stderr",
     "output_type": "stream",
     "text": [
      "6196it [00:46, 132.89it/s]\n"
     ]
    }
   ],
   "source": [
    "# if trips go to north downtown:\n",
    "df = converted_data[converted_data.otaz.isin(se)|converted_data.dtaz.isin(se)]\n",
    "df = df[df.otaz.isin(sumo_n)|df.dtaz.isin(sumo_n)]\n",
    "convert1(se, near_i5s, 5002, 5003, df=df)"
   ]
  },
  {
   "cell_type": "markdown",
   "id": "94a46e25",
   "metadata": {},
   "source": [
    "----"
   ]
  },
  {
   "cell_type": "code",
   "execution_count": 117,
   "id": "d7734822",
   "metadata": {},
   "outputs": [
    {
     "data": {
      "text/html": [
       "<img src=\"regions/east1.png\" width=\"400\" height=\"300\"/>"
      ],
      "text/plain": [
       "<IPython.core.display.Image object>"
      ]
     },
     "execution_count": 117,
     "metadata": {},
     "output_type": "execute_result"
    }
   ],
   "source": [
    "Image(url=\"regions/east1.png\", width=400, height=300)"
   ]
  },
  {
   "cell_type": "code",
   "execution_count": 118,
   "id": "96c28785",
   "metadata": {},
   "outputs": [
    {
     "name": "stderr",
     "output_type": "stream",
     "text": [
      "6070it [00:48, 126.41it/s]\n",
      "27510it [03:44, 122.38it/s]\n"
     ]
    }
   ],
   "source": [
    "east1 = read_regions('regions/east1.txt')\n",
    "boundary = read_regions('regions/east1_boundary.txt')\n",
    "# convert1(east1, boundary, 7004, 7004)\n",
    "\n",
    "#v.3 - for trips to sumo south\n",
    "df = converted_data[converted_data.otaz.isin(east1)|converted_data.dtaz.isin(east1)]\n",
    "df = df[df.otaz.isin(sumo_s)|df.dtaz.isin(sumo_s)]\n",
    "df30, df70 = random_split_dataframe(df, 30)\n",
    "convert1(east1, boundary, 7005, 7005, df=df70)\n",
    "\n",
    "convert1(east1, boundary, 7004, 7004)"
   ]
  },
  {
   "cell_type": "markdown",
   "id": "acd4cacd",
   "metadata": {},
   "source": [
    "----"
   ]
  },
  {
   "cell_type": "code",
   "execution_count": 119,
   "id": "51ca190e",
   "metadata": {},
   "outputs": [
    {
     "data": {
      "text/html": [
       "<img src=\"regions/east2.png\" width=\"400\" height=\"300\"/>"
      ],
      "text/plain": [
       "<IPython.core.display.Image object>"
      ]
     },
     "execution_count": 119,
     "metadata": {},
     "output_type": "execute_result"
    }
   ],
   "source": [
    "Image(url=\"regions/east2.png\", width=400, height=300)"
   ]
  },
  {
   "cell_type": "code",
   "execution_count": 120,
   "id": "69ac7441",
   "metadata": {},
   "outputs": [
    {
     "name": "stderr",
     "output_type": "stream",
     "text": [
      "1447it [00:13, 111.23it/s]\n",
      "16623it [02:06, 131.64it/s]\n"
     ]
    }
   ],
   "source": [
    "east2 = read_regions('regions/east2.txt')\n",
    "boundary = read_regions('regions/east2_boundary.txt')\n",
    "# convert1(east2, boundary, 7005, 7005)\n",
    "\n",
    "#v.3 - for trips to sumo northeast\n",
    "df = converted_data[converted_data.otaz.isin(east2)|converted_data.dtaz.isin(east2)]\n",
    "df = df[df.otaz.isin(sumo_n)|df.dtaz.isin(sumo_n)]\n",
    "df = df[df.otaz.isin(sumo_e)|df.dtaz.isin(sumo_e)]\n",
    "df1, df2 = random_split_dataframe(df, 50)\n",
    "convert1(east2, boundary, 7004, 7004, df=df1)  \n",
    "\n",
    "convert1(east2, boundary, 7005, 7005)"
   ]
  },
  {
   "cell_type": "markdown",
   "id": "7a6a0988",
   "metadata": {},
   "source": [
    "----"
   ]
  },
  {
   "cell_type": "code",
   "execution_count": 121,
   "id": "f5026d8f",
   "metadata": {},
   "outputs": [
    {
     "data": {
      "text/html": [
       "<img src=\"regions/north1.png\" width=\"400\" height=\"300\"/>"
      ],
      "text/plain": [
       "<IPython.core.display.Image object>"
      ]
     },
     "execution_count": 121,
     "metadata": {},
     "output_type": "execute_result"
    }
   ],
   "source": [
    "Image(url=\"regions/north1.png\", width=400, height=300)"
   ]
  },
  {
   "cell_type": "code",
   "execution_count": 122,
   "id": "eb916b55",
   "metadata": {},
   "outputs": [
    {
     "name": "stderr",
     "output_type": "stream",
     "text": [
      "8357it [01:04, 129.95it/s]\n"
     ]
    }
   ],
   "source": [
    "north1 = read_regions('regions/north1.txt')\n",
    "boundary = read_regions('regions/north1_boundary.txt')\n",
    "# convert1(north1, boundary, boundary, boundary)\n",
    "convert1(north1, boundary, 7001, 7001)"
   ]
  },
  {
   "cell_type": "markdown",
   "id": "1d8f9ffe",
   "metadata": {},
   "source": [
    "----"
   ]
  },
  {
   "cell_type": "markdown",
   "id": "99b1f2bf",
   "metadata": {},
   "source": [
    "----"
   ]
  },
  {
   "cell_type": "code",
   "execution_count": 123,
   "id": "0c292d3e",
   "metadata": {
    "scrolled": true
   },
   "outputs": [
    {
     "data": {
      "text/html": [
       "<img src=\"regions/north_west.png\" width=\"300\" height=\"300\"/>"
      ],
      "text/plain": [
       "<IPython.core.display.Image object>"
      ]
     },
     "execution_count": 123,
     "metadata": {},
     "output_type": "execute_result"
    }
   ],
   "source": [
    "Image(url=\"regions/north_west.png\", width=300, height=300)"
   ]
  },
  {
   "cell_type": "code",
   "execution_count": 124,
   "id": "c33e7322",
   "metadata": {},
   "outputs": [
    {
     "name": "stderr",
     "output_type": "stream",
     "text": [
      "21580it [02:41, 133.70it/s]\n",
      "3582it [00:25, 138.08it/s]\n"
     ]
    }
   ],
   "source": [
    "NW = read_regions('regions/north_west.txt')\n",
    "boundary = read_regions('regions/north3_boundary.txt')\n",
    "df = converted_data[converted_data.otaz.isin(NW)|converted_data.dtaz.isin(NW)]\n",
    "\n",
    "df1 = df[df.otaz.isin(sumo_n)|df.dtaz.isin(sumo_n)]\n",
    "# convert1(NW, boundary, boundary, boundary, df=df1)\n",
    "convert1(NW, boundary, 7003, 7003, df=df1)\n",
    "\n",
    "df2 = df[df.otaz.isin(sumo_s)|df.dtaz.isin(sumo_s)]\n",
    "convert1(NW, nearSR99n, 5010, 5011, df=df2)"
   ]
  },
  {
   "cell_type": "code",
   "execution_count": 125,
   "id": "40b3111f-9868-4d99-adb9-04335833bb99",
   "metadata": {},
   "outputs": [
    {
     "name": "stderr",
     "output_type": "stream",
     "text": [
      "0it [00:00, ?it/s]\n"
     ]
    }
   ],
   "source": [
    "convert1(NW, nearSR99n, 5010, 5011)"
   ]
  },
  {
   "cell_type": "code",
   "execution_count": 126,
   "id": "812e1249-9cfb-4635-89ad-8b7667ad311f",
   "metadata": {},
   "outputs": [
    {
     "data": {
      "text/html": [
       "<div>\n",
       "<style scoped>\n",
       "    .dataframe tbody tr th:only-of-type {\n",
       "        vertical-align: middle;\n",
       "    }\n",
       "\n",
       "    .dataframe tbody tr th {\n",
       "        vertical-align: top;\n",
       "    }\n",
       "\n",
       "    .dataframe thead th {\n",
       "        text-align: right;\n",
       "    }\n",
       "</style>\n",
       "<table border=\"1\" class=\"dataframe\">\n",
       "  <thead>\n",
       "    <tr style=\"text-align: right;\">\n",
       "      <th></th>\n",
       "      <th>otaz</th>\n",
       "      <th>dtaz</th>\n",
       "      <th>deptm</th>\n",
       "      <th>travtime</th>\n",
       "      <th>original_o</th>\n",
       "      <th>original_d</th>\n",
       "      <th>original_deptm</th>\n",
       "    </tr>\n",
       "  </thead>\n",
       "  <tbody>\n",
       "  </tbody>\n",
       "</table>\n",
       "</div>"
      ],
      "text/plain": [
       "Empty DataFrame\n",
       "Columns: [otaz, dtaz, deptm, travtime, original_o, original_d, original_deptm]\n",
       "Index: []"
      ]
     },
     "execution_count": 126,
     "metadata": {},
     "output_type": "execute_result"
    }
   ],
   "source": [
    "converted_data[converted_data.otaz.isin(NW)|converted_data.dtaz.isin(NW)]\n"
   ]
  },
  {
   "cell_type": "code",
   "execution_count": 127,
   "id": "1bf9ad85-f9da-42d8-8c34-88b915c2cab8",
   "metadata": {},
   "outputs": [
    {
     "data": {
      "text/html": [
       "<div>\n",
       "<style scoped>\n",
       "    .dataframe tbody tr th:only-of-type {\n",
       "        vertical-align: middle;\n",
       "    }\n",
       "\n",
       "    .dataframe tbody tr th {\n",
       "        vertical-align: top;\n",
       "    }\n",
       "\n",
       "    .dataframe thead th {\n",
       "        text-align: right;\n",
       "    }\n",
       "</style>\n",
       "<table border=\"1\" class=\"dataframe\">\n",
       "  <thead>\n",
       "    <tr style=\"text-align: right;\">\n",
       "      <th></th>\n",
       "      <th>otaz</th>\n",
       "      <th>dtaz</th>\n",
       "      <th>deptm</th>\n",
       "      <th>travtime</th>\n",
       "      <th>original_o</th>\n",
       "      <th>original_d</th>\n",
       "      <th>original_deptm</th>\n",
       "    </tr>\n",
       "  </thead>\n",
       "  <tbody>\n",
       "  </tbody>\n",
       "</table>\n",
       "</div>"
      ],
      "text/plain": [
       "Empty DataFrame\n",
       "Columns: [otaz, dtaz, deptm, travtime, original_o, original_d, original_deptm]\n",
       "Index: []"
      ]
     },
     "execution_count": 127,
     "metadata": {},
     "output_type": "execute_result"
    }
   ],
   "source": [
    "converted_data[converted_data.otaz.isin(NW)|converted_data.dtaz.isin(NW)]\n"
   ]
  },
  {
   "cell_type": "markdown",
   "id": "cf79e1fc",
   "metadata": {},
   "source": [
    "-------"
   ]
  },
  {
   "cell_type": "code",
   "execution_count": 128,
   "id": "2ef5c541",
   "metadata": {},
   "outputs": [
    {
     "data": {
      "text/html": [
       "<img src=\"regions/6001.png\" width=\"300\" height=\"300\"/>"
      ],
      "text/plain": [
       "<IPython.core.display.Image object>"
      ]
     },
     "execution_count": 128,
     "metadata": {},
     "output_type": "execute_result"
    }
   ],
   "source": [
    "Image(url=\"regions/6001.png\", width=300, height=300)"
   ]
  },
  {
   "cell_type": "code",
   "execution_count": 129,
   "id": "69a683ea",
   "metadata": {},
   "outputs": [],
   "source": [
    "to6001 = read_regions('regions/6001.txt')\n",
    "near6001 = read_regions('regions/near6001.txt')"
   ]
  },
  {
   "cell_type": "code",
   "execution_count": 130,
   "id": "dfc4d141",
   "metadata": {},
   "outputs": [
    {
     "name": "stderr",
     "output_type": "stream",
     "text": [
      "904it [00:06, 137.79it/s]\n",
      "2074it [00:14, 138.39it/s]\n",
      "12884it [01:33, 138.15it/s]\n"
     ]
    }
   ],
   "source": [
    "# df = converted_data[converted_data.otaz.isin(to6001)|converted_data.dtaz.isin(to6001)]\n",
    "\n",
    "# df1 = df[df.otaz.isin(sumo_n)|df.dtaz.isin(sumo_n)]\n",
    "# convert1(to6001, near6001, 6001, 6001, df=df1)\n",
    "\n",
    "# df2 = df[df.otaz.isin(sumo_s)|df.dtaz.isin(sumo_s)]\n",
    "# convert1(to6001, nearSR99n, 5010, 5011, df=df2)\n",
    "\n",
    "df = converted_data[converted_data.otaz.isin(to6001)|converted_data.dtaz.isin(to6001)]\n",
    "df1 = df[df.otaz.isin(industrial)|df.dtaz.isin(industrial)]\n",
    "convert1(to6001, nearSR99n, 5010, 5011, df=df1)\n",
    "\n",
    "north3=[436, 437, 438, 439, 440, 441, 442, 443]\n",
    "df = converted_data[converted_data.otaz.isin(to6001)|converted_data.dtaz.isin(to6001)]\n",
    "df = df[df.otaz.isin(north3)|df.dtaz.isin(north3)]\n",
    "convert1(to6001, near6001, [6001, 7003], [6001, 7003], df=df)\n",
    "\n",
    "convert1(to6001, near6001, 6001, 6001)"
   ]
  },
  {
   "cell_type": "markdown",
   "id": "87926d1d",
   "metadata": {},
   "source": [
    "----"
   ]
  },
  {
   "cell_type": "code",
   "execution_count": 131,
   "id": "0306fc7c",
   "metadata": {
    "scrolled": true
   },
   "outputs": [
    {
     "data": {
      "text/html": [
       "<img src=\"regions/south.png\" width=\"300\" height=\"300\"/>"
      ],
      "text/plain": [
       "<IPython.core.display.Image object>"
      ]
     },
     "execution_count": 131,
     "metadata": {},
     "output_type": "execute_result"
    }
   ],
   "source": [
    "Image(url=\"regions/south.png\", width=300, height=300)"
   ]
  },
  {
   "cell_type": "code",
   "execution_count": 132,
   "id": "110e6498",
   "metadata": {},
   "outputs": [
    {
     "name": "stderr",
     "output_type": "stream",
     "text": [
      "11355it [01:21, 138.55it/s]\n"
     ]
    }
   ],
   "source": [
    "south = read_regions('regions/south.txt')\n",
    "boundary = read_regions('regions/south_boundary.txt')\n",
    "# convert1(south, boundary, boundary, boundary)\n",
    "convert1(south, boundary, 7000, 7000)"
   ]
  },
  {
   "cell_type": "markdown",
   "id": "d0eb8062",
   "metadata": {},
   "source": [
    "-------"
   ]
  },
  {
   "cell_type": "markdown",
   "id": "879a9577",
   "metadata": {},
   "source": [
    "## TAZ conversion for trips passing through sumo_TAZs\n",
    "\n",
    "For this stage, we assume some scenarios, find related trips in out main trip dataframe, process them, and then add them to our existing trips"
   ]
  },
  {
   "cell_type": "code",
   "execution_count": 133,
   "id": "47358dc3",
   "metadata": {},
   "outputs": [],
   "source": [
    "def get_trips_in_between(src_df, taz_list1, taz_list2):\n",
    "# make sure taz_list1 and taz_list2 have no TAZ within sumo_TAZs. \n",
    "# In that case, some of the trips that were already processed in converted_data will be included\n",
    "    df = src_df[(src_df.otaz.isin(taz_list1) & src_df.dtaz.isin(taz_list2)) | \n",
    "                (src_df.otaz.isin(taz_list2) & src_df.dtaz.isin(taz_list1))]\n",
    "    return df"
   ]
  },
  {
   "cell_type": "code",
   "execution_count": 134,
   "id": "4db83739",
   "metadata": {},
   "outputs": [],
   "source": [
    "def convert2(df, zone1, new_z1, near_new_z1, zone2, new_z2, near_new_z2):\n",
    "    zone1offsets = get_intra_TAZ_traveltime(zone1, near_new_z1)\n",
    "    zone2offsets = get_intra_TAZ_traveltime(zone2, near_new_z2)\n",
    "    new_z1_in, new_z1_out = new_z1[0], new_z1[1]\n",
    "    new_z2_in, new_z2_out = new_z2[0], new_z2[1]\n",
    "    \n",
    "    print(f\"it'll take {len(df)} iterations.\")\n",
    "    for index, row in tqdm(df.iterrows()):\n",
    "        interval = int(row.deptm//15)\n",
    "        \n",
    "        if row.otaz in zone1 and row.dtaz in zone2:\n",
    "            row.otaz = get_random_TAZ(new_z1_in)\n",
    "            row.dtaz = get_random_TAZ(new_z2_out)\n",
    "            row.deptm += zone1offsets[interval]\n",
    "            \n",
    "        elif row.otaz in zone2 and row.dtaz in zone1:\n",
    "            row.otaz = get_random_TAZ(new_z2_in)\n",
    "            row.dtaz = get_random_TAZ(new_z1_out)\n",
    "            row.deptm += zone2offsets[interval]\n",
    "#         converted_data.loc[index, :] = row \n",
    "        df.loc[index, :] = row"
   ]
  },
  {
   "cell_type": "markdown",
   "id": "18a22791",
   "metadata": {},
   "source": [
    "-----"
   ]
  },
  {
   "cell_type": "code",
   "execution_count": 135,
   "id": "ef287cb4",
   "metadata": {},
   "outputs": [
    {
     "data": {
      "text/html": [
       "<img src=\"regions/scenarios.png\" width=\"900\" height=\"300\"/>"
      ],
      "text/plain": [
       "<IPython.core.display.Image object>"
      ]
     },
     "execution_count": 135,
     "metadata": {},
     "output_type": "execute_result"
    }
   ],
   "source": [
    "Image(url=\"regions/scenarios.png\", width=900, height=300)"
   ]
  },
  {
   "cell_type": "code",
   "execution_count": 136,
   "id": "6aae3df0",
   "metadata": {},
   "outputs": [
    {
     "name": "stdout",
     "output_type": "stream",
     "text": [
      "it'll take 1406 iterations.\n"
     ]
    },
    {
     "name": "stderr",
     "output_type": "stream",
     "text": [
      "1406it [00:00, 1498.10it/s]\n"
     ]
    }
   ],
   "source": [
    "#scenario 1:\n",
    "\n",
    "# out_of_sumo_data = get_trips_in_between(trip_data, zone1, zone2) \n",
    "out_of_sumo_data = get_trips_in_between(trip_data, i5n2, i5s1) \n",
    "# convert2(out_of_sumo_data, zone1, new_z1, near_new_z1, zone2, new_z2, near_new_z2)\n",
    "convert2(out_of_sumo_data, i5n2, [5000, 5001], near_i5n, i5s1, [5002, 5003], near_i5s)"
   ]
  },
  {
   "cell_type": "code",
   "execution_count": 137,
   "id": "a8b181c1",
   "metadata": {},
   "outputs": [],
   "source": [
    "def make_pseudo_trips(zone1, new_z1, near_new_z1, zone2, new_z2, near_new_z2):\n",
    "        df = get_trips_in_between(trip_data, zone1, zone2) \n",
    "        convert2(df, zone1, new_z1, near_new_z1, zone2, new_z2, near_new_z2)\n",
    "        return df"
   ]
  },
  {
   "cell_type": "code",
   "execution_count": 138,
   "id": "b21973d9",
   "metadata": {},
   "outputs": [
    {
     "name": "stdout",
     "output_type": "stream",
     "text": [
      "it'll take 2462 iterations.\n"
     ]
    },
    {
     "name": "stderr",
     "output_type": "stream",
     "text": [
      "2462it [00:01, 1538.65it/s]\n"
     ]
    }
   ],
   "source": [
    "# scenario 2\n",
    "# convert2(out_of_sumo_data, zone1, new_z1, near_new_z1, zone2, new_z2, near_new_z2)\n",
    "df = make_pseudo_trips(i5n2, [5000, 5001], near_i5n, sw2, [5002, 5003], near_i5s)\n",
    "out_of_sumo_data = pd.concat([out_of_sumo_data, df])\n"
   ]
  },
  {
   "cell_type": "code",
   "execution_count": 139,
   "id": "98d2a276",
   "metadata": {},
   "outputs": [
    {
     "name": "stdout",
     "output_type": "stream",
     "text": [
      "it'll take 1301 iterations.\n"
     ]
    },
    {
     "name": "stderr",
     "output_type": "stream",
     "text": [
      "1301it [00:00, 1584.28it/s]\n"
     ]
    }
   ],
   "source": [
    "# scenario 3\n",
    "east2_b = read_regions('regions/east2_boundary.txt')\n",
    "\n",
    "# convert2(out_of_sumo_data, zone1, new_z1, near_new_z1, zone2, new_z2, near_new_z2)\n",
    "# df = make_pseudo_trips(i5n2, [5000, 5001], near_i5n, east2, [east2_b, east2_b], east2_b)\n",
    "df = make_pseudo_trips(i5n2, [5000, 5001], near_i5n, east2, [7005, 7005], east2_b)\n",
    "out_of_sumo_data = pd.concat([out_of_sumo_data, df])"
   ]
  },
  {
   "cell_type": "code",
   "execution_count": 140,
   "id": "b214bde3",
   "metadata": {},
   "outputs": [
    {
     "name": "stdout",
     "output_type": "stream",
     "text": [
      "it'll take 2657 iterations.\n"
     ]
    },
    {
     "name": "stderr",
     "output_type": "stream",
     "text": [
      "2657it [00:01, 1513.06it/s]\n"
     ]
    }
   ],
   "source": [
    "# scenario 4\n",
    "east1_b = read_regions('regions/east1_boundary.txt')\n",
    "# convert2(out_of_sumo_data, zone1, new_z1, near_new_z1, zone2, new_z2, near_new_z2)\n",
    "# df = make_pseudo_trips(i5n2, [5000, 5001], near_i5n, east1, [east1_b, east1_b], east1_b)\n",
    "df = make_pseudo_trips(i5n2, [5000, 5001], near_i5n, east1, [7004, 7004], east1_b)\n",
    "out_of_sumo_data = pd.concat([out_of_sumo_data, df])"
   ]
  },
  {
   "cell_type": "code",
   "execution_count": 141,
   "id": "5c9df524",
   "metadata": {},
   "outputs": [
    {
     "name": "stdout",
     "output_type": "stream",
     "text": [
      "it'll take 2196 iterations.\n"
     ]
    },
    {
     "name": "stderr",
     "output_type": "stream",
     "text": [
      "2196it [00:01, 1503.24it/s]\n"
     ]
    }
   ],
   "source": [
    "# scenario 5\n",
    "# convert2(out_of_sumo_data, zone1, new_z1, near_new_z1, zone2, new_z2, near_new_z2)\n",
    "# df = make_pseudo_trips(i5s2, [5002, 5003], near_i5s, east1, [east1_b, east1_b], east1_b)\n",
    "df = make_pseudo_trips(i5s2, [5002, 5003], near_i5s, east1, [7004, 7004], east1_b)\n",
    "out_of_sumo_data = pd.concat([out_of_sumo_data, df])"
   ]
  },
  {
   "cell_type": "code",
   "execution_count": 142,
   "id": "ba174550",
   "metadata": {},
   "outputs": [
    {
     "name": "stdout",
     "output_type": "stream",
     "text": [
      "it'll take 1588 iterations.\n"
     ]
    },
    {
     "name": "stderr",
     "output_type": "stream",
     "text": [
      "1588it [00:01, 1516.64it/s]\n"
     ]
    }
   ],
   "source": [
    "# scenario 6\n",
    "north3_b = read_regions('regions/north3_boundary.txt')\n",
    "# convert2(out_of_sumo_data, zone1, new_z1, near_new_z1, zone2, new_z2, near_new_z2)\n",
    "# df = make_pseudo_trips(NW, [north3_b, north3_b], north3_b, east1, [east1_b, east1_b], east1_b)\n",
    "df = make_pseudo_trips(NW, [7003, 7003], north3_b, east1, [7004, 7004], east1_b)\n",
    "out_of_sumo_data = pd.concat([out_of_sumo_data, df])"
   ]
  },
  {
   "cell_type": "code",
   "execution_count": 143,
   "id": "c6ffe132",
   "metadata": {},
   "outputs": [
    {
     "name": "stdout",
     "output_type": "stream",
     "text": [
      "it'll take 944 iterations.\n"
     ]
    },
    {
     "name": "stderr",
     "output_type": "stream",
     "text": [
      "944it [00:00, 1570.13it/s]\n"
     ]
    }
   ],
   "source": [
    "# scenario 7\n",
    "north2_b = read_regions('regions/north2_boundary.txt')\n",
    "# convert2(out_of_sumo_data, zone1, new_z1, near_new_z1, zone2, new_z2, near_new_z2)\n",
    "# df = make_pseudo_trips(north2, [north2_b, north2_b], north2_b, east2, [east2_b, east2_b], east2_b)\n",
    "df = make_pseudo_trips(north2, [7002, 7002], north2_b, east2, [7005, 7005], east2_b)\n",
    "out_of_sumo_data = pd.concat([out_of_sumo_data, df])"
   ]
  },
  {
   "cell_type": "code",
   "execution_count": 144,
   "id": "2a5d9766",
   "metadata": {},
   "outputs": [
    {
     "name": "stdout",
     "output_type": "stream",
     "text": [
      "it'll take 851 iterations.\n"
     ]
    },
    {
     "name": "stderr",
     "output_type": "stream",
     "text": [
      "851it [00:00, 1486.74it/s]\n"
     ]
    }
   ],
   "source": [
    "# scenario 8\n",
    "# convert2(out_of_sumo_data, zone1, new_z1, near_new_z1, zone2, new_z2, near_new_z2)\n",
    "# df = make_pseudo_trips(NW, [north3_b, north3_b], north3_b, east2, [east2_b, east2_b], east2_b)\n",
    "df = make_pseudo_trips(NW, [7003, 7003], north3_b, east2, [7005, 7005], east2_b)\n",
    "out_of_sumo_data = pd.concat([out_of_sumo_data, df])"
   ]
  },
  {
   "cell_type": "code",
   "execution_count": 145,
   "id": "a6a89276",
   "metadata": {},
   "outputs": [
    {
     "name": "stdout",
     "output_type": "stream",
     "text": [
      "it'll take 1846 iterations.\n"
     ]
    },
    {
     "name": "stderr",
     "output_type": "stream",
     "text": [
      "1846it [00:01, 1518.82it/s]\n"
     ]
    }
   ],
   "source": [
    "# scenario 9\n",
    "# convert2(out_of_sumo_data, zone1, new_z1, near_new_z1, zone2, new_z2, near_new_z2)\n",
    "# df = make_pseudo_trips(i5s2, [5002, 5003], near_i5s, east2, [east2_b, east2_b], east2_b)\n",
    "df = make_pseudo_trips(i5s2, [5002, 5003], near_i5s, east2, [7005, 7005], east2_b)\n",
    "out_of_sumo_data = pd.concat([out_of_sumo_data, df])"
   ]
  },
  {
   "cell_type": "code",
   "execution_count": 146,
   "id": "b5c6dcc7",
   "metadata": {},
   "outputs": [
    {
     "name": "stdout",
     "output_type": "stream",
     "text": [
      "it'll take 1172 iterations.\n"
     ]
    },
    {
     "name": "stderr",
     "output_type": "stream",
     "text": [
      "1172it [00:00, 1542.44it/s]\n"
     ]
    }
   ],
   "source": [
    "# scenario 10\n",
    "south_b = read_regions('regions/south_boundary.txt')\n",
    "# convert2(out_of_sumo_data, zone1, new_z1, near_new_z1, zone2, new_z2, near_new_z2)\n",
    "# df = make_pseudo_trips(NW, [north3_b, north3_b], north3_b, south, [south_b, south_b], south_b)\n",
    "df = make_pseudo_trips(NW, [7003, 7003], north3_b, south, [7000, 7000], south_b)\n",
    "out_of_sumo_data = pd.concat([out_of_sumo_data, df])"
   ]
  },
  {
   "cell_type": "code",
   "execution_count": 147,
   "id": "ee6abac1",
   "metadata": {},
   "outputs": [
    {
     "name": "stdout",
     "output_type": "stream",
     "text": [
      "it'll take 624 iterations.\n"
     ]
    },
    {
     "name": "stderr",
     "output_type": "stream",
     "text": [
      "624it [00:00, 1497.96it/s]\n"
     ]
    }
   ],
   "source": [
    "# scenario 11\n",
    "# convert2(out_of_sumo_data, zone1, new_z1, near_new_z1, zone2, new_z2, near_new_z2)\n",
    "df = make_pseudo_trips(NW, [436, 436], north3_b, se, [[636, 650], [636, 650]], [636, 647, 648, 649, 650 ])\n",
    "out_of_sumo_data = pd.concat([out_of_sumo_data, df])"
   ]
  },
  {
   "cell_type": "code",
   "execution_count": 148,
   "id": "21e31bc4",
   "metadata": {},
   "outputs": [
    {
     "name": "stdout",
     "output_type": "stream",
     "text": [
      "it'll take 2238 iterations.\n"
     ]
    },
    {
     "name": "stderr",
     "output_type": "stream",
     "text": [
      "2238it [00:01, 1516.67it/s]\n"
     ]
    }
   ],
   "source": [
    "# scenario 12\n",
    "# convert2(out_of_sumo_data, zone1, new_z1, near_new_z1, zone2, new_z2, near_new_z2)\n",
    "# df = make_pseudo_trips(NW, [north3_b, north3_b], north3_b, sw1, [5008, 5009], nearsr99s)\n",
    "df = make_pseudo_trips(NW, [7003, 7003], north3_b, sw1, [5008, 5009], nearsr99s)\n",
    "out_of_sumo_data = pd.concat([out_of_sumo_data, df])"
   ]
  },
  {
   "cell_type": "code",
   "execution_count": 149,
   "id": "14860053",
   "metadata": {},
   "outputs": [
    {
     "name": "stdout",
     "output_type": "stream",
     "text": [
      "it'll take 9355 iterations.\n"
     ]
    },
    {
     "name": "stderr",
     "output_type": "stream",
     "text": [
      "9355it [00:06, 1384.99it/s]\n"
     ]
    }
   ],
   "source": [
    "# scenario 13\n",
    "# convert2(out_of_sumo_data, zone1, new_z1, near_new_z1, zone2, new_z2, near_new_z2)\n",
    "df = make_pseudo_trips((SR99n+to6001), [5010, 5011], nearSR99n,\n",
    "                       sw1, [5008, 5009], nearsr99s)\n",
    "out_of_sumo_data = pd.concat([out_of_sumo_data, df])"
   ]
  },
  {
   "cell_type": "code",
   "execution_count": 150,
   "id": "43673faa",
   "metadata": {},
   "outputs": [
    {
     "name": "stdout",
     "output_type": "stream",
     "text": [
      "it'll take 7321 iterations.\n"
     ]
    },
    {
     "name": "stderr",
     "output_type": "stream",
     "text": [
      "7321it [00:05, 1424.86it/s]\n"
     ]
    }
   ],
   "source": [
    "# scenario 14\n",
    "# convert2(out_of_sumo_data, zone1, new_z1, near_new_z1, zone2, new_z2, near_new_z2)\n",
    "df = make_pseudo_trips(i5n1, [5000, 5001], near_i5n,\n",
    "                       i5s1, [5002, 5003], near_i5s)\n",
    "out_of_sumo_data = pd.concat([out_of_sumo_data, df])"
   ]
  },
  {
   "cell_type": "code",
   "execution_count": 151,
   "id": "1580094d",
   "metadata": {},
   "outputs": [
    {
     "name": "stdout",
     "output_type": "stream",
     "text": [
      "it'll take 4856 iterations.\n"
     ]
    },
    {
     "name": "stderr",
     "output_type": "stream",
     "text": [
      "4856it [00:03, 1444.53it/s]\n"
     ]
    }
   ],
   "source": [
    "# scenario 15\n",
    "# convert2(out_of_sumo_data, zone1, new_z1, near_new_z1, zone2, new_z2, near_new_z2)\n",
    "# df = make_pseudo_trips(i5n1, [5000, 5001], near_i5n, south, [south_b, south_b], south_b)\n",
    "df = make_pseudo_trips(i5n1, [5000, 5001], near_i5n, \n",
    "                       south, [7000, 7000], south_b)\n",
    "out_of_sumo_data = pd.concat([out_of_sumo_data, df])"
   ]
  },
  {
   "cell_type": "code",
   "execution_count": 152,
   "id": "99492a6e",
   "metadata": {},
   "outputs": [
    {
     "name": "stdout",
     "output_type": "stream",
     "text": [
      "it'll take 14977 iterations.\n"
     ]
    },
    {
     "name": "stderr",
     "output_type": "stream",
     "text": [
      "14977it [00:11, 1278.01it/s]\n"
     ]
    }
   ],
   "source": [
    "# scenario 18\n",
    "# convert2(out_of_sumo_data, zone1, new_z1, near_new_z1, zone2, new_z2, near_new_z2)\n",
    "df = make_pseudo_trips(sw2, [5008, 5009], nearsr99s,\n",
    "                       (SR99n+to6001), [5010, 5011], nearSR99n)\n",
    "out_of_sumo_data = pd.concat([out_of_sumo_data, df])"
   ]
  },
  {
   "cell_type": "code",
   "execution_count": 153,
   "id": "35d3ea35",
   "metadata": {},
   "outputs": [
    {
     "name": "stdout",
     "output_type": "stream",
     "text": [
      "it'll take 4004 iterations.\n"
     ]
    },
    {
     "name": "stderr",
     "output_type": "stream",
     "text": [
      "4004it [00:02, 1503.19it/s]\n"
     ]
    }
   ],
   "source": [
    "# scenario 19\n",
    "# convert2(out_of_sumo_data, zone1, new_z1, near_new_z1, zone2, new_z2, near_new_z2)\n",
    "# df = make_pseudo_trips(south, [south_b, south_b], south_b,\n",
    "#                        (SR99n+to6001), [5010, 5011], nearSR99n)\n",
    "df = make_pseudo_trips(south, [7000, 7000], south_b,\n",
    "                       (SR99n), [5010, 5011], nearSR99n)\n",
    "out_of_sumo_data = pd.concat([out_of_sumo_data, df])"
   ]
  },
  {
   "cell_type": "code",
   "execution_count": 154,
   "id": "71e9e64a",
   "metadata": {},
   "outputs": [
    {
     "name": "stdout",
     "output_type": "stream",
     "text": [
      "it'll take 3002 iterations.\n"
     ]
    },
    {
     "name": "stderr",
     "output_type": "stream",
     "text": [
      "3002it [00:01, 1526.41it/s]\n"
     ]
    }
   ],
   "source": [
    "# scenario 21\n",
    "df = make_pseudo_trips(south, [7000, 7000], south_b, to6001, [6001, 6001], near6001)\n",
    "out_of_sumo_data = pd.concat([out_of_sumo_data, df])"
   ]
  },
  {
   "cell_type": "code",
   "execution_count": null,
   "id": "2cf6221a",
   "metadata": {},
   "outputs": [],
   "source": []
  },
  {
   "cell_type": "code",
   "execution_count": 155,
   "id": "da7ba6d1",
   "metadata": {},
   "outputs": [
    {
     "name": "stdout",
     "output_type": "stream",
     "text": [
      "it'll take 388 iterations.\n"
     ]
    },
    {
     "name": "stderr",
     "output_type": "stream",
     "text": [
      "388it [00:00, 1444.47it/s]\n"
     ]
    }
   ],
   "source": [
    "# scenario 20\n",
    "north1_b = read_regions('regions/north1_boundary.txt')\n",
    "# convert2(out_of_sumo_data, zone1, new_z1, near_new_z1, zone2, new_z2, near_new_z2)\n",
    "# df = make_pseudo_trips(south, [south_b, south_b], south_b,\n",
    "#                        north1, [5000, 5001], near_i5n)\n",
    "df = make_pseudo_trips(south, [7000, 7000], south_b,\n",
    "                       north1, [5000, 5001], near_i5n)\n",
    "out_of_sumo_data = pd.concat([out_of_sumo_data, df])"
   ]
  },
  {
   "cell_type": "code",
   "execution_count": 156,
   "id": "86bf756e",
   "metadata": {},
   "outputs": [
    {
     "name": "stdout",
     "output_type": "stream",
     "text": [
      "it'll take 689 iterations.\n"
     ]
    },
    {
     "name": "stderr",
     "output_type": "stream",
     "text": [
      "689it [00:00, 1498.82it/s]\n"
     ]
    }
   ],
   "source": [
    "# scenario 22\n",
    "df = make_pseudo_trips(south, [7000, 7000], south_b, north2, [7002, 7002], north2boundary)\n",
    "out_of_sumo_data = pd.concat([out_of_sumo_data, df])"
   ]
  },
  {
   "cell_type": "code",
   "execution_count": 157,
   "id": "d28515f0",
   "metadata": {},
   "outputs": [
    {
     "name": "stdout",
     "output_type": "stream",
     "text": [
      "it'll take 1725 iterations.\n"
     ]
    },
    {
     "name": "stderr",
     "output_type": "stream",
     "text": [
      "1725it [00:01, 1503.98it/s]\n"
     ]
    }
   ],
   "source": [
    "# scenario 23\n",
    "df = make_pseudo_trips(to6001, [6001, 6001], near6001,\n",
    "                       east2, [7005, 7005], east2boundary)\n",
    "out_of_sumo_data = pd.concat([out_of_sumo_data, df])"
   ]
  },
  {
   "cell_type": "code",
   "execution_count": 158,
   "id": "2bfd9290",
   "metadata": {},
   "outputs": [
    {
     "name": "stdout",
     "output_type": "stream",
     "text": [
      "it'll take 5502 iterations.\n"
     ]
    },
    {
     "name": "stderr",
     "output_type": "stream",
     "text": [
      "5502it [00:03, 1471.48it/s]\n"
     ]
    }
   ],
   "source": [
    "# scenario 24  -- south bellevue to south\n",
    "bel2 = read_regions('regions/version3/bel2.txt')\n",
    "bel3 = read_regions('regions/version3/east5.txt')\n",
    "df = make_pseudo_trips(south, [7000, 7000], south_b, \n",
    "                       (bel2+bel3), [5004, 5005], near_i90)\n",
    "\n",
    "out_of_sumo_data = pd.concat([out_of_sumo_data, df])"
   ]
  },
  {
   "cell_type": "code",
   "execution_count": 159,
   "id": "08ecea6d",
   "metadata": {
    "scrolled": false
   },
   "outputs": [
    {
     "data": {
      "text/html": [
       "<div>\n",
       "<style scoped>\n",
       "    .dataframe tbody tr th:only-of-type {\n",
       "        vertical-align: middle;\n",
       "    }\n",
       "\n",
       "    .dataframe tbody tr th {\n",
       "        vertical-align: top;\n",
       "    }\n",
       "\n",
       "    .dataframe thead th {\n",
       "        text-align: right;\n",
       "    }\n",
       "</style>\n",
       "<table border=\"1\" class=\"dataframe\">\n",
       "  <thead>\n",
       "    <tr style=\"text-align: right;\">\n",
       "      <th></th>\n",
       "      <th>otaz</th>\n",
       "      <th>dtaz</th>\n",
       "      <th>deptm</th>\n",
       "      <th>travtime</th>\n",
       "      <th>original_o</th>\n",
       "      <th>original_d</th>\n",
       "      <th>original_deptm</th>\n",
       "    </tr>\n",
       "  </thead>\n",
       "  <tbody>\n",
       "    <tr>\n",
       "      <th>24739</th>\n",
       "      <td>5000</td>\n",
       "      <td>5003</td>\n",
       "      <td>490</td>\n",
       "      <td>28</td>\n",
       "      <td>8</td>\n",
       "      <td>708</td>\n",
       "      <td>464</td>\n",
       "    </tr>\n",
       "    <tr>\n",
       "      <th>24740</th>\n",
       "      <td>5000</td>\n",
       "      <td>5003</td>\n",
       "      <td>506</td>\n",
       "      <td>30</td>\n",
       "      <td>8</td>\n",
       "      <td>709</td>\n",
       "      <td>478</td>\n",
       "    </tr>\n",
       "    <tr>\n",
       "      <th>24741</th>\n",
       "      <td>5000</td>\n",
       "      <td>5003</td>\n",
       "      <td>529</td>\n",
       "      <td>30</td>\n",
       "      <td>8</td>\n",
       "      <td>709</td>\n",
       "      <td>503</td>\n",
       "    </tr>\n",
       "    <tr>\n",
       "      <th>24742</th>\n",
       "      <td>5000</td>\n",
       "      <td>5003</td>\n",
       "      <td>887</td>\n",
       "      <td>24</td>\n",
       "      <td>8</td>\n",
       "      <td>711</td>\n",
       "      <td>869</td>\n",
       "    </tr>\n",
       "    <tr>\n",
       "      <th>24745</th>\n",
       "      <td>5000</td>\n",
       "      <td>5003</td>\n",
       "      <td>1001</td>\n",
       "      <td>36</td>\n",
       "      <td>8</td>\n",
       "      <td>718</td>\n",
       "      <td>977</td>\n",
       "    </tr>\n",
       "    <tr>\n",
       "      <th>...</th>\n",
       "      <td>...</td>\n",
       "      <td>...</td>\n",
       "      <td>...</td>\n",
       "      <td>...</td>\n",
       "      <td>...</td>\n",
       "      <td>...</td>\n",
       "      <td>...</td>\n",
       "    </tr>\n",
       "    <tr>\n",
       "      <th>3918879</th>\n",
       "      <td>5004</td>\n",
       "      <td>7000</td>\n",
       "      <td>365</td>\n",
       "      <td>24</td>\n",
       "      <td>1540</td>\n",
       "      <td>670</td>\n",
       "      <td>340</td>\n",
       "    </tr>\n",
       "    <tr>\n",
       "      <th>3918880</th>\n",
       "      <td>5004</td>\n",
       "      <td>7000</td>\n",
       "      <td>670</td>\n",
       "      <td>22</td>\n",
       "      <td>1540</td>\n",
       "      <td>671</td>\n",
       "      <td>653</td>\n",
       "    </tr>\n",
       "    <tr>\n",
       "      <th>3918881</th>\n",
       "      <td>5004</td>\n",
       "      <td>7000</td>\n",
       "      <td>1285</td>\n",
       "      <td>21</td>\n",
       "      <td>1540</td>\n",
       "      <td>671</td>\n",
       "      <td>1272</td>\n",
       "    </tr>\n",
       "    <tr>\n",
       "      <th>3918885</th>\n",
       "      <td>5004</td>\n",
       "      <td>7000</td>\n",
       "      <td>534</td>\n",
       "      <td>26</td>\n",
       "      <td>1540</td>\n",
       "      <td>705</td>\n",
       "      <td>515</td>\n",
       "    </tr>\n",
       "    <tr>\n",
       "      <th>3918886</th>\n",
       "      <td>5004</td>\n",
       "      <td>7000</td>\n",
       "      <td>1028</td>\n",
       "      <td>32</td>\n",
       "      <td>1540</td>\n",
       "      <td>707</td>\n",
       "      <td>1006</td>\n",
       "    </tr>\n",
       "  </tbody>\n",
       "</table>\n",
       "<p>71104 rows × 7 columns</p>\n",
       "</div>"
      ],
      "text/plain": [
       "         otaz  dtaz  deptm  travtime  original_o  original_d  original_deptm\n",
       "24739    5000  5003    490        28           8         708             464\n",
       "24740    5000  5003    506        30           8         709             478\n",
       "24741    5000  5003    529        30           8         709             503\n",
       "24742    5000  5003    887        24           8         711             869\n",
       "24745    5000  5003   1001        36           8         718             977\n",
       "...       ...   ...    ...       ...         ...         ...             ...\n",
       "3918879  5004  7000    365        24        1540         670             340\n",
       "3918880  5004  7000    670        22        1540         671             653\n",
       "3918881  5004  7000   1285        21        1540         671            1272\n",
       "3918885  5004  7000    534        26        1540         705             515\n",
       "3918886  5004  7000   1028        32        1540         707            1006\n",
       "\n",
       "[71104 rows x 7 columns]"
      ]
     },
     "execution_count": 159,
     "metadata": {},
     "output_type": "execute_result"
    }
   ],
   "source": [
    "out_of_sumo_data"
   ]
  },
  {
   "cell_type": "code",
   "execution_count": 160,
   "id": "6e17db8d",
   "metadata": {},
   "outputs": [
    {
     "data": {
      "text/plain": [
       "608908"
      ]
     },
     "execution_count": 160,
     "metadata": {},
     "output_type": "execute_result"
    }
   ],
   "source": [
    "len(converted_data)"
   ]
  },
  {
   "cell_type": "code",
   "execution_count": 161,
   "id": "3e885e47",
   "metadata": {},
   "outputs": [],
   "source": [
    "df = pd.concat([converted_data, out_of_sumo_data])"
   ]
  },
  {
   "cell_type": "code",
   "execution_count": 162,
   "id": "b3d67e66",
   "metadata": {},
   "outputs": [
    {
     "data": {
      "text/plain": [
       "680012"
      ]
     },
     "execution_count": 162,
     "metadata": {},
     "output_type": "execute_result"
    }
   ],
   "source": [
    "len(df)"
   ]
  },
  {
   "cell_type": "code",
   "execution_count": 176,
   "id": "a1dc93b3",
   "metadata": {},
   "outputs": [
    {
     "data": {
      "text/html": [
       "<div>\n",
       "<style scoped>\n",
       "    .dataframe tbody tr th:only-of-type {\n",
       "        vertical-align: middle;\n",
       "    }\n",
       "\n",
       "    .dataframe tbody tr th {\n",
       "        vertical-align: top;\n",
       "    }\n",
       "\n",
       "    .dataframe thead th {\n",
       "        text-align: right;\n",
       "    }\n",
       "</style>\n",
       "<table border=\"1\" class=\"dataframe\">\n",
       "  <thead>\n",
       "    <tr style=\"text-align: right;\">\n",
       "      <th></th>\n",
       "      <th>otaz</th>\n",
       "      <th>dtaz</th>\n",
       "      <th>deptm</th>\n",
       "      <th>travtime</th>\n",
       "      <th>original_o</th>\n",
       "      <th>original_d</th>\n",
       "      <th>original_deptm</th>\n",
       "    </tr>\n",
       "  </thead>\n",
       "  <tbody>\n",
       "  </tbody>\n",
       "</table>\n",
       "</div>"
      ],
      "text/plain": [
       "Empty DataFrame\n",
       "Columns: [otaz, dtaz, deptm, travtime, original_o, original_d, original_deptm]\n",
       "Index: []"
      ]
     },
     "execution_count": 176,
     "metadata": {},
     "output_type": "execute_result"
    }
   ],
   "source": [
    "df[df.otaz == 402]"
   ]
  },
  {
   "cell_type": "markdown",
   "id": "14601081",
   "metadata": {},
   "source": [
    "# making CSV file"
   ]
  },
  {
   "cell_type": "code",
   "execution_count": 163,
   "id": "27fd3b2e",
   "metadata": {},
   "outputs": [],
   "source": [
    "df.to_csv('psrc_vehicle_trips_converted_taz_calibrated_v2.csv', index=False)"
   ]
  },
  {
   "cell_type": "code",
   "execution_count": null,
   "id": "b39c4c72",
   "metadata": {},
   "outputs": [],
   "source": []
  }
 ],
 "metadata": {
  "kernelspec": {
   "display_name": "Python 3 (ipykernel)",
   "language": "python",
   "name": "python3"
  },
  "language_info": {
   "codemirror_mode": {
    "name": "ipython",
    "version": 3
   },
   "file_extension": ".py",
   "mimetype": "text/x-python",
   "name": "python",
   "nbconvert_exporter": "python",
   "pygments_lexer": "ipython3",
   "version": "3.11.5"
  }
 },
 "nbformat": 4,
 "nbformat_minor": 5
}
