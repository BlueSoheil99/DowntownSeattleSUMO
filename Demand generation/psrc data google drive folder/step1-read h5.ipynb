{
 "cells": [
  {
   "cell_type": "code",
   "execution_count": 1,
   "metadata": {
    "ExecuteTime": {
     "end_time": "2023-08-08T21:27:39.071716Z",
     "start_time": "2023-08-08T21:27:38.589915Z"
    },
    "pycharm": {
     "name": "#%%\n"
    }
   },
   "outputs": [],
   "source": [
    "#libraries\n",
    "import os \n",
    "import pandas as pd\n",
    "import numpy as np \n",
    "import h5py\n",
    "import matplotlib.pyplot as plt\n",
    "from tqdm import tqdm\n",
    "\n",
    "#from google.colab import drive"
   ]
  },
  {
   "cell_type": "code",
   "execution_count": 2,
   "metadata": {
    "ExecuteTime": {
     "end_time": "2023-08-08T21:27:57.036680Z",
     "start_time": "2023-08-08T21:27:57.024288Z"
    },
    "pycharm": {
     "name": "#%%\n"
    }
   },
   "outputs": [
    {
     "data": {
      "text/plain": [
       "<KeysViewHDF5 ['Household', 'HouseholdDay', 'Person', 'PersonDay', 'Tour', 'Trip']>"
      ]
     },
     "execution_count": 2,
     "metadata": {},
     "output_type": "execute_result"
    }
   ],
   "source": [
    "# Read the daysim_outputs file\n",
    "hdf_file = h5py.File(r'daysim_outputs.h5', \"r\")\n",
    "hdf_file.keys()"
   ]
  },
  {
   "cell_type": "code",
   "execution_count": 3,
   "metadata": {
    "ExecuteTime": {
     "end_time": "2023-08-08T21:28:02.293579Z",
     "start_time": "2023-08-08T21:28:02.284263Z"
    },
    "pycharm": {
     "name": "#%%\n"
    }
   },
   "outputs": [],
   "source": [
    "# Create functions to open the tables in daysim_outputs.h5\n",
    "def h5_to_data_frame(h5file, table_name):\n",
    "    table = h5file[table_name]\n",
    "    col_dict = {}\n",
    "    #cols = ['hhno', 'hhtaz']\n",
    "    for col in table.keys():\n",
    "        if col == 'sov_ff_time':\n",
    "            pass\n",
    "        else:\n",
    "            my_array = np.asarray(table[col]).astype('int')\n",
    "        col_dict[col] = my_array.astype('int')\n",
    "    return(pd.DataFrame(col_dict))"
   ]
  },
  {
   "cell_type": "code",
   "execution_count": 4,
   "metadata": {
    "ExecuteTime": {
     "end_time": "2023-08-08T21:28:02.556098Z",
     "start_time": "2023-08-08T21:28:02.548676Z"
    },
    "pycharm": {
     "name": "#%%\n"
    }
   },
   "outputs": [],
   "source": [
    "# save modified tables back to (a new) h5 file\n",
    "def df_to_h5(h5, df, group_name):\n",
    "\n",
    "    f = h5py.File(h5, 'r+')\n",
    "    grp = f.create_group(group_name)\n",
    "\n",
    "    for column in df.columns:\n",
    "        if column in ['travdist','travcost','travtime','trexpfac',\n",
    "        'tautotime','tautocost','tautodist','toexpfac','hdexpfac'\n",
    "        'pwautime','pwaudist', 'psautime','psaudist','psexpfac',\n",
    "        'pdexpfac', 'hhexpfac'\n",
    "        ]:\n",
    "            grp.create_dataset(column, data=list(df[column].astype('float64')))\n",
    "        else:\n",
    "            grp.create_dataset(column, data=list(df[column].astype('int32')))\n",
    "\n",
    "    print(\"Added to h5 container: \" + str(group_name))\n",
    "\n",
    "    f.close()\n",
    "    "
   ]
  },
  {
   "cell_type": "markdown",
   "metadata": {},
   "source": [
    "# get trips"
   ]
  },
  {
   "cell_type": "code",
   "execution_count": 5,
   "metadata": {},
   "outputs": [
    {
     "data": {
      "text/plain": [
       "Index(['arrtm', 'dadtyp', 'day', 'deptm', 'dorp', 'dpcl', 'dpurp', 'dtaz',\n",
       "       'endacttm', 'half', 'hhno', 'id', 'mode', 'oadtyp', 'opcl', 'opurp',\n",
       "       'otaz', 'pathtype', 'pno', 'sov_ff_time', 'tour', 'tour_id', 'travcost',\n",
       "       'travdist', 'travtime', 'trexpfac', 'tseg', 'tsvid', 'vot'],\n",
       "      dtype='object')"
      ]
     },
     "execution_count": 5,
     "metadata": {},
     "output_type": "execute_result"
    }
   ],
   "source": [
    "trips = h5_to_data_frame(hdf_file, 'Trip')\n",
    "trips.columns"
   ]
  },
  {
   "cell_type": "code",
   "execution_count": 6,
   "metadata": {},
   "outputs": [],
   "source": [
    "# trips = trips.loc[:, ['id', 'hhno', 'pno', 'day', 'tour', 'half', 'tseg', 'tsvid', 'mode', 'pathtype', 'dorp', 'otaz', 'dtaz', 'arrtm', 'deptm', 'travtime', 'travdist']]\n",
    "trips = trips.loc[:, ['id', 'hhno', 'pno', 'day', 'tour', 'half', 'tseg', 'tsvid', 'mode', 'pathtype', 'dorp', 'otaz', 'dtaz', 'deptm', 'travtime', 'travdist']]"
   ]
  },
  {
   "cell_type": "markdown",
   "metadata": {},
   "source": [
    "#### what is sov_ff_time?"
   ]
  },
  {
   "cell_type": "markdown",
   "metadata": {},
   "source": [
    "### filter by mode and dorp"
   ]
  },
  {
   "cell_type": "code",
   "execution_count": 7,
   "metadata": {},
   "outputs": [],
   "source": [
    "veh_trips = trips[trips['mode'].isin([3, 4, 5, 7, 9])]"
   ]
  },
  {
   "cell_type": "code",
   "execution_count": 8,
   "metadata": {
    "scrolled": true
   },
   "outputs": [
    {
     "data": {
      "text/html": [
       "<div>\n",
       "<style scoped>\n",
       "    .dataframe tbody tr th:only-of-type {\n",
       "        vertical-align: middle;\n",
       "    }\n",
       "\n",
       "    .dataframe tbody tr th {\n",
       "        vertical-align: top;\n",
       "    }\n",
       "\n",
       "    .dataframe thead th {\n",
       "        text-align: right;\n",
       "    }\n",
       "</style>\n",
       "<table border=\"1\" class=\"dataframe\">\n",
       "  <thead>\n",
       "    <tr style=\"text-align: right;\">\n",
       "      <th></th>\n",
       "      <th>id</th>\n",
       "      <th>hhno</th>\n",
       "      <th>pno</th>\n",
       "      <th>day</th>\n",
       "      <th>tour</th>\n",
       "      <th>half</th>\n",
       "      <th>tseg</th>\n",
       "      <th>tsvid</th>\n",
       "      <th>mode</th>\n",
       "      <th>pathtype</th>\n",
       "      <th>dorp</th>\n",
       "      <th>otaz</th>\n",
       "      <th>dtaz</th>\n",
       "      <th>deptm</th>\n",
       "      <th>travtime</th>\n",
       "      <th>travdist</th>\n",
       "    </tr>\n",
       "  </thead>\n",
       "  <tbody>\n",
       "  </tbody>\n",
       "</table>\n",
       "</div>"
      ],
      "text/plain": [
       "Empty DataFrame\n",
       "Columns: [id, hhno, pno, day, tour, half, tseg, tsvid, mode, pathtype, dorp, otaz, dtaz, deptm, travtime, travdist]\n",
       "Index: []"
      ]
     },
     "execution_count": 8,
     "metadata": {},
     "output_type": "execute_result"
    }
   ],
   "source": [
    "veh_trips[veh_trips['pathtype'].isin([3,4,5,6,7])]"
   ]
  },
  {
   "cell_type": "code",
   "execution_count": 9,
   "metadata": {},
   "outputs": [
    {
     "data": {
      "text/html": [
       "<div>\n",
       "<style scoped>\n",
       "    .dataframe tbody tr th:only-of-type {\n",
       "        vertical-align: middle;\n",
       "    }\n",
       "\n",
       "    .dataframe tbody tr th {\n",
       "        vertical-align: top;\n",
       "    }\n",
       "\n",
       "    .dataframe thead tr th {\n",
       "        text-align: left;\n",
       "    }\n",
       "\n",
       "    .dataframe thead tr:last-of-type th {\n",
       "        text-align: right;\n",
       "    }\n",
       "</style>\n",
       "<table border=\"1\" class=\"dataframe\">\n",
       "  <thead>\n",
       "    <tr>\n",
       "      <th></th>\n",
       "      <th>id</th>\n",
       "      <th>hhno</th>\n",
       "      <th>pno</th>\n",
       "      <th>day</th>\n",
       "      <th>tour</th>\n",
       "      <th>half</th>\n",
       "      <th>tseg</th>\n",
       "      <th>tsvid</th>\n",
       "      <th>mode</th>\n",
       "      <th>pathtype</th>\n",
       "      <th>otaz</th>\n",
       "      <th>dtaz</th>\n",
       "      <th>deptm</th>\n",
       "      <th>travtime</th>\n",
       "      <th>travdist</th>\n",
       "    </tr>\n",
       "    <tr>\n",
       "      <th></th>\n",
       "      <th>count</th>\n",
       "      <th>count</th>\n",
       "      <th>count</th>\n",
       "      <th>count</th>\n",
       "      <th>count</th>\n",
       "      <th>count</th>\n",
       "      <th>count</th>\n",
       "      <th>count</th>\n",
       "      <th>count</th>\n",
       "      <th>count</th>\n",
       "      <th>count</th>\n",
       "      <th>count</th>\n",
       "      <th>count</th>\n",
       "      <th>count</th>\n",
       "      <th>count</th>\n",
       "    </tr>\n",
       "    <tr>\n",
       "      <th>dorp</th>\n",
       "      <th></th>\n",
       "      <th></th>\n",
       "      <th></th>\n",
       "      <th></th>\n",
       "      <th></th>\n",
       "      <th></th>\n",
       "      <th></th>\n",
       "      <th></th>\n",
       "      <th></th>\n",
       "      <th></th>\n",
       "      <th></th>\n",
       "      <th></th>\n",
       "      <th></th>\n",
       "      <th></th>\n",
       "      <th></th>\n",
       "    </tr>\n",
       "  </thead>\n",
       "  <tbody>\n",
       "    <tr>\n",
       "      <th>0</th>\n",
       "      <td>5838</td>\n",
       "      <td>5838</td>\n",
       "      <td>5838</td>\n",
       "      <td>5838</td>\n",
       "      <td>5838</td>\n",
       "      <td>5838</td>\n",
       "      <td>5838</td>\n",
       "      <td>5838</td>\n",
       "      <td>5838</td>\n",
       "      <td>5838</td>\n",
       "      <td>5838</td>\n",
       "      <td>5838</td>\n",
       "      <td>5838</td>\n",
       "      <td>5838</td>\n",
       "      <td>5838</td>\n",
       "    </tr>\n",
       "    <tr>\n",
       "      <th>1</th>\n",
       "      <td>9985425</td>\n",
       "      <td>9985425</td>\n",
       "      <td>9985425</td>\n",
       "      <td>9985425</td>\n",
       "      <td>9985425</td>\n",
       "      <td>9985425</td>\n",
       "      <td>9985425</td>\n",
       "      <td>9985425</td>\n",
       "      <td>9985425</td>\n",
       "      <td>9985425</td>\n",
       "      <td>9985425</td>\n",
       "      <td>9985425</td>\n",
       "      <td>9985425</td>\n",
       "      <td>9985425</td>\n",
       "      <td>9985425</td>\n",
       "    </tr>\n",
       "    <tr>\n",
       "      <th>2</th>\n",
       "      <td>3107156</td>\n",
       "      <td>3107156</td>\n",
       "      <td>3107156</td>\n",
       "      <td>3107156</td>\n",
       "      <td>3107156</td>\n",
       "      <td>3107156</td>\n",
       "      <td>3107156</td>\n",
       "      <td>3107156</td>\n",
       "      <td>3107156</td>\n",
       "      <td>3107156</td>\n",
       "      <td>3107156</td>\n",
       "      <td>3107156</td>\n",
       "      <td>3107156</td>\n",
       "      <td>3107156</td>\n",
       "      <td>3107156</td>\n",
       "    </tr>\n",
       "    <tr>\n",
       "      <th>11</th>\n",
       "      <td>84829</td>\n",
       "      <td>84829</td>\n",
       "      <td>84829</td>\n",
       "      <td>84829</td>\n",
       "      <td>84829</td>\n",
       "      <td>84829</td>\n",
       "      <td>84829</td>\n",
       "      <td>84829</td>\n",
       "      <td>84829</td>\n",
       "      <td>84829</td>\n",
       "      <td>84829</td>\n",
       "      <td>84829</td>\n",
       "      <td>84829</td>\n",
       "      <td>84829</td>\n",
       "      <td>84829</td>\n",
       "    </tr>\n",
       "    <tr>\n",
       "      <th>12</th>\n",
       "      <td>52449</td>\n",
       "      <td>52449</td>\n",
       "      <td>52449</td>\n",
       "      <td>52449</td>\n",
       "      <td>52449</td>\n",
       "      <td>52449</td>\n",
       "      <td>52449</td>\n",
       "      <td>52449</td>\n",
       "      <td>52449</td>\n",
       "      <td>52449</td>\n",
       "      <td>52449</td>\n",
       "      <td>52449</td>\n",
       "      <td>52449</td>\n",
       "      <td>52449</td>\n",
       "      <td>52449</td>\n",
       "    </tr>\n",
       "    <tr>\n",
       "      <th>13</th>\n",
       "      <td>31243</td>\n",
       "      <td>31243</td>\n",
       "      <td>31243</td>\n",
       "      <td>31243</td>\n",
       "      <td>31243</td>\n",
       "      <td>31243</td>\n",
       "      <td>31243</td>\n",
       "      <td>31243</td>\n",
       "      <td>31243</td>\n",
       "      <td>31243</td>\n",
       "      <td>31243</td>\n",
       "      <td>31243</td>\n",
       "      <td>31243</td>\n",
       "      <td>31243</td>\n",
       "      <td>31243</td>\n",
       "    </tr>\n",
       "  </tbody>\n",
       "</table>\n",
       "</div>"
      ],
      "text/plain": [
       "           id     hhno      pno      day     tour     half     tseg    tsvid  \\\n",
       "        count    count    count    count    count    count    count    count   \n",
       "dorp                                                                           \n",
       "0        5838     5838     5838     5838     5838     5838     5838     5838   \n",
       "1     9985425  9985425  9985425  9985425  9985425  9985425  9985425  9985425   \n",
       "2     3107156  3107156  3107156  3107156  3107156  3107156  3107156  3107156   \n",
       "11      84829    84829    84829    84829    84829    84829    84829    84829   \n",
       "12      52449    52449    52449    52449    52449    52449    52449    52449   \n",
       "13      31243    31243    31243    31243    31243    31243    31243    31243   \n",
       "\n",
       "         mode pathtype     otaz     dtaz    deptm travtime travdist  \n",
       "        count    count    count    count    count    count    count  \n",
       "dorp                                                                 \n",
       "0        5838     5838     5838     5838     5838     5838     5838  \n",
       "1     9985425  9985425  9985425  9985425  9985425  9985425  9985425  \n",
       "2     3107156  3107156  3107156  3107156  3107156  3107156  3107156  \n",
       "11      84829    84829    84829    84829    84829    84829    84829  \n",
       "12      52449    52449    52449    52449    52449    52449    52449  \n",
       "13      31243    31243    31243    31243    31243    31243    31243  "
      ]
     },
     "execution_count": 9,
     "metadata": {},
     "output_type": "execute_result"
    }
   ],
   "source": [
    "veh_trips.groupby(['dorp']).agg(['count'])"
   ]
  },
  {
   "cell_type": "code",
   "execution_count": 10,
   "metadata": {},
   "outputs": [
    {
     "data": {
      "text/html": [
       "<div>\n",
       "<style scoped>\n",
       "    .dataframe tbody tr th:only-of-type {\n",
       "        vertical-align: middle;\n",
       "    }\n",
       "\n",
       "    .dataframe tbody tr th {\n",
       "        vertical-align: top;\n",
       "    }\n",
       "\n",
       "    .dataframe thead tr th {\n",
       "        text-align: left;\n",
       "    }\n",
       "\n",
       "    .dataframe thead tr:last-of-type th {\n",
       "        text-align: right;\n",
       "    }\n",
       "</style>\n",
       "<table border=\"1\" class=\"dataframe\">\n",
       "  <thead>\n",
       "    <tr>\n",
       "      <th></th>\n",
       "      <th>id</th>\n",
       "      <th>hhno</th>\n",
       "      <th>pno</th>\n",
       "      <th>day</th>\n",
       "      <th>tour</th>\n",
       "      <th>half</th>\n",
       "      <th>tseg</th>\n",
       "      <th>tsvid</th>\n",
       "      <th>pathtype</th>\n",
       "      <th>dorp</th>\n",
       "      <th>otaz</th>\n",
       "      <th>dtaz</th>\n",
       "      <th>deptm</th>\n",
       "      <th>travtime</th>\n",
       "      <th>travdist</th>\n",
       "    </tr>\n",
       "    <tr>\n",
       "      <th></th>\n",
       "      <th>count</th>\n",
       "      <th>count</th>\n",
       "      <th>count</th>\n",
       "      <th>count</th>\n",
       "      <th>count</th>\n",
       "      <th>count</th>\n",
       "      <th>count</th>\n",
       "      <th>count</th>\n",
       "      <th>count</th>\n",
       "      <th>count</th>\n",
       "      <th>count</th>\n",
       "      <th>count</th>\n",
       "      <th>count</th>\n",
       "      <th>count</th>\n",
       "      <th>count</th>\n",
       "    </tr>\n",
       "    <tr>\n",
       "      <th>mode</th>\n",
       "      <th></th>\n",
       "      <th></th>\n",
       "      <th></th>\n",
       "      <th></th>\n",
       "      <th></th>\n",
       "      <th></th>\n",
       "      <th></th>\n",
       "      <th></th>\n",
       "      <th></th>\n",
       "      <th></th>\n",
       "      <th></th>\n",
       "      <th></th>\n",
       "      <th></th>\n",
       "      <th></th>\n",
       "      <th></th>\n",
       "    </tr>\n",
       "  </thead>\n",
       "  <tbody>\n",
       "    <tr>\n",
       "      <th>3</th>\n",
       "      <td>6771306</td>\n",
       "      <td>6771306</td>\n",
       "      <td>6771306</td>\n",
       "      <td>6771306</td>\n",
       "      <td>6771306</td>\n",
       "      <td>6771306</td>\n",
       "      <td>6771306</td>\n",
       "      <td>6771306</td>\n",
       "      <td>6771306</td>\n",
       "      <td>6771306</td>\n",
       "      <td>6771306</td>\n",
       "      <td>6771306</td>\n",
       "      <td>6771306</td>\n",
       "      <td>6771306</td>\n",
       "      <td>6771306</td>\n",
       "    </tr>\n",
       "    <tr>\n",
       "      <th>4</th>\n",
       "      <td>3745251</td>\n",
       "      <td>3745251</td>\n",
       "      <td>3745251</td>\n",
       "      <td>3745251</td>\n",
       "      <td>3745251</td>\n",
       "      <td>3745251</td>\n",
       "      <td>3745251</td>\n",
       "      <td>3745251</td>\n",
       "      <td>3745251</td>\n",
       "      <td>3745251</td>\n",
       "      <td>3745251</td>\n",
       "      <td>3745251</td>\n",
       "      <td>3745251</td>\n",
       "      <td>3745251</td>\n",
       "      <td>3745251</td>\n",
       "    </tr>\n",
       "    <tr>\n",
       "      <th>5</th>\n",
       "      <td>2581791</td>\n",
       "      <td>2581791</td>\n",
       "      <td>2581791</td>\n",
       "      <td>2581791</td>\n",
       "      <td>2581791</td>\n",
       "      <td>2581791</td>\n",
       "      <td>2581791</td>\n",
       "      <td>2581791</td>\n",
       "      <td>2581791</td>\n",
       "      <td>2581791</td>\n",
       "      <td>2581791</td>\n",
       "      <td>2581791</td>\n",
       "      <td>2581791</td>\n",
       "      <td>2581791</td>\n",
       "      <td>2581791</td>\n",
       "    </tr>\n",
       "    <tr>\n",
       "      <th>9</th>\n",
       "      <td>168592</td>\n",
       "      <td>168592</td>\n",
       "      <td>168592</td>\n",
       "      <td>168592</td>\n",
       "      <td>168592</td>\n",
       "      <td>168592</td>\n",
       "      <td>168592</td>\n",
       "      <td>168592</td>\n",
       "      <td>168592</td>\n",
       "      <td>168592</td>\n",
       "      <td>168592</td>\n",
       "      <td>168592</td>\n",
       "      <td>168592</td>\n",
       "      <td>168592</td>\n",
       "      <td>168592</td>\n",
       "    </tr>\n",
       "  </tbody>\n",
       "</table>\n",
       "</div>"
      ],
      "text/plain": [
       "           id     hhno      pno      day     tour     half     tseg    tsvid  \\\n",
       "        count    count    count    count    count    count    count    count   \n",
       "mode                                                                           \n",
       "3     6771306  6771306  6771306  6771306  6771306  6771306  6771306  6771306   \n",
       "4     3745251  3745251  3745251  3745251  3745251  3745251  3745251  3745251   \n",
       "5     2581791  2581791  2581791  2581791  2581791  2581791  2581791  2581791   \n",
       "9      168592   168592   168592   168592   168592   168592   168592   168592   \n",
       "\n",
       "     pathtype     dorp     otaz     dtaz    deptm travtime travdist  \n",
       "        count    count    count    count    count    count    count  \n",
       "mode                                                                 \n",
       "3     6771306  6771306  6771306  6771306  6771306  6771306  6771306  \n",
       "4     3745251  3745251  3745251  3745251  3745251  3745251  3745251  \n",
       "5     2581791  2581791  2581791  2581791  2581791  2581791  2581791  \n",
       "9      168592   168592   168592   168592   168592   168592   168592  "
      ]
     },
     "execution_count": 10,
     "metadata": {},
     "output_type": "execute_result"
    }
   ],
   "source": [
    "veh_trips.groupby(['mode']).agg(['count'])"
   ]
  },
  {
   "cell_type": "code",
   "execution_count": 11,
   "metadata": {},
   "outputs": [
    {
     "data": {
      "text/html": [
       "<div>\n",
       "<style scoped>\n",
       "    .dataframe tbody tr th:only-of-type {\n",
       "        vertical-align: middle;\n",
       "    }\n",
       "\n",
       "    .dataframe tbody tr th {\n",
       "        vertical-align: top;\n",
       "    }\n",
       "\n",
       "    .dataframe thead tr th {\n",
       "        text-align: left;\n",
       "    }\n",
       "\n",
       "    .dataframe thead tr:last-of-type th {\n",
       "        text-align: right;\n",
       "    }\n",
       "</style>\n",
       "<table border=\"1\" class=\"dataframe\">\n",
       "  <thead>\n",
       "    <tr>\n",
       "      <th></th>\n",
       "      <th></th>\n",
       "      <th>id</th>\n",
       "      <th>hhno</th>\n",
       "      <th>pno</th>\n",
       "      <th>day</th>\n",
       "      <th>tour</th>\n",
       "      <th>half</th>\n",
       "      <th>tseg</th>\n",
       "      <th>tsvid</th>\n",
       "      <th>pathtype</th>\n",
       "      <th>otaz</th>\n",
       "      <th>dtaz</th>\n",
       "      <th>deptm</th>\n",
       "      <th>travtime</th>\n",
       "      <th>travdist</th>\n",
       "    </tr>\n",
       "    <tr>\n",
       "      <th></th>\n",
       "      <th></th>\n",
       "      <th>count</th>\n",
       "      <th>count</th>\n",
       "      <th>count</th>\n",
       "      <th>count</th>\n",
       "      <th>count</th>\n",
       "      <th>count</th>\n",
       "      <th>count</th>\n",
       "      <th>count</th>\n",
       "      <th>count</th>\n",
       "      <th>count</th>\n",
       "      <th>count</th>\n",
       "      <th>count</th>\n",
       "      <th>count</th>\n",
       "      <th>count</th>\n",
       "    </tr>\n",
       "    <tr>\n",
       "      <th>mode</th>\n",
       "      <th>dorp</th>\n",
       "      <th></th>\n",
       "      <th></th>\n",
       "      <th></th>\n",
       "      <th></th>\n",
       "      <th></th>\n",
       "      <th></th>\n",
       "      <th></th>\n",
       "      <th></th>\n",
       "      <th></th>\n",
       "      <th></th>\n",
       "      <th></th>\n",
       "      <th></th>\n",
       "      <th></th>\n",
       "      <th></th>\n",
       "    </tr>\n",
       "  </thead>\n",
       "  <tbody>\n",
       "    <tr>\n",
       "      <th rowspan=\"2\" valign=\"top\">3</th>\n",
       "      <th>0</th>\n",
       "      <td>2156</td>\n",
       "      <td>2156</td>\n",
       "      <td>2156</td>\n",
       "      <td>2156</td>\n",
       "      <td>2156</td>\n",
       "      <td>2156</td>\n",
       "      <td>2156</td>\n",
       "      <td>2156</td>\n",
       "      <td>2156</td>\n",
       "      <td>2156</td>\n",
       "      <td>2156</td>\n",
       "      <td>2156</td>\n",
       "      <td>2156</td>\n",
       "      <td>2156</td>\n",
       "    </tr>\n",
       "    <tr>\n",
       "      <th>1</th>\n",
       "      <td>6769150</td>\n",
       "      <td>6769150</td>\n",
       "      <td>6769150</td>\n",
       "      <td>6769150</td>\n",
       "      <td>6769150</td>\n",
       "      <td>6769150</td>\n",
       "      <td>6769150</td>\n",
       "      <td>6769150</td>\n",
       "      <td>6769150</td>\n",
       "      <td>6769150</td>\n",
       "      <td>6769150</td>\n",
       "      <td>6769150</td>\n",
       "      <td>6769150</td>\n",
       "      <td>6769150</td>\n",
       "    </tr>\n",
       "    <tr>\n",
       "      <th rowspan=\"3\" valign=\"top\">4</th>\n",
       "      <th>0</th>\n",
       "      <td>1763</td>\n",
       "      <td>1763</td>\n",
       "      <td>1763</td>\n",
       "      <td>1763</td>\n",
       "      <td>1763</td>\n",
       "      <td>1763</td>\n",
       "      <td>1763</td>\n",
       "      <td>1763</td>\n",
       "      <td>1763</td>\n",
       "      <td>1763</td>\n",
       "      <td>1763</td>\n",
       "      <td>1763</td>\n",
       "      <td>1763</td>\n",
       "      <td>1763</td>\n",
       "    </tr>\n",
       "    <tr>\n",
       "      <th>1</th>\n",
       "      <td>2183864</td>\n",
       "      <td>2183864</td>\n",
       "      <td>2183864</td>\n",
       "      <td>2183864</td>\n",
       "      <td>2183864</td>\n",
       "      <td>2183864</td>\n",
       "      <td>2183864</td>\n",
       "      <td>2183864</td>\n",
       "      <td>2183864</td>\n",
       "      <td>2183864</td>\n",
       "      <td>2183864</td>\n",
       "      <td>2183864</td>\n",
       "      <td>2183864</td>\n",
       "      <td>2183864</td>\n",
       "    </tr>\n",
       "    <tr>\n",
       "      <th>2</th>\n",
       "      <td>1559624</td>\n",
       "      <td>1559624</td>\n",
       "      <td>1559624</td>\n",
       "      <td>1559624</td>\n",
       "      <td>1559624</td>\n",
       "      <td>1559624</td>\n",
       "      <td>1559624</td>\n",
       "      <td>1559624</td>\n",
       "      <td>1559624</td>\n",
       "      <td>1559624</td>\n",
       "      <td>1559624</td>\n",
       "      <td>1559624</td>\n",
       "      <td>1559624</td>\n",
       "      <td>1559624</td>\n",
       "    </tr>\n",
       "    <tr>\n",
       "      <th rowspan=\"3\" valign=\"top\">5</th>\n",
       "      <th>0</th>\n",
       "      <td>1848</td>\n",
       "      <td>1848</td>\n",
       "      <td>1848</td>\n",
       "      <td>1848</td>\n",
       "      <td>1848</td>\n",
       "      <td>1848</td>\n",
       "      <td>1848</td>\n",
       "      <td>1848</td>\n",
       "      <td>1848</td>\n",
       "      <td>1848</td>\n",
       "      <td>1848</td>\n",
       "      <td>1848</td>\n",
       "      <td>1848</td>\n",
       "      <td>1848</td>\n",
       "    </tr>\n",
       "    <tr>\n",
       "      <th>1</th>\n",
       "      <td>1032411</td>\n",
       "      <td>1032411</td>\n",
       "      <td>1032411</td>\n",
       "      <td>1032411</td>\n",
       "      <td>1032411</td>\n",
       "      <td>1032411</td>\n",
       "      <td>1032411</td>\n",
       "      <td>1032411</td>\n",
       "      <td>1032411</td>\n",
       "      <td>1032411</td>\n",
       "      <td>1032411</td>\n",
       "      <td>1032411</td>\n",
       "      <td>1032411</td>\n",
       "      <td>1032411</td>\n",
       "    </tr>\n",
       "    <tr>\n",
       "      <th>2</th>\n",
       "      <td>1547532</td>\n",
       "      <td>1547532</td>\n",
       "      <td>1547532</td>\n",
       "      <td>1547532</td>\n",
       "      <td>1547532</td>\n",
       "      <td>1547532</td>\n",
       "      <td>1547532</td>\n",
       "      <td>1547532</td>\n",
       "      <td>1547532</td>\n",
       "      <td>1547532</td>\n",
       "      <td>1547532</td>\n",
       "      <td>1547532</td>\n",
       "      <td>1547532</td>\n",
       "      <td>1547532</td>\n",
       "    </tr>\n",
       "    <tr>\n",
       "      <th rowspan=\"4\" valign=\"top\">9</th>\n",
       "      <th>0</th>\n",
       "      <td>71</td>\n",
       "      <td>71</td>\n",
       "      <td>71</td>\n",
       "      <td>71</td>\n",
       "      <td>71</td>\n",
       "      <td>71</td>\n",
       "      <td>71</td>\n",
       "      <td>71</td>\n",
       "      <td>71</td>\n",
       "      <td>71</td>\n",
       "      <td>71</td>\n",
       "      <td>71</td>\n",
       "      <td>71</td>\n",
       "      <td>71</td>\n",
       "    </tr>\n",
       "    <tr>\n",
       "      <th>11</th>\n",
       "      <td>84829</td>\n",
       "      <td>84829</td>\n",
       "      <td>84829</td>\n",
       "      <td>84829</td>\n",
       "      <td>84829</td>\n",
       "      <td>84829</td>\n",
       "      <td>84829</td>\n",
       "      <td>84829</td>\n",
       "      <td>84829</td>\n",
       "      <td>84829</td>\n",
       "      <td>84829</td>\n",
       "      <td>84829</td>\n",
       "      <td>84829</td>\n",
       "      <td>84829</td>\n",
       "    </tr>\n",
       "    <tr>\n",
       "      <th>12</th>\n",
       "      <td>52449</td>\n",
       "      <td>52449</td>\n",
       "      <td>52449</td>\n",
       "      <td>52449</td>\n",
       "      <td>52449</td>\n",
       "      <td>52449</td>\n",
       "      <td>52449</td>\n",
       "      <td>52449</td>\n",
       "      <td>52449</td>\n",
       "      <td>52449</td>\n",
       "      <td>52449</td>\n",
       "      <td>52449</td>\n",
       "      <td>52449</td>\n",
       "      <td>52449</td>\n",
       "    </tr>\n",
       "    <tr>\n",
       "      <th>13</th>\n",
       "      <td>31243</td>\n",
       "      <td>31243</td>\n",
       "      <td>31243</td>\n",
       "      <td>31243</td>\n",
       "      <td>31243</td>\n",
       "      <td>31243</td>\n",
       "      <td>31243</td>\n",
       "      <td>31243</td>\n",
       "      <td>31243</td>\n",
       "      <td>31243</td>\n",
       "      <td>31243</td>\n",
       "      <td>31243</td>\n",
       "      <td>31243</td>\n",
       "      <td>31243</td>\n",
       "    </tr>\n",
       "  </tbody>\n",
       "</table>\n",
       "</div>"
      ],
      "text/plain": [
       "                id     hhno      pno      day     tour     half     tseg  \\\n",
       "             count    count    count    count    count    count    count   \n",
       "mode dorp                                                                  \n",
       "3    0        2156     2156     2156     2156     2156     2156     2156   \n",
       "     1     6769150  6769150  6769150  6769150  6769150  6769150  6769150   \n",
       "4    0        1763     1763     1763     1763     1763     1763     1763   \n",
       "     1     2183864  2183864  2183864  2183864  2183864  2183864  2183864   \n",
       "     2     1559624  1559624  1559624  1559624  1559624  1559624  1559624   \n",
       "5    0        1848     1848     1848     1848     1848     1848     1848   \n",
       "     1     1032411  1032411  1032411  1032411  1032411  1032411  1032411   \n",
       "     2     1547532  1547532  1547532  1547532  1547532  1547532  1547532   \n",
       "9    0          71       71       71       71       71       71       71   \n",
       "     11      84829    84829    84829    84829    84829    84829    84829   \n",
       "     12      52449    52449    52449    52449    52449    52449    52449   \n",
       "     13      31243    31243    31243    31243    31243    31243    31243   \n",
       "\n",
       "             tsvid pathtype     otaz     dtaz    deptm travtime travdist  \n",
       "             count    count    count    count    count    count    count  \n",
       "mode dorp                                                                 \n",
       "3    0        2156     2156     2156     2156     2156     2156     2156  \n",
       "     1     6769150  6769150  6769150  6769150  6769150  6769150  6769150  \n",
       "4    0        1763     1763     1763     1763     1763     1763     1763  \n",
       "     1     2183864  2183864  2183864  2183864  2183864  2183864  2183864  \n",
       "     2     1559624  1559624  1559624  1559624  1559624  1559624  1559624  \n",
       "5    0        1848     1848     1848     1848     1848     1848     1848  \n",
       "     1     1032411  1032411  1032411  1032411  1032411  1032411  1032411  \n",
       "     2     1547532  1547532  1547532  1547532  1547532  1547532  1547532  \n",
       "9    0          71       71       71       71       71       71       71  \n",
       "     11      84829    84829    84829    84829    84829    84829    84829  \n",
       "     12      52449    52449    52449    52449    52449    52449    52449  \n",
       "     13      31243    31243    31243    31243    31243    31243    31243  "
      ]
     },
     "execution_count": 11,
     "metadata": {},
     "output_type": "execute_result"
    }
   ],
   "source": [
    "veh_trips.groupby(['mode', 'dorp']).agg(['count'])"
   ]
  },
  {
   "cell_type": "markdown",
   "metadata": {},
   "source": [
    "From 16 milion rows of trip datafile around 13 milion are in modes: [3=sov, 4=hov 2, 5=hov 3+, 7=park and ride, 9=TNC]\n",
    "and ~3 milion in modes:[1=walk, 2=bike, 6=walk to transit, 8=school bus, 10=other – survey only]\n",
    "\n",
    "out of 13266940 rows:\n",
    "- 5838 rows (0.04%) have dorp=0. we will remove them\n",
    "- No one uses mode=7 (park and ride)\n",
    "- mode=9 (TNC) includes 168592 (1.3%) of rows and they don't have dorp=1 (driver role). Probably, drivers of ridehailing companies are inside modes = 3,4,5 and dorp=1. we simply remove mode=9 rows.\n",
    "- for modes=4,5 we assume that identical trips with dorp=1 are duplicated in rows with dorp=2. So we remove rows with dorp=2\n",
    "\n",
    "#### Overall, we only work with rows with dorp=1 and assume that those rows represent different trips (~10 million)"
   ]
  },
  {
   "cell_type": "code",
   "execution_count": 12,
   "metadata": {},
   "outputs": [],
   "source": [
    "veh_trips = veh_trips[veh_trips['dorp']==1]"
   ]
  },
  {
   "cell_type": "code",
   "execution_count": 13,
   "metadata": {},
   "outputs": [],
   "source": [
    "veh_trips.drop(columns=['mode', 'dorp', 'pathtype'], inplace=True)\n",
    "veh_trips = veh_trips.reset_index(drop=True)"
   ]
  },
  {
   "cell_type": "code",
   "execution_count": 14,
   "metadata": {},
   "outputs": [
    {
     "data": {
      "text/html": [
       "<div>\n",
       "<style scoped>\n",
       "    .dataframe tbody tr th:only-of-type {\n",
       "        vertical-align: middle;\n",
       "    }\n",
       "\n",
       "    .dataframe tbody tr th {\n",
       "        vertical-align: top;\n",
       "    }\n",
       "\n",
       "    .dataframe thead th {\n",
       "        text-align: right;\n",
       "    }\n",
       "</style>\n",
       "<table border=\"1\" class=\"dataframe\">\n",
       "  <thead>\n",
       "    <tr style=\"text-align: right;\">\n",
       "      <th></th>\n",
       "      <th>id</th>\n",
       "      <th>hhno</th>\n",
       "      <th>pno</th>\n",
       "      <th>day</th>\n",
       "      <th>tour</th>\n",
       "      <th>half</th>\n",
       "      <th>tseg</th>\n",
       "      <th>tsvid</th>\n",
       "      <th>otaz</th>\n",
       "      <th>dtaz</th>\n",
       "      <th>deptm</th>\n",
       "      <th>travtime</th>\n",
       "      <th>travdist</th>\n",
       "    </tr>\n",
       "  </thead>\n",
       "  <tbody>\n",
       "    <tr>\n",
       "      <th>0</th>\n",
       "      <td>25101</td>\n",
       "      <td>25</td>\n",
       "      <td>1</td>\n",
       "      <td>1</td>\n",
       "      <td>1</td>\n",
       "      <td>1</td>\n",
       "      <td>1</td>\n",
       "      <td>0</td>\n",
       "      <td>3591</td>\n",
       "      <td>3584</td>\n",
       "      <td>424</td>\n",
       "      <td>6</td>\n",
       "      <td>1</td>\n",
       "    </tr>\n",
       "    <tr>\n",
       "      <th>1</th>\n",
       "      <td>25151</td>\n",
       "      <td>25</td>\n",
       "      <td>1</td>\n",
       "      <td>1</td>\n",
       "      <td>1</td>\n",
       "      <td>2</td>\n",
       "      <td>1</td>\n",
       "      <td>0</td>\n",
       "      <td>3584</td>\n",
       "      <td>3591</td>\n",
       "      <td>960</td>\n",
       "      <td>6</td>\n",
       "      <td>1</td>\n",
       "    </tr>\n",
       "    <tr>\n",
       "      <th>2</th>\n",
       "      <td>23101</td>\n",
       "      <td>23</td>\n",
       "      <td>1</td>\n",
       "      <td>1</td>\n",
       "      <td>1</td>\n",
       "      <td>1</td>\n",
       "      <td>1</td>\n",
       "      <td>0</td>\n",
       "      <td>3592</td>\n",
       "      <td>3628</td>\n",
       "      <td>499</td>\n",
       "      <td>12</td>\n",
       "      <td>3</td>\n",
       "    </tr>\n",
       "    <tr>\n",
       "      <th>3</th>\n",
       "      <td>23151</td>\n",
       "      <td>23</td>\n",
       "      <td>1</td>\n",
       "      <td>1</td>\n",
       "      <td>1</td>\n",
       "      <td>2</td>\n",
       "      <td>1</td>\n",
       "      <td>0</td>\n",
       "      <td>3628</td>\n",
       "      <td>3592</td>\n",
       "      <td>530</td>\n",
       "      <td>13</td>\n",
       "      <td>3</td>\n",
       "    </tr>\n",
       "    <tr>\n",
       "      <th>4</th>\n",
       "      <td>7101</td>\n",
       "      <td>7</td>\n",
       "      <td>1</td>\n",
       "      <td>1</td>\n",
       "      <td>1</td>\n",
       "      <td>1</td>\n",
       "      <td>1</td>\n",
       "      <td>0</td>\n",
       "      <td>3594</td>\n",
       "      <td>2731</td>\n",
       "      <td>486</td>\n",
       "      <td>36</td>\n",
       "      <td>24</td>\n",
       "    </tr>\n",
       "    <tr>\n",
       "      <th>...</th>\n",
       "      <td>...</td>\n",
       "      <td>...</td>\n",
       "      <td>...</td>\n",
       "      <td>...</td>\n",
       "      <td>...</td>\n",
       "      <td>...</td>\n",
       "      <td>...</td>\n",
       "      <td>...</td>\n",
       "      <td>...</td>\n",
       "      <td>...</td>\n",
       "      <td>...</td>\n",
       "      <td>...</td>\n",
       "      <td>...</td>\n",
       "    </tr>\n",
       "    <tr>\n",
       "      <th>9985420</th>\n",
       "      <td>-241867144</td>\n",
       "      <td>1605258</td>\n",
       "      <td>1</td>\n",
       "      <td>1</td>\n",
       "      <td>1</td>\n",
       "      <td>2</td>\n",
       "      <td>2</td>\n",
       "      <td>0</td>\n",
       "      <td>47</td>\n",
       "      <td>2200</td>\n",
       "      <td>1052</td>\n",
       "      <td>67</td>\n",
       "      <td>28</td>\n",
       "    </tr>\n",
       "    <tr>\n",
       "      <th>9985421</th>\n",
       "      <td>-241867143</td>\n",
       "      <td>1605258</td>\n",
       "      <td>1</td>\n",
       "      <td>1</td>\n",
       "      <td>1</td>\n",
       "      <td>2</td>\n",
       "      <td>3</td>\n",
       "      <td>0</td>\n",
       "      <td>2200</td>\n",
       "      <td>2199</td>\n",
       "      <td>1155</td>\n",
       "      <td>5</td>\n",
       "      <td>0</td>\n",
       "    </tr>\n",
       "    <tr>\n",
       "      <th>9985422</th>\n",
       "      <td>-241866194</td>\n",
       "      <td>1605258</td>\n",
       "      <td>2</td>\n",
       "      <td>1</td>\n",
       "      <td>1</td>\n",
       "      <td>1</td>\n",
       "      <td>1</td>\n",
       "      <td>0</td>\n",
       "      <td>2199</td>\n",
       "      <td>2198</td>\n",
       "      <td>615</td>\n",
       "      <td>13</td>\n",
       "      <td>1</td>\n",
       "    </tr>\n",
       "    <tr>\n",
       "      <th>9985423</th>\n",
       "      <td>-241866195</td>\n",
       "      <td>1605258</td>\n",
       "      <td>2</td>\n",
       "      <td>1</td>\n",
       "      <td>1</td>\n",
       "      <td>1</td>\n",
       "      <td>2</td>\n",
       "      <td>0</td>\n",
       "      <td>2198</td>\n",
       "      <td>2187</td>\n",
       "      <td>645</td>\n",
       "      <td>8</td>\n",
       "      <td>2</td>\n",
       "    </tr>\n",
       "    <tr>\n",
       "      <th>9985424</th>\n",
       "      <td>-241866145</td>\n",
       "      <td>1605258</td>\n",
       "      <td>2</td>\n",
       "      <td>1</td>\n",
       "      <td>1</td>\n",
       "      <td>2</td>\n",
       "      <td>1</td>\n",
       "      <td>0</td>\n",
       "      <td>2187</td>\n",
       "      <td>2199</td>\n",
       "      <td>1028</td>\n",
       "      <td>7</td>\n",
       "      <td>2</td>\n",
       "    </tr>\n",
       "  </tbody>\n",
       "</table>\n",
       "<p>9985425 rows × 13 columns</p>\n",
       "</div>"
      ],
      "text/plain": [
       "                id     hhno  pno  day  tour  half  tseg  tsvid  otaz  dtaz  \\\n",
       "0            25101       25    1    1     1     1     1      0  3591  3584   \n",
       "1            25151       25    1    1     1     2     1      0  3584  3591   \n",
       "2            23101       23    1    1     1     1     1      0  3592  3628   \n",
       "3            23151       23    1    1     1     2     1      0  3628  3592   \n",
       "4             7101        7    1    1     1     1     1      0  3594  2731   \n",
       "...            ...      ...  ...  ...   ...   ...   ...    ...   ...   ...   \n",
       "9985420 -241867144  1605258    1    1     1     2     2      0    47  2200   \n",
       "9985421 -241867143  1605258    1    1     1     2     3      0  2200  2199   \n",
       "9985422 -241866194  1605258    2    1     1     1     1      0  2199  2198   \n",
       "9985423 -241866195  1605258    2    1     1     1     2      0  2198  2187   \n",
       "9985424 -241866145  1605258    2    1     1     2     1      0  2187  2199   \n",
       "\n",
       "         deptm  travtime  travdist  \n",
       "0          424         6         1  \n",
       "1          960         6         1  \n",
       "2          499        12         3  \n",
       "3          530        13         3  \n",
       "4          486        36        24  \n",
       "...        ...       ...       ...  \n",
       "9985420   1052        67        28  \n",
       "9985421   1155         5         0  \n",
       "9985422    615        13         1  \n",
       "9985423    645         8         2  \n",
       "9985424   1028         7         2  \n",
       "\n",
       "[9985425 rows x 13 columns]"
      ]
     },
     "execution_count": 14,
     "metadata": {},
     "output_type": "execute_result"
    }
   ],
   "source": [
    "veh_trips"
   ]
  },
  {
   "cell_type": "markdown",
   "metadata": {},
   "source": [
    "### some explorations\n",
    "\n",
    "\n"
   ]
  },
  {
   "cell_type": "code",
   "execution_count": 15,
   "metadata": {},
   "outputs": [
    {
     "data": {
      "text/plain": [
       "array([   1,    2,    3, ..., 3906, 3907, 3951])"
      ]
     },
     "execution_count": 15,
     "metadata": {},
     "output_type": "execute_result"
    }
   ],
   "source": [
    "tazs = np.concatenate((veh_trips.otaz.values, veh_trips.dtaz.values))\n",
    "tazs = np.sort(np.unique(tazs))\n",
    "tazs"
   ]
  },
  {
   "cell_type": "code",
   "execution_count": 16,
   "metadata": {},
   "outputs": [
    {
     "data": {
      "image/png": "[encoded data removed]",
      "text/plain": [
       "<Figure size 1700x480 with 2 Axes>"
      ]
     },
     "metadata": {},
     "output_type": "display_data"
    }
   ],
   "source": [
    "fig, axes = plt.subplots(1, 2)\n",
    "plt.title('departure time')\n",
    "fig.set_figwidth(17)\n",
    "veh_trips.deptm.plot(ax=axes[0], kind='density').set_xlim([0, 1440])\n",
    "veh_trips.deptm.hist(ax=axes[1], bins=24, rwidth=0.9)\n",
    "plt.tight_layout()\n",
    "plt.show()"
   ]
  },
  {
   "cell_type": "code",
   "execution_count": 17,
   "metadata": {},
   "outputs": [
    {
     "data": {
      "image/png": "[encoded data removed]",
      "text/plain": [
       "<Figure size 640x480 with 1 Axes>"
      ]
     },
     "metadata": {},
     "output_type": "display_data"
    }
   ],
   "source": [
    "veh_trips.travtime.hist(bins=list(range(0,200,5)), rwidth=0.9)\n",
    "plt.title('travel times')\n",
    "plt.show()"
   ]
  },
  {
   "cell_type": "code",
   "execution_count": 27,
   "metadata": {},
   "outputs": [
    {
     "data": {
      "image/png": "[encoded data removed]",
      "text/plain": [
       "<Figure size 640x480 with 1 Axes>"
      ]
     },
     "metadata": {},
     "output_type": "display_data"
    }
   ],
   "source": [
    "veh_trips[veh_trips.otaz == veh_trips.dtaz].travtime.hist(bins=list(range(0,200,5)), rwidth=0.9)\n",
    "# veh_trips[abs(veh_trips.otaz - veh_trips.dtaz)<=2].travtime.hist(bins=list(range(0,200,5)), rwidth=0.9)\n",
    "plt.title('travel times for trips in same O and D')\n",
    "plt.show()"
   ]
  },
  {
   "cell_type": "code",
   "execution_count": 31,
   "metadata": {},
   "outputs": [
    {
     "data": {
      "image/png": "[encoded data removed]",
      "text/plain": [
       "<Figure size 640x480 with 1 Axes>"
      ]
     },
     "metadata": {},
     "output_type": "display_data"
    }
   ],
   "source": [
    "veh_trips[veh_trips.otaz!=veh_trips.dtaz].travtime.hist(bins=list(range(0,200,5)), rwidth=0.9)\n",
    "# veh_trips[abs(veh_trips.otaz - veh_trips.dtaz)>2].travtime.hist(bins=list(range(0,200,5)), rwidth=0.9)\n",
    "\n",
    "plt.title('travel times for trips in different O and D')\n",
    "plt.show()"
   ]
  },
  {
   "cell_type": "markdown",
   "metadata": {},
   "source": [
    " "
   ]
  },
  {
   "cell_type": "markdown",
   "metadata": {},
   "source": [
    "### removing useless info\n",
    "I think that for our work, we do not need information other than otaz, dtaz, deptm, and maybe travel_time.\n"
   ]
  },
  {
   "cell_type": "code",
   "execution_count": 16,
   "metadata": {
    "collapsed": true
   },
   "outputs": [
    {
     "ename": "KeyError",
     "evalue": "\"['id', 'hhno', 'pno', 'day', 'tour', 'half', 'tseg', 'tsvid', 'travdist'] not found in axis\"",
     "output_type": "error",
     "traceback": [
      "\u001b[0;31m---------------------------------------------------------------------------\u001b[0m",
      "\u001b[0;31mKeyError\u001b[0m                                  Traceback (most recent call last)",
      "Cell \u001b[0;32mIn[16], line 1\u001b[0m\n\u001b[0;32m----> 1\u001b[0m \u001b[43mveh_trips\u001b[49m\u001b[38;5;241;43m.\u001b[39;49m\u001b[43mdrop\u001b[49m\u001b[43m(\u001b[49m\u001b[43mcolumns\u001b[49m\u001b[38;5;241;43m=\u001b[39;49m\u001b[43m[\u001b[49m\u001b[38;5;124;43m'\u001b[39;49m\u001b[38;5;124;43mid\u001b[39;49m\u001b[38;5;124;43m'\u001b[39;49m\u001b[43m,\u001b[49m\u001b[43m \u001b[49m\u001b[38;5;124;43m'\u001b[39;49m\u001b[38;5;124;43mhhno\u001b[39;49m\u001b[38;5;124;43m'\u001b[39;49m\u001b[43m,\u001b[49m\u001b[43m \u001b[49m\u001b[38;5;124;43m'\u001b[39;49m\u001b[38;5;124;43mpno\u001b[39;49m\u001b[38;5;124;43m'\u001b[39;49m\u001b[43m,\u001b[49m\u001b[43m \u001b[49m\u001b[38;5;124;43m'\u001b[39;49m\u001b[38;5;124;43mday\u001b[39;49m\u001b[38;5;124;43m'\u001b[39;49m\u001b[43m,\u001b[49m\u001b[43m \u001b[49m\u001b[38;5;124;43m'\u001b[39;49m\u001b[38;5;124;43mtour\u001b[39;49m\u001b[38;5;124;43m'\u001b[39;49m\u001b[43m,\u001b[49m\u001b[43m \u001b[49m\u001b[38;5;124;43m'\u001b[39;49m\u001b[38;5;124;43mhalf\u001b[39;49m\u001b[38;5;124;43m'\u001b[39;49m\u001b[43m,\u001b[49m\u001b[43m \u001b[49m\u001b[38;5;124;43m'\u001b[39;49m\u001b[38;5;124;43mtseg\u001b[39;49m\u001b[38;5;124;43m'\u001b[39;49m\u001b[43m,\u001b[49m\u001b[43m \u001b[49m\u001b[38;5;124;43m'\u001b[39;49m\u001b[38;5;124;43mtsvid\u001b[39;49m\u001b[38;5;124;43m'\u001b[39;49m\u001b[43m,\u001b[49m\u001b[43m \u001b[49m\u001b[38;5;124;43m'\u001b[39;49m\u001b[38;5;124;43mtravdist\u001b[39;49m\u001b[38;5;124;43m'\u001b[39;49m\u001b[43m]\u001b[49m\u001b[43m,\u001b[49m\u001b[43m \u001b[49m\u001b[43minplace\u001b[49m\u001b[38;5;241;43m=\u001b[39;49m\u001b[38;5;28;43;01mTrue\u001b[39;49;00m\u001b[43m)\u001b[49m\n",
      "File \u001b[0;32m~/anaconda3/envs/sumo_env/lib/python3.9/site-packages/pandas/core/frame.py:5258\u001b[0m, in \u001b[0;36mDataFrame.drop\u001b[0;34m(self, labels, axis, index, columns, level, inplace, errors)\u001b[0m\n\u001b[1;32m   5110\u001b[0m \u001b[38;5;28;01mdef\u001b[39;00m \u001b[38;5;21mdrop\u001b[39m(\n\u001b[1;32m   5111\u001b[0m     \u001b[38;5;28mself\u001b[39m,\n\u001b[1;32m   5112\u001b[0m     labels: IndexLabel \u001b[38;5;241m=\u001b[39m \u001b[38;5;28;01mNone\u001b[39;00m,\n\u001b[0;32m   (...)\u001b[0m\n\u001b[1;32m   5119\u001b[0m     errors: IgnoreRaise \u001b[38;5;241m=\u001b[39m \u001b[38;5;124m\"\u001b[39m\u001b[38;5;124mraise\u001b[39m\u001b[38;5;124m\"\u001b[39m,\n\u001b[1;32m   5120\u001b[0m ) \u001b[38;5;241m-\u001b[39m\u001b[38;5;241m>\u001b[39m DataFrame \u001b[38;5;241m|\u001b[39m \u001b[38;5;28;01mNone\u001b[39;00m:\n\u001b[1;32m   5121\u001b[0m \u001b[38;5;250m    \u001b[39m\u001b[38;5;124;03m\"\"\"\u001b[39;00m\n\u001b[1;32m   5122\u001b[0m \u001b[38;5;124;03m    Drop specified labels from rows or columns.\u001b[39;00m\n\u001b[1;32m   5123\u001b[0m \n\u001b[0;32m   (...)\u001b[0m\n\u001b[1;32m   5256\u001b[0m \u001b[38;5;124;03m            weight  1.0     0.8\u001b[39;00m\n\u001b[1;32m   5257\u001b[0m \u001b[38;5;124;03m    \"\"\"\u001b[39;00m\n\u001b[0;32m-> 5258\u001b[0m     \u001b[38;5;28;01mreturn\u001b[39;00m \u001b[38;5;28;43msuper\u001b[39;49m\u001b[43m(\u001b[49m\u001b[43m)\u001b[49m\u001b[38;5;241;43m.\u001b[39;49m\u001b[43mdrop\u001b[49m\u001b[43m(\u001b[49m\n\u001b[1;32m   5259\u001b[0m \u001b[43m        \u001b[49m\u001b[43mlabels\u001b[49m\u001b[38;5;241;43m=\u001b[39;49m\u001b[43mlabels\u001b[49m\u001b[43m,\u001b[49m\n\u001b[1;32m   5260\u001b[0m \u001b[43m        \u001b[49m\u001b[43maxis\u001b[49m\u001b[38;5;241;43m=\u001b[39;49m\u001b[43maxis\u001b[49m\u001b[43m,\u001b[49m\n\u001b[1;32m   5261\u001b[0m \u001b[43m        \u001b[49m\u001b[43mindex\u001b[49m\u001b[38;5;241;43m=\u001b[39;49m\u001b[43mindex\u001b[49m\u001b[43m,\u001b[49m\n\u001b[1;32m   5262\u001b[0m \u001b[43m        \u001b[49m\u001b[43mcolumns\u001b[49m\u001b[38;5;241;43m=\u001b[39;49m\u001b[43mcolumns\u001b[49m\u001b[43m,\u001b[49m\n\u001b[1;32m   5263\u001b[0m \u001b[43m        \u001b[49m\u001b[43mlevel\u001b[49m\u001b[38;5;241;43m=\u001b[39;49m\u001b[43mlevel\u001b[49m\u001b[43m,\u001b[49m\n\u001b[1;32m   5264\u001b[0m \u001b[43m        \u001b[49m\u001b[43minplace\u001b[49m\u001b[38;5;241;43m=\u001b[39;49m\u001b[43minplace\u001b[49m\u001b[43m,\u001b[49m\n\u001b[1;32m   5265\u001b[0m \u001b[43m        \u001b[49m\u001b[43merrors\u001b[49m\u001b[38;5;241;43m=\u001b[39;49m\u001b[43merrors\u001b[49m\u001b[43m,\u001b[49m\n\u001b[1;32m   5266\u001b[0m \u001b[43m    \u001b[49m\u001b[43m)\u001b[49m\n",
      "File \u001b[0;32m~/anaconda3/envs/sumo_env/lib/python3.9/site-packages/pandas/core/generic.py:4549\u001b[0m, in \u001b[0;36mNDFrame.drop\u001b[0;34m(self, labels, axis, index, columns, level, inplace, errors)\u001b[0m\n\u001b[1;32m   4547\u001b[0m \u001b[38;5;28;01mfor\u001b[39;00m axis, labels \u001b[38;5;129;01min\u001b[39;00m axes\u001b[38;5;241m.\u001b[39mitems():\n\u001b[1;32m   4548\u001b[0m     \u001b[38;5;28;01mif\u001b[39;00m labels \u001b[38;5;129;01mis\u001b[39;00m \u001b[38;5;129;01mnot\u001b[39;00m \u001b[38;5;28;01mNone\u001b[39;00m:\n\u001b[0;32m-> 4549\u001b[0m         obj \u001b[38;5;241m=\u001b[39m \u001b[43mobj\u001b[49m\u001b[38;5;241;43m.\u001b[39;49m\u001b[43m_drop_axis\u001b[49m\u001b[43m(\u001b[49m\u001b[43mlabels\u001b[49m\u001b[43m,\u001b[49m\u001b[43m \u001b[49m\u001b[43maxis\u001b[49m\u001b[43m,\u001b[49m\u001b[43m \u001b[49m\u001b[43mlevel\u001b[49m\u001b[38;5;241;43m=\u001b[39;49m\u001b[43mlevel\u001b[49m\u001b[43m,\u001b[49m\u001b[43m \u001b[49m\u001b[43merrors\u001b[49m\u001b[38;5;241;43m=\u001b[39;49m\u001b[43merrors\u001b[49m\u001b[43m)\u001b[49m\n\u001b[1;32m   4551\u001b[0m \u001b[38;5;28;01mif\u001b[39;00m inplace:\n\u001b[1;32m   4552\u001b[0m     \u001b[38;5;28mself\u001b[39m\u001b[38;5;241m.\u001b[39m_update_inplace(obj)\n",
      "File \u001b[0;32m~/anaconda3/envs/sumo_env/lib/python3.9/site-packages/pandas/core/generic.py:4591\u001b[0m, in \u001b[0;36mNDFrame._drop_axis\u001b[0;34m(self, labels, axis, level, errors, only_slice)\u001b[0m\n\u001b[1;32m   4589\u001b[0m         new_axis \u001b[38;5;241m=\u001b[39m axis\u001b[38;5;241m.\u001b[39mdrop(labels, level\u001b[38;5;241m=\u001b[39mlevel, errors\u001b[38;5;241m=\u001b[39merrors)\n\u001b[1;32m   4590\u001b[0m     \u001b[38;5;28;01melse\u001b[39;00m:\n\u001b[0;32m-> 4591\u001b[0m         new_axis \u001b[38;5;241m=\u001b[39m \u001b[43maxis\u001b[49m\u001b[38;5;241;43m.\u001b[39;49m\u001b[43mdrop\u001b[49m\u001b[43m(\u001b[49m\u001b[43mlabels\u001b[49m\u001b[43m,\u001b[49m\u001b[43m \u001b[49m\u001b[43merrors\u001b[49m\u001b[38;5;241;43m=\u001b[39;49m\u001b[43merrors\u001b[49m\u001b[43m)\u001b[49m\n\u001b[1;32m   4592\u001b[0m     indexer \u001b[38;5;241m=\u001b[39m axis\u001b[38;5;241m.\u001b[39mget_indexer(new_axis)\n\u001b[1;32m   4594\u001b[0m \u001b[38;5;66;03m# Case for non-unique axis\u001b[39;00m\n\u001b[1;32m   4595\u001b[0m \u001b[38;5;28;01melse\u001b[39;00m:\n",
      "File \u001b[0;32m~/anaconda3/envs/sumo_env/lib/python3.9/site-packages/pandas/core/indexes/base.py:6699\u001b[0m, in \u001b[0;36mIndex.drop\u001b[0;34m(self, labels, errors)\u001b[0m\n\u001b[1;32m   6697\u001b[0m \u001b[38;5;28;01mif\u001b[39;00m mask\u001b[38;5;241m.\u001b[39many():\n\u001b[1;32m   6698\u001b[0m     \u001b[38;5;28;01mif\u001b[39;00m errors \u001b[38;5;241m!=\u001b[39m \u001b[38;5;124m\"\u001b[39m\u001b[38;5;124mignore\u001b[39m\u001b[38;5;124m\"\u001b[39m:\n\u001b[0;32m-> 6699\u001b[0m         \u001b[38;5;28;01mraise\u001b[39;00m \u001b[38;5;167;01mKeyError\u001b[39;00m(\u001b[38;5;124mf\u001b[39m\u001b[38;5;124m\"\u001b[39m\u001b[38;5;132;01m{\u001b[39;00m\u001b[38;5;28mlist\u001b[39m(labels[mask])\u001b[38;5;132;01m}\u001b[39;00m\u001b[38;5;124m not found in axis\u001b[39m\u001b[38;5;124m\"\u001b[39m)\n\u001b[1;32m   6700\u001b[0m     indexer \u001b[38;5;241m=\u001b[39m indexer[\u001b[38;5;241m~\u001b[39mmask]\n\u001b[1;32m   6701\u001b[0m \u001b[38;5;28;01mreturn\u001b[39;00m \u001b[38;5;28mself\u001b[39m\u001b[38;5;241m.\u001b[39mdelete(indexer)\n",
      "\u001b[0;31mKeyError\u001b[0m: \"['id', 'hhno', 'pno', 'day', 'tour', 'half', 'tseg', 'tsvid', 'travdist'] not found in axis\""
     ]
    }
   ],
   "source": [
    "veh_trips.drop(columns=['id', 'hhno', 'pno', 'day', 'tour', 'half', 'tseg', 'tsvid', 'travdist'], inplace=True)"
   ]
  },
  {
   "cell_type": "markdown",
   "metadata": {},
   "source": [
    "## making od table"
   ]
  },
  {
   "cell_type": "markdown",
   "metadata": {},
   "source": [
    "Sorting makes things cleaner or maybe faster!"
   ]
  },
  {
   "cell_type": "code",
   "execution_count": null,
   "metadata": {},
   "outputs": [],
   "source": [
    "sorted_trips = veh_trips.sort_values(by=['otaz', 'dtaz', 'deptm'])\n",
    "sorted_trips.reset_index(drop=True, inplace=True)"
   ]
  },
  {
   "cell_type": "code",
   "execution_count": null,
   "metadata": {},
   "outputs": [],
   "source": [
    "sorted_trips"
   ]
  },
  {
   "cell_type": "code",
   "execution_count": null,
   "metadata": {},
   "outputs": [],
   "source": [
    "sorted_trips.to_csv('psrc_vehicle_trips.csv',index=False)"
   ]
  },
  {
   "cell_type": "markdown",
   "metadata": {},
   "source": [
    "### after that, we will change TAZs and then run od2trips command. See other notebook files\n",
    "\n",
    "\n",
    "\n",
    "\n",
    "\n",
    "##### rest is not important"
   ]
  },
  {
   "cell_type": "markdown",
   "metadata": {},
   "source": [
    "..."
   ]
  },
  {
   "cell_type": "markdown",
   "metadata": {},
   "source": [
    "### step1\n",
    "\n",
    "#### od: \n",
    "we make dictionaries in which each key is a origin taz. Values would be a dictionary of dictionaries. Each dictionary has a destination taz as key and a np.array with length of 1440. \n",
    "\n",
    "- ex:\n",
    "\n",
    "Two trips are generated from taz1 to taz1 at time= 1min, and three trips are generated from taz1 to taz2 at time=4min. \n",
    "\n",
    "we can have something like this:\n",
    "\n",
    "od = {1:{1:[1, 1], 2:[4, 4, 4]}, 2:{...}, 3:{...}, ...}\n",
    "\n",
    "#### od_simple and od_cplx:\n",
    "they can be used to make .csv files like we previously had. \n",
    "\n",
    "For now, we focus on od_simple and will work on changing TAZs to psuedo TAZs. Later we will use od_cplx in which we account for departure time of each single vehicle trip\n",
    "    "
   ]
  },
  {
   "cell_type": "code",
   "execution_count": 136,
   "metadata": {},
   "outputs": [
    {
     "name": "stderr",
     "output_type": "stream",
     "text": [
      "100%|███████████████████████████████████████| 3835/3835 [03:12<00:00, 19.92it/s]\n"
     ]
    }
   ],
   "source": [
    "od = dict()\n",
    "od_simple = {'O':[], 'D':[], 'demand':[]}\n",
    "od_cplx = {'O':[], 'D':[], 'demand':[]}\n",
    "\n",
    "for o in tqdm(tazs):\n",
    "    o_df = sorted_trips[sorted_trips['otaz']== o]\n",
    "    if len(o_df)>0:  \n",
    "        # if we have trips started from this taz\n",
    "        od[o] = dict()\n",
    "        \n",
    "        destinations = np.unique(o_df.dtaz.values)\n",
    "        for d in destinations:\n",
    "            od_df = o_df[o_df['dtaz'] == d]\n",
    "            if len(od_df)>0:  \n",
    "                # if we have trips started from o and ended in d\n",
    "                times = od_df.deptm.values\n",
    "                od[o][d] = times\n",
    "             \n",
    "                od_simple['O'].append(o)\n",
    "                od_simple['D'].append(d)\n",
    "                od_simple['demand'].append(len(times))\n",
    "                \n",
    "                od_cplx['O'].append(o)\n",
    "                od_cplx['D'].append(d)\n",
    "                od_cplx['demand'].append(times)  \n",
    "            "
   ]
  },
  {
   "cell_type": "markdown",
   "metadata": {},
   "source": [
    "### step2\n",
    "Making the .csv for od_simple. We can read this .csv file later during the developement instead of making the dataframe once again in other days"
   ]
  },
  {
   "cell_type": "code",
   "execution_count": 139,
   "metadata": {},
   "outputs": [],
   "source": [
    "df = pd.DataFrame(od_simple)\n",
    "df.to_csv('other_files/od_simple.csv', index=False)"
   ]
  },
  {
   "cell_type": "code",
   "execution_count": 143,
   "metadata": {},
   "outputs": [
    {
     "data": {
      "text/plain": [
       "2259491"
      ]
     },
     "execution_count": 143,
     "metadata": {},
     "output_type": "execute_result"
    }
   ],
   "source": [
    "len(df)"
   ]
  },
  {
   "cell_type": "markdown",
   "metadata": {},
   "source": [
    " "
   ]
  },
  {
   "cell_type": "markdown",
   "metadata": {},
   "source": []
  },
  {
   "cell_type": "code",
   "execution_count": null,
   "metadata": {
    "pycharm": {
     "name": "#%%\n"
    }
   },
   "outputs": [],
   "source": []
  }
 ],
 "metadata": {
  "colab": {
   "collapsed_sections": [],
   "name": "Codes_Short-term_Pessimistic_Scenario-July31.ipynb",
   "provenance": []
  },
  "kernelspec": {
   "display_name": "sumo simulation configuration environment",
   "language": "python",
   "name": "sumo_env"
  },
  "language_info": {
   "codemirror_mode": {
    "name": "ipython",
    "version": 3
   },
   "file_extension": ".py",
   "mimetype": "text/x-python",
   "name": "python",
   "nbconvert_exporter": "python",
   "pygments_lexer": "ipython3",
   "version": "3.9.16"
  }
 },
 "nbformat": 4,
 "nbformat_minor": 1
}
