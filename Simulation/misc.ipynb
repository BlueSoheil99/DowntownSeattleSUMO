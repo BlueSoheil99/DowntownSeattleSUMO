{
 "cells": [
  {
   "cell_type": "code",
   "execution_count": 1,
   "id": "d658a315",
   "metadata": {},
   "outputs": [],
   "source": [
    "# %matplotlib notebook\n",
    "# import geopandas as gpd\n",
    "# import pandas as pd\n",
    "# import matplotlib.pyplot as plt\n",
    "# from tqdm import tqdm\n",
    "# import contextily as cx\n",
    "import xml.etree.ElementTree as ET\n",
    "# from shapely import wkt\n",
    "import random\n",
    "import sumolib.net as sumonet\n",
    "import pandas as pd\n",
    "from tqdm import tqdm"
   ]
  },
  {
   "cell_type": "markdown",
   "id": "c4ada067",
   "metadata": {
    "jp-MarkdownHeadingCollapsed": true
   },
   "source": [
    "# Changing weights in TAZs"
   ]
  },
  {
   "cell_type": "code",
   "execution_count": 9,
   "id": "9caeb214",
   "metadata": {},
   "outputs": [],
   "source": [
    "net = sumonet.readNet('Seattle_road_network.net.xml')\n",
    "edges = net.getEdges()\n",
    "edge_p_dict = {}\n",
    "for edge in edges:\n",
    "    ID = edge.getID()\n",
    "    p = edge.getPriority()\n",
    "    edge_p_dict[ID] = p"
   ]
  },
  {
   "cell_type": "code",
   "execution_count": 11,
   "id": "4c154f28",
   "metadata": {},
   "outputs": [],
   "source": [
    "edges_in_TAZs = []\n",
    "\n",
    "# load sumo tazs\n",
    "tree = ET.parse('new_Taz_with_pseudo_link.add.xml')\n",
    "root = tree.getroot()\n",
    "sumo_taz = []\n",
    "for taz in root.findall('taz'):\n",
    "#     if str(taz.get('id'))>5000:\n",
    "    for src in taz.findall('tazSource'):\n",
    "        link_id = src.get('id')\n",
    "        edges_in_TAZs.append(link_id)\n",
    "        link_priority = edge_p_dict[link_id]\n",
    "        if src.get('weight')!= '0.00':\n",
    "            src.set('weight', str(link_priority)+'.00')\n",
    "    for sink in taz.findall('tazSink'):\n",
    "        link_id = sink.get('id')\n",
    "        edges_in_TAZs.append(link_id)\n",
    "        link_priority = edge_p_dict[link_id]\n",
    "        if sink.get('weight')!= '0.00':\n",
    "            sink.set('weight', str(link_priority)+'.00')\n",
    "\n"
   ]
  },
  {
   "cell_type": "code",
   "execution_count": null,
   "id": "adb97cdd",
   "metadata": {},
   "outputs": [],
   "source": [
    "# Save the modified XML back to a file\n",
    "tree.write('modified_new_Taz_with_pseudo.add.xml', encoding='utf-8', xml_declaration=True)"
   ]
  },
  {
   "cell_type": "code",
   "execution_count": 14,
   "id": "6827cead",
   "metadata": {},
   "outputs": [
    {
     "data": {
      "text/plain": [
       "7384"
      ]
     },
     "execution_count": 14,
     "metadata": {},
     "output_type": "execute_result"
    }
   ],
   "source": [
    "len(edges)"
   ]
  },
  {
   "cell_type": "code",
   "execution_count": 15,
   "id": "fb707bd5",
   "metadata": {},
   "outputs": [
    {
     "data": {
      "text/plain": [
       "4031"
      ]
     },
     "execution_count": 15,
     "metadata": {},
     "output_type": "execute_result"
    }
   ],
   "source": [
    "len(set(edges_in_TAZs))"
   ]
  },
  {
   "cell_type": "code",
   "execution_count": 16,
   "id": "bd421006",
   "metadata": {},
   "outputs": [],
   "source": [
    "with open('edges_in_TAZs.txt', 'w') as f:\n",
    "    for edge in set(edges_in_TAZs):\n",
    "        f.write(edge+'\\n')"
   ]
  },
  {
   "cell_type": "markdown",
   "id": "4e177a26",
   "metadata": {
    "jp-MarkdownHeadingCollapsed": true
   },
   "source": [
    "# reducing speed of alleys"
   ]
  },
  {
   "cell_type": "code",
   "execution_count": 14,
   "id": "32772063",
   "metadata": {},
   "outputs": [],
   "source": [
    "# load sumo tazs\n",
    "tree = ET.parse('Seattle_road_network.net.xml')\n",
    "root = tree.getroot()\n",
    "# sumo_taz = []\n",
    "for edge in root.findall('edge'):\n",
    "    if edge.get('function') in['walkingarea', 'internal', 'crossing']:\n",
    "        continue\n",
    "    else:\n",
    "        if type(edge.get('priority'))==str:\n",
    "            if int(edge.get('priority'))==2:\n",
    "                for lane in edge.findall('lane'):\n",
    "                    if float(lane.get('speed'))==6.71:\n",
    "                        lane.set('speed', str(4.47))  # 15mph->10mph\n",
    "                    if float(lane.get('speed'))==5.56:\n",
    "                        lane.set('speed', str(3.35))  # 12.4mph->7.5mph\n",
    "        else:\n",
    "            print(edge.get('id'))\n"
   ]
  },
  {
   "cell_type": "code",
   "execution_count": 15,
   "id": "ba6d5ec8",
   "metadata": {},
   "outputs": [],
   "source": [
    "# Save the modified XML back to a file\n",
    "tree.write('new_Seattle_road_network.net.xml', encoding='utf-8', xml_declaration=True)"
   ]
  },
  {
   "cell_type": "markdown",
   "id": "1626e1db",
   "metadata": {
    "jp-MarkdownHeadingCollapsed": true
   },
   "source": [
    "# deleting some pedestrians after deleting alleys from network"
   ]
  },
  {
   "cell_type": "code",
   "execution_count": 6,
   "id": "64b5bfee",
   "metadata": {},
   "outputs": [],
   "source": [
    "net = sumonet.readNet('no_alley_Seattle_road_network.net.xml')\n",
    "edges = net.getEdges()"
   ]
  },
  {
   "cell_type": "code",
   "execution_count": 7,
   "id": "d2a900e3",
   "metadata": {},
   "outputs": [],
   "source": [
    "# load sumo tazs\n",
    "tree = ET.parse('ped_od_input.rou.xml')\n",
    "root = tree.getroot()\n",
    "for person in (root.findall('person')):\n",
    "    for walk in person.findall('walk'):\n",
    "        if (walk.get('from') in edges) and (walk.get('to') in edges):\n",
    "            continue\n",
    "        else:\n",
    "            root.remove(person)\n",
    "            "
   ]
  },
  {
   "cell_type": "code",
   "execution_count": 8,
   "id": "97314422",
   "metadata": {},
   "outputs": [],
   "source": [
    "# Save the modified XML back to a file\n",
    "tree.write('new_ped_od_input.rou.xml', encoding='utf-8', xml_declaration=True)"
   ]
  },
  {
   "cell_type": "markdown",
   "id": "a967563c",
   "metadata": {
    "jp-MarkdownHeadingCollapsed": true
   },
   "source": [
    "# filtering demnad"
   ]
  },
  {
   "cell_type": "code",
   "execution_count": 20,
   "id": "8b925a36",
   "metadata": {},
   "outputs": [
    {
     "name": "stdout",
     "output_type": "stream",
     "text": [
      "166684\n"
     ]
    }
   ],
   "source": [
    "# total number of trips?\n",
    "tree = ET.parse('new_psrc_vehicle_trips_converted_taz.rou.xml')\n",
    "root = tree.getroot()\n",
    "print(len(root.findall('trip')))"
   ]
  },
  {
   "cell_type": "code",
   "execution_count": 18,
   "id": "0b2c3472",
   "metadata": {},
   "outputs": [
    {
     "name": "stdout",
     "output_type": "stream",
     "text": [
      "16950\n"
     ]
    }
   ],
   "source": [
    "# out of downtown to out of downton trips\n",
    "tree = ET.parse('new_psrc_vehicle_trips_converted_taz.rou.xml')\n",
    "root = tree.getroot()\n",
    "counter = 0\n",
    "for trip in (root.findall('trip')):\n",
    "    if (int(trip.get('fromTaz')) >= 5000) and (int(trip.get('toTaz')) >= 5000):\n",
    "        counter += 1\n",
    "        continue\n",
    "    else:\n",
    "        root.remove(trip)\n",
    "print(counter)\n",
    "# Save the modified XML back to a file\n",
    "tree.write('new_psrc_vehicle_trips_converted_taz_no downtown.rou.xml', encoding='utf-8', xml_declaration=True)          "
   ]
  },
  {
   "cell_type": "code",
   "execution_count": 17,
   "id": "5e19dd2d",
   "metadata": {},
   "outputs": [
    {
     "name": "stdout",
     "output_type": "stream",
     "text": [
      "20357\n"
     ]
    }
   ],
   "source": [
    "#  downtown to downton trips\n",
    "tree = ET.parse('new_psrc_vehicle_trips_converted_taz.rou.xml')\n",
    "root = tree.getroot()\n",
    "counter = 0\n",
    "for trip in (root.findall('trip')):\n",
    "    if (int(trip.get('fromTaz')) < 5000) and (int(trip.get('toTaz')) < 5000):\n",
    "        counter+=1\n",
    "        continue\n",
    "    else:\n",
    "        root.remove(trip)\n",
    "print(counter)\n",
    "# Save the modified XML back to a file\n",
    "tree.write('new_psrc_vehicle_trips_converted_taz_just downtown.rou.xml', encoding='utf-8', xml_declaration=True)          "
   ]
  },
  {
   "cell_type": "code",
   "execution_count": 33,
   "id": "0d99a778",
   "metadata": {},
   "outputs": [
    {
     "name": "stdout",
     "output_type": "stream",
     "text": [
      "129377\n"
     ]
    }
   ],
   "source": [
    "# downtown to/from out of downtown trips\n",
    "tree = ET.parse('new_psrc_vehicle_trips_converted_taz.rou.xml')\n",
    "root = tree.getroot()\n",
    "counter = 0\n",
    "for trip in (root.findall('trip')):\n",
    "    if (\n",
    "        ((int(trip.get('fromTaz')) >= 5000) and (int(trip.get('toTaz')) < 5000)) \n",
    "        or ((int(trip.get('fromTaz')) < 5000) and (int(trip.get('toTaz')) >= 5000))\n",
    "           ):\n",
    "        counter+=1\n",
    "        continue\n",
    "    else:\n",
    "        root.remove(trip)\n",
    "print(counter)\n",
    "# Save the modified XML back to a file\n",
    "tree.write('new_psrc_vehicle_trips_converted_taz_one end downtown.rou.xml', encoding='utf-8', xml_declaration=True)          "
   ]
  },
  {
   "cell_type": "markdown",
   "id": "fc5dc742",
   "metadata": {},
   "source": [
    "# Reducing demand"
   ]
  },
  {
   "cell_type": "code",
   "execution_count": 2,
   "id": "5e448106",
   "metadata": {},
   "outputs": [
    {
     "name": "stdout",
     "output_type": "stream",
     "text": [
      "initial number of trips: 166597\n"
     ]
    }
   ],
   "source": [
    "# tree = ET.parse('modified_new_psrc_vehicle_trips_converted_taz.rou.xml')\n",
    "tree = ET.parse('od2trips_new_psrc_vehicle_trips_converted_taz.rou.xml') \n",
    "# make sure in this file, rows you want to change have the desired attribute (like 'fromTaz')\n",
    "root = tree.getroot()\n",
    "\n",
    "# reduce_taz = [5010, 5008, 5000, 5002]\n",
    "# reduce_taz = {5010:30, 5002:20, 5000:5, 5008:15}\n",
    "# reduce_taz = {5010:15, 5002:10}\n",
    "# reduce_taz = {5002:5}\n",
    "reduce_taz = {}\n",
    "trip_dict = {key:[] for key, val in reduce_taz.items()}\n",
    "print(f\"initial number of trips: {len(root.findall('trip'))}\")"
   ]
  },
  {
   "cell_type": "code",
   "execution_count": 3,
   "id": "6c8226a3",
   "metadata": {},
   "outputs": [],
   "source": [
    "for trip in (root.findall('trip')):\n",
    "    otaz = int(trip.get('fromTaz'))\n",
    "    if otaz in reduce_taz.keys():\n",
    "        trip_dict[otaz].append(trip)"
   ]
  },
  {
   "cell_type": "code",
   "execution_count": 4,
   "id": "189e4fa2",
   "metadata": {},
   "outputs": [],
   "source": [
    "for taz in trip_dict.keys():\n",
    "    reduction_percent = reduce_taz[taz]\n",
    "    print(f'taz: {taz}, reduction percentage: {reduction_percent}')\n",
    "    reduction_number = int(reduction_percent/100 * len(trip_dict[taz]))\n",
    "    for i in tqdm(range(reduction_number)):\n",
    "        idx = random.randint(0, len(trip_dict[taz])-1)\n",
    "        trip_to_remove = trip_dict[taz][idx]\n",
    "        root.remove(trip_to_remove)\n",
    "        trip_dict[taz].remove(trip_to_remove)\n"
   ]
  },
  {
   "cell_type": "markdown",
   "id": "a835aa8a-5f4b-47b6-8df8-c77882595d32",
   "metadata": {},
   "source": [
    "### moving from 5010 to 5000\n",
    "for trips going to sumo_N TAZs: \n",
    "\n",
    "remove 10 percent and move another 30 percent to I5N"
   ]
  },
  {
   "cell_type": "code",
   "execution_count": 5,
   "id": "bca6fbf0-cac1-4445-8465-e708d16bcef6",
   "metadata": {},
   "outputs": [],
   "source": [
    "sr99N_sumoN = []\n",
    "tobe_removed = 30\n",
    "tobe_moved = 15\n",
    "\n",
    "with open('sumo_south.txt', 'r') as f:\n",
    "        content = f.read()\n",
    "        sumoS_tazs = eval(content)\n",
    "\n"
   ]
  },
  {
   "cell_type": "code",
   "execution_count": 6,
   "id": "185660fc-656e-48db-bffe-c466e4518814",
   "metadata": {},
   "outputs": [
    {
     "name": "stdout",
     "output_type": "stream",
     "text": [
      "26248\n",
      "15909\n"
     ]
    }
   ],
   "source": [
    "counter5000=0\n",
    "counter5010=0\n",
    "for trip in (root.findall('trip')):\n",
    "    otaz = (trip.get('fromTaz'))\n",
    "    if otaz is not None:\n",
    "        otaz = int(otaz)\n",
    "        if otaz==5010:\n",
    "            dtaz = (trip.get('toTaz'))\n",
    "            if (dtaz is not None) and (dtaz not in sumoS_tazs):\n",
    "                dtaz = int(dtaz)\n",
    "                sr99N_sumoN.append(trip)\n",
    "                counter5010+=1\n",
    "        if otaz==5000:\n",
    "            counter5000+=1\n",
    "print(counter5000)\n",
    "print(counter5010)"
   ]
  },
  {
   "cell_type": "code",
   "execution_count": 7,
   "id": "8588be99-cb9b-4cb8-8efc-b6db37953abf",
   "metadata": {
    "scrolled": true
   },
   "outputs": [
    {
     "name": "stderr",
     "output_type": "stream",
     "text": [
      "100%|█████████████████████████████████████| 4772/4772 [00:03<00:00, 1378.67it/s]\n",
      "100%|████████████████████████████████████| 2386/2386 [00:00<00:00, 23319.44it/s]\n"
     ]
    }
   ],
   "source": [
    "reduction_number = int(tobe_removed/100 * len(sr99N_sumoN))\n",
    "move_number = int(tobe_moved/100 * len(sr99N_sumoN))\n",
    "\n",
    "for i in tqdm(range(reduction_number)):\n",
    "    idx = random.randint(0, len(sr99N_sumoN)-1)\n",
    "    trip_to_remove = sr99N_sumoN[idx]\n",
    "    root.remove(trip_to_remove)\n",
    "    sr99N_sumoN.remove(trip_to_remove)\n",
    "\n",
    "for i in tqdm(range(move_number)):\n",
    "    idx = random.randint(0, len(sr99N_sumoN)-1)\n",
    "    trip_to_move = sr99N_sumoN[idx]\n",
    "    trip_to_move.set('fromTaz', str(5000))\n",
    "    sr99N_sumoN.remove(trip_to_move)"
   ]
  },
  {
   "cell_type": "code",
   "execution_count": 8,
   "id": "309a1057-6f2d-49b9-82e1-f9d63bd7ddec",
   "metadata": {},
   "outputs": [
    {
     "name": "stdout",
     "output_type": "stream",
     "text": [
      "28634\n",
      "7144\n"
     ]
    }
   ],
   "source": [
    "counter5000=0\n",
    "counter5010=0\n",
    "for trip in (root.findall('trip')):\n",
    "    otaz = int(trip.get('fromTaz'))\n",
    "    if otaz==5010:\n",
    "        dtaz = int(trip.get('toTaz'))\n",
    "        if dtaz not in sumoS_tazs:\n",
    "            counter5010+=1\n",
    "    if otaz==5000:\n",
    "        counter5000+=1\n",
    "print(counter5000)\n",
    "print(counter5010)"
   ]
  },
  {
   "cell_type": "code",
   "execution_count": 9,
   "id": "0f738081",
   "metadata": {},
   "outputs": [
    {
     "name": "stdout",
     "output_type": "stream",
     "text": [
      "final number of trips: 161825\n"
     ]
    }
   ],
   "source": [
    "print(f\"final number of trips: {len(root.findall('trip'))}\")\n",
    "# tree.write('reduced3_new_psrc_vehicle_trips_converted_taz.rou.xml', encoding='utf-8', xml_declaration=True)\n",
    "tree.write('reduced_od2trips_new_psrc_vehicle_trips_converted_taz.rou.xml', encoding='utf-8', xml_declaration=True)"
   ]
  },
  {
   "cell_type": "markdown",
   "id": "7a850d75-3da0-4c17-b8a3-efc41c7d0eb5",
   "metadata": {},
   "source": [
    "# remove selected starting edges from od2trips results\n",
    "First, make sure you added vehicle type to start of that file"
   ]
  },
  {
   "cell_type": "code",
   "execution_count": 10,
   "id": "b404c8ce-8def-4b1b-9e97-892284364ec1",
   "metadata": {},
   "outputs": [],
   "source": [
    "tree = ET.parse('reduced_od2trips_new_psrc_vehicle_trips_converted_taz.rou.xml')\n",
    "root = tree.getroot()\n",
    "\n",
    "north_TAZs = [442, 440, 438, 436, 434, 432, 430]  # see limitations in the doc\n",
    "\n",
    "from_tazs= [636, 5000, 5004, 5010, 5008, 6001, 7001, 7002, 7003, 7004, 7005] + north_TAZs  # all??\n",
    "to_tazs = [636, 5005, 5009, 5011, 6001, 7001, 7002, 7004, 7005] + north_TAZs\n",
    "\n",
    "for trip in (root.findall('trip')):\n",
    "    otaz = int(trip.get('fromTaz'))\n",
    "    dtaz = int(trip.get('toTaz'))\n",
    "    if otaz in from_tazs and dtaz in to_tazs:\n",
    "        del trip.attrib['to']\n",
    "        del trip.attrib['from']\n",
    "        \n",
    "    elif otaz in from_tazs:\n",
    "        del trip.attrib['from']\n",
    "        del trip.attrib['toTaz']\n",
    "        \n",
    "    elif dtaz in to_tazs:\n",
    "        del trip.attrib['to']\n",
    "        del trip.attrib['fromTaz']\n",
    "        \n",
    "    else:\n",
    "        del trip.attrib['toTaz']\n",
    "        del trip.attrib['fromTaz']\n",
    "        "
   ]
  },
  {
   "cell_type": "code",
   "execution_count": 11,
   "id": "44f61d22-7176-48cc-a3b8-6640db71e088",
   "metadata": {},
   "outputs": [],
   "source": [
    "tree.write('adjusted_reduced_od2trips_new_psrc_vehicle_trips_converted_taz.rou.xml', encoding='utf-8', xml_declaration=True)"
   ]
  },
  {
   "cell_type": "markdown",
   "id": "b86e3ad7",
   "metadata": {
    "jp-MarkdownHeadingCollapsed": true
   },
   "source": [
    "# Speed and departLane and ArrivalLane"
   ]
  },
  {
   "cell_type": "markdown",
   "id": "d0f93a78",
   "metadata": {},
   "source": [
    "11.18 - 25\n",
    "13.41 - 30\n",
    "15.65 - 35\n",
    "17.88 - 40"
   ]
  }
 ],
 "metadata": {
  "kernelspec": {
   "display_name": "Python 3 (ipykernel)",
   "language": "python",
   "name": "python3"
  },
  "language_info": {
   "codemirror_mode": {
    "name": "ipython",
    "version": 3
   },
   "file_extension": ".py",
   "mimetype": "text/x-python",
   "name": "python",
   "nbconvert_exporter": "python",
   "pygments_lexer": "ipython3",
   "version": "3.11.5"
  }
 },
 "nbformat": 4,
 "nbformat_minor": 5
}
